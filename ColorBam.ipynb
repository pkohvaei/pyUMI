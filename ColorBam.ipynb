{
 "cells": [
  {
   "cell_type": "code",
   "execution_count": 2,
   "metadata": {
    "collapsed": false
   },
   "outputs": [
    {
     "name": "stdout",
     "output_type": "stream",
     "text": [
      "The autoreload extension is already loaded. To reload it, use:\n",
      "  %reload_ext autoreload\n"
     ]
    }
   ],
   "source": [
    "%load_ext autoreload\n",
    "%autoreload 2"
   ]
  },
  {
   "cell_type": "code",
   "execution_count": 3,
   "metadata": {
    "collapsed": true
   },
   "outputs": [],
   "source": [
    "%matplotlib inline\n",
    "import matplotlib.pyplot as plt"
   ]
  },
  {
   "cell_type": "code",
   "execution_count": 4,
   "metadata": {
    "collapsed": true
   },
   "outputs": [],
   "source": [
    "import os"
   ]
  },
  {
   "cell_type": "code",
   "execution_count": 5,
   "metadata": {
    "collapsed": false
   },
   "outputs": [],
   "source": [
    "import pysam\n",
    "import numpy as np\n",
    "import cPickle as pickle\n",
    "import pandas as pd"
   ]
  },
  {
   "cell_type": "code",
   "execution_count": 6,
   "metadata": {
    "collapsed": true
   },
   "outputs": [],
   "source": [
    "from collections import Counter\n",
    "from random import randint"
   ]
  },
  {
   "cell_type": "code",
   "execution_count": 7,
   "metadata": {
    "collapsed": true
   },
   "outputs": [],
   "source": [
    "import logging\n",
    "logging.basicConfig(level=logging.INFO)"
   ]
  },
  {
   "cell_type": "markdown",
   "metadata": {},
   "source": [
    "------------------------"
   ]
  },
  {
   "cell_type": "code",
   "execution_count": 8,
   "metadata": {
    "collapsed": true
   },
   "outputs": [],
   "source": [
    "def assign_color():\n",
    "    \n",
    "    return (str(randint(0, 255)) + ',' + str(randint(0, 255)) + ',' + str(randint(0, 255)))"
   ]
  },
  {
   "cell_type": "code",
   "execution_count": 26,
   "metadata": {
    "collapsed": true
   },
   "outputs": [],
   "source": [
    "def color_read(read, color):\n",
    "    \n",
    "    if read.has_tag('RG'):\n",
    "        read.set_tag('RG', None)\n",
    "        \n",
    "    if read.has_tag('YC'):\n",
    "        read.set_tag('YC', color)\n",
    "    else:\n",
    "        read.tags += [('YC', color)]\n",
    "        \n",
    "    return"
   ]
  },
  {
   "cell_type": "code",
   "execution_count": 16,
   "metadata": {
    "collapsed": true
   },
   "outputs": [],
   "source": [
    "def create_color_map(keys):\n",
    "    vals = [assign_color() for i in range(len(keys))]\n",
    "    \n",
    "    return dict(zip(keys,vals))"
   ]
  },
  {
   "cell_type": "code",
   "execution_count": 20,
   "metadata": {
    "collapsed": true
   },
   "outputs": [],
   "source": [
    "def umi_list(in_file):\n",
    "    \n",
    "    st = pysam.AlignmentFile(in_file,\"rb\")\n",
    "    reads = st.fetch(until_eof=True)\n",
    "    \n",
    "    umis = []\n",
    "    for r in reads:\n",
    "        umis.append(r.get_tag('XM'))\n",
    "        \n",
    "    if umis:\n",
    "        return list(set(umis))"
   ]
  },
  {
   "cell_type": "code",
   "execution_count": 4,
   "metadata": {
    "collapsed": false
   },
   "outputs": [],
   "source": [
    "def color_reads(in_file):\n",
    "    \n",
    "    st = pysam.AlignmentFile(in_file,\"rb\")\n",
    "    reads = st.fetch(until_eof=True)\n",
    "    \n",
    "    # Could be moved to a separate function\n",
    "    qnames = []\n",
    "    for r in reads:\n",
    "        qnames.append(r.query_name)\n",
    "    \n",
    "    color_map = create_color_map(set(qnames))\n",
    "    \n",
    "    out_file = \"%s.colored.bam\" % os.path.splitext(in_file)[0]\n",
    "    colored_reads = pysam.AlignmentFile('tmp.bam', 'wb', template=st)\n",
    "    \n",
    "    st.reset()\n",
    "    reads = st.fetch(until_eof=True)\n",
    "    for r in reads:\n",
    "        if r.has_tag('RG'):\n",
    "            r.set_tag('RG', None)\n",
    "        color = color_map[r.query_name]\n",
    "        r.tags += [('YC', color)]\n",
    "        colored_reads.write(r)\n",
    "\n",
    "    colored_reads.close()\n",
    "    pysam.sort(\"-o\", out_file, 'tmp.bam')\n",
    "    pysam.index(out_file)"
   ]
  },
  {
   "cell_type": "code",
   "execution_count": 27,
   "metadata": {
    "collapsed": true
   },
   "outputs": [],
   "source": [
    "def color_umi_groups(in_file):\n",
    "    \n",
    "    umis = umi_list(in_file)\n",
    "    color_map = create_color_map(umis)\n",
    "    \n",
    "    out_file = \"%s.umi.colored.bam\" % os.path.splitext(in_file)[0]\n",
    "        \n",
    "    st = pysam.AlignmentFile(in_file,\"rb\")\n",
    "    colored_reads = pysam.AlignmentFile('tmp.bam', 'wb', template=st)\n",
    "    reads = st.fetch(until_eof=True)\n",
    "    \n",
    "    for r in reads:\n",
    "        color_read(r, color_map[r.get_tag('XM')])\n",
    "        colored_reads.write(r)\n",
    "        \n",
    "    colored_reads.close()\n",
    "    pysam.sort(\"-o\", out_file, 'tmp.bam')\n",
    "    pysam.index(out_file)"
   ]
  },
  {
   "cell_type": "code",
   "execution_count": 28,
   "metadata": {
    "collapsed": false
   },
   "outputs": [],
   "source": [
    "# Test!\n",
    "color_umi_groups('/data/parastou/Star-Lab/test/NStar10.Aligned.sorted.out.tagged.bam')"
   ]
  }
 ],
 "metadata": {
  "kernelspec": {
   "display_name": "Python 2",
   "language": "python",
   "name": "python2"
  },
  "language_info": {
   "codemirror_mode": {
    "name": "ipython",
    "version": 2
   },
   "file_extension": ".py",
   "mimetype": "text/x-python",
   "name": "python",
   "nbconvert_exporter": "python",
   "pygments_lexer": "ipython2",
   "version": "2.7.12"
  }
 },
 "nbformat": 4,
 "nbformat_minor": 2
}
