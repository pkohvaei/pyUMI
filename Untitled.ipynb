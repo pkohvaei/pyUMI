{
 "cells": [
  {
   "cell_type": "code",
   "execution_count": 1,
   "metadata": {
    "collapsed": true
   },
   "outputs": [],
   "source": [
    "import pysam\n",
    "import numpy as np\n",
    "import cPickle as pickle"
   ]
  },
  {
   "cell_type": "code",
   "execution_count": 2,
   "metadata": {
    "collapsed": true
   },
   "outputs": [],
   "source": [
    "%load_ext autoreload\n",
    "%autoreload 2\n",
    "%matplotlib inline"
   ]
  },
  {
   "cell_type": "code",
   "execution_count": 3,
   "metadata": {
    "collapsed": true
   },
   "outputs": [],
   "source": [
    "from collections import Counter\n",
    "import matplotlib.pyplot as plt"
   ]
  },
  {
   "cell_type": "code",
   "execution_count": 10,
   "metadata": {
    "collapsed": true
   },
   "outputs": [],
   "source": [
    "import pandas as pd"
   ]
  },
  {
   "cell_type": "code",
   "execution_count": 4,
   "metadata": {
    "collapsed": true
   },
   "outputs": [],
   "source": [
    "import logging\n",
    "logging.basicConfig(level=logging.INFO)"
   ]
  },
  {
   "cell_type": "code",
   "execution_count": null,
   "metadata": {
    "collapsed": true
   },
   "outputs": [],
   "source": [
    "def low_phred_base(phred_array, threshold=10):\n",
    "\n",
    "    if np.sum(phred_array < threshold) > 0:\n",
    "        return True\n",
    "    else:\n",
    "        return False"
   ]
  },
  {
   "cell_type": "code",
   "execution_count": 11,
   "metadata": {
    "collapsed": true
   },
   "outputs": [],
   "source": [
    "#AAAGTT  ATATAG  ATCAAA  CCCTGG  CCGGAC  GACCGC  GGCGTC  GTTCGA  TAAAGT  TCTGCA  TTAATC\n",
    "sample = 'GGCGTC'\n",
    "in_file = '/data/UMI/data/MUS/sample_' + sample + '.bam'"
   ]
  },
  {
   "cell_type": "code",
   "execution_count": 12,
   "metadata": {
    "collapsed": false
   },
   "outputs": [],
   "source": [
    "st = pysam.AlignmentFile(in_file,\"rb\")"
   ]
  },
  {
   "cell_type": "code",
   "execution_count": 44,
   "metadata": {
    "collapsed": true
   },
   "outputs": [],
   "source": [
    "st.reset()\n",
    "reads = st.fetch(until_eof=True)"
   ]
  },
  {
   "cell_type": "code",
   "execution_count": null,
   "metadata": {
    "collapsed": true
   },
   "outputs": [],
   "source": [
    "fx_records = []\n",
    "fxk_records = []\n",
    "for r in reads:\n",
    "    if low_phred_base(r.query_qualities):\n",
    "        fxk_records.append((r.query_name, r.qual, r.get_tag('XM') + ':' + r.query_sequence, ''.join(map(str, r.query_qualities))))\n",
    "    else:\n",
    "        fx_records.append((r.query_name, r.qual, r.get_tag('XM') + ':' + r.query_sequence))\n",
    "\n",
    "df = pd.DataFrame(fx_records, columns=['N', 'Q', 'XS'])\n",
    "dfk = pd.DataFrame(fxk_records, columns=['N', 'Q', 'XS', 'F'])"
   ]
  },
  {
   "cell_type": "code",
   "execution_count": null,
   "metadata": {
    "collapsed": true
   },
   "outputs": [],
   "source": [
    "df"
   ]
  },
  {
   "cell_type": "code",
   "execution_count": null,
   "metadata": {
    "collapsed": true
   },
   "outputs": [],
   "source": [
    "dfk"
   ]
  },
  {
   "cell_type": "code",
   "execution_count": 45,
   "metadata": {
    "collapsed": false
   },
   "outputs": [],
   "source": [
    "rec = []\n",
    "for r in reads:\n",
    "    rec.append((r.query_sequence, \"\".join(map(str, r.query_qualities))))\n",
    "df = pd.DataFrame(rec, columns=['S','Q'])"
   ]
  },
  {
   "cell_type": "code",
   "execution_count": 47,
   "metadata": {
    "collapsed": false
   },
   "outputs": [
    {
     "name": "stdout",
     "output_type": "stream",
     "text": [
      "8866890\n",
      "3063508\n",
      "999887\n"
     ]
    }
   ],
   "source": [
    "print len(df)\n",
    "print len(df.drop_duplicates(subset =['Q']))\n",
    "print len(df.drop_duplicates(subset =['Q']).drop_duplicates(subset=['S']))"
   ]
  },
  {
   "cell_type": "code",
   "execution_count": 27,
   "metadata": {
    "collapsed": false
   },
   "outputs": [
    {
     "data": {
      "text/plain": [
       "pandas.core.series.Series"
      ]
     },
     "execution_count": 27,
     "metadata": {},
     "output_type": "execute_result"
    }
   ],
   "source": [
    "df.duplicated(['S'], keep=False)\n",
    "    "
   ]
  },
  {
   "cell_type": "code",
   "execution_count": 8,
   "metadata": {
    "collapsed": false
   },
   "outputs": [],
   "source": [
    "umis = {}\n",
    "for r in reads:\n",
    "    if not r.is_unmapped:\n",
    "        xm = r.get_tag('XM')\n",
    "        nh = r.get_tag('NH')\n",
    "        if xm in umis:\n",
    "            if nh == 1:\n",
    "                umis[xm][0] += 1\n",
    "            else:\n",
    "                umis[xm][1] += 1\n",
    "        else:\n",
    "            if nh == 1:\n",
    "                umis.update({xm:[1,0]})\n",
    "            else:\n",
    "                umis.update({xm:[0,1]})"
   ]
  },
  {
   "cell_type": "code",
   "execution_count": 13,
   "metadata": {
    "collapsed": false
   },
   "outputs": [
    {
     "name": "stdout",
     "output_type": "stream",
     "text": [
      "TTTTTTTTTT\n"
     ]
    }
   ],
   "source": [
    "for umi in umis:\n",
    "    i, j = umis[umi]\n",
    "    if i > 300:\n",
    "        print umi"
   ]
  },
  {
   "cell_type": "code",
   "execution_count": 24,
   "metadata": {
    "collapsed": false
   },
   "outputs": [
    {
     "data": {
      "text/plain": [
       "[2109, 2023, 1975, 1823, 1531]"
      ]
     },
     "execution_count": 24,
     "metadata": {},
     "output_type": "execute_result"
    }
   ],
   "source": [
    "from heapq import nlargest\n",
    "sums = [(k, sum(val)) for k,val in umis.items()]\n",
    "nlargest(5, [j for i,j in sums])"
   ]
  },
  {
   "cell_type": "code",
   "execution_count": 33,
   "metadata": {
    "collapsed": false
   },
   "outputs": [
    {
     "data": {
      "text/plain": [
       "''"
      ]
     },
     "execution_count": 33,
     "metadata": {},
     "output_type": "execute_result"
    }
   ],
   "source": [
    "st.reset()\n",
    "reads = st.fetch(until_eof=True)\n",
    "sample_umi = 'TTTTTTTTTT'\n",
    "out1 = 'sample_' + sample_umi + '.bam'\n",
    "out2 = 'sample_u_' + sample_umi + '.bam'\n",
    "out3 = 'sample_m_' + sample_umi + '.bam'\n",
    "\n",
    "umi_demux = pysam.AlignmentFile(out1, 'wb', template=st)\n",
    "umi_u = pysam.AlignmentFile(out2, 'wb', template=st)\n",
    "umi_m = pysam.AlignmentFile(out3, 'wb', template=st)\n",
    "\n",
    "for r in reads:\n",
    "    if not r.is_unmapped:\n",
    "        xm = r.get_tag('XM')\n",
    "        nh = r.get_tag('NH')\n",
    "        if xm == sample_umi:\n",
    "            umi_demux.write(r)\n",
    "            if nh == 1:\n",
    "                umi_u.write(r)\n",
    "            else:\n",
    "                umi_m.write(r)\n",
    "\n",
    "umi_demux.close()\n",
    "umi_u.close()\n",
    "umi_m.close()\n",
    "\n",
    "pysam.index(out1)\n",
    "pysam.index(out2)\n",
    "pysam.index(out3)"
   ]
  },
  {
   "cell_type": "code",
   "execution_count": 14,
   "metadata": {
    "collapsed": false
   },
   "outputs": [],
   "source": [
    "st = pysam.AlignmentFile('/data/TrinityData/sample_TTTTTTTTTT.bam', 'rb')"
   ]
  },
  {
   "cell_type": "code",
   "execution_count": 16,
   "metadata": {
    "collapsed": true
   },
   "outputs": [],
   "source": [
    "st.reset()\n",
    "reads = st.fetch(until_eof=True)"
   ]
  },
  {
   "cell_type": "code",
   "execution_count": 15,
   "metadata": {
    "collapsed": false
   },
   "outputs": [],
   "source": [
    "output = open('example.fastq', 'w')"
   ]
  },
  {
   "cell_type": "code",
   "execution_count": 17,
   "metadata": {
    "collapsed": true
   },
   "outputs": [],
   "source": [
    "for r in reads:\n",
    "    title = r.qname\n",
    "    seq = r.seq\n",
    "    qual = r.qual\n",
    "    line_fmt = \"@{0!s}\\n{1!s}\\n+{0!s}\\n{2!s}\\n\"\n",
    "    line = line_fmt.format(title, seq, qual)\n",
    "    output.write(line)"
   ]
  },
  {
   "cell_type": "code",
   "execution_count": 18,
   "metadata": {
    "collapsed": true
   },
   "outputs": [],
   "source": [
    "output.close()"
   ]
  },
  {
   "cell_type": "code",
   "execution_count": null,
   "metadata": {
    "collapsed": true
   },
   "outputs": [],
   "source": []
  }
 ],
 "metadata": {
  "kernelspec": {
   "display_name": "Python 2",
   "language": "python",
   "name": "python2"
  },
  "language_info": {
   "codemirror_mode": {
    "name": "ipython",
    "version": 2
   },
   "file_extension": ".py",
   "mimetype": "text/x-python",
   "name": "python",
   "nbconvert_exporter": "python",
   "pygments_lexer": "ipython2",
   "version": "2.7.12"
  }
 },
 "nbformat": 4,
 "nbformat_minor": 2
}
