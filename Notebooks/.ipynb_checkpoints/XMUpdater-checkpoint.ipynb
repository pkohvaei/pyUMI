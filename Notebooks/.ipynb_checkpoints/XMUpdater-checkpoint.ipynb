{
 "cells": [
  {
   "cell_type": "code",
   "execution_count": 1,
   "metadata": {
    "collapsed": false
   },
   "outputs": [],
   "source": [
    "import pysam\n",
    "import numpy as np\n",
    "import cPickle as pickle\n",
    "%load_ext autoreload\n",
    "%autoreload 2\n",
    "%matplotlib inline\n",
    "from collections import Counter\n",
    "import matplotlib.pyplot as plt\n",
    "import logging\n",
    "logging.basicConfig(level=logging.INFO)\n",
    "from operator import itemgetter\n",
    "import pandas as pd"
   ]
  },
  {
   "cell_type": "code",
   "execution_count": 2,
   "metadata": {
    "collapsed": true
   },
   "outputs": [],
   "source": [
    "import os"
   ]
  },
  {
   "cell_type": "code",
   "execution_count": 3,
   "metadata": {
    "collapsed": true
   },
   "outputs": [],
   "source": [
    "def fastq_to_names(in_file):\n",
    "    with open(in_file) as fq:\n",
    "        content = fq.readlines()\n",
    "    \n",
    "    names = []\n",
    "    for line in content:\n",
    "        if 'L183:338:CAGAAANXX' in line:\n",
    "            names.append(line.rstrip()[1:])\n",
    "    \n",
    "    return names"
   ]
  },
  {
   "cell_type": "code",
   "execution_count": 4,
   "metadata": {
    "collapsed": false
   },
   "outputs": [],
   "source": [
    "names = fastq_to_names('/data/parastou/UMI/data/HG/RawReads/HGsample_AATGTA.fastq')"
   ]
  },
  {
   "cell_type": "code",
   "execution_count": 8,
   "metadata": {
    "collapsed": false
   },
   "outputs": [],
   "source": [
    "def umi_to_umis(in_file):\n",
    "    with open(in_file) as fu:\n",
    "        content = fu.readlines()\n",
    "    \n",
    "    umis = []\n",
    "    for line in content:\n",
    "        umis.append(line.rstrip())\n",
    "    \n",
    "    return umis"
   ]
  },
  {
   "cell_type": "code",
   "execution_count": 9,
   "metadata": {
    "collapsed": true
   },
   "outputs": [],
   "source": [
    "umis = umi_to_umis('/data/parastou/UMI/data/HG/RawReads/HGsample_AATGTA.umi')"
   ]
  },
  {
   "cell_type": "code",
   "execution_count": 10,
   "metadata": {
    "collapsed": false
   },
   "outputs": [],
   "source": [
    "def umi_to_name_map(fq_file, umi_file):\n",
    "    \n",
    "    names = fastq_to_names(fq_file)\n",
    "    umis = umi_to_umis(umi_file)\n",
    "    un_dict = dict(zip(names, umis))\n",
    "    \n",
    "    return un_dict"
   ]
  },
  {
   "cell_type": "code",
   "execution_count": 11,
   "metadata": {
    "collapsed": false,
    "scrolled": true
   },
   "outputs": [],
   "source": [
    "un = umi_to_name_map('/data/parastou/UMI/data/HG/RawReads/HGsample_AATGTA.fastq','/data/parastou/UMI/data/HG/RawReads/HGsample_AATGTA.umi')"
   ]
  },
  {
   "cell_type": "code",
   "execution_count": 13,
   "metadata": {
    "collapsed": false
   },
   "outputs": [],
   "source": [
    "def xm_tag_reads(bam_file, fq_file, umi_file):\n",
    "    \n",
    "    umi_name_map = umi_to_name_map(fq_file, umi_file)\n",
    "    \n",
    "    st = pysam.AlignmentFile(bam_file, \"rb\")\n",
    "    \n",
    "    out_file = \"%s.tagged.bam\" % os.path.splitext(bam_file)[0]\n",
    "    tagged_reads = pysam.AlignmentFile('tmp.bam', 'wb', template=st)\n",
    "    \n",
    "    st.reset()\n",
    "    reads = st.fetch(until_eof=True)\n",
    "    for r in reads:\n",
    "        if r.has_tag('RG'):\n",
    "            r.set_tag('RG', None)\n",
    "        xm = umi_name_map[r.query_name]\n",
    "        r.tags += [('XM', xm)]\n",
    "        tagged_reads.write(r)\n",
    "\n",
    "    tagged_reads.close()\n",
    "    pysam.sort(\"-o\", out_file, 'tmp.bam')\n",
    "    pysam.index(out_file)"
   ]
  },
  {
   "cell_type": "code",
   "execution_count": 16,
   "metadata": {
    "collapsed": true
   },
   "outputs": [],
   "source": [
    "ff = '/data/parastou/UMI/data/HG/RawReads/HGsample_AATGTA.fastq'\n",
    "uf = '/data/parastou/UMI/data/HG/RawReads/HGsample_AATGTA.umi'\n",
    "bf = '/data/parastou/Star-Lab/test/NStar25.Aligned.out.bam'"
   ]
  },
  {
   "cell_type": "code",
   "execution_count": 17,
   "metadata": {
    "collapsed": false
   },
   "outputs": [],
   "source": [
    "xm_tag_reads(bf, ff, uf)"
   ]
  }
 ],
 "metadata": {
  "kernelspec": {
   "display_name": "Python 2",
   "language": "python",
   "name": "python2"
  },
  "language_info": {
   "codemirror_mode": {
    "name": "ipython",
    "version": 2
   },
   "file_extension": ".py",
   "mimetype": "text/x-python",
   "name": "python",
   "nbconvert_exporter": "python",
   "pygments_lexer": "ipython2",
   "version": "2.7.12"
  }
 },
 "nbformat": 4,
 "nbformat_minor": 2
}
