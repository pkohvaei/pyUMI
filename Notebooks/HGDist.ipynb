{
 "cells": [
  {
   "cell_type": "code",
   "execution_count": 1,
   "metadata": {
    "collapsed": true
   },
   "outputs": [],
   "source": [
    "%load_ext autoreload\n",
    "%autoreload 2\n",
    "%matplotlib inline"
   ]
  },
  {
   "cell_type": "code",
   "execution_count": 2,
   "metadata": {
    "collapsed": true
   },
   "outputs": [],
   "source": [
    "import os\n",
    "import pysam\n",
    "import numpy as np\n",
    "import cPickle as pickle\n",
    "import matplotlib.pyplot as plt\n",
    "import pandas as pd"
   ]
  },
  {
   "cell_type": "code",
   "execution_count": 3,
   "metadata": {
    "collapsed": true
   },
   "outputs": [],
   "source": [
    "from collections import Counter"
   ]
  },
  {
   "cell_type": "code",
   "execution_count": 4,
   "metadata": {
    "collapsed": true
   },
   "outputs": [],
   "source": [
    "import logging\n",
    "logging.basicConfig(level=logging.INFO)"
   ]
  },
  {
   "cell_type": "code",
   "execution_count": 5,
   "metadata": {
    "collapsed": false
   },
   "outputs": [],
   "source": [
    "import random\n",
    "\n",
    "def assign_color():\n",
    "    \n",
    "    return (random.random() , random.random(), random.random())"
   ]
  },
  {
   "cell_type": "code",
   "execution_count": 6,
   "metadata": {
    "collapsed": true
   },
   "outputs": [],
   "source": [
    "def fastq_to_names(in_file):\n",
    "    with open(in_file) as fq:\n",
    "        content = fq.readlines()\n",
    "    \n",
    "    names = []\n",
    "    for line in content:\n",
    "        if 'L183:338:CAGAAANXX' in line:\n",
    "            names.append(line.rstrip()[1:])\n",
    "    \n",
    "    return names"
   ]
  },
  {
   "cell_type": "code",
   "execution_count": 7,
   "metadata": {
    "collapsed": true
   },
   "outputs": [],
   "source": [
    "def umi_to_umis(in_file):\n",
    "    with open(in_file) as fu:\n",
    "        content = fu.readlines()\n",
    "    \n",
    "    umis = []\n",
    "    for line in content:\n",
    "        umis.append(line.rstrip())\n",
    "    \n",
    "    return umis"
   ]
  },
  {
   "cell_type": "code",
   "execution_count": 8,
   "metadata": {
    "collapsed": true
   },
   "outputs": [],
   "source": [
    "names = fastq_to_names('/data/parastou/UMI/data/HG/RawReads/HGsample_AATGTA.fastq')\n",
    "umis = umi_to_umis('/data/parastou/UMI/data/HG/RawReads/HGsample_AATGTA.umi')"
   ]
  },
  {
   "cell_type": "code",
   "execution_count": 9,
   "metadata": {
    "collapsed": false
   },
   "outputs": [
    {
     "name": "stdout",
     "output_type": "stream",
     "text": [
      "538853\n",
      "29291\n"
     ]
    }
   ],
   "source": [
    "print len(umis)\n",
    "print len(set(umis))"
   ]
  },
  {
   "cell_type": "code",
   "execution_count": 12,
   "metadata": {
    "collapsed": false
   },
   "outputs": [],
   "source": [
    "XN = pd.DataFrame(zip(names,umis), columns=['QName','XM'])"
   ]
  },
  {
   "cell_type": "code",
   "execution_count": 13,
   "metadata": {
    "collapsed": false
   },
   "outputs": [],
   "source": [
    "isolated = []\n",
    "\n",
    "for xm, group in XN.groupby(['XM']):\n",
    "    if len(group) == 1:\n",
    "        isolated.append(group['QName'].item())"
   ]
  },
  {
   "cell_type": "code",
   "execution_count": 14,
   "metadata": {
    "collapsed": true
   },
   "outputs": [],
   "source": [
    "st = pysam.AlignmentFile('/data/parastou/Star-Lab/test/NStar25.Aligned.out.tagged.bam','rb')\n",
    "reads = st.fetch(until_eof=True)"
   ]
  },
  {
   "cell_type": "code",
   "execution_count": 15,
   "metadata": {
    "collapsed": true
   },
   "outputs": [],
   "source": [
    "st.reset()\n",
    "reads = st.fetch(until_eof=True)"
   ]
  },
  {
   "cell_type": "code",
   "execution_count": 16,
   "metadata": {
    "collapsed": false
   },
   "outputs": [],
   "source": [
    "all_nh = []\n",
    "for r in reads:\n",
    "    if r.has_tag('NH'):\n",
    "        all_nh.append((r.query_name,r.get_tag('NH')))"
   ]
  },
  {
   "cell_type": "code",
   "execution_count": 17,
   "metadata": {
    "collapsed": false
   },
   "outputs": [],
   "source": [
    "df1 = pd.DataFrame(isolated, columns=['QN'])\n",
    "df2 = pd.DataFrame(all_nh, columns=['QN','NH'])\n",
    "df3 = df2.drop_duplicates()"
   ]
  },
  {
   "cell_type": "code",
   "execution_count": 18,
   "metadata": {
    "collapsed": false
   },
   "outputs": [],
   "source": [
    "i1 = pd.merge(df1, df3, how='inner', on=['QN'])"
   ]
  },
  {
   "cell_type": "code",
   "execution_count": 19,
   "metadata": {
    "collapsed": false
   },
   "outputs": [
    {
     "data": {
      "text/html": [
       "<div>\n",
       "<table border=\"1\" class=\"dataframe\">\n",
       "  <thead>\n",
       "    <tr style=\"text-align: right;\">\n",
       "      <th></th>\n",
       "      <th>QN</th>\n",
       "      <th>NH</th>\n",
       "    </tr>\n",
       "  </thead>\n",
       "  <tbody>\n",
       "    <tr>\n",
       "      <th>0</th>\n",
       "      <td>L183:338:CAGAAANXX:5:1110:18171:62388</td>\n",
       "      <td>1</td>\n",
       "    </tr>\n",
       "    <tr>\n",
       "      <th>1</th>\n",
       "      <td>L183:338:CAGAAANXX:4:1102:11051:44584</td>\n",
       "      <td>9</td>\n",
       "    </tr>\n",
       "    <tr>\n",
       "      <th>2</th>\n",
       "      <td>L183:338:CAGAAANXX:4:1106:13313:75109</td>\n",
       "      <td>1</td>\n",
       "    </tr>\n",
       "    <tr>\n",
       "      <th>3</th>\n",
       "      <td>L183:338:CAGAAANXX:5:2307:2467:59838</td>\n",
       "      <td>2</td>\n",
       "    </tr>\n",
       "    <tr>\n",
       "      <th>4</th>\n",
       "      <td>L183:338:CAGAAANXX:4:1113:3516:98348</td>\n",
       "      <td>2</td>\n",
       "    </tr>\n",
       "    <tr>\n",
       "      <th>5</th>\n",
       "      <td>L183:338:CAGAAANXX:5:1108:6038:52737</td>\n",
       "      <td>14</td>\n",
       "    </tr>\n",
       "    <tr>\n",
       "      <th>6</th>\n",
       "      <td>L183:338:CAGAAANXX:6:2214:16765:26530</td>\n",
       "      <td>15</td>\n",
       "    </tr>\n",
       "    <tr>\n",
       "      <th>7</th>\n",
       "      <td>L183:338:CAGAAANXX:5:2303:16454:96906</td>\n",
       "      <td>0</td>\n",
       "    </tr>\n",
       "    <tr>\n",
       "      <th>8</th>\n",
       "      <td>L183:338:CAGAAANXX:5:1304:15896:95801</td>\n",
       "      <td>763</td>\n",
       "    </tr>\n",
       "    <tr>\n",
       "      <th>9</th>\n",
       "      <td>L183:338:CAGAAANXX:4:1315:1989:50323</td>\n",
       "      <td>0</td>\n",
       "    </tr>\n",
       "    <tr>\n",
       "      <th>10</th>\n",
       "      <td>L183:338:CAGAAANXX:5:2302:21170:14753</td>\n",
       "      <td>0</td>\n",
       "    </tr>\n",
       "    <tr>\n",
       "      <th>11</th>\n",
       "      <td>L183:338:CAGAAANXX:4:2313:8607:12461</td>\n",
       "      <td>11</td>\n",
       "    </tr>\n",
       "    <tr>\n",
       "      <th>12</th>\n",
       "      <td>L183:338:CAGAAANXX:6:1206:8286:11014</td>\n",
       "      <td>769</td>\n",
       "    </tr>\n",
       "    <tr>\n",
       "      <th>13</th>\n",
       "      <td>L183:338:CAGAAANXX:5:1104:11215:84375</td>\n",
       "      <td>1</td>\n",
       "    </tr>\n",
       "    <tr>\n",
       "      <th>14</th>\n",
       "      <td>L183:338:CAGAAANXX:6:1107:6570:77700</td>\n",
       "      <td>47</td>\n",
       "    </tr>\n",
       "    <tr>\n",
       "      <th>15</th>\n",
       "      <td>L183:338:CAGAAANXX:6:1214:8666:79274</td>\n",
       "      <td>1</td>\n",
       "    </tr>\n",
       "    <tr>\n",
       "      <th>16</th>\n",
       "      <td>L183:338:CAGAAANXX:4:1305:15773:48436</td>\n",
       "      <td>3</td>\n",
       "    </tr>\n",
       "    <tr>\n",
       "      <th>17</th>\n",
       "      <td>L183:338:CAGAAANXX:4:1209:14593:89768</td>\n",
       "      <td>6</td>\n",
       "    </tr>\n",
       "    <tr>\n",
       "      <th>18</th>\n",
       "      <td>L183:338:CAGAAANXX:5:2106:9344:101213</td>\n",
       "      <td>1</td>\n",
       "    </tr>\n",
       "    <tr>\n",
       "      <th>19</th>\n",
       "      <td>L183:338:CAGAAANXX:4:1112:10264:37564</td>\n",
       "      <td>0</td>\n",
       "    </tr>\n",
       "    <tr>\n",
       "      <th>20</th>\n",
       "      <td>L183:338:CAGAAANXX:5:1316:3420:61171</td>\n",
       "      <td>0</td>\n",
       "    </tr>\n",
       "    <tr>\n",
       "      <th>21</th>\n",
       "      <td>L183:338:CAGAAANXX:4:1101:10847:4629</td>\n",
       "      <td>0</td>\n",
       "    </tr>\n",
       "    <tr>\n",
       "      <th>22</th>\n",
       "      <td>L183:338:CAGAAANXX:5:2313:10176:48677</td>\n",
       "      <td>0</td>\n",
       "    </tr>\n",
       "    <tr>\n",
       "      <th>23</th>\n",
       "      <td>L183:338:CAGAAANXX:5:2110:2095:37586</td>\n",
       "      <td>7</td>\n",
       "    </tr>\n",
       "    <tr>\n",
       "      <th>24</th>\n",
       "      <td>L183:338:CAGAAANXX:4:1311:5295:60924</td>\n",
       "      <td>0</td>\n",
       "    </tr>\n",
       "    <tr>\n",
       "      <th>25</th>\n",
       "      <td>L183:338:CAGAAANXX:4:1111:6609:57801</td>\n",
       "      <td>240</td>\n",
       "    </tr>\n",
       "    <tr>\n",
       "      <th>26</th>\n",
       "      <td>L183:338:CAGAAANXX:6:1103:18504:55459</td>\n",
       "      <td>3</td>\n",
       "    </tr>\n",
       "    <tr>\n",
       "      <th>27</th>\n",
       "      <td>L183:338:CAGAAANXX:5:1204:6665:47727</td>\n",
       "      <td>0</td>\n",
       "    </tr>\n",
       "    <tr>\n",
       "      <th>28</th>\n",
       "      <td>L183:338:CAGAAANXX:5:1107:18906:24684</td>\n",
       "      <td>7</td>\n",
       "    </tr>\n",
       "    <tr>\n",
       "      <th>29</th>\n",
       "      <td>L183:338:CAGAAANXX:6:1201:15329:7358</td>\n",
       "      <td>0</td>\n",
       "    </tr>\n",
       "    <tr>\n",
       "      <th>...</th>\n",
       "      <td>...</td>\n",
       "      <td>...</td>\n",
       "    </tr>\n",
       "    <tr>\n",
       "      <th>22305</th>\n",
       "      <td>L183:338:CAGAAANXX:6:2112:18135:36061</td>\n",
       "      <td>0</td>\n",
       "    </tr>\n",
       "    <tr>\n",
       "      <th>22306</th>\n",
       "      <td>L183:338:CAGAAANXX:4:1214:10995:59907</td>\n",
       "      <td>11</td>\n",
       "    </tr>\n",
       "    <tr>\n",
       "      <th>22307</th>\n",
       "      <td>L183:338:CAGAAANXX:5:2109:6996:51075</td>\n",
       "      <td>3</td>\n",
       "    </tr>\n",
       "    <tr>\n",
       "      <th>22308</th>\n",
       "      <td>L183:338:CAGAAANXX:4:2112:20264:12798</td>\n",
       "      <td>9</td>\n",
       "    </tr>\n",
       "    <tr>\n",
       "      <th>22309</th>\n",
       "      <td>L183:338:CAGAAANXX:6:2114:7644:89325</td>\n",
       "      <td>2</td>\n",
       "    </tr>\n",
       "    <tr>\n",
       "      <th>22310</th>\n",
       "      <td>L183:338:CAGAAANXX:6:1104:14711:99389</td>\n",
       "      <td>1</td>\n",
       "    </tr>\n",
       "    <tr>\n",
       "      <th>22311</th>\n",
       "      <td>L183:338:CAGAAANXX:4:2206:16356:13603</td>\n",
       "      <td>0</td>\n",
       "    </tr>\n",
       "    <tr>\n",
       "      <th>22312</th>\n",
       "      <td>L183:338:CAGAAANXX:4:2308:19241:84563</td>\n",
       "      <td>49</td>\n",
       "    </tr>\n",
       "    <tr>\n",
       "      <th>22313</th>\n",
       "      <td>L183:338:CAGAAANXX:4:2114:14559:98311</td>\n",
       "      <td>129</td>\n",
       "    </tr>\n",
       "    <tr>\n",
       "      <th>22314</th>\n",
       "      <td>L183:338:CAGAAANXX:6:1315:8438:24727</td>\n",
       "      <td>1</td>\n",
       "    </tr>\n",
       "    <tr>\n",
       "      <th>22315</th>\n",
       "      <td>L183:338:CAGAAANXX:6:1306:8396:13769</td>\n",
       "      <td>5</td>\n",
       "    </tr>\n",
       "    <tr>\n",
       "      <th>22316</th>\n",
       "      <td>L183:338:CAGAAANXX:5:1212:19125:88312</td>\n",
       "      <td>0</td>\n",
       "    </tr>\n",
       "    <tr>\n",
       "      <th>22317</th>\n",
       "      <td>L183:338:CAGAAANXX:5:1314:8109:12801</td>\n",
       "      <td>9</td>\n",
       "    </tr>\n",
       "    <tr>\n",
       "      <th>22318</th>\n",
       "      <td>L183:338:CAGAAANXX:4:2216:14308:33520</td>\n",
       "      <td>0</td>\n",
       "    </tr>\n",
       "    <tr>\n",
       "      <th>22319</th>\n",
       "      <td>L183:338:CAGAAANXX:4:1114:2871:56210</td>\n",
       "      <td>33</td>\n",
       "    </tr>\n",
       "    <tr>\n",
       "      <th>22320</th>\n",
       "      <td>L183:338:CAGAAANXX:4:2213:3272:86195</td>\n",
       "      <td>3</td>\n",
       "    </tr>\n",
       "    <tr>\n",
       "      <th>22321</th>\n",
       "      <td>L183:338:CAGAAANXX:6:2206:4918:9405</td>\n",
       "      <td>10</td>\n",
       "    </tr>\n",
       "    <tr>\n",
       "      <th>22322</th>\n",
       "      <td>L183:338:CAGAAANXX:4:2304:17384:3036</td>\n",
       "      <td>1</td>\n",
       "    </tr>\n",
       "    <tr>\n",
       "      <th>22323</th>\n",
       "      <td>L183:338:CAGAAANXX:5:1110:5416:79698</td>\n",
       "      <td>0</td>\n",
       "    </tr>\n",
       "    <tr>\n",
       "      <th>22324</th>\n",
       "      <td>L183:338:CAGAAANXX:4:2310:7023:62936</td>\n",
       "      <td>10</td>\n",
       "    </tr>\n",
       "    <tr>\n",
       "      <th>22325</th>\n",
       "      <td>L183:338:CAGAAANXX:6:2206:19807:19105</td>\n",
       "      <td>12</td>\n",
       "    </tr>\n",
       "    <tr>\n",
       "      <th>22326</th>\n",
       "      <td>L183:338:CAGAAANXX:6:1315:2257:45286</td>\n",
       "      <td>0</td>\n",
       "    </tr>\n",
       "    <tr>\n",
       "      <th>22327</th>\n",
       "      <td>L183:338:CAGAAANXX:4:2104:10823:71038</td>\n",
       "      <td>7</td>\n",
       "    </tr>\n",
       "    <tr>\n",
       "      <th>22328</th>\n",
       "      <td>L183:338:CAGAAANXX:4:1313:18149:58834</td>\n",
       "      <td>1</td>\n",
       "    </tr>\n",
       "    <tr>\n",
       "      <th>22329</th>\n",
       "      <td>L183:338:CAGAAANXX:6:1209:9979:49836</td>\n",
       "      <td>40</td>\n",
       "    </tr>\n",
       "    <tr>\n",
       "      <th>22330</th>\n",
       "      <td>L183:338:CAGAAANXX:6:2109:18577:75142</td>\n",
       "      <td>75</td>\n",
       "    </tr>\n",
       "    <tr>\n",
       "      <th>22331</th>\n",
       "      <td>L183:338:CAGAAANXX:5:2205:2383:19742</td>\n",
       "      <td>2</td>\n",
       "    </tr>\n",
       "    <tr>\n",
       "      <th>22332</th>\n",
       "      <td>L183:338:CAGAAANXX:5:1214:7629:38694</td>\n",
       "      <td>1</td>\n",
       "    </tr>\n",
       "    <tr>\n",
       "      <th>22333</th>\n",
       "      <td>L183:338:CAGAAANXX:5:1304:18152:26373</td>\n",
       "      <td>10</td>\n",
       "    </tr>\n",
       "    <tr>\n",
       "      <th>22334</th>\n",
       "      <td>L183:338:CAGAAANXX:6:1308:13383:66739</td>\n",
       "      <td>2</td>\n",
       "    </tr>\n",
       "  </tbody>\n",
       "</table>\n",
       "<p>22335 rows × 2 columns</p>\n",
       "</div>"
      ],
      "text/plain": [
       "                                          QN   NH\n",
       "0      L183:338:CAGAAANXX:5:1110:18171:62388    1\n",
       "1      L183:338:CAGAAANXX:4:1102:11051:44584    9\n",
       "2      L183:338:CAGAAANXX:4:1106:13313:75109    1\n",
       "3       L183:338:CAGAAANXX:5:2307:2467:59838    2\n",
       "4       L183:338:CAGAAANXX:4:1113:3516:98348    2\n",
       "5       L183:338:CAGAAANXX:5:1108:6038:52737   14\n",
       "6      L183:338:CAGAAANXX:6:2214:16765:26530   15\n",
       "7      L183:338:CAGAAANXX:5:2303:16454:96906    0\n",
       "8      L183:338:CAGAAANXX:5:1304:15896:95801  763\n",
       "9       L183:338:CAGAAANXX:4:1315:1989:50323    0\n",
       "10     L183:338:CAGAAANXX:5:2302:21170:14753    0\n",
       "11      L183:338:CAGAAANXX:4:2313:8607:12461   11\n",
       "12      L183:338:CAGAAANXX:6:1206:8286:11014  769\n",
       "13     L183:338:CAGAAANXX:5:1104:11215:84375    1\n",
       "14      L183:338:CAGAAANXX:6:1107:6570:77700   47\n",
       "15      L183:338:CAGAAANXX:6:1214:8666:79274    1\n",
       "16     L183:338:CAGAAANXX:4:1305:15773:48436    3\n",
       "17     L183:338:CAGAAANXX:4:1209:14593:89768    6\n",
       "18     L183:338:CAGAAANXX:5:2106:9344:101213    1\n",
       "19     L183:338:CAGAAANXX:4:1112:10264:37564    0\n",
       "20      L183:338:CAGAAANXX:5:1316:3420:61171    0\n",
       "21      L183:338:CAGAAANXX:4:1101:10847:4629    0\n",
       "22     L183:338:CAGAAANXX:5:2313:10176:48677    0\n",
       "23      L183:338:CAGAAANXX:5:2110:2095:37586    7\n",
       "24      L183:338:CAGAAANXX:4:1311:5295:60924    0\n",
       "25      L183:338:CAGAAANXX:4:1111:6609:57801  240\n",
       "26     L183:338:CAGAAANXX:6:1103:18504:55459    3\n",
       "27      L183:338:CAGAAANXX:5:1204:6665:47727    0\n",
       "28     L183:338:CAGAAANXX:5:1107:18906:24684    7\n",
       "29      L183:338:CAGAAANXX:6:1201:15329:7358    0\n",
       "...                                      ...  ...\n",
       "22305  L183:338:CAGAAANXX:6:2112:18135:36061    0\n",
       "22306  L183:338:CAGAAANXX:4:1214:10995:59907   11\n",
       "22307   L183:338:CAGAAANXX:5:2109:6996:51075    3\n",
       "22308  L183:338:CAGAAANXX:4:2112:20264:12798    9\n",
       "22309   L183:338:CAGAAANXX:6:2114:7644:89325    2\n",
       "22310  L183:338:CAGAAANXX:6:1104:14711:99389    1\n",
       "22311  L183:338:CAGAAANXX:4:2206:16356:13603    0\n",
       "22312  L183:338:CAGAAANXX:4:2308:19241:84563   49\n",
       "22313  L183:338:CAGAAANXX:4:2114:14559:98311  129\n",
       "22314   L183:338:CAGAAANXX:6:1315:8438:24727    1\n",
       "22315   L183:338:CAGAAANXX:6:1306:8396:13769    5\n",
       "22316  L183:338:CAGAAANXX:5:1212:19125:88312    0\n",
       "22317   L183:338:CAGAAANXX:5:1314:8109:12801    9\n",
       "22318  L183:338:CAGAAANXX:4:2216:14308:33520    0\n",
       "22319   L183:338:CAGAAANXX:4:1114:2871:56210   33\n",
       "22320   L183:338:CAGAAANXX:4:2213:3272:86195    3\n",
       "22321    L183:338:CAGAAANXX:6:2206:4918:9405   10\n",
       "22322   L183:338:CAGAAANXX:4:2304:17384:3036    1\n",
       "22323   L183:338:CAGAAANXX:5:1110:5416:79698    0\n",
       "22324   L183:338:CAGAAANXX:4:2310:7023:62936   10\n",
       "22325  L183:338:CAGAAANXX:6:2206:19807:19105   12\n",
       "22326   L183:338:CAGAAANXX:6:1315:2257:45286    0\n",
       "22327  L183:338:CAGAAANXX:4:2104:10823:71038    7\n",
       "22328  L183:338:CAGAAANXX:4:1313:18149:58834    1\n",
       "22329   L183:338:CAGAAANXX:6:1209:9979:49836   40\n",
       "22330  L183:338:CAGAAANXX:6:2109:18577:75142   75\n",
       "22331   L183:338:CAGAAANXX:5:2205:2383:19742    2\n",
       "22332   L183:338:CAGAAANXX:5:1214:7629:38694    1\n",
       "22333  L183:338:CAGAAANXX:5:1304:18152:26373   10\n",
       "22334  L183:338:CAGAAANXX:6:1308:13383:66739    2\n",
       "\n",
       "[22335 rows x 2 columns]"
      ]
     },
     "execution_count": 19,
     "metadata": {},
     "output_type": "execute_result"
    }
   ],
   "source": [
    "i1"
   ]
  },
  {
   "cell_type": "code",
   "execution_count": 20,
   "metadata": {
    "collapsed": false
   },
   "outputs": [],
   "source": [
    "lost_nh = [i.item() for i in i1['NH']]"
   ]
  },
  {
   "cell_type": "code",
   "execution_count": 21,
   "metadata": {
    "collapsed": false
   },
   "outputs": [],
   "source": [
    "data = sorted(Counter(lost_nh).items())\n",
    "data1 = [i for i,j in data]\n",
    "data2 = [j for i,j in data]"
   ]
  },
  {
   "cell_type": "code",
   "execution_count": 22,
   "metadata": {
    "collapsed": false
   },
   "outputs": [],
   "source": [
    "lost_mm = [j for i,j in data[2:]]"
   ]
  },
  {
   "cell_type": "code",
   "execution_count": 120,
   "metadata": {
    "collapsed": false
   },
   "outputs": [
    {
     "data": {
      "text/plain": [
       "11862"
      ]
     },
     "execution_count": 120,
     "metadata": {},
     "output_type": "execute_result"
    }
   ],
   "source": [
    "sum(lost_mm)"
   ]
  },
  {
   "cell_type": "code",
   "execution_count": 23,
   "metadata": {
    "collapsed": false
   },
   "outputs": [
    {
     "data": {
      "text/plain": [
       "484"
      ]
     },
     "execution_count": 23,
     "metadata": {},
     "output_type": "execute_result"
    }
   ],
   "source": [
    "len(lost_mm)"
   ]
  },
  {
   "cell_type": "code",
   "execution_count": 24,
   "metadata": {
    "collapsed": false
   },
   "outputs": [],
   "source": [
    "all_maps = [i.item() for i in df3['NH']]"
   ]
  },
  {
   "cell_type": "code",
   "execution_count": 25,
   "metadata": {
    "collapsed": true
   },
   "outputs": [],
   "source": [
    "multi_maps = [i.item() for i in df3['NH'] if not i.item() == 1]"
   ]
  },
  {
   "cell_type": "code",
   "execution_count": 26,
   "metadata": {
    "collapsed": false
   },
   "outputs": [
    {
     "name": "stdout",
     "output_type": "stream",
     "text": [
      "64881\n",
      "6520798\n"
     ]
    }
   ],
   "source": [
    "print sum(all_maps) - sum(multi_maps)\n",
    "print sum(multi_maps)"
   ]
  },
  {
   "cell_type": "code",
   "execution_count": 27,
   "metadata": {
    "collapsed": false
   },
   "outputs": [
    {
     "name": "stdout",
     "output_type": "stream",
     "text": [
      "64881\n",
      "473972\n"
     ]
    }
   ],
   "source": [
    "print len(all_maps) - len(multi_maps)\n",
    "print len(multi_maps)"
   ]
  },
  {
   "cell_type": "code",
   "execution_count": 28,
   "metadata": {
    "collapsed": false
   },
   "outputs": [
    {
     "name": "stdout",
     "output_type": "stream",
     "text": [
      "0.102115736795\n"
     ]
    }
   ],
   "source": [
    "print (float(484) / 473972) * 100"
   ]
  },
  {
   "cell_type": "code",
   "execution_count": 112,
   "metadata": {
    "collapsed": false
   },
   "outputs": [
    {
     "data": {
      "image/png": "[encoded data removed]",
      "text/plain": [
       "<matplotlib.figure.Figure at 0x7ffb35edd9d0>"
      ]
     },
     "metadata": {},
     "output_type": "display_data"
    }
   ],
   "source": [
    "fig = plt.figure(figsize=(20,10))\n",
    "fig.suptitle('Fig. 3 - Distribution of number of hits in isolated alignments', fontsize=20)\n",
    "\n",
    "plt.xlim(0, 50)\n",
    "#plt.xticks(range(0,35,5))\n",
    "ax = plt.subplot(1, 1, 1)\n",
    "ax.yaxis.grid()\n",
    "ax.set_xlabel('Number of hits (NH)', fontsize=16)\n",
    "ax.set_ylabel('Frequency in isolated alignments', fontsize=16)\n",
    "ax.bar(data1, data2, width=.8, color=assign_color(), align='center')\n",
    "#plt.show()\n",
    "plt.savefig('/home/parastou/HGdist5')"
   ]
  },
  {
   "cell_type": "code",
   "execution_count": 20,
   "metadata": {
    "collapsed": false
   },
   "outputs": [],
   "source": [
    "cnt = []\n",
    "\n",
    "for xm, group in XN.groupby(['XM']):\n",
    "    cnt.append(len(group))\n",
    "data = sorted(Counter(cnt).items())\n",
    "data1 = [i for i,j in data]\n",
    "data2 = [j for i,j in data]"
   ]
  },
  {
   "cell_type": "code",
   "execution_count": 54,
   "metadata": {
    "collapsed": false
   },
   "outputs": [
    {
     "data": {
      "image/png": "[encoded data removed]",
      "text/plain": [
       "<matplotlib.figure.Figure at 0x7ffb897fc150>"
      ]
     },
     "metadata": {},
     "output_type": "display_data"
    }
   ],
   "source": [
    "fig = plt.figure(figsize=(20,10))\n",
    "fig.suptitle('Fig. 1 - Sample-wide reads/UMI', fontsize=20)\n",
    "\n",
    "plt.xlim(0, 35)\n",
    "plt.xticks(range(0,35,5))\n",
    "ax = plt.subplot(1, 1, 1)\n",
    "ax.yaxis.grid()\n",
    "ax.set_xlabel('Number of reads/UMI', fontsize=16)\n",
    "ax.set_ylabel('Frequency in the data', fontsize=16)\n",
    "ax.bar(data1, data2, width=.8, color=assign_color(), align='center')\n",
    "#plt.show()\n",
    "plt.savefig('/home/parastou/HGdist1')"
   ]
  },
  {
   "cell_type": "code",
   "execution_count": 57,
   "metadata": {
    "collapsed": false
   },
   "outputs": [
    {
     "data": {
      "image/png": "[encoded data removed]",
      "text/plain": [
       "<matplotlib.figure.Figure at 0x7ffb89646390>"
      ]
     },
     "metadata": {},
     "output_type": "display_data"
    }
   ],
   "source": [
    "names = fastq_to_names('/data/parastou/UMI/data/HG/RawReads/HGsample_TTCATA.fastq')\n",
    "umis = umi_to_umis('/data/parastou/UMI/data/HG/RawReads/HGsample_TTCATA.umi')\n",
    "XN = pd.DataFrame(zip(names,umis), columns=['QName','XM'])\n",
    "\n",
    "cnt = []\n",
    "\n",
    "for xm, group in XN.groupby(['XM']):\n",
    "    cnt.append(len(group))\n",
    "data = sorted(Counter(cnt).items())\n",
    "data1 = [i for i,j in data]\n",
    "data2 = [j for i,j in data]\n",
    "\n",
    "fig = plt.figure(figsize=(20,10))\n",
    "fig.suptitle('Fig. 2 - Sample-wide reads/UMI (TTCATA)', fontsize=20)\n",
    "\n",
    "plt.xlim(0, 35)\n",
    "plt.xticks(range(0,35,5))\n",
    "ax = plt.subplot(1, 1, 1)\n",
    "ax.yaxis.grid()\n",
    "ax.set_xlabel('Number of reads/UMI', fontsize=16)\n",
    "ax.set_ylabel('Frequency in the data', fontsize=16)\n",
    "ax.bar(data1, data2, width=.8, color=assign_color(), align='center')\n",
    "#plt.show()\n",
    "plt.savefig('/home/parastou/HGDist4')"
   ]
  },
  {
   "cell_type": "code",
   "execution_count": null,
   "metadata": {
    "collapsed": true
   },
   "outputs": [],
   "source": []
  }
 ],
 "metadata": {
  "kernelspec": {
   "display_name": "Python 2",
   "language": "python",
   "name": "python2"
  },
  "language_info": {
   "codemirror_mode": {
    "name": "ipython",
    "version": 2
   },
   "file_extension": ".py",
   "mimetype": "text/x-python",
   "name": "python",
   "nbconvert_exporter": "python",
   "pygments_lexer": "ipython2",
   "version": "2.7.12"
  }
 },
 "nbformat": 4,
 "nbformat_minor": 2
}
