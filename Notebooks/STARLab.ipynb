{
 "cells": [
  {
   "cell_type": "code",
   "execution_count": 1,
   "metadata": {
    "collapsed": false
   },
   "outputs": [],
   "source": [
    "%load_ext autoreload\n",
    "%autoreload 2\n",
    "%matplotlib inline"
   ]
  },
  {
   "cell_type": "code",
   "execution_count": 2,
   "metadata": {
    "collapsed": false
   },
   "outputs": [],
   "source": [
    "import os\n",
    "import pysam\n",
    "import numpy as np\n",
    "import cPickle as pickle\n",
    "import matplotlib.pyplot as plt\n",
    "import pandas as pd"
   ]
  },
  {
   "cell_type": "code",
   "execution_count": 3,
   "metadata": {
    "collapsed": true
   },
   "outputs": [],
   "source": [
    "from collections import Counter\n",
    "from random import randint"
   ]
  },
  {
   "cell_type": "code",
   "execution_count": 4,
   "metadata": {
    "collapsed": true
   },
   "outputs": [],
   "source": [
    "import logging\n",
    "logging.basicConfig(level=logging.INFO)"
   ]
  },
  {
   "cell_type": "code",
   "execution_count": 5,
   "metadata": {
    "collapsed": true
   },
   "outputs": [],
   "source": [
    "def assign_color():\n",
    "    \n",
    "    return (str(randint(0, 255)) + ',' + str(randint(0, 255)) + ',' + str(randint(0, 255)))"
   ]
  },
  {
   "cell_type": "code",
   "execution_count": 99,
   "metadata": {
    "collapsed": false
   },
   "outputs": [],
   "source": [
    "def color_reads(in_file):\n",
    "    \n",
    "    st = pysam.AlignmentFile(in_file,\"rb\")\n",
    "    st.reset()\n",
    "    reads = st.fetch(until_eof=True)\n",
    "    \n",
    "    color_map = {}\n",
    "    for r in reads:\n",
    "        if not r.query_name in color_map:\n",
    "            color_map.update({r.query_name:assign_color()})\n",
    "    \n",
    "    out_file = \"%s.colored.bam\" % os.path.splitext(in_file)[0]\n",
    "    colored_reads = pysam.AlignmentFile('tmp.bam', 'wb', template=st)\n",
    "    \n",
    "    st.reset()\n",
    "    reads = st.fetch(until_eof=True)\n",
    "    for r in reads:\n",
    "        if r.has_tag('RG'):\n",
    "            r.set_tag('RG', None)\n",
    "        color = color_map[r.query_name]\n",
    "        r.tags += [('YC', color)]\n",
    "        colored_reads.write(r)\n",
    "\n",
    "    colored_reads.close()\n",
    "    pysam.sort(\"-o\", out_file, 'tmp.bam')\n",
    "    pysam.index(out_file)"
   ]
  },
  {
   "cell_type": "code",
   "execution_count": 6,
   "metadata": {
    "collapsed": true
   },
   "outputs": [],
   "source": [
    "in_file = '/data/parastou/Star-Lab/test/NStar25.Aligned.out.tagged.bam'"
   ]
  },
  {
   "cell_type": "code",
   "execution_count": 11,
   "metadata": {
    "collapsed": true
   },
   "outputs": [],
   "source": [
    "def color_umi_group(in_file, xm):\n",
    "    \n",
    "    st = pysam.AlignmentFile(in_file, 'rb')\n",
    "    st.reset()\n",
    "    reads = st.fetch(until_eof=True)\n",
    "    \n",
    "    color = assign_color()\n",
    "    \n",
    "    out_file = '%s.colored.bam' % os.path.splitext(in_file)[0]\n",
    "    colored_reads = pysam.AlignmentFile('tmp.bam', 'wb', template=st)\n",
    "    \n",
    "    st.reset()\n",
    "    reads = st.fetch(until_eof=True)\n",
    "    for r in reads:\n",
    "        if r.get_tag('XM') == xm:\n",
    "            if r.has_tag('RG'):\n",
    "                r.set_tag('RG', None)\n",
    "            r.tags += [('YC', color)]\n",
    "        colored_reads.write(r)\n",
    "\n",
    "    colored_reads.close()\n",
    "    pysam.sort(\"-o\", out_file, 'tmp.bam')\n",
    "    pysam.index(out_file)"
   ]
  },
  {
   "cell_type": "code",
   "execution_count": 13,
   "metadata": {
    "collapsed": true
   },
   "outputs": [],
   "source": [
    "def umi_group_to_file(in_file, xm, colored=False):\n",
    "    \n",
    "    st = pysam.AlignmentFile(in_file, 'rb')\n",
    "    st.reset()\n",
    "    reads = st.fetch(until_eof=True)\n",
    "    \n",
    "    color = assign_color()\n",
    "    \n",
    "    out_file = os.path.splitext(in_file)[0] + xm + '.bam'\n",
    "    xm_reads = pysam.AlignmentFile('tmp.bam', 'wb', template=st)\n",
    "    \n",
    "    st.reset()\n",
    "    reads = st.fetch(until_eof=True)\n",
    "    for r in reads:\n",
    "        if r.get_tag('XM') == xm:\n",
    "            if colored:\n",
    "                if r.has_tag('RG'):\n",
    "                    r.set_tag('RG', None)\n",
    "                r.tags += [('YC', color)]\n",
    "            xm_reads.write(r)\n",
    "\n",
    "    xm_reads.close()\n",
    "    pysam.sort(\"-o\", out_file, 'tmp.bam')\n",
    "    pysam.index(out_file)"
   ]
  },
  {
   "cell_type": "code",
   "execution_count": 12,
   "metadata": {
    "collapsed": false
   },
   "outputs": [],
   "source": [
    "color_umi_group(in_file, 'GTTTTTCCCC')"
   ]
  },
  {
   "cell_type": "code",
   "execution_count": 15,
   "metadata": {
    "collapsed": false
   },
   "outputs": [],
   "source": [
    "umi_group_to_file(in_file, 'GTTTTTCCCC', True)"
   ]
  },
  {
   "cell_type": "code",
   "execution_count": 100,
   "metadata": {
    "collapsed": true
   },
   "outputs": [],
   "source": [
    "in_file = '/data/parastou/Star-Lab/Experiments/Complete-HGsample_AATGTA_CGTGTGCGTT/Alignments2/NStar25.Aligned.out.bam'\n",
    "#in_file = '/data/parastou/Star-Lab/Alignments/NStar1.Aligned.out.bam'\n",
    "#in_file = '/data/parastou/Star-Lab/Alignments/NStar25.Aligned.out.bam'\n",
    "#in_file = '/data/parastou/Star-Lab/Alignments/NStar3.Aligned.out.bam'"
   ]
  },
  {
   "cell_type": "markdown",
   "metadata": {},
   "source": [
    "'L183:338:CAGAAANXX:4:1211:13492:40917' : CCCCAGGACGTACATTAGATCGGAAGAGCGTCGTGTAGGGAAAGAGTGTA unmapped"
   ]
  },
  {
   "cell_type": "code",
   "execution_count": 101,
   "metadata": {
    "collapsed": false,
    "scrolled": true
   },
   "outputs": [],
   "source": [
    "color_reads(in_file)"
   ]
  },
  {
   "cell_type": "code",
   "execution_count": 105,
   "metadata": {
    "collapsed": false
   },
   "outputs": [],
   "source": [
    "def bam_to_df(in_file):\n",
    "    \n",
    "    st = pysam.AlignmentFile(in_file,\"rb\")\n",
    "    reads = st.fetch(until_eof=True)\n",
    "    \n",
    "    nh = 0\n",
    "    ref = None\n",
    "    ref_st = None\n",
    "\n",
    "    rl = []\n",
    "    for r in reads:\n",
    "        qn = r.query_name\n",
    "        if r.has_tag('NH') and r.get_tag('NH')>0:\n",
    "            nh = r.get_tag('NH')\n",
    "            ref = r.reference_name\n",
    "            ref_st = r.reference_start\n",
    "        cigar = r.cigarstring\n",
    "        props = (qn, ref, ref_st, nh, cigar, ref+':'+str(ref_st))       \n",
    "        rl.append(props)\n",
    "        df = pd.DataFrame(rl, columns=['QName','Ref','Start','NH','CIGAR','IGV-MAP'])\n",
    "    return df"
   ]
  },
  {
   "cell_type": "code",
   "execution_count": 30,
   "metadata": {
    "collapsed": true
   },
   "outputs": [
    {
     "name": "stdout",
     "output_type": "stream",
     "text": [
      "chr12\n",
      "51874778\n",
      "36M117854N14M\n",
      "\n",
      "chr6\n",
      "123984116\n",
      "50M\n",
      "\n",
      "chr20\n",
      "5568662\n",
      "50M\n",
      "\n",
      "chr12\n",
      "7681058\n",
      "50M\n",
      "\n",
      "chr12\n",
      "42837892\n",
      "50M\n",
      "\n",
      "chr3\n",
      "196347126\n",
      "50M\n",
      "\n",
      "chr17_GL000258v2_alt\n",
      "585779\n",
      "50M\n",
      "\n",
      "chr17\n",
      "46201121\n",
      "50M\n",
      "\n",
      "chr17_KI270908v1_alt\n",
      "903223\n",
      "50M\n",
      "\n",
      "chr17_GL000258v2_alt\n",
      "1368251\n",
      "50M\n",
      "\n",
      "chr19\n",
      "12541305\n",
      "50M\n",
      "\n",
      "chr1\n",
      "14445235\n",
      "50M\n",
      "\n",
      "chr20\n",
      "37004470\n",
      "50M\n",
      "\n",
      "chr1\n",
      "89036972\n",
      "50M\n",
      "\n",
      "chr1\n",
      "161380531\n",
      "50M\n",
      "\n",
      "chr7\n",
      "68545430\n",
      "50M\n",
      "\n",
      "chr2\n",
      "230679437\n",
      "50M\n",
      "\n",
      "chr3\n",
      "195391435\n",
      "50M\n",
      "\n",
      "chr15\n",
      "40499857\n",
      "50M\n",
      "\n",
      "chr6\n",
      "111897754\n",
      "50M\n",
      "\n",
      "chr11\n",
      "8742822\n",
      "50M\n",
      "\n",
      "chr1\n",
      "43060711\n",
      "50M\n",
      "\n",
      "chr3\n",
      "13366882\n",
      "50M\n",
      "\n",
      "chr20\n",
      "51855641\n",
      "50M\n",
      "\n",
      "chr3\n",
      "186895091\n",
      "50M\n",
      "\n",
      "chr13\n",
      "100008293\n",
      "50M\n",
      "\n",
      "chrX\n",
      "53987467\n",
      "50M\n",
      "\n",
      "chr9\n",
      "69039010\n",
      "50M\n",
      "\n",
      "chr7\n",
      "105495917\n",
      "50M\n",
      "\n",
      "chr17\n",
      "49392652\n",
      "50M\n",
      "\n",
      "chr9\n",
      "111866555\n",
      "50M\n",
      "\n",
      "chr11\n",
      "29299946\n",
      "50M\n",
      "\n",
      "chr4\n",
      "87499085\n",
      "50M\n",
      "\n",
      "chr11\n",
      "78110401\n",
      "50M\n",
      "\n",
      "chr10\n",
      "126505712\n",
      "50M\n",
      "\n",
      "chr1\n",
      "26105464\n",
      "50M\n",
      "\n",
      "chr1\n",
      "156478739\n",
      "50M\n",
      "\n",
      "chr9\n",
      "116429096\n",
      "50M\n",
      "\n"
     ]
    }
   ],
   "source": [
    "#Read name = L183:338:CAGAAANXX:4:2314:3274:51709 the only spliced alignment"
   ]
  },
  {
   "cell_type": "markdown",
   "metadata": {},
   "source": [
    "Show alignments per read and ref:"
   ]
  },
  {
   "cell_type": "code",
   "execution_count": 106,
   "metadata": {
    "collapsed": false
   },
   "outputs": [],
   "source": [
    "rl1 = bam_to_df(in_file)"
   ]
  },
  {
   "cell_type": "code",
   "execution_count": 107,
   "metadata": {
    "collapsed": false,
    "scrolled": true
   },
   "outputs": [
    {
     "name": "stdout",
     "output_type": "stream",
     "text": [
      "L183:338:CAGAAANXX:4:2112:19231:18689\n",
      "                                    QName                      Ref      Start  \\\n",
      "43  L183:338:CAGAAANXX:4:2112:19231:18689                    chr21    8254039   \n",
      "44  L183:338:CAGAAANXX:4:2112:19231:18689                    chr21    8437074   \n",
      "45  L183:338:CAGAAANXX:4:2112:19231:18689                    chr21    8392864   \n",
      "46  L183:338:CAGAAANXX:4:2112:19231:18689                    chr21    8209829   \n",
      "47  L183:338:CAGAAANXX:4:2112:19231:18689                    chr21    8988370   \n",
      "48  L183:338:CAGAAANXX:4:2112:19231:18689         chrUn_GL000220v1     109276   \n",
      "49  L183:338:CAGAAANXX:4:2112:19231:18689         chrUn_GL000220v1     153248   \n",
      "50  L183:338:CAGAAANXX:4:2112:19231:18689  chr22_KI270733v1_random     126129   \n",
      "51  L183:338:CAGAAANXX:4:2112:19231:18689  chr22_KI270733v1_random     171210   \n",
      "52  L183:338:CAGAAANXX:4:2112:19231:18689                     chrY   10197454   \n",
      "53  L183:338:CAGAAANXX:4:2112:19231:18689                     chr2  132255958   \n",
      "54  L183:338:CAGAAANXX:4:2112:19231:18689                    chr22   11629746   \n",
      "55  L183:338:CAGAAANXX:4:2112:19231:18689         chrUn_KI270442v1     220091   \n",
      "\n",
      "    NH   CIGAR                         IGV-MAP  \n",
      "43  13  12S38M                   chr21:8254039  \n",
      "44  13  12S38M                   chr21:8437074  \n",
      "45  13  12S38M                   chr21:8392864  \n",
      "46  13  12S38M                   chr21:8209829  \n",
      "47  13  12S38M                   chr21:8988370  \n",
      "48  13  12S38M         chrUn_GL000220v1:109276  \n",
      "49  13  12S38M         chrUn_GL000220v1:153248  \n",
      "50  13  12S38M  chr22_KI270733v1_random:126129  \n",
      "51  13  12S38M  chr22_KI270733v1_random:171210  \n",
      "52  13  12S38M                   chrY:10197454  \n",
      "53  13  35M15S                  chr2:132255958  \n",
      "54  13  14S36M                  chr22:11629746  \n",
      "55  13  38M12S         chrUn_KI270442v1:220091  \n",
      "--------------------------------------------------------------------------------\n",
      "L183:338:CAGAAANXX:5:1102:9969:41353\n",
      "                                   QName                      Ref     Start  \\\n",
      "0   L183:338:CAGAAANXX:5:1102:9969:41353                    chr14  16055100   \n",
      "1   L183:338:CAGAAANXX:5:1102:9969:41353                    chr22  11252275   \n",
      "2   L183:338:CAGAAANXX:5:1102:9969:41353                    chr22  11630069   \n",
      "3   L183:338:CAGAAANXX:5:1102:9969:41353                    chr16  34160554   \n",
      "4   L183:338:CAGAAANXX:5:1102:9969:41353         chrUn_GL000220v1    109600   \n",
      "5   L183:338:CAGAAANXX:5:1102:9969:41353         chrUn_GL000220v1    153572   \n",
      "6   L183:338:CAGAAANXX:5:1102:9969:41353                    chr21   8437398   \n",
      "7   L183:338:CAGAAANXX:5:1102:9969:41353                    chr21   8393188   \n",
      "8   L183:338:CAGAAANXX:5:1102:9969:41353                    chr21   8210153   \n",
      "9   L183:338:CAGAAANXX:5:1102:9969:41353                    chr21   8988694   \n",
      "10  L183:338:CAGAAANXX:5:1102:9969:41353  chr22_KI270733v1_random    126453   \n",
      "11  L183:338:CAGAAANXX:5:1102:9969:41353  chr22_KI270733v1_random    171534   \n",
      "12  L183:338:CAGAAANXX:5:1102:9969:41353                    chr20  29299583   \n",
      "13  L183:338:CAGAAANXX:5:1102:9969:41353         chrUn_KI270442v1    219749   \n",
      "14  L183:338:CAGAAANXX:5:1102:9969:41353                    chr20  30487400   \n",
      "\n",
      "    NH CIGAR                         IGV-MAP  \n",
      "0   15   50M                  chr14:16055100  \n",
      "1   15   50M                  chr22:11252275  \n",
      "2   15   50M                  chr22:11630069  \n",
      "3   15   50M                  chr16:34160554  \n",
      "4   15   50M         chrUn_GL000220v1:109600  \n",
      "5   15   50M         chrUn_GL000220v1:153572  \n",
      "6   15   50M                   chr21:8437398  \n",
      "7   15   50M                   chr21:8393188  \n",
      "8   15   50M                   chr21:8210153  \n",
      "9   15   50M                   chr21:8988694  \n",
      "10  15   50M  chr22_KI270733v1_random:126453  \n",
      "11  15   50M  chr22_KI270733v1_random:171534  \n",
      "12  15   50M                  chr20:29299583  \n",
      "13  15   50M         chrUn_KI270442v1:219749  \n",
      "14  15   50M                  chr20:30487400  \n",
      "--------------------------------------------------------------------------------\n",
      "L183:338:CAGAAANXX:5:1112:8757:44006\n",
      "                                   QName                      Ref    Start  \\\n",
      "34  L183:338:CAGAAANXX:5:1112:8757:44006                    chr21  8254084   \n",
      "35  L183:338:CAGAAANXX:5:1112:8757:44006                    chr21  8437119   \n",
      "36  L183:338:CAGAAANXX:5:1112:8757:44006                    chr21  8392909   \n",
      "37  L183:338:CAGAAANXX:5:1112:8757:44006                    chr21  8209874   \n",
      "38  L183:338:CAGAAANXX:5:1112:8757:44006                    chr21  8988415   \n",
      "39  L183:338:CAGAAANXX:5:1112:8757:44006         chrUn_GL000220v1   109321   \n",
      "40  L183:338:CAGAAANXX:5:1112:8757:44006         chrUn_GL000220v1   153293   \n",
      "41  L183:338:CAGAAANXX:5:1112:8757:44006  chr22_KI270733v1_random   126174   \n",
      "42  L183:338:CAGAAANXX:5:1112:8757:44006  chr22_KI270733v1_random   171255   \n",
      "\n",
      "    NH CIGAR                         IGV-MAP  \n",
      "34   9   50M                   chr21:8254084  \n",
      "35   9   50M                   chr21:8437119  \n",
      "36   9   50M                   chr21:8392909  \n",
      "37   9   50M                   chr21:8209874  \n",
      "38   9   50M                   chr21:8988415  \n",
      "39   9   50M         chrUn_GL000220v1:109321  \n",
      "40   9   50M         chrUn_GL000220v1:153293  \n",
      "41   9   50M  chr22_KI270733v1_random:126174  \n",
      "42   9   50M  chr22_KI270733v1_random:171255  \n",
      "--------------------------------------------------------------------------------\n",
      "L183:338:CAGAAANXX:5:1205:2404:66573\n",
      "                                   QName    Ref      Start  NH  \\\n",
      "15  L183:338:CAGAAANXX:5:1205:2404:66573  chr11   61768036  19   \n",
      "16  L183:338:CAGAAANXX:5:1205:2404:66573   chr3   33220544  19   \n",
      "17  L183:338:CAGAAANXX:5:1205:2404:66573   chr3   33220544  19   \n",
      "18  L183:338:CAGAAANXX:5:1205:2404:66573   chr4   48971029  19   \n",
      "19  L183:338:CAGAAANXX:5:1205:2404:66573   chr2  130134837  19   \n",
      "20  L183:338:CAGAAANXX:5:1205:2404:66573   chr2  131538037  19   \n",
      "21  L183:338:CAGAAANXX:5:1205:2404:66573  chr12   83820549  19   \n",
      "22  L183:338:CAGAAANXX:5:1205:2404:66573  chr14   55160116  19   \n",
      "23  L183:338:CAGAAANXX:5:1205:2404:66573   chr7  140945082  19   \n",
      "24  L183:338:CAGAAANXX:5:1205:2404:66573  chr19   37538338  19   \n",
      "25  L183:338:CAGAAANXX:5:1205:2404:66573   chr2   55486312  19   \n",
      "26  L183:338:CAGAAANXX:5:1205:2404:66573   chr6   57620114  19   \n",
      "27  L183:338:CAGAAANXX:5:1205:2404:66573   chr5  113842497  19   \n",
      "28  L183:338:CAGAAANXX:5:1205:2404:66573   chr9   37550551  19   \n",
      "29  L183:338:CAGAAANXX:5:1205:2404:66573  chr17   33151292  19   \n",
      "30  L183:338:CAGAAANXX:5:1205:2404:66573   chr7   81214076  19   \n",
      "31  L183:338:CAGAAANXX:5:1205:2404:66573  chr20   34160809  19   \n",
      "32  L183:338:CAGAAANXX:5:1205:2404:66573  chr16   73951297  19   \n",
      "33  L183:338:CAGAAANXX:5:1205:2404:66573  chr16   73704521  19   \n",
      "\n",
      "              CIGAR         IGV-MAP  \n",
      "15            9S41M  chr11:61768036  \n",
      "16         12S29M9S   chr3:33220544  \n",
      "17  12S29M149090N9M   chr3:33220544  \n",
      "18         12S34M4S   chr4:48971029  \n",
      "19            4S46M  chr2:130134837  \n",
      "20            46M4S  chr2:131538037  \n",
      "21            41M9S  chr12:83820549  \n",
      "22            4S46M  chr14:55160116  \n",
      "23            46M4S  chr7:140945082  \n",
      "24            48M2S  chr19:37538338  \n",
      "25         13S28M9S   chr2:55486312  \n",
      "26            9S41M   chr6:57620114  \n",
      "27            41M9S  chr5:113842497  \n",
      "28         13S28M9S   chr9:37550551  \n",
      "29            9S41M  chr17:33151292  \n",
      "30         13S28M9S   chr7:81214076  \n",
      "31         9S28M13S  chr20:34160809  \n",
      "32            6S44M  chr16:73951297  \n",
      "33     9M246770N41M  chr16:73704521  \n",
      "--------------------------------------------------------------------------------\n",
      "L183:338:CAGAAANXX:5:2210:4853:65706\n",
      "                                   QName                      Ref    Start  \\\n",
      "56  L183:338:CAGAAANXX:5:2210:4853:65706                    chr21  8254136   \n",
      "57  L183:338:CAGAAANXX:5:2210:4853:65706                    chr21  8437171   \n",
      "58  L183:338:CAGAAANXX:5:2210:4853:65706                    chr21  8392961   \n",
      "59  L183:338:CAGAAANXX:5:2210:4853:65706                    chr21  8209926   \n",
      "60  L183:338:CAGAAANXX:5:2210:4853:65706                    chr21  8988467   \n",
      "61  L183:338:CAGAAANXX:5:2210:4853:65706         chrUn_GL000220v1   109373   \n",
      "62  L183:338:CAGAAANXX:5:2210:4853:65706         chrUn_GL000220v1   153345   \n",
      "63  L183:338:CAGAAANXX:5:2210:4853:65706  chr22_KI270733v1_random   126226   \n",
      "64  L183:338:CAGAAANXX:5:2210:4853:65706  chr22_KI270733v1_random   171307   \n",
      "\n",
      "    NH CIGAR                         IGV-MAP  \n",
      "56   9   50M                   chr21:8254136  \n",
      "57   9   50M                   chr21:8437171  \n",
      "58   9   50M                   chr21:8392961  \n",
      "59   9   50M                   chr21:8209926  \n",
      "60   9   50M                   chr21:8988467  \n",
      "61   9   50M         chrUn_GL000220v1:109373  \n",
      "62   9   50M         chrUn_GL000220v1:153345  \n",
      "63   9   50M  chr22_KI270733v1_random:126226  \n",
      "64   9   50M  chr22_KI270733v1_random:171307  \n",
      "--------------------------------------------------------------------------------\n",
      "L183:338:CAGAAANXX:6:1105:8310:20803\n",
      "                                   QName                      Ref      Start  \\\n",
      "87  L183:338:CAGAAANXX:6:1105:8310:20803                    chr21    8988655   \n",
      "88  L183:338:CAGAAANXX:6:1105:8310:20803                    chr21    8437359   \n",
      "89  L183:338:CAGAAANXX:6:1105:8310:20803                    chr21    8393149   \n",
      "90  L183:338:CAGAAANXX:6:1105:8310:20803                    chr21    8210114   \n",
      "91  L183:338:CAGAAANXX:6:1105:8310:20803                    chr21    8254325   \n",
      "92  L183:338:CAGAAANXX:6:1105:8310:20803         chrUn_GL000220v1     109561   \n",
      "93  L183:338:CAGAAANXX:6:1105:8310:20803         chrUn_GL000220v1     153533   \n",
      "94  L183:338:CAGAAANXX:6:1105:8310:20803  chr22_KI270733v1_random     126414   \n",
      "95  L183:338:CAGAAANXX:6:1105:8310:20803  chr22_KI270733v1_random     171495   \n",
      "96  L183:338:CAGAAANXX:6:1105:8310:20803                    chr20   30487440   \n",
      "97  L183:338:CAGAAANXX:6:1105:8310:20803                     chr2  132255661   \n",
      "\n",
      "    NH  CIGAR                         IGV-MAP  \n",
      "87  11  1S49M                   chr21:8988655  \n",
      "88  11  1S49M                   chr21:8437359  \n",
      "89  11  1S49M                   chr21:8393149  \n",
      "90  11  1S49M                   chr21:8210114  \n",
      "91  11  2S48M                   chr21:8254325  \n",
      "92  11  1S49M         chrUn_GL000220v1:109561  \n",
      "93  11  1S49M         chrUn_GL000220v1:153533  \n",
      "94  11  1S49M  chr22_KI270733v1_random:126414  \n",
      "95  11  1S49M  chr22_KI270733v1_random:171495  \n",
      "96  11  49M1S                  chr20:30487440  \n",
      "97  11  49M1S                  chr2:132255661  \n",
      "--------------------------------------------------------------------------------\n",
      "L183:338:CAGAAANXX:6:1106:5013:6740\n",
      "                                  QName    Ref     Start  NH CIGAR  \\\n",
      "99  L183:338:CAGAAANXX:6:1106:5013:6740  chr21  40043175   1  None   \n",
      "\n",
      "           IGV-MAP  \n",
      "99  chr21:40043175  \n",
      "--------------------------------------------------------------------------------\n",
      "L183:338:CAGAAANXX:6:1114:19059:100348\n",
      "                                     QName                      Ref  \\\n",
      "74  L183:338:CAGAAANXX:6:1114:19059:100348  chr22_KI270733v1_random   \n",
      "75  L183:338:CAGAAANXX:6:1114:19059:100348  chr22_KI270733v1_random   \n",
      "76  L183:338:CAGAAANXX:6:1114:19059:100348         chrUn_GL000220v1   \n",
      "77  L183:338:CAGAAANXX:6:1114:19059:100348         chrUn_GL000220v1   \n",
      "78  L183:338:CAGAAANXX:6:1114:19059:100348                    chr21   \n",
      "79  L183:338:CAGAAANXX:6:1114:19059:100348                    chr21   \n",
      "80  L183:338:CAGAAANXX:6:1114:19059:100348                    chr21   \n",
      "81  L183:338:CAGAAANXX:6:1114:19059:100348                    chr21   \n",
      "82  L183:338:CAGAAANXX:6:1114:19059:100348                    chr21   \n",
      "83  L183:338:CAGAAANXX:6:1114:19059:100348                     chr2   \n",
      "84  L183:338:CAGAAANXX:6:1114:19059:100348                    chr20   \n",
      "85  L183:338:CAGAAANXX:6:1114:19059:100348                     chrY   \n",
      "86  L183:338:CAGAAANXX:6:1114:19059:100348                    chr20   \n",
      "\n",
      "        Start  NH CIGAR                         IGV-MAP  \n",
      "74     126423  13   50M  chr22_KI270733v1_random:126423  \n",
      "75     171504  13   50M  chr22_KI270733v1_random:171504  \n",
      "76     109570  13   50M         chrUn_GL000220v1:109570  \n",
      "77     153542  13   50M         chrUn_GL000220v1:153542  \n",
      "78    8254333  13   50M                   chr21:8254333  \n",
      "79    8988664  13   50M                   chr21:8988664  \n",
      "80    8437368  13   50M                   chr21:8437368  \n",
      "81    8393158  13   50M                   chr21:8393158  \n",
      "82    8210123  13   50M                   chr21:8210123  \n",
      "83  132255651  13   50M                  chr2:132255651  \n",
      "84   30487430  13   50M                  chr20:30487430  \n",
      "85   10197749  13   50M                   chrY:10197749  \n",
      "86   29299613  13   50M                  chr20:29299613  \n",
      "--------------------------------------------------------------------------------\n",
      "L183:338:CAGAAANXX:6:2212:3306:71140\n",
      "                                   QName    Ref     Start  NH CIGAR  \\\n",
      "98  L183:338:CAGAAANXX:6:2212:3306:71140  chr21  40043175   1   50M   \n",
      "\n",
      "           IGV-MAP  \n",
      "98  chr21:40043175  \n",
      "--------------------------------------------------------------------------------\n",
      "L183:338:CAGAAANXX:6:2311:20485:5578\n",
      "                                   QName                      Ref    Start  \\\n",
      "65  L183:338:CAGAAANXX:6:2311:20485:5578                    chr21  8254265   \n",
      "66  L183:338:CAGAAANXX:6:2311:20485:5578                    chr21  8437300   \n",
      "67  L183:338:CAGAAANXX:6:2311:20485:5578                    chr21  8393090   \n",
      "68  L183:338:CAGAAANXX:6:2311:20485:5578                    chr21  8210055   \n",
      "69  L183:338:CAGAAANXX:6:2311:20485:5578                    chr21  8988596   \n",
      "70  L183:338:CAGAAANXX:6:2311:20485:5578         chrUn_GL000220v1   109502   \n",
      "71  L183:338:CAGAAANXX:6:2311:20485:5578         chrUn_GL000220v1   153474   \n",
      "72  L183:338:CAGAAANXX:6:2311:20485:5578  chr22_KI270733v1_random   126355   \n",
      "73  L183:338:CAGAAANXX:6:2311:20485:5578  chr22_KI270733v1_random   171436   \n",
      "\n",
      "    NH CIGAR                         IGV-MAP  \n",
      "65   9   50M                   chr21:8254265  \n",
      "66   9   50M                   chr21:8437300  \n",
      "67   9   50M                   chr21:8393090  \n",
      "68   9   50M                   chr21:8210055  \n",
      "69   9   50M                   chr21:8988596  \n",
      "70   9   50M         chrUn_GL000220v1:109502  \n",
      "71   9   50M         chrUn_GL000220v1:153474  \n",
      "72   9   50M  chr22_KI270733v1_random:126355  \n",
      "73   9   50M  chr22_KI270733v1_random:171436  \n",
      "--------------------------------------------------------------------------------\n"
     ]
    }
   ],
   "source": [
    "for qn, group in rl1.groupby(['QName']):\n",
    "    print qn\n",
    "    print group\n",
    "    print '-' * 80"
   ]
  },
  {
   "cell_type": "code",
   "execution_count": 108,
   "metadata": {
    "collapsed": false,
    "scrolled": true
   },
   "outputs": [
    {
     "name": "stdout",
     "output_type": "stream",
     "text": [
      "chr11\n",
      "                                   QName    Ref     Start  NH  CIGAR  \\\n",
      "15  L183:338:CAGAAANXX:5:1205:2404:66573  chr11  61768036  19  9S41M   \n",
      "\n",
      "           IGV-MAP  \n",
      "15  chr11:61768036  \n",
      "--------------------------------------------------------------------------------\n",
      "chr12\n",
      "                                   QName    Ref     Start  NH  CIGAR  \\\n",
      "21  L183:338:CAGAAANXX:5:1205:2404:66573  chr12  83820549  19  41M9S   \n",
      "\n",
      "           IGV-MAP  \n",
      "21  chr12:83820549  \n",
      "--------------------------------------------------------------------------------\n",
      "chr14\n",
      "                                   QName    Ref     Start  NH  CIGAR  \\\n",
      "0   L183:338:CAGAAANXX:5:1102:9969:41353  chr14  16055100  15    50M   \n",
      "22  L183:338:CAGAAANXX:5:1205:2404:66573  chr14  55160116  19  4S46M   \n",
      "\n",
      "           IGV-MAP  \n",
      "0   chr14:16055100  \n",
      "22  chr14:55160116  \n",
      "--------------------------------------------------------------------------------\n",
      "chr16\n",
      "                                   QName    Ref     Start  NH         CIGAR  \\\n",
      "3   L183:338:CAGAAANXX:5:1102:9969:41353  chr16  34160554  15           50M   \n",
      "32  L183:338:CAGAAANXX:5:1205:2404:66573  chr16  73951297  19         6S44M   \n",
      "33  L183:338:CAGAAANXX:5:1205:2404:66573  chr16  73704521  19  9M246770N41M   \n",
      "\n",
      "           IGV-MAP  \n",
      "3   chr16:34160554  \n",
      "32  chr16:73951297  \n",
      "33  chr16:73704521  \n",
      "--------------------------------------------------------------------------------\n",
      "chr17\n",
      "                                   QName    Ref     Start  NH  CIGAR  \\\n",
      "29  L183:338:CAGAAANXX:5:1205:2404:66573  chr17  33151292  19  9S41M   \n",
      "\n",
      "           IGV-MAP  \n",
      "29  chr17:33151292  \n",
      "--------------------------------------------------------------------------------\n",
      "chr19\n",
      "                                   QName    Ref     Start  NH  CIGAR  \\\n",
      "24  L183:338:CAGAAANXX:5:1205:2404:66573  chr19  37538338  19  48M2S   \n",
      "\n",
      "           IGV-MAP  \n",
      "24  chr19:37538338  \n",
      "--------------------------------------------------------------------------------\n",
      "chr2\n",
      "                                     QName   Ref      Start  NH     CIGAR  \\\n",
      "19    L183:338:CAGAAANXX:5:1205:2404:66573  chr2  130134837  19     4S46M   \n",
      "20    L183:338:CAGAAANXX:5:1205:2404:66573  chr2  131538037  19     46M4S   \n",
      "25    L183:338:CAGAAANXX:5:1205:2404:66573  chr2   55486312  19  13S28M9S   \n",
      "53   L183:338:CAGAAANXX:4:2112:19231:18689  chr2  132255958  13    35M15S   \n",
      "83  L183:338:CAGAAANXX:6:1114:19059:100348  chr2  132255651  13       50M   \n",
      "97    L183:338:CAGAAANXX:6:1105:8310:20803  chr2  132255661  11     49M1S   \n",
      "\n",
      "           IGV-MAP  \n",
      "19  chr2:130134837  \n",
      "20  chr2:131538037  \n",
      "25   chr2:55486312  \n",
      "53  chr2:132255958  \n",
      "83  chr2:132255651  \n",
      "97  chr2:132255661  \n",
      "--------------------------------------------------------------------------------\n",
      "chr20\n",
      "                                     QName    Ref     Start  NH     CIGAR  \\\n",
      "12    L183:338:CAGAAANXX:5:1102:9969:41353  chr20  29299583  15       50M   \n",
      "14    L183:338:CAGAAANXX:5:1102:9969:41353  chr20  30487400  15       50M   \n",
      "31    L183:338:CAGAAANXX:5:1205:2404:66573  chr20  34160809  19  9S28M13S   \n",
      "84  L183:338:CAGAAANXX:6:1114:19059:100348  chr20  30487430  13       50M   \n",
      "86  L183:338:CAGAAANXX:6:1114:19059:100348  chr20  29299613  13       50M   \n",
      "96    L183:338:CAGAAANXX:6:1105:8310:20803  chr20  30487440  11     49M1S   \n",
      "\n",
      "           IGV-MAP  \n",
      "12  chr20:29299583  \n",
      "14  chr20:30487400  \n",
      "31  chr20:34160809  \n",
      "84  chr20:30487430  \n",
      "86  chr20:29299613  \n",
      "96  chr20:30487440  \n",
      "--------------------------------------------------------------------------------\n",
      "chr21\n",
      "                                     QName    Ref     Start  NH   CIGAR  \\\n",
      "6     L183:338:CAGAAANXX:5:1102:9969:41353  chr21   8437398  15     50M   \n",
      "7     L183:338:CAGAAANXX:5:1102:9969:41353  chr21   8393188  15     50M   \n",
      "8     L183:338:CAGAAANXX:5:1102:9969:41353  chr21   8210153  15     50M   \n",
      "9     L183:338:CAGAAANXX:5:1102:9969:41353  chr21   8988694  15     50M   \n",
      "34    L183:338:CAGAAANXX:5:1112:8757:44006  chr21   8254084   9     50M   \n",
      "35    L183:338:CAGAAANXX:5:1112:8757:44006  chr21   8437119   9     50M   \n",
      "36    L183:338:CAGAAANXX:5:1112:8757:44006  chr21   8392909   9     50M   \n",
      "37    L183:338:CAGAAANXX:5:1112:8757:44006  chr21   8209874   9     50M   \n",
      "38    L183:338:CAGAAANXX:5:1112:8757:44006  chr21   8988415   9     50M   \n",
      "43   L183:338:CAGAAANXX:4:2112:19231:18689  chr21   8254039  13  12S38M   \n",
      "44   L183:338:CAGAAANXX:4:2112:19231:18689  chr21   8437074  13  12S38M   \n",
      "45   L183:338:CAGAAANXX:4:2112:19231:18689  chr21   8392864  13  12S38M   \n",
      "46   L183:338:CAGAAANXX:4:2112:19231:18689  chr21   8209829  13  12S38M   \n",
      "47   L183:338:CAGAAANXX:4:2112:19231:18689  chr21   8988370  13  12S38M   \n",
      "56    L183:338:CAGAAANXX:5:2210:4853:65706  chr21   8254136   9     50M   \n",
      "57    L183:338:CAGAAANXX:5:2210:4853:65706  chr21   8437171   9     50M   \n",
      "58    L183:338:CAGAAANXX:5:2210:4853:65706  chr21   8392961   9     50M   \n",
      "59    L183:338:CAGAAANXX:5:2210:4853:65706  chr21   8209926   9     50M   \n",
      "60    L183:338:CAGAAANXX:5:2210:4853:65706  chr21   8988467   9     50M   \n",
      "65    L183:338:CAGAAANXX:6:2311:20485:5578  chr21   8254265   9     50M   \n",
      "66    L183:338:CAGAAANXX:6:2311:20485:5578  chr21   8437300   9     50M   \n",
      "67    L183:338:CAGAAANXX:6:2311:20485:5578  chr21   8393090   9     50M   \n",
      "68    L183:338:CAGAAANXX:6:2311:20485:5578  chr21   8210055   9     50M   \n",
      "69    L183:338:CAGAAANXX:6:2311:20485:5578  chr21   8988596   9     50M   \n",
      "78  L183:338:CAGAAANXX:6:1114:19059:100348  chr21   8254333  13     50M   \n",
      "79  L183:338:CAGAAANXX:6:1114:19059:100348  chr21   8988664  13     50M   \n",
      "80  L183:338:CAGAAANXX:6:1114:19059:100348  chr21   8437368  13     50M   \n",
      "81  L183:338:CAGAAANXX:6:1114:19059:100348  chr21   8393158  13     50M   \n",
      "82  L183:338:CAGAAANXX:6:1114:19059:100348  chr21   8210123  13     50M   \n",
      "87    L183:338:CAGAAANXX:6:1105:8310:20803  chr21   8988655  11   1S49M   \n",
      "88    L183:338:CAGAAANXX:6:1105:8310:20803  chr21   8437359  11   1S49M   \n",
      "89    L183:338:CAGAAANXX:6:1105:8310:20803  chr21   8393149  11   1S49M   \n",
      "90    L183:338:CAGAAANXX:6:1105:8310:20803  chr21   8210114  11   1S49M   \n",
      "91    L183:338:CAGAAANXX:6:1105:8310:20803  chr21   8254325  11   2S48M   \n",
      "98    L183:338:CAGAAANXX:6:2212:3306:71140  chr21  40043175   1     50M   \n",
      "99     L183:338:CAGAAANXX:6:1106:5013:6740  chr21  40043175   1    None   \n",
      "\n",
      "           IGV-MAP  \n",
      "6    chr21:8437398  \n",
      "7    chr21:8393188  \n",
      "8    chr21:8210153  \n",
      "9    chr21:8988694  \n",
      "34   chr21:8254084  \n",
      "35   chr21:8437119  \n",
      "36   chr21:8392909  \n",
      "37   chr21:8209874  \n",
      "38   chr21:8988415  \n",
      "43   chr21:8254039  \n",
      "44   chr21:8437074  \n",
      "45   chr21:8392864  \n",
      "46   chr21:8209829  \n",
      "47   chr21:8988370  \n",
      "56   chr21:8254136  \n",
      "57   chr21:8437171  \n",
      "58   chr21:8392961  \n",
      "59   chr21:8209926  \n",
      "60   chr21:8988467  \n",
      "65   chr21:8254265  \n",
      "66   chr21:8437300  \n",
      "67   chr21:8393090  \n",
      "68   chr21:8210055  \n",
      "69   chr21:8988596  \n",
      "78   chr21:8254333  \n",
      "79   chr21:8988664  \n",
      "80   chr21:8437368  \n",
      "81   chr21:8393158  \n",
      "82   chr21:8210123  \n",
      "87   chr21:8988655  \n",
      "88   chr21:8437359  \n",
      "89   chr21:8393149  \n",
      "90   chr21:8210114  \n",
      "91   chr21:8254325  \n",
      "98  chr21:40043175  \n",
      "99  chr21:40043175  \n",
      "--------------------------------------------------------------------------------\n",
      "chr22\n",
      "                                    QName    Ref     Start  NH   CIGAR  \\\n",
      "1    L183:338:CAGAAANXX:5:1102:9969:41353  chr22  11252275  15     50M   \n",
      "2    L183:338:CAGAAANXX:5:1102:9969:41353  chr22  11630069  15     50M   \n",
      "54  L183:338:CAGAAANXX:4:2112:19231:18689  chr22  11629746  13  14S36M   \n",
      "\n",
      "           IGV-MAP  \n",
      "1   chr22:11252275  \n",
      "2   chr22:11630069  \n",
      "54  chr22:11629746  \n",
      "--------------------------------------------------------------------------------\n",
      "chr22_KI270733v1_random\n",
      "                                     QName                      Ref   Start  \\\n",
      "10    L183:338:CAGAAANXX:5:1102:9969:41353  chr22_KI270733v1_random  126453   \n",
      "11    L183:338:CAGAAANXX:5:1102:9969:41353  chr22_KI270733v1_random  171534   \n",
      "41    L183:338:CAGAAANXX:5:1112:8757:44006  chr22_KI270733v1_random  126174   \n",
      "42    L183:338:CAGAAANXX:5:1112:8757:44006  chr22_KI270733v1_random  171255   \n",
      "50   L183:338:CAGAAANXX:4:2112:19231:18689  chr22_KI270733v1_random  126129   \n",
      "51   L183:338:CAGAAANXX:4:2112:19231:18689  chr22_KI270733v1_random  171210   \n",
      "63    L183:338:CAGAAANXX:5:2210:4853:65706  chr22_KI270733v1_random  126226   \n",
      "64    L183:338:CAGAAANXX:5:2210:4853:65706  chr22_KI270733v1_random  171307   \n",
      "72    L183:338:CAGAAANXX:6:2311:20485:5578  chr22_KI270733v1_random  126355   \n",
      "73    L183:338:CAGAAANXX:6:2311:20485:5578  chr22_KI270733v1_random  171436   \n",
      "74  L183:338:CAGAAANXX:6:1114:19059:100348  chr22_KI270733v1_random  126423   \n",
      "75  L183:338:CAGAAANXX:6:1114:19059:100348  chr22_KI270733v1_random  171504   \n",
      "94    L183:338:CAGAAANXX:6:1105:8310:20803  chr22_KI270733v1_random  126414   \n",
      "95    L183:338:CAGAAANXX:6:1105:8310:20803  chr22_KI270733v1_random  171495   \n",
      "\n",
      "    NH   CIGAR                         IGV-MAP  \n",
      "10  15     50M  chr22_KI270733v1_random:126453  \n",
      "11  15     50M  chr22_KI270733v1_random:171534  \n",
      "41   9     50M  chr22_KI270733v1_random:126174  \n",
      "42   9     50M  chr22_KI270733v1_random:171255  \n",
      "50  13  12S38M  chr22_KI270733v1_random:126129  \n",
      "51  13  12S38M  chr22_KI270733v1_random:171210  \n",
      "63   9     50M  chr22_KI270733v1_random:126226  \n",
      "64   9     50M  chr22_KI270733v1_random:171307  \n",
      "72   9     50M  chr22_KI270733v1_random:126355  \n",
      "73   9     50M  chr22_KI270733v1_random:171436  \n",
      "74  13     50M  chr22_KI270733v1_random:126423  \n",
      "75  13     50M  chr22_KI270733v1_random:171504  \n",
      "94  11   1S49M  chr22_KI270733v1_random:126414  \n",
      "95  11   1S49M  chr22_KI270733v1_random:171495  \n",
      "--------------------------------------------------------------------------------\n",
      "chr3\n",
      "                                   QName   Ref     Start  NH            CIGAR  \\\n",
      "16  L183:338:CAGAAANXX:5:1205:2404:66573  chr3  33220544  19         12S29M9S   \n",
      "17  L183:338:CAGAAANXX:5:1205:2404:66573  chr3  33220544  19  12S29M149090N9M   \n",
      "\n",
      "          IGV-MAP  \n",
      "16  chr3:33220544  \n",
      "17  chr3:33220544  \n",
      "--------------------------------------------------------------------------------\n",
      "chr4\n",
      "                                   QName   Ref     Start  NH     CIGAR  \\\n",
      "18  L183:338:CAGAAANXX:5:1205:2404:66573  chr4  48971029  19  12S34M4S   \n",
      "\n",
      "          IGV-MAP  \n",
      "18  chr4:48971029  \n",
      "--------------------------------------------------------------------------------\n",
      "chr5\n",
      "                                   QName   Ref      Start  NH  CIGAR  \\\n",
      "27  L183:338:CAGAAANXX:5:1205:2404:66573  chr5  113842497  19  41M9S   \n",
      "\n",
      "           IGV-MAP  \n",
      "27  chr5:113842497  \n",
      "--------------------------------------------------------------------------------\n",
      "chr6\n",
      "                                   QName   Ref     Start  NH  CIGAR  \\\n",
      "26  L183:338:CAGAAANXX:5:1205:2404:66573  chr6  57620114  19  9S41M   \n",
      "\n",
      "          IGV-MAP  \n",
      "26  chr6:57620114  \n",
      "--------------------------------------------------------------------------------\n",
      "chr7\n",
      "                                   QName   Ref      Start  NH     CIGAR  \\\n",
      "23  L183:338:CAGAAANXX:5:1205:2404:66573  chr7  140945082  19     46M4S   \n",
      "30  L183:338:CAGAAANXX:5:1205:2404:66573  chr7   81214076  19  13S28M9S   \n",
      "\n",
      "           IGV-MAP  \n",
      "23  chr7:140945082  \n",
      "30   chr7:81214076  \n",
      "--------------------------------------------------------------------------------\n",
      "chr9\n",
      "                                   QName   Ref     Start  NH     CIGAR  \\\n",
      "28  L183:338:CAGAAANXX:5:1205:2404:66573  chr9  37550551  19  13S28M9S   \n",
      "\n",
      "          IGV-MAP  \n",
      "28  chr9:37550551  \n",
      "--------------------------------------------------------------------------------\n",
      "chrUn_GL000220v1\n",
      "                                     QName               Ref   Start  NH  \\\n",
      "4     L183:338:CAGAAANXX:5:1102:9969:41353  chrUn_GL000220v1  109600  15   \n",
      "5     L183:338:CAGAAANXX:5:1102:9969:41353  chrUn_GL000220v1  153572  15   \n",
      "39    L183:338:CAGAAANXX:5:1112:8757:44006  chrUn_GL000220v1  109321   9   \n",
      "40    L183:338:CAGAAANXX:5:1112:8757:44006  chrUn_GL000220v1  153293   9   \n",
      "48   L183:338:CAGAAANXX:4:2112:19231:18689  chrUn_GL000220v1  109276  13   \n",
      "49   L183:338:CAGAAANXX:4:2112:19231:18689  chrUn_GL000220v1  153248  13   \n",
      "61    L183:338:CAGAAANXX:5:2210:4853:65706  chrUn_GL000220v1  109373   9   \n",
      "62    L183:338:CAGAAANXX:5:2210:4853:65706  chrUn_GL000220v1  153345   9   \n",
      "70    L183:338:CAGAAANXX:6:2311:20485:5578  chrUn_GL000220v1  109502   9   \n",
      "71    L183:338:CAGAAANXX:6:2311:20485:5578  chrUn_GL000220v1  153474   9   \n",
      "76  L183:338:CAGAAANXX:6:1114:19059:100348  chrUn_GL000220v1  109570  13   \n",
      "77  L183:338:CAGAAANXX:6:1114:19059:100348  chrUn_GL000220v1  153542  13   \n",
      "92    L183:338:CAGAAANXX:6:1105:8310:20803  chrUn_GL000220v1  109561  11   \n",
      "93    L183:338:CAGAAANXX:6:1105:8310:20803  chrUn_GL000220v1  153533  11   \n",
      "\n",
      "     CIGAR                  IGV-MAP  \n",
      "4      50M  chrUn_GL000220v1:109600  \n",
      "5      50M  chrUn_GL000220v1:153572  \n",
      "39     50M  chrUn_GL000220v1:109321  \n",
      "40     50M  chrUn_GL000220v1:153293  \n",
      "48  12S38M  chrUn_GL000220v1:109276  \n",
      "49  12S38M  chrUn_GL000220v1:153248  \n",
      "61     50M  chrUn_GL000220v1:109373  \n",
      "62     50M  chrUn_GL000220v1:153345  \n",
      "70     50M  chrUn_GL000220v1:109502  \n",
      "71     50M  chrUn_GL000220v1:153474  \n",
      "76     50M  chrUn_GL000220v1:109570  \n",
      "77     50M  chrUn_GL000220v1:153542  \n",
      "92   1S49M  chrUn_GL000220v1:109561  \n",
      "93   1S49M  chrUn_GL000220v1:153533  \n",
      "--------------------------------------------------------------------------------\n",
      "chrUn_KI270442v1\n",
      "                                    QName               Ref   Start  NH  \\\n",
      "13   L183:338:CAGAAANXX:5:1102:9969:41353  chrUn_KI270442v1  219749  15   \n",
      "55  L183:338:CAGAAANXX:4:2112:19231:18689  chrUn_KI270442v1  220091  13   \n",
      "\n",
      "     CIGAR                  IGV-MAP  \n",
      "13     50M  chrUn_KI270442v1:219749  \n",
      "55  38M12S  chrUn_KI270442v1:220091  \n",
      "--------------------------------------------------------------------------------\n",
      "chrY\n",
      "                                     QName   Ref     Start  NH   CIGAR  \\\n",
      "52   L183:338:CAGAAANXX:4:2112:19231:18689  chrY  10197454  13  12S38M   \n",
      "85  L183:338:CAGAAANXX:6:1114:19059:100348  chrY  10197749  13     50M   \n",
      "\n",
      "          IGV-MAP  \n",
      "52  chrY:10197454  \n",
      "85  chrY:10197749  \n",
      "--------------------------------------------------------------------------------\n"
     ]
    }
   ],
   "source": [
    "for ref, group in rl1.groupby(['Ref']):\n",
    "    print ref\n",
    "    print group\n",
    "    print '-' * 80"
   ]
  },
  {
   "cell_type": "markdown",
   "metadata": {},
   "source": [
    "---------------------------------------------"
   ]
  },
  {
   "cell_type": "markdown",
   "metadata": {},
   "source": [
    "Find cluster regions"
   ]
  },
  {
   "cell_type": "code",
   "execution_count": 21,
   "metadata": {
    "collapsed": false
   },
   "outputs": [],
   "source": [
    "gb = rl1.groupby(['Ref'])\n",
    "groups = dict(list(gb))\n",
    "starts = sorted(list(groups['chr21']['Start']))"
   ]
  },
  {
   "cell_type": "code",
   "execution_count": 49,
   "metadata": {
    "collapsed": false
   },
   "outputs": [
    {
     "name": "stdout",
     "output_type": "stream",
     "text": [
      "8210158\n",
      "8988699\n"
     ]
    }
   ],
   "source": [
    "print starts[0]\n",
    "print starts[-1]"
   ]
  },
  {
   "cell_type": "code",
   "execution_count": 143,
   "metadata": {
    "collapsed": false
   },
   "outputs": [
    {
     "name": "stdout",
     "output_type": "stream",
     "text": [
      "8210123 8254039\n",
      "8254333 8392864\n",
      "8393158 8437074\n",
      "8437368 8988370\n",
      "8988664 40043175\n"
     ]
    }
   ],
   "source": [
    "#from itertools import tee, izip\n",
    "def gapsofsize(l, length):\n",
    "    \n",
    "    interval = sorted(l)\n",
    "    a = interval[1:]\n",
    "    b = interval[:-1]\n",
    "    first = interval[0]\n",
    "    last = interval[-1]\n",
    "    it = zip(a,b)\n",
    "    \n",
    "    starts = [first]\n",
    "    ends = [last]\n",
    "\n",
    "    for i,j in zip(a,b):\n",
    "        if i - j > length:\n",
    "            gaps += [j, i]\n",
    "            starts.append(j)\n",
    "            ends.append(i)\n",
    "    \n",
    "    return zip(starts,ends)\n",
    "    #next(b, None)\n",
    "    #return ( p for x, y in izip(a, b) if y-x < length+1 for p in xrange(x+1,y) )\n",
    "\n",
    "\n",
    "#print list(gapsofsize(starts, 1500))\n",
    "gapsofsize(starts, 1500)"
   ]
  },
  {
   "cell_type": "code",
   "execution_count": 60,
   "metadata": {
    "collapsed": true
   },
   "outputs": [],
   "source": [
    "in_file = '/data/parastou/Star-Lab/Experiments/Complete-HGsample_AATGTA_AGCTCTTGTA/Alignments/NStar1.Aligned.out.bam'\n",
    "chr_name = 'chr21'\n",
    "xm = 'AGCTCTTGTA' \n",
    "\n",
    "r1 = [8210158 - 1500, 8210605 + 1500]\n",
    "r2 = [8254473 - 1500, 8254813 + 1500]\n",
    "r3 = [8393193 - 1500, 8393640 + 1500]\n",
    "r4 = [8437403 - 1500, 8437850 + 1500]"
   ]
  },
  {
   "cell_type": "markdown",
   "metadata": {},
   "source": [
    "-----------------------------"
   ]
  },
  {
   "cell_type": "markdown",
   "metadata": {},
   "source": [
    "Calculate the distribution of cluster NH variability among all UMI groups"
   ]
  },
  {
   "cell_type": "code",
   "execution_count": 23,
   "metadata": {
    "collapsed": false
   },
   "outputs": [],
   "source": [
    "st = pysam.AlignmentFile('/data/parastou/Star-Lab/test/NStar10.Aligned.sorted.out.tagged.bam','rb')\n",
    "reads = st.fetch(until_eof=True)"
   ]
  },
  {
   "cell_type": "code",
   "execution_count": 30,
   "metadata": {
    "collapsed": false
   },
   "outputs": [],
   "source": [
    "st.reset()\n",
    "reads = st.fetch(until_eof=True)\n",
    "umi_map = {}\n",
    "for r in reads:\n",
    "    xm = r.get_tag('XM')\n",
    "    qn = r.query_name\n",
    "    nh = r.get_tag('NH')\n",
    "    if not xm in umi_map:\n",
    "        umi_map.update({xm:{qn:nh}})\n",
    "    else:\n",
    "        if not qn in umi_map[xm]:\n",
    "            umi_map[xm].update({qn:nh})"
   ]
  },
  {
   "cell_type": "code",
   "execution_count": 32,
   "metadata": {
    "collapsed": false,
    "scrolled": false
   },
   "outputs": [],
   "source": [
    "umi_var_dist = {}\n",
    "for key in umi_map:\n",
    "    vals = umi_map[key].values()\n",
    "    umi_var_dist.update({key:vals})"
   ]
  },
  {
   "cell_type": "code",
   "execution_count": 52,
   "metadata": {
    "collapsed": false
   },
   "outputs": [],
   "source": [
    "X = []\n",
    "Y = []\n",
    "for item in umi_var_dist.values():\n",
    "    X.append(len(item))\n",
    "    Y.append(len(set(item)))"
   ]
  },
  {
   "cell_type": "code",
   "execution_count": 68,
   "metadata": {
    "collapsed": false
   },
   "outputs": [],
   "source": [
    "norm = []\n",
    "for i,j in zip(X,Y):\n",
    "    norm.append(round(float(j)/i,2))"
   ]
  },
  {
   "cell_type": "code",
   "execution_count": 78,
   "metadata": {
    "collapsed": true
   },
   "outputs": [
    {
     "data": {
      "image/png": "[encoded data removed]",
      "text/plain": [
       "<matplotlib.figure.Figure at 0x7fa2ccbf6850>"
      ]
     },
     "metadata": {},
     "output_type": "display_data"
    }
   ],
   "source": [
    "fig = plt.figure(figsize=(20,10))\n",
    "fig.suptitle('Fig. 3 - Normalized different cluster sizes per UMI group size', fontsize=20)\n",
    "\n",
    "data1 = X\n",
    "data2 = norm\n",
    "\n",
    "plt.xlim(0, 150)\n",
    "#plt.xticks(range(0,len(data1),.1))\n",
    "ax = plt.subplot(1, 1, 1)\n",
    "ax.yaxis.grid()\n",
    "ax.set_xlabel('different cluster sizes / UMI group size', fontsize=16)\n",
    "ax.set_ylabel('Frequency', fontsize=16)\n",
    "ax.bar(data1, data2, width=0.8, color='r', align='center')\n",
    "#plt.show()\n",
    "plt.savefig('/home/parastou/dist3')"
   ]
  },
  {
   "cell_type": "code",
   "execution_count": 110,
   "metadata": {
    "collapsed": false
   },
   "outputs": [],
   "source": [
    "a = '6    chr21:8437398  7    chr21:8393188  8    chr21:8210153  9    chr21:8988694  34   chr21:8254084  35   chr21:8437119  36   chr21:8392909  37   chr21:8209874  38   chr21:8988415  43   chr21:8254039  44   chr21:8437074  45   chr21:8392864  46   chr21:8209829  47   chr21:8988370  56   chr21:8254136  57   chr21:8437171  58   chr21:8392961  59   chr21:8209926  60   chr21:8988467  65   chr21:8254265  66   chr21:8437300  67   chr21:8393090  68   chr21:8210055  69   chr21:8988596  78   chr21:8254333  79   chr21:8988664  80   chr21:8437368  81   chr21:8393158  82   chr21:8210123  87   chr21:8988655  88   chr21:8437359  89   chr21:8393149  90   chr21:8210114  91   chr21:8254325  98  chr21:40043175  99  chr21:40043175'"
   ]
  },
  {
   "cell_type": "code",
   "execution_count": 141,
   "metadata": {
    "collapsed": false
   },
   "outputs": [],
   "source": [
    "l1 = a.split('  ')\n",
    "l2 = [item for item in l1 if 'chr' in item]\n",
    "l3 = [int(item[6:].lstrip(':')) for item in l2]"
   ]
  },
  {
   "cell_type": "code",
   "execution_count": 144,
   "metadata": {
    "collapsed": false
   },
   "outputs": [
    {
     "name": "stdout",
     "output_type": "stream",
     "text": [
      "8210153 8254039\n",
      "8254333 8392864\n",
      "8393188 8437074\n",
      "8437398 8988370\n",
      "8988694 40043175\n"
     ]
    }
   ],
   "source": [
    "gapsofsize(l3, 1500)"
   ]
  },
  {
   "cell_type": "code",
   "execution_count": 131,
   "metadata": {
    "collapsed": false
   },
   "outputs": [],
   "source": [
    "W = []\n",
    "Z = []\n",
    "for item in umi_var_dist.values():\n",
    "    if len(item) < 100:\n",
    "        W.append(len(item))\n",
    "        Z.append(len(set(item)))"
   ]
  },
  {
   "cell_type": "code",
   "execution_count": 132,
   "metadata": {
    "collapsed": false
   },
   "outputs": [
    {
     "data": {
      "image/png": "[encoded data removed]",
      "text/plain": [
       "<matplotlib.figure.Figure at 0x7fa2eeae31d0>"
      ]
     },
     "metadata": {},
     "output_type": "display_data"
    }
   ],
   "source": [
    "import pylab as plb\n",
    "import matplotlib.pyplot as plt\n",
    "from scipy.optimize import curve_fit\n",
    "from scipy import asarray as ar,exp\n",
    "\n",
    "aX = np.array(X)\n",
    "aY = np.array(Y)\n",
    "\n",
    "#n = len(aX)                          #the number of data\n",
    "#mean = sum(aX*aY)/n                   #note this correction\n",
    "#sigma = sum(aY*(aX-mean)**2)/n        #note this correction\n",
    "\n",
    "#def gaus(x,a,x0,sigma):\n",
    "#    return a*exp(-(x-x0)**2/(2*sigma**2))\n",
    "\n",
    "#popt,pcov = curve_fit(gaus,aX,aY,p0=[1,mean,sigma])\n",
    "\n",
    "fig = plt.figure(figsize=(20,10))\n",
    "plt.plot(aX,aY,'r+',label='data')\n",
    "#plt.plot(aX,gaus(aX,*popt),'ro:',label='fit')\n",
    "plt.legend()\n",
    "plt.title('Fig. 1 - Fit for different cluster sizes per umi group', fontsize=20)\n",
    "plt.xlabel('Number of reads', fontsize=16)\n",
    "plt.ylabel('Number of different alignment cluster sizes', fontsize=16)\n",
    "#plt.show()\n",
    "plt.savefig('/home/parastou/dist1')"
   ]
  },
  {
   "cell_type": "code",
   "execution_count": 62,
   "metadata": {
    "collapsed": false
   },
   "outputs": [
    {
     "data": {
      "image/png": "[encoded data removed]",
      "text/plain": [
       "<matplotlib.figure.Figure at 0x7fa2f87624d0>"
      ]
     },
     "metadata": {},
     "output_type": "display_data"
    }
   ],
   "source": [
    "import pylab as plb\n",
    "import matplotlib.pyplot as plt\n",
    "from scipy.optimize import curve_fit\n",
    "from scipy import asarray as ar,exp\n",
    "\n",
    "aX = np.array(W)\n",
    "aY = np.array(Z)\n",
    "\n",
    "fig = plt.figure(figsize=(20,10))\n",
    "plt.plot(aX,aY,'bo',label='data')\n",
    "#plt.plot(aX,gaus(aX,*popt),'ro:',label='fit')\n",
    "plt.legend()\n",
    "plt.title('Fig. 2 - Fit for different cluster sizes per umi group (group-size < 100)', fontsize=20)\n",
    "plt.xlabel('Number of reads', fontsize=16)\n",
    "plt.ylabel('Number of different alignment cluster sizes', fontsize=16)\n",
    "#plt.show()\n",
    "plt.savefig('/home/parastou/dist2')"
   ]
  },
  {
   "cell_type": "markdown",
   "metadata": {
    "collapsed": false
   },
   "source": [
    "lost read in interesting case 'L183:338:CAGAAANXX:4:2314:3274:51709'"
   ]
  },
  {
   "cell_type": "markdown",
   "metadata": {
    "collapsed": true
   },
   "source": [
    "duo =['L183:338:CAGAAANXX:5:2216:18847:51121', 'L183:338:CAGAAANXX:5:2304:9982:52232']"
   ]
  },
  {
   "cell_type": "code",
   "execution_count": null,
   "metadata": {
    "collapsed": false,
    "scrolled": true
   },
   "outputs": [],
   "source": []
  },
  {
   "cell_type": "markdown",
   "metadata": {},
   "source": [
    "----------------------------"
   ]
  },
  {
   "cell_type": "code",
   "execution_count": 96,
   "metadata": {
    "collapsed": false,
    "scrolled": false
   },
   "outputs": [],
   "source": [
    "# method for producing gene name to biotype map (gmap) file\n",
    "with open('/home/parastou/Desktop/data/parastou/UMI/data/HG/Homo_sapiens.GRCh38.84_chrsNamesUCSC.gtf') as gtf:\n",
    "    with open('/data/parastou/UMI/data/HG/Homo_sapiens.GRCh38.84_chrsNamesUCSC.gmap','wb') as gmap:\n",
    "        for line in gtf:\n",
    "            gene = line.split('\\t')[8].split(' ')[1].rstrip('\\n').rstrip(';')\n",
    "            p = line.split('\\t')[8].find('gene_biotype ')\n",
    "            btype = line.split('\\t')[8][p+13:].split(' ')[0].rstrip('\\n').rstrip(';')\n",
    "            gmap.write('%s\\t%s\\n' %(gene,btype))"
   ]
  },
  {
   "cell_type": "markdown",
   "metadata": {
    "collapsed": true
   },
   "source": [
    "---------------------------------------"
   ]
  },
  {
   "cell_type": "markdown",
   "metadata": {},
   "source": [
    "Hamming distance function"
   ]
  },
  {
   "cell_type": "code",
   "execution_count": 32,
   "metadata": {
    "collapsed": true
   },
   "outputs": [],
   "source": [
    "import itertools\n",
    "\n",
    "def hamming(str1, str2):\n",
    "    return sum(itertools.imap(str.__ne__, str1, str2))"
   ]
  },
  {
   "cell_type": "code",
   "execution_count": 7,
   "metadata": {
    "collapsed": false
   },
   "outputs": [
    {
     "data": {
      "text/plain": [
       "3"
      ]
     },
     "execution_count": 7,
     "metadata": {},
     "output_type": "execute_result"
    }
   ],
   "source": [
    "hamming('GGTCTGAAGTTCAAATCACAGCAACCACATGGTGGCTCACAACCATCTGT','GGTCTGAAGTTCAAATACAAGCAACCACATGGTGGCTCACAACCATCTGT')"
   ]
  },
  {
   "cell_type": "markdown",
   "metadata": {
    "collapsed": true
   },
   "source": [
    "----------------------------"
   ]
  }
 ],
 "metadata": {
  "kernelspec": {
   "display_name": "Python 2",
   "language": "python",
   "name": "python2"
  },
  "language_info": {
   "codemirror_mode": {
    "name": "ipython",
    "version": 2
   },
   "file_extension": ".py",
   "mimetype": "text/x-python",
   "name": "python",
   "nbconvert_exporter": "python",
   "pygments_lexer": "ipython2",
   "version": "2.7.12"
  }
 },
 "nbformat": 4,
 "nbformat_minor": 2
}
