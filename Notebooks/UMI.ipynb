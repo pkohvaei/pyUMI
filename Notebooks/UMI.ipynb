{
 "cells": [
  {
   "cell_type": "code",
   "execution_count": 2,
   "metadata": {
    "collapsed": true
   },
   "outputs": [],
   "source": [
    "import sys\n",
    "sys.path.append('/data/parastou/pyUMI/')"
   ]
  },
  {
   "cell_type": "code",
   "execution_count": 1,
   "metadata": {
    "collapsed": true
   },
   "outputs": [],
   "source": [
    "%matplotlib inline"
   ]
  },
  {
   "cell_type": "code",
   "execution_count": 2,
   "metadata": {
    "collapsed": false
   },
   "outputs": [],
   "source": [
    "%load_ext autoreload\n",
    "%autoreload 2"
   ]
  },
  {
   "cell_type": "code",
   "execution_count": 3,
   "metadata": {
    "collapsed": true
   },
   "outputs": [],
   "source": [
    "import pysam"
   ]
  },
  {
   "cell_type": "code",
   "execution_count": 4,
   "metadata": {
    "collapsed": true
   },
   "outputs": [],
   "source": [
    "import numpy as np"
   ]
  },
  {
   "cell_type": "code",
   "execution_count": 5,
   "metadata": {
    "collapsed": false
   },
   "outputs": [],
   "source": [
    "import matplotlib.pyplot as plt"
   ]
  },
  {
   "cell_type": "code",
   "execution_count": 3,
   "metadata": {
    "collapsed": false
   },
   "outputs": [],
   "source": [
    "from pyUMI import bamStats as stats\n",
    "from pyUMI import MSolverLib as solver\n",
    "from pyUMI import R1Solver as rs1"
   ]
  },
  {
   "cell_type": "code",
   "execution_count": 7,
   "metadata": {
    "collapsed": true
   },
   "outputs": [],
   "source": [
    "import logging\n",
    "logging.basicConfig(level=logging.INFO)"
   ]
  },
  {
   "cell_type": "code",
   "execution_count": 8,
   "metadata": {
    "collapsed": false
   },
   "outputs": [],
   "source": [
    "#st = pysam.AlignmentFile(\"/home/parastou/UMI/HiPSC.mult.exontag.bam\",\"rb\")\n",
    "st = pysam.AlignmentFile(\"/data/parastou/UMI/data/Tet1.ens_exon_tagged.bam\",\"rb\")"
   ]
  },
  {
   "cell_type": "markdown",
   "metadata": {},
   "source": [
    "### Mapping Stats"
   ]
  },
  {
   "cell_type": "code",
   "execution_count": 10,
   "metadata": {
    "collapsed": true
   },
   "outputs": [],
   "source": [
    "stats.mapping_stats(st, draw_pie=True)"
   ]
  },
  {
   "cell_type": "markdown",
   "metadata": {},
   "source": [
    "### Cellular Barcode Info"
   ]
  },
  {
   "cell_type": "code",
   "execution_count": null,
   "metadata": {
    "collapsed": false
   },
   "outputs": [],
   "source": [
    "stats.cellbarcode_info(st, report_info=True, draw_pie=True);"
   ]
  },
  {
   "cell_type": "markdown",
   "metadata": {},
   "source": [
    "### Present Flags"
   ]
  },
  {
   "cell_type": "code",
   "execution_count": null,
   "metadata": {
    "collapsed": false,
    "scrolled": false
   },
   "outputs": [],
   "source": [
    "cf = stats.flag_stats(st, report_info=True, draw_bar=True);"
   ]
  },
  {
   "cell_type": "markdown",
   "metadata": {},
   "source": [
    "For description on BAM flags please check  https://broadinstitute.github.io/picard/explain-flags.html ."
   ]
  },
  {
   "cell_type": "markdown",
   "metadata": {},
   "source": [
    "-------------------------------------------------------------------------------------------------------------------------"
   ]
  },
  {
   "cell_type": "markdown",
   "metadata": {},
   "source": [
    "# Solver RANK1: "
   ]
  },
  {
   "cell_type": "markdown",
   "metadata": {},
   "source": [
    "## Resolves mutlimapped reads which their unique counterparts agree on a single gene"
   ]
  },
  {
   "cell_type": "markdown",
   "metadata": {},
   "source": [
    "### Cell Barcode: ATATAG"
   ]
  },
  {
   "cell_type": "code",
   "execution_count": 11,
   "metadata": {
    "collapsed": false
   },
   "outputs": [],
   "source": [
    "st = pysam.AlignmentFile(\"/data/parastou/UMI/data/MUS/sample_ATATAG.bam\",\"rb\")\n",
    "m1 = solver.build_multimapping_hashtable(st, cell_barcode='ATATAG')\n",
    "uh1, u1 = solver.build_uniques_associations(st, cell_barcodes=['ATATAG'])"
   ]
  },
  {
   "cell_type": "code",
   "execution_count": 12,
   "metadata": {
    "collapsed": false
   },
   "outputs": [
    {
     "name": "stdout",
     "output_type": "stream",
     "text": [
      "\n",
      "Total number of alignments: 28,425,778\n",
      "\n",
      "Total number of multimapped reads: 3,640,073\n"
     ]
    },
    {
     "name": "stderr",
     "output_type": "stream",
     "text": [
      "pyUMI/R1Solver.py:42: FutureWarning: comparison to `None` will result in an elementwise object comparison in the future.\n",
      "  if uniques[match][0] in genes:\n",
      "INFO:pyUMI.R1Solver:\tNumber of multi reads with unique gene association :          66,187\n",
      "INFO:pyUMI.R1Solver:\tTotal number of mappings of multi reads with unique gene association : 384,148\n"
     ]
    },
    {
     "data": {
      "image/png": "[encoded data removed]",
      "text/plain": [
       "<matplotlib.figure.Figure at 0x7f920ed17cd0>"
      ]
     },
     "metadata": {},
     "output_type": "display_data"
    }
   ],
   "source": [
    "print;print \"Total number of alignments: %s\" %format(stats.count_alignments(st),\",\")\n",
    "print;print \"Total number of multimapped reads: %s\" %format(len(m1),\",\")\n",
    "r1 = rs1.multimap_multigene_generator(m1,1);\n",
    "resolved_mm, rank1_solvers, r_total = rs1.rank1_multimap_solver(mm_generator=r1, uniques_hashtable=uh1, uniques=u1, report=True);\n",
    "dist1 = rs1.unique_savers_dist(resolved_mm,m1,uh1,draw_bar=True);"
   ]
  },
  {
   "cell_type": "code",
   "execution_count": null,
   "metadata": {
    "collapsed": false
   },
   "outputs": [],
   "source": [
    "from collections import Counter\n",
    "genes = [j for i,j in rank1_solvers]\n",
    "a = max(Counter(genes).values())\n",
    "for key, val in Counter(genes).items():\n",
    "    if val == a :\n",
    "        print key, val"
   ]
  },
  {
   "cell_type": "code",
   "execution_count": 26,
   "metadata": {
    "collapsed": false
   },
   "outputs": [],
   "source": [
    "names = [i for i,j in resolved_mm if j == 'ENSMUSG00000084349']"
   ]
  },
  {
   "cell_type": "code",
   "execution_count": 32,
   "metadata": {
    "collapsed": true
   },
   "outputs": [],
   "source": [
    "import pandas as pd\n",
    "from collections import Counter"
   ]
  },
  {
   "cell_type": "code",
   "execution_count": null,
   "metadata": {
    "collapsed": false
   },
   "outputs": [],
   "source": [
    "gene_demux = pysam.AlignmentFile(\"/data/parastou/UMI/data/MUS/sample_ATATAG_Rpl3ps1.bam\", 'wb', template=st)\n",
    "\n",
    "st.reset()\n",
    "reads = st.fetch(until_eof=True)\n",
    "for r in reads:\n",
    "    if r.has_tag('GE') and r.get_tag('GE') == 'ENSMUSG00000084349':\n",
    "        gene_demux.write(r)\n",
    "\n",
    "gene_demux.close()\n",
    "pysam.index(\"/data/parastou/UMI/data/MUS/sample_ATATAG_Rpl3ps1.bam\")"
   ]
  },
  {
   "cell_type": "code",
   "execution_count": 17,
   "metadata": {
    "collapsed": true
   },
   "outputs": [],
   "source": [
    "st = pysam.AlignmentFile(\"/data/parastou/UMI/data/MUS/sample_ATATAG.bam\",\"rb\")\n",
    "gt = pysam.AlignmentFile(\"/data/parastou/UMI/data/MUS/sample_ATATAG_Rpl3ps1.bam\",\"rb\")"
   ]
  },
  {
   "cell_type": "code",
   "execution_count": 27,
   "metadata": {
    "collapsed": false
   },
   "outputs": [],
   "source": [
    "gt.reset()\n",
    "reads = gt.fetch(until_eof=True)\n",
    "\n",
    "multi = []\n",
    "for r in reads:\n",
    "    if r.get_tag('NH') > 1 and r.query_name in names:\n",
    "        multi.append((r.query_name, r.get_tag('XM')))"
   ]
  },
  {
   "cell_type": "code",
   "execution_count": 24,
   "metadata": {
    "collapsed": true
   },
   "outputs": [],
   "source": [
    "gt.reset()\n",
    "reads = gt.fetch(until_eof=True)\n",
    "\n",
    "unique = []\n",
    "for r in reads:\n",
    "    if r.get_tag('NH') == 1:\n",
    "        unique.append((r.query_name, r.get_tag('XM')))"
   ]
  },
  {
   "cell_type": "code",
   "execution_count": 33,
   "metadata": {
    "collapsed": false
   },
   "outputs": [],
   "source": [
    "xm1 = Counter([j for i,j in multi])"
   ]
  },
  {
   "cell_type": "code",
   "execution_count": 4,
   "metadata": {
    "collapsed": false,
    "scrolled": true
   },
   "outputs": [],
   "source": [
    "'''\n",
    "st.reset()\n",
    "reads = st.fetch(until_eof=True)\n",
    "for r in reads:\n",
    "    if r.get_tag('XM') == 'GCCTCGCACT' and r.query_name == 'HISEQ:280:C9J9KANXX:1:1306:7160:72501':\n",
    "        print r.reference_name \n",
    "        print r.reference_start\n",
    "        print r\n",
    "''';"
   ]
  },
  {
   "cell_type": "code",
   "execution_count": 13,
   "metadata": {
    "collapsed": false
   },
   "outputs": [
    {
     "data": {
      "text/plain": [
       "''"
      ]
     },
     "execution_count": 13,
     "metadata": {},
     "output_type": "execute_result"
    }
   ],
   "source": [
    "gt = pysam.AlignmentFile(\"/data/parastou/UMI/data/MUS/sample_ATATAG_Rpl3ps1.bam\",\"rb\")\n",
    "yc_reads = pysam.AlignmentFile('/data/parastou/UMI/data/MUS/sample_ATATAG_Rpl3ps1_GCCTCGCACT.bam', 'wb', template=gt)\n",
    "\n",
    "red = '255,0,0'\n",
    "yellow = '255,255,0'\n",
    "black = '0,0,0'\n",
    "white = '255,255,255'\n",
    "\n",
    "gt.reset()\n",
    "reads = gt.fetch(until_eof=True)\n",
    "\n",
    "for r in reads:\n",
    "    if r.has_tag('RG'):\n",
    "        r.set_tag('RG', None)\n",
    "    if r.get_tag('XM') == 'GCCTCGCACT':\n",
    "        if r.has_tag('NH'):\n",
    "            nh = r.get_tag('NH')\n",
    "            if nh == 1:\n",
    "                r.tags += [('YC', red)]\n",
    "            else:\n",
    "                r.tags += [('YC', yellow)]\n",
    "        yc_reads.write(r)\n",
    "    \n",
    "yc_reads.close()\n",
    "pysam.index('/data/parastou/UMI/data/MUS/sample_ATATAG_Rpl3ps1_GCCTCGCACT.bam')"
   ]
  },
  {
   "cell_type": "code",
   "execution_count": null,
   "metadata": {
    "collapsed": true
   },
   "outputs": [],
   "source": [
    "yc_reads = pysam.AlignmentFile('/data/parastou/UMI/data/MUS/sample_ATATAG_Rpl3ps1_GCCTCGCACT_dups.bam', 'wb', template=gt)\n",
    "\n"
   ]
  },
  {
   "cell_type": "code",
   "execution_count": 35,
   "metadata": {
    "collapsed": true
   },
   "outputs": [
    {
     "name": "stdout",
     "output_type": "stream",
     "text": [
      "49\n",
      "49\n",
      "49\n",
      "49\n",
      "49\n",
      "49\n",
      "49\n",
      "49\n",
      "49\n",
      "49\n",
      "49\n",
      "49\n",
      "49\n",
      "41\n",
      "49\n",
      "49\n",
      "49\n",
      "49\n",
      "43\n",
      "49\n",
      "49\n",
      "49\n",
      "47\n",
      "49\n",
      "49\n",
      "49\n",
      "49\n",
      "49\n",
      "49\n",
      "49\n",
      "49\n"
     ]
    }
   ],
   "source": [
    "gt.reset()\n",
    "reads = gt.fetch(until_eof=True)\n",
    "\n",
    "for r in reads:\n",
    "    if r.get_tag('XM') == 'GCCTCGCACT':\n",
    "        print r.get_tag('AS')"
   ]
  },
  {
   "cell_type": "code",
   "execution_count": 19,
   "metadata": {
    "collapsed": false,
    "scrolled": true
   },
   "outputs": [
    {
     "name": "stdout",
     "output_type": "stream",
     "text": [
      "HISEQ:280:C9J9KANXX:2:2316:12568:51812\t16\t5\t80078387\t3\t39M280N11M\t-1\t-1\t50\tGAAGTCATTGGTCACCTCACCATAATGCACAAAGCCACCCAGTGGGTTGA\tarray('B', [27, 38, 38, 38, 38, 38, 37, 36, 38, 38, 38, 37, 36, 25, 31, 35, 35, 30, 33, 15, 30, 16, 38, 34, 37, 38, 37, 25, 15, 15, 21, 14, 25, 33, 25, 14, 14, 14, 14, 15, 14, 37, 29, 28, 14, 31, 31, 26, 22, 27])\t[('XC', 'ATATAG'), ('GE', 'ENSMUSG00000060036'), ('XF', 'CODING'), ('PG', 'STAR'), ('RG', 'A'), ('NH', 2), ('NM', 0), ('XM', 'GCCTCGCACT'), ('UQ', 0), ('AS', 50), ('GS', '-')]\n",
      "HISEQ:280:C9J9KANXX:2:2316:12568:51812\t256\t59\t13203511\t3\t50M\t-1\t-1\t50\tTCAACCCACTGGGTGGCTTTGTGCATTATGGTGAGGTGACCAATGACTTC\tarray('B', [27, 38, 38, 38, 38, 38, 37, 36, 38, 38, 38, 37, 36, 25, 31, 35, 35, 30, 33, 15, 30, 16, 38, 34, 37, 38, 37, 25, 15, 15, 21, 14, 25, 33, 25, 14, 14, 14, 14, 15, 14, 37, 29, 28, 14, 31, 31, 26, 22, 27])\t[('XC', 'ATATAG'), ('GE', 'ENSMUSG00000084349'), ('XF', 'CODING'), ('PG', 'STAR'), ('RG', 'A'), ('NH', 2), ('NM', 0), ('XM', 'GCCTCGCACT'), ('UQ', 0), ('AS', 49), ('GS', '+')]\n"
     ]
    }
   ],
   "source": [
    "st.reset()\n",
    "reads = st.fetch(until_eof=True)\n",
    "\n",
    "for r in reads:\n",
    "    if r.query_name=='HISEQ:280:C9J9KANXX:2:2316:12568:51812':\n",
    "        print r\n",
    "        "
   ]
  },
  {
   "cell_type": "code",
   "execution_count": 20,
   "metadata": {
    "collapsed": false
   },
   "outputs": [
    {
     "data": {
      "text/plain": [
       "''"
      ]
     },
     "execution_count": 20,
     "metadata": {},
     "output_type": "execute_result"
    }
   ],
   "source": [
    "gene_demux = pysam.AlignmentFile(\"/data/parastou/UMI/data/MUS/sample_ATATAG_Rpl3.bam\", 'wb', template=st)\n",
    "\n",
    "st.reset()\n",
    "reads = st.fetch(until_eof=True)\n",
    "for r in reads:\n",
    "    if r.has_tag('GE') and r.get_tag('GE') == 'ENSMUSG00000060036':\n",
    "        gene_demux.write(r)\n",
    "\n",
    "gene_demux.close()\n",
    "pysam.index(\"/data/parastou/UMI/data/MUS/sample_ATATAG_Rpl3.bam\")"
   ]
  },
  {
   "cell_type": "code",
   "execution_count": 21,
   "metadata": {
    "collapsed": true
   },
   "outputs": [],
   "source": [
    "ft = pysam.AlignmentFile(\"/data/parastou/UMI/data/MUS/sample_ATATAG_Rpl3.bam\",\"rb\")"
   ]
  },
  {
   "cell_type": "code",
   "execution_count": 5,
   "metadata": {
    "collapsed": false
   },
   "outputs": [],
   "source": [
    "'''\n",
    "ft.reset()\n",
    "reads = ft.fetch(until_eof=True)\n",
    "for r in reads:\n",
    "    if r.get_tag('XM') == 'GCCTCGCACT':\n",
    "        print r.get_tag('AS')\n",
    "''';"
   ]
  },
  {
   "cell_type": "code",
   "execution_count": 28,
   "metadata": {
    "collapsed": false
   },
   "outputs": [
    {
     "data": {
      "text/plain": [
       "''"
      ]
     },
     "execution_count": 28,
     "metadata": {},
     "output_type": "execute_result"
    }
   ],
   "source": [
    "ft = pysam.AlignmentFile(\"/data/parastou/UMI/data/MUS/sample_ATATAG_Rpl3.bam\",\"rb\")\n",
    "yc_reads = pysam.AlignmentFile('/data/parastou/UMI/data/MUS/sample_ATATAG_Rpl3_GCCTCGCACT.bam', 'wb', template=ft)\n",
    "\n",
    "red = '255,0,0'\n",
    "yellow = '255,255,0'\n",
    "purple = '255,0,255'\n",
    "black = '0,0,0'\n",
    "white = '255,255,255'\n",
    "\n",
    "ft.reset()\n",
    "reads = ft.fetch(until_eof=True)\n",
    "\n",
    "for r in reads:\n",
    "    if r.has_tag('RG'):\n",
    "        r.set_tag('RG', None)\n",
    "    if r.get_tag('XM') == 'GCCTCGCACT':\n",
    "        if r.has_tag('NH'):\n",
    "            nh = r.get_tag('NH')\n",
    "            if nh == 1:\n",
    "                r.tags += [('YC', red)]\n",
    "            else:\n",
    "                r.tags += [('YC', purple)]\n",
    "        yc_reads.write(r)\n",
    "    \n",
    "yc_reads.close()\n",
    "pysam.index('/data/parastou/UMI/data/MUS/sample_ATATAG_Rpl3_GCCTCGCACT.bam')"
   ]
  },
  {
   "cell_type": "code",
   "execution_count": 88,
   "metadata": {
    "collapsed": true
   },
   "outputs": [
    {
     "data": {
      "text/plain": [
       "Counter({13202856: 3,\n",
       "         13202863: 1,\n",
       "         13203038: 2,\n",
       "         13203048: 2,\n",
       "         13203049: 1,\n",
       "         13203060: 6,\n",
       "         13203065: 8,\n",
       "         13203105: 7,\n",
       "         13203128: 1,\n",
       "         13203343: 7,\n",
       "         13203344: 4,\n",
       "         13203362: 13,\n",
       "         13203370: 1,\n",
       "         13203421: 3,\n",
       "         13203446: 5,\n",
       "         13203486: 162,\n",
       "         13203487: 9,\n",
       "         13203488: 28,\n",
       "         13203496: 33,\n",
       "         13203497: 6,\n",
       "         13203498: 6,\n",
       "         13203506: 28,\n",
       "         13203507: 23,\n",
       "         13203508: 23,\n",
       "         13203509: 1,\n",
       "         13203511: 16,\n",
       "         13203513: 15,\n",
       "         13203514: 41,\n",
       "         13203515: 69,\n",
       "         13203516: 25,\n",
       "         13203519: 42,\n",
       "         13203521: 1,\n",
       "         13203522: 1,\n",
       "         13203545: 1,\n",
       "         13203546: 1,\n",
       "         13203566: 3,\n",
       "         13203567: 6,\n",
       "         13203571: 43,\n",
       "         13203572: 7,\n",
       "         13203573: 46,\n",
       "         13203574: 31,\n",
       "         13203575: 1,\n",
       "         13203576: 4,\n",
       "         13203577: 113,\n",
       "         13203578: 1,\n",
       "         13203579: 22,\n",
       "         13203581: 9,\n",
       "         13203582: 10,\n",
       "         13203586: 35,\n",
       "         13203587: 8,\n",
       "         13203588: 1,\n",
       "         13203600: 9,\n",
       "         13203601: 66,\n",
       "         13203606: 24,\n",
       "         13203611: 60,\n",
       "         13203612: 36,\n",
       "         13203617: 5,\n",
       "         13203632: 7,\n",
       "         13203648: 10,\n",
       "         13203699: 1,\n",
       "         13203700: 14,\n",
       "         13203704: 38,\n",
       "         13203715: 3,\n",
       "         13203716: 13,\n",
       "         13203717: 28,\n",
       "         13203719: 6,\n",
       "         13203722: 15,\n",
       "         13203730: 7,\n",
       "         13203731: 1,\n",
       "         13203743: 28,\n",
       "         13203744: 46,\n",
       "         13203745: 2,\n",
       "         13203746: 2,\n",
       "         13203747: 2,\n",
       "         13203752: 2,\n",
       "         13203762: 1,\n",
       "         13203771: 1,\n",
       "         13203777: 5,\n",
       "         13203778: 1,\n",
       "         13203782: 1,\n",
       "         13203818: 2})"
      ]
     },
     "execution_count": 88,
     "metadata": {},
     "output_type": "execute_result"
    }
   ],
   "source": [
    "#len(multi) = 42855\n",
    "#len(multi) = 1371\n",
    "loci = [j for i,j in multi]\n",
    "Counter(loci)"
   ]
  },
  {
   "cell_type": "code",
   "execution_count": 89,
   "metadata": {
    "collapsed": false
   },
   "outputs": [
    {
     "name": "stdout",
     "output_type": "stream",
     "text": [
      "13203818\n",
      "13202856\n",
      "962\n"
     ]
    }
   ],
   "source": [
    "print max(loci)\n",
    "print min(loci)\n",
    "print max(loci) - min(loci)"
   ]
  },
  {
   "cell_type": "code",
   "execution_count": 71,
   "metadata": {
    "collapsed": true
   },
   "outputs": [
    {
     "data": {
      "text/plain": [
       "[2856,\n",
       " 2857,\n",
       " 2858,\n",
       " 2859,\n",
       " 2860,\n",
       " 2861,\n",
       " 2862,\n",
       " 2863,\n",
       " 2864,\n",
       " 2865,\n",
       " 2866,\n",
       " 2867,\n",
       " 2868,\n",
       " 2869,\n",
       " 2870,\n",
       " 2871,\n",
       " 2872,\n",
       " 2873,\n",
       " 2874,\n",
       " 2875,\n",
       " 2876,\n",
       " 2877,\n",
       " 2878,\n",
       " 2879,\n",
       " 2880,\n",
       " 2881,\n",
       " 2882,\n",
       " 2883,\n",
       " 2884,\n",
       " 2885,\n",
       " 2886,\n",
       " 2887,\n",
       " 2888,\n",
       " 2889,\n",
       " 2890,\n",
       " 2891,\n",
       " 2892,\n",
       " 2893,\n",
       " 2894,\n",
       " 2895,\n",
       " 2896,\n",
       " 2897,\n",
       " 2898,\n",
       " 2899,\n",
       " 2900,\n",
       " 2901,\n",
       " 2902,\n",
       " 2903,\n",
       " 2904,\n",
       " 2905,\n",
       " 2906,\n",
       " 2907,\n",
       " 2908,\n",
       " 2909,\n",
       " 2910,\n",
       " 2911,\n",
       " 2912,\n",
       " 3038,\n",
       " 3039,\n",
       " 3040,\n",
       " 3041,\n",
       " 3042,\n",
       " 3043,\n",
       " 3044,\n",
       " 3045,\n",
       " 3046,\n",
       " 3047,\n",
       " 3048,\n",
       " 3049,\n",
       " 3050,\n",
       " 3051,\n",
       " 3052,\n",
       " 3053,\n",
       " 3054,\n",
       " 3055,\n",
       " 3056,\n",
       " 3057,\n",
       " 3058,\n",
       " 3059,\n",
       " 3060,\n",
       " 3061,\n",
       " 3062,\n",
       " 3063,\n",
       " 3064,\n",
       " 3065,\n",
       " 3066,\n",
       " 3067,\n",
       " 3068,\n",
       " 3069,\n",
       " 3070,\n",
       " 3071,\n",
       " 3072,\n",
       " 3073,\n",
       " 3074,\n",
       " 3075,\n",
       " 3076,\n",
       " 3077,\n",
       " 3078,\n",
       " 3079,\n",
       " 3080,\n",
       " 3081,\n",
       " 3082,\n",
       " 3083,\n",
       " 3084,\n",
       " 3085,\n",
       " 3086,\n",
       " 3087,\n",
       " 3088,\n",
       " 3089,\n",
       " 3090,\n",
       " 3091,\n",
       " 3092,\n",
       " 3093,\n",
       " 3094,\n",
       " 3095,\n",
       " 3096,\n",
       " 3097,\n",
       " 3098,\n",
       " 3099,\n",
       " 3100,\n",
       " 3101,\n",
       " 3102,\n",
       " 3103,\n",
       " 3104,\n",
       " 3105,\n",
       " 3106,\n",
       " 3107,\n",
       " 3108,\n",
       " 3109,\n",
       " 3110,\n",
       " 3111,\n",
       " 3112,\n",
       " 3113,\n",
       " 3114,\n",
       " 3115,\n",
       " 3116,\n",
       " 3117,\n",
       " 3118,\n",
       " 3119,\n",
       " 3120,\n",
       " 3121,\n",
       " 3122,\n",
       " 3123,\n",
       " 3124,\n",
       " 3125,\n",
       " 3126,\n",
       " 3127,\n",
       " 3128,\n",
       " 3129,\n",
       " 3130,\n",
       " 3131,\n",
       " 3132,\n",
       " 3133,\n",
       " 3134,\n",
       " 3135,\n",
       " 3136,\n",
       " 3137,\n",
       " 3138,\n",
       " 3139,\n",
       " 3140,\n",
       " 3141,\n",
       " 3142,\n",
       " 3143,\n",
       " 3144,\n",
       " 3145,\n",
       " 3146,\n",
       " 3147,\n",
       " 3148,\n",
       " 3149,\n",
       " 3150,\n",
       " 3151,\n",
       " 3152,\n",
       " 3153,\n",
       " 3154,\n",
       " 3155,\n",
       " 3156,\n",
       " 3157,\n",
       " 3158,\n",
       " 3159,\n",
       " 3160,\n",
       " 3161,\n",
       " 3162,\n",
       " 3163,\n",
       " 3164,\n",
       " 3165,\n",
       " 3166,\n",
       " 3167,\n",
       " 3168,\n",
       " 3169,\n",
       " 3170,\n",
       " 3171,\n",
       " 3172,\n",
       " 3173,\n",
       " 3174,\n",
       " 3175,\n",
       " 3176,\n",
       " 3177,\n",
       " 3343,\n",
       " 3344,\n",
       " 3345,\n",
       " 3346,\n",
       " 3347,\n",
       " 3348,\n",
       " 3349,\n",
       " 3350,\n",
       " 3351,\n",
       " 3352,\n",
       " 3353,\n",
       " 3354,\n",
       " 3355,\n",
       " 3356,\n",
       " 3357,\n",
       " 3358,\n",
       " 3359,\n",
       " 3360,\n",
       " 3361,\n",
       " 3362,\n",
       " 3363,\n",
       " 3364,\n",
       " 3365,\n",
       " 3366,\n",
       " 3367,\n",
       " 3368,\n",
       " 3369,\n",
       " 3370,\n",
       " 3371,\n",
       " 3372,\n",
       " 3373,\n",
       " 3374,\n",
       " 3375,\n",
       " 3376,\n",
       " 3377,\n",
       " 3378,\n",
       " 3379,\n",
       " 3380,\n",
       " 3381,\n",
       " 3382,\n",
       " 3383,\n",
       " 3384,\n",
       " 3385,\n",
       " 3386,\n",
       " 3387,\n",
       " 3388,\n",
       " 3389,\n",
       " 3390,\n",
       " 3391,\n",
       " 3392,\n",
       " 3393,\n",
       " 3394,\n",
       " 3395,\n",
       " 3396,\n",
       " 3397,\n",
       " 3398,\n",
       " 3399,\n",
       " 3400,\n",
       " 3401,\n",
       " 3402,\n",
       " 3403,\n",
       " 3404,\n",
       " 3405,\n",
       " 3406,\n",
       " 3407,\n",
       " 3408,\n",
       " 3409,\n",
       " 3410,\n",
       " 3411,\n",
       " 3412,\n",
       " 3413,\n",
       " 3414,\n",
       " 3415,\n",
       " 3416,\n",
       " 3417,\n",
       " 3418,\n",
       " 3419,\n",
       " 3421,\n",
       " 3422,\n",
       " 3423,\n",
       " 3424,\n",
       " 3425,\n",
       " 3426,\n",
       " 3427,\n",
       " 3428,\n",
       " 3429,\n",
       " 3430,\n",
       " 3431,\n",
       " 3432,\n",
       " 3433,\n",
       " 3434,\n",
       " 3435,\n",
       " 3436,\n",
       " 3437,\n",
       " 3438,\n",
       " 3439,\n",
       " 3440,\n",
       " 3441,\n",
       " 3442,\n",
       " 3443,\n",
       " 3444,\n",
       " 3445,\n",
       " 3446,\n",
       " 3447,\n",
       " 3448,\n",
       " 3449,\n",
       " 3450,\n",
       " 3451,\n",
       " 3452,\n",
       " 3453,\n",
       " 3454,\n",
       " 3455,\n",
       " 3456,\n",
       " 3457,\n",
       " 3458,\n",
       " 3459,\n",
       " 3460,\n",
       " 3461,\n",
       " 3462,\n",
       " 3463,\n",
       " 3464,\n",
       " 3465,\n",
       " 3466,\n",
       " 3467,\n",
       " 3468,\n",
       " 3469,\n",
       " 3470,\n",
       " 3471,\n",
       " 3472,\n",
       " 3473,\n",
       " 3474,\n",
       " 3475,\n",
       " 3476,\n",
       " 3477,\n",
       " 3478,\n",
       " 3479,\n",
       " 3480,\n",
       " 3481,\n",
       " 3482,\n",
       " 3483,\n",
       " 3484,\n",
       " 3485,\n",
       " 3486,\n",
       " 3487,\n",
       " 3488,\n",
       " 3489,\n",
       " 3490,\n",
       " 3491,\n",
       " 3492,\n",
       " 3493,\n",
       " 3494,\n",
       " 3495,\n",
       " 3496,\n",
       " 3497,\n",
       " 3498,\n",
       " 3499,\n",
       " 3500,\n",
       " 3501,\n",
       " 3502,\n",
       " 3503,\n",
       " 3504,\n",
       " 3505,\n",
       " 3506,\n",
       " 3507,\n",
       " 3508,\n",
       " 3509,\n",
       " 3510,\n",
       " 3511,\n",
       " 3512,\n",
       " 3513,\n",
       " 3514,\n",
       " 3515,\n",
       " 3516,\n",
       " 3517,\n",
       " 3518,\n",
       " 3519,\n",
       " 3520,\n",
       " 3521,\n",
       " 3522,\n",
       " 3523,\n",
       " 3524,\n",
       " 3525,\n",
       " 3526,\n",
       " 3527,\n",
       " 3528,\n",
       " 3529,\n",
       " 3530,\n",
       " 3531,\n",
       " 3532,\n",
       " 3533,\n",
       " 3534,\n",
       " 3535,\n",
       " 3536,\n",
       " 3537,\n",
       " 3538,\n",
       " 3539,\n",
       " 3540,\n",
       " 3541,\n",
       " 3542,\n",
       " 3543,\n",
       " 3544,\n",
       " 3545,\n",
       " 3546,\n",
       " 3547,\n",
       " 3548,\n",
       " 3549,\n",
       " 3550,\n",
       " 3551,\n",
       " 3552,\n",
       " 3553,\n",
       " 3554,\n",
       " 3555,\n",
       " 3556,\n",
       " 3557,\n",
       " 3558,\n",
       " 3559,\n",
       " 3560,\n",
       " 3561,\n",
       " 3562,\n",
       " 3563,\n",
       " 3564,\n",
       " 3565,\n",
       " 3566,\n",
       " 3567,\n",
       " 3568,\n",
       " 3569,\n",
       " 3570,\n",
       " 3571,\n",
       " 3572,\n",
       " 3573,\n",
       " 3574,\n",
       " 3575,\n",
       " 3576,\n",
       " 3577,\n",
       " 3578,\n",
       " 3579,\n",
       " 3580,\n",
       " 3581,\n",
       " 3582,\n",
       " 3583,\n",
       " 3584,\n",
       " 3585,\n",
       " 3586,\n",
       " 3587,\n",
       " 3588,\n",
       " 3589,\n",
       " 3590,\n",
       " 3591,\n",
       " 3592,\n",
       " 3593,\n",
       " 3594,\n",
       " 3595,\n",
       " 3596,\n",
       " 3597,\n",
       " 3598,\n",
       " 3599,\n",
       " 3600,\n",
       " 3601,\n",
       " 3602,\n",
       " 3603,\n",
       " 3604,\n",
       " 3605,\n",
       " 3606,\n",
       " 3607,\n",
       " 3608,\n",
       " 3609,\n",
       " 3610,\n",
       " 3611,\n",
       " 3612,\n",
       " 3613,\n",
       " 3614,\n",
       " 3615,\n",
       " 3616,\n",
       " 3617,\n",
       " 3618,\n",
       " 3619,\n",
       " 3620,\n",
       " 3621,\n",
       " 3622,\n",
       " 3623,\n",
       " 3624,\n",
       " 3625,\n",
       " 3626,\n",
       " 3627,\n",
       " 3628,\n",
       " 3629,\n",
       " 3630,\n",
       " 3631,\n",
       " 3632,\n",
       " 3633,\n",
       " 3634,\n",
       " 3635,\n",
       " 3636,\n",
       " 3637,\n",
       " 3638,\n",
       " 3639,\n",
       " 3640,\n",
       " 3641,\n",
       " 3642,\n",
       " 3643,\n",
       " 3644,\n",
       " 3645,\n",
       " 3646,\n",
       " 3647,\n",
       " 3648,\n",
       " 3649,\n",
       " 3650,\n",
       " 3651,\n",
       " 3652,\n",
       " 3653,\n",
       " 3654,\n",
       " 3655,\n",
       " 3656,\n",
       " 3657,\n",
       " 3658,\n",
       " 3659,\n",
       " 3660,\n",
       " 3661,\n",
       " 3662,\n",
       " 3663,\n",
       " 3664,\n",
       " 3665,\n",
       " 3666,\n",
       " 3667,\n",
       " 3668,\n",
       " 3669,\n",
       " 3670,\n",
       " 3671,\n",
       " 3672,\n",
       " 3673,\n",
       " 3674,\n",
       " 3675,\n",
       " 3676,\n",
       " 3677,\n",
       " 3678,\n",
       " 3679,\n",
       " 3680,\n",
       " 3681,\n",
       " 3682,\n",
       " 3683,\n",
       " 3684,\n",
       " 3685,\n",
       " 3686,\n",
       " 3687,\n",
       " 3688,\n",
       " 3689,\n",
       " 3690,\n",
       " 3691,\n",
       " 3692,\n",
       " 3693,\n",
       " 3694,\n",
       " 3695,\n",
       " 3696,\n",
       " 3697,\n",
       " 3699,\n",
       " 3700,\n",
       " 3701,\n",
       " 3702,\n",
       " 3703,\n",
       " 3704,\n",
       " 3705,\n",
       " 3706,\n",
       " 3707,\n",
       " 3708,\n",
       " 3709,\n",
       " 3710,\n",
       " 3711,\n",
       " 3712,\n",
       " 3713,\n",
       " 3714,\n",
       " 3715,\n",
       " 3716,\n",
       " 3717,\n",
       " 3718,\n",
       " 3719,\n",
       " 3720,\n",
       " 3721,\n",
       " 3722,\n",
       " 3723,\n",
       " 3724,\n",
       " 3725,\n",
       " 3726,\n",
       " 3727,\n",
       " 3728,\n",
       " 3729,\n",
       " 3730,\n",
       " 3731,\n",
       " 3732,\n",
       " 3733,\n",
       " 3734,\n",
       " 3735,\n",
       " 3736,\n",
       " 3737,\n",
       " 3738,\n",
       " 3739,\n",
       " 3740,\n",
       " 3741,\n",
       " 3742,\n",
       " 3743,\n",
       " 3744,\n",
       " 3745,\n",
       " 3746,\n",
       " 3747,\n",
       " 3748,\n",
       " 3749,\n",
       " 3750,\n",
       " 3751,\n",
       " 3752,\n",
       " 3753,\n",
       " 3754,\n",
       " 3755,\n",
       " 3756,\n",
       " 3757,\n",
       " 3758,\n",
       " 3759,\n",
       " 3760,\n",
       " 3761,\n",
       " 3762,\n",
       " 3763,\n",
       " 3764,\n",
       " 3765,\n",
       " 3766,\n",
       " 3767,\n",
       " 3768,\n",
       " 3769,\n",
       " 3770,\n",
       " 3771,\n",
       " 3772,\n",
       " 3773,\n",
       " 3774,\n",
       " 3775,\n",
       " 3776,\n",
       " 3777,\n",
       " 3778,\n",
       " 3779,\n",
       " 3780,\n",
       " 3781,\n",
       " 3782,\n",
       " 3783,\n",
       " 3784,\n",
       " 3785,\n",
       " 3786,\n",
       " 3787,\n",
       " 3788,\n",
       " 3789,\n",
       " 3790,\n",
       " 3791,\n",
       " 3792,\n",
       " 3793,\n",
       " 3794,\n",
       " 3795,\n",
       " 3796,\n",
       " 3797,\n",
       " 3798,\n",
       " 3799,\n",
       " 3800,\n",
       " 3801,\n",
       " 3802,\n",
       " 3803,\n",
       " 3804,\n",
       " 3805,\n",
       " 3806,\n",
       " 3807,\n",
       " 3808,\n",
       " 3809,\n",
       " 3810,\n",
       " 3811,\n",
       " 3812,\n",
       " 3813,\n",
       " 3814,\n",
       " 3815,\n",
       " 3816,\n",
       " 3817,\n",
       " 3818,\n",
       " 3819,\n",
       " 3820,\n",
       " 3821,\n",
       " 3822,\n",
       " 3823,\n",
       " 3824,\n",
       " 3825,\n",
       " 3826,\n",
       " 3827,\n",
       " 3828,\n",
       " 3829,\n",
       " 3830,\n",
       " 3831,\n",
       " 3832,\n",
       " 3833,\n",
       " 3834,\n",
       " 3835,\n",
       " 3836,\n",
       " 3837,\n",
       " 3838,\n",
       " 3839,\n",
       " 3840,\n",
       " 3841,\n",
       " 3842,\n",
       " 3843,\n",
       " 3844,\n",
       " 3845,\n",
       " 3846,\n",
       " 3847,\n",
       " 3848,\n",
       " 3849,\n",
       " 3850,\n",
       " 3851,\n",
       " 3852,\n",
       " 3853,\n",
       " 3854,\n",
       " 3855,\n",
       " 3856,\n",
       " 3857,\n",
       " 3858,\n",
       " 3859,\n",
       " 3860,\n",
       " 3861,\n",
       " 3862,\n",
       " 3863,\n",
       " 3864,\n",
       " 3865,\n",
       " 3866,\n",
       " 3867]"
      ]
     },
     "execution_count": 71,
     "metadata": {},
     "output_type": "execute_result"
    }
   ],
   "source": [
    "y1 = Counter(loci).keys()\n",
    "y2 = sorted([int(str(i)[4:]) for i in y1])\n",
    "y3 = list(chain.from_iterable([range(i, i + 50) for i in y2]))\n",
    "y4 = sorted(list(np.unique(y3)))"
   ]
  },
  {
   "cell_type": "code",
   "execution_count": 81,
   "metadata": {
    "collapsed": false
   },
   "outputs": [
    {
     "data": {
      "text/plain": [
       "[(3038, 2912), (3343, 3177), (3421, 3419), (3699, 3697)]"
      ]
     },
     "execution_count": 81,
     "metadata": {},
     "output_type": "execute_result"
    }
   ],
   "source": [
    "y5 = zip(y4[1:], y4[:-1])\n",
    "y6 = [(i,j) for i,j in y5 if i - j > 1]\n",
    "y6"
   ]
  },
  {
   "cell_type": "code",
   "execution_count": 69,
   "metadata": {
    "collapsed": false
   },
   "outputs": [
    {
     "data": {
      "text/plain": [
       "[[1, 2, 3], [4, 5, 6], [2, 7, 8]]"
      ]
     },
     "execution_count": 69,
     "metadata": {},
     "output_type": "execute_result"
    }
   ],
   "source": [
    "st.reset()\n",
    "reads = st.fetch(until_eof=True)\n"
   ]
  },
  {
   "cell_type": "code",
   "execution_count": 46,
   "metadata": {
    "collapsed": true
   },
   "outputs": [
    {
     "data": {
      "text/plain": [
       "Counter({12969038: 1,\n",
       "         13202595: 1,\n",
       "         13202604: 2,\n",
       "         13202620: 4,\n",
       "         13202621: 2,\n",
       "         13202705: 8,\n",
       "         13203060: 1,\n",
       "         13203065: 2,\n",
       "         13203067: 1,\n",
       "         13203486: 34,\n",
       "         13203487: 2,\n",
       "         13203488: 6,\n",
       "         13203496: 3,\n",
       "         13203497: 1,\n",
       "         13203499: 1,\n",
       "         13203506: 2,\n",
       "         13203507: 3,\n",
       "         13203508: 2,\n",
       "         13203511: 1,\n",
       "         13203513: 3,\n",
       "         13203514: 4,\n",
       "         13203515: 5,\n",
       "         13203516: 3,\n",
       "         13203519: 6,\n",
       "         13203571: 2,\n",
       "         13203572: 2,\n",
       "         13203573: 3,\n",
       "         13203574: 12,\n",
       "         13203575: 1,\n",
       "         13203576: 1,\n",
       "         13203577: 17,\n",
       "         13203578: 1,\n",
       "         13203579: 4,\n",
       "         13203580: 1,\n",
       "         13203581: 1,\n",
       "         13203582: 4,\n",
       "         13203586: 5,\n",
       "         13203587: 1,\n",
       "         13203588: 1,\n",
       "         13203600: 1,\n",
       "         13203601: 6,\n",
       "         13203602: 1,\n",
       "         13203606: 2,\n",
       "         13203611: 3,\n",
       "         13203612: 3,\n",
       "         13203614: 1,\n",
       "         13203617: 1,\n",
       "         13203700: 1,\n",
       "         13203716: 1,\n",
       "         13203717: 1,\n",
       "         13203722: 1,\n",
       "         13203745: 6,\n",
       "         13203783: 1,\n",
       "         13203790: 2,\n",
       "         13203792: 6,\n",
       "         13203793: 343,\n",
       "         13203794: 96,\n",
       "         13203795: 7,\n",
       "         13203796: 11,\n",
       "         13203797: 5,\n",
       "         13203798: 295,\n",
       "         13203799: 16,\n",
       "         13203800: 21,\n",
       "         13203801: 15,\n",
       "         13203802: 3,\n",
       "         13203803: 257,\n",
       "         13203804: 42,\n",
       "         13203805: 119,\n",
       "         13203806: 131,\n",
       "         13203807: 117,\n",
       "         13203808: 8,\n",
       "         13203809: 65,\n",
       "         13203810: 65,\n",
       "         13203811: 272,\n",
       "         13203812: 73,\n",
       "         13203813: 4,\n",
       "         13203814: 74,\n",
       "         13203815: 25,\n",
       "         13203816: 261,\n",
       "         13203817: 10,\n",
       "         13203818: 98,\n",
       "         13203819: 42,\n",
       "         13203820: 39,\n",
       "         13203821: 53,\n",
       "         13203822: 3,\n",
       "         13203823: 28,\n",
       "         13203828: 1,\n",
       "         13203829: 1})"
      ]
     },
     "execution_count": 46,
     "metadata": {},
     "output_type": "execute_result"
    }
   ],
   "source": [
    "uloci = [j for i,j in unique]\n",
    "Counter(uloci)"
   ]
  },
  {
   "cell_type": "code",
   "execution_count": 41,
   "metadata": {
    "collapsed": false,
    "scrolled": false
   },
   "outputs": [
    {
     "name": "stdout",
     "output_type": "stream",
     "text": [
      "['chr13' 'chr15' 'chr3' 'chr8' 'chrX']\n"
     ]
    }
   ],
   "source": [
    "st.reset()\n",
    "reads = st.fetch(until_eof=True)\n",
    "chrs = []\n",
    "for r in reads:\n",
    "    if not r.is_unmapped and r.get_tag('XM')=='GCCTCGCACT':\n",
    "        #print r.get_tag('NH'), r.get_tag('NM')\n",
    "        #print r.reference_name, r.reference_start\n",
    "        chrs.append(r.reference_name)\n",
    "print np.unique(chrs)"
   ]
  },
  {
   "cell_type": "code",
   "execution_count": 47,
   "metadata": {
    "collapsed": false,
    "scrolled": false
   },
   "outputs": [
    {
     "name": "stdout",
     "output_type": "stream",
     "text": [
      "chr13 115528923\n",
      "0\n",
      "\n",
      "chr15 80079697\n",
      "ENSMUSG00000060036\n",
      "0\n",
      "\n",
      "chr3 92227835\n",
      "0\n",
      "\n",
      "chr3 92262637\n",
      "0\n",
      "\n",
      "chr8 75274841\n",
      "0\n",
      "\n",
      "chrX 13203362\n",
      "ENSMUSG00000084349\n",
      "0\n",
      "\n",
      "chrX 74171445\n",
      "ENSMUSG00000084131\n",
      "0\n",
      "\n"
     ]
    }
   ],
   "source": [
    "st.reset()\n",
    "reads = st.fetch(until_eof=True)\n",
    "\n",
    "for r in reads:\n",
    "    if not r.is_unmapped and r.get_tag('XM')=='GCCTCGCACT' and r.query_name=='HISEQ:280:C9J9KANXX:1:1106:12170:95091':\n",
    "        print r.reference_name, r.reference_start\n",
    "        if r.has_tag('GE'):\n",
    "            print r.get_tag('GE')\n",
    "        print r.get_tag('NM')\n",
    "        print"
   ]
  },
  {
   "cell_type": "code",
   "execution_count": 6,
   "metadata": {
    "collapsed": false
   },
   "outputs": [],
   "source": [
    "'''\n",
    "st.reset()\n",
    "reads = st.fetch(until_eof=True)\n",
    "\n",
    "for r in reads:\n",
    "    if not r.is_unmapped and r.get_tag('XM')=='GCCTCGCACT' and r.query_name=='HISEQ:280:C9J9KANXX:1:1106:12170:95091':\n",
    "        print r.reference_name + ':' + str(r.reference_start)\n",
    "        print r\n",
    "        print\n",
    "''';"
   ]
  },
  {
   "cell_type": "code",
   "execution_count": 53,
   "metadata": {
    "collapsed": false
   },
   "outputs": [
    {
     "data": {
      "text/plain": [
       "''"
      ]
     },
     "execution_count": 53,
     "metadata": {},
     "output_type": "execute_result"
    }
   ],
   "source": [
    "yc_reads = pysam.AlignmentFile('/data/parastou/UMI/data/MUS/sample_ATATAG_GCCTCGCACT.bam', 'wb', template=st)\n",
    "\n",
    "red = '255,0,0'\n",
    "yellow = '255,255,0'\n",
    "purple = '255,0,255'\n",
    "black = '0,0,0'\n",
    "white = '255,255,255'\n",
    "\n",
    "st.reset()\n",
    "reads = st.fetch(until_eof=True)\n",
    "\n",
    "for r in reads:\n",
    "    if not r.is_unmapped and r.get_tag('XM')=='GCCTCGCACT':\n",
    "        if r.has_tag('RG'):\n",
    "            r.set_tag('RG', None)\n",
    "        nh = r.get_tag('NH')\n",
    "        if nh == 1:\n",
    "            r.tags += [('YC', red)]\n",
    "        else:\n",
    "            r.tags += [('YC', yellow)]\n",
    "        yc_reads.write(r)\n",
    "    \n",
    "yc_reads.close()\n",
    "pysam.index('/data/parastou/UMI/data/MUS/sample_ATATAG_GCCTCGCACT.bam')"
   ]
  },
  {
   "cell_type": "code",
   "execution_count": 9,
   "metadata": {
    "collapsed": true
   },
   "outputs": [],
   "source": [
    "st = pysam.AlignmentFile(\"/data/parastou/UMI/data/MUS/sample_ATATAG.bam\",\"rb\")\n",
    "reads = st.fetch(until_eof=True)\n",
    "\n",
    "table = {}\n",
    "\n",
    "for r in reads:\n",
    "    if not r.is_unmapped:\n",
    "        xm = r.get_tag('XM')\n",
    "        gene = None\n",
    "        if r.has_tag('GE'):\n",
    "            gene = r.get_tag('GE')\n",
    "        if xm in table:\n",
    "            table[xm].append(gene)\n",
    "        else:\n",
    "            table.update({xm:[gene]})"
   ]
  },
  {
   "cell_type": "code",
   "execution_count": null,
   "metadata": {
    "collapsed": true
   },
   "outputs": [],
   "source": []
  },
  {
   "cell_type": "code",
   "execution_count": 12,
   "metadata": {
    "collapsed": false
   },
   "outputs": [],
   "source": [
    "table2 = {}\n",
    "for key, item in table.items():\n",
    "    if not None in item and len(np.unique(item)) == 1:\n",
    "        table2.update({key:item})"
   ]
  },
  {
   "cell_type": "code",
   "execution_count": 14,
   "metadata": {
    "collapsed": true
   },
   "outputs": [],
   "source": [
    "table2 = {}\n",
    "for key, item in table.items():\n",
    "    if not None in item and len(np.unique(item)) == 2:\n",
    "        table2.update({key:item})"
   ]
  },
  {
   "cell_type": "code",
   "execution_count": 17,
   "metadata": {
    "collapsed": false
   },
   "outputs": [],
   "source": [
    "st = pysam.AlignmentFile(\"/data/parastou/UMI/data/MUS/sample_ATATAG.bam\",\"rb\")\n",
    "reads = st.fetch(until_eof=True)\n",
    "\n",
    "db = {}\n",
    "for r in reads:\n",
    "    if r.has_tag('NH') and r.get_tag('NH') == 1 and r.has_tag('GE'):\n",
    "        gene = r.get_tag('GE')\n",
    "        if gene in db:\n",
    "            db[gene].append(r.reference_start)\n",
    "        else:\n",
    "            db.update({gene:[r.reference_start]})"
   ]
  },
  {
   "cell_type": "code",
   "execution_count": 7,
   "metadata": {
    "collapsed": false
   },
   "outputs": [],
   "source": [
    "'''\n",
    "for key, value in db.items():\n",
    "    print key, min(value), max(value)\n",
    "''';"
   ]
  },
  {
   "cell_type": "code",
   "execution_count": 8,
   "metadata": {
    "collapsed": true
   },
   "outputs": [],
   "source": [
    "#'GCCTCGCACT'\n",
    "st = pysam.AlignmentFile(\"/data/parastou/UMI/data/MUS/sample_ATATAG.bam\",\"rb\")"
   ]
  },
  {
   "cell_type": "code",
   "execution_count": 8,
   "metadata": {
    "collapsed": false,
    "scrolled": true
   },
   "outputs": [],
   "source": [
    "'''\n",
    "st.reset()\n",
    "reads = st.fetch(until_eof=True)\n",
    "for r in reads:\n",
    "    if r.get_tag('XM') == 'GCCTCGCACT':\n",
    "        print r\n",
    "''';"
   ]
  },
  {
   "cell_type": "code",
   "execution_count": 14,
   "metadata": {
    "collapsed": false
   },
   "outputs": [
    {
     "data": {
      "text/plain": [
       "''"
      ]
     },
     "execution_count": 14,
     "metadata": {},
     "output_type": "execute_result"
    }
   ],
   "source": [
    "yc_reads = pysam.AlignmentFile('/data/parastou/UMI/data/MUS/sample_ATATAG_poster.bam', 'wb', template=st)\n",
    "xms = ['TTTGCGGGGC', 'ACAGTTCTCT', 'GCCACCTTCA', 'CGGGAGGACG', 'TAGGCGGGGA', 'TGCGTGCTGG', 'TCGTACTGAG']\n",
    "st.reset()\n",
    "reads = st.fetch(until_eof=True)\n",
    "\n",
    "red = '255,0,0'\n",
    "yellow = '255,255,0'\n",
    "purple = '255,0,255'\n",
    "black = '0,0,0'\n",
    "white = '255,255,255'\n",
    "\n",
    "st.reset()\n",
    "reads = st.fetch(until_eof=True)\n",
    "\n",
    "for r in reads:\n",
    "    if not r.is_unmapped:\n",
    "        if r.has_tag('RG'):\n",
    "            r.set_tag('RG', None)\n",
    "        if r.get_tag('XM')=='GCCTCGCACT':\n",
    "            nh = r.get_tag('NH')\n",
    "            if nh == 1:\n",
    "                r.tags += [('YC', red)]\n",
    "            else:\n",
    "                r.tags += [('YC', yellow)]\n",
    "            yc_reads.write(r)\n",
    "        elif r.get_tag('XM') in xms:\n",
    "            yc_reads.write(r)\n",
    "    \n",
    "yc_reads.close()\n",
    "pysam.index('/data/parastou/UMI/data/MUS/sample_ATATAG_poster.bam')"
   ]
  },
  {
   "cell_type": "code",
   "execution_count": 9,
   "metadata": {
    "collapsed": false
   },
   "outputs": [],
   "source": [
    "'TTTGCGGGGC'\n",
    "'ACAGTTCTCT'\n",
    "'GCCACCTTCA'\n",
    "'''\n",
    "st.reset()\n",
    "reads = st.fetch(until_eof=True)\n",
    "\n",
    "for r in reads:\n",
    "    if r.has_tag('GE') and r.get_tag('GE') == 'ENSMUSG00000060036':\n",
    "        print r.get_tag('XM')\n",
    "''';"
   ]
  },
  {
   "cell_type": "code",
   "execution_count": null,
   "metadata": {
    "collapsed": true
   },
   "outputs": [],
   "source": []
  }
 ],
 "metadata": {
  "kernelspec": {
   "display_name": "Python 2",
   "language": "python",
   "name": "python2"
  },
  "language_info": {
   "codemirror_mode": {
    "name": "ipython",
    "version": 2
   },
   "file_extension": ".py",
   "mimetype": "text/x-python",
   "name": "python",
   "nbconvert_exporter": "python",
   "pygments_lexer": "ipython2",
   "version": "2.7.12"
  }
 },
 "nbformat": 4,
 "nbformat_minor": 2
}
