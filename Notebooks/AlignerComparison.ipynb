{
 "cells": [
  {
   "cell_type": "code",
   "execution_count": null,
   "metadata": {
    "collapsed": true
   },
   "outputs": [],
   "source": [
    "%load_ext autoreload\n",
    "%autoreload 2"
   ]
  },
  {
   "cell_type": "code",
   "execution_count": null,
   "metadata": {
    "collapsed": true
   },
   "outputs": [],
   "source": [
    "%matplotlib inline\n",
    "import matplotlib.pyplot as plt"
   ]
  },
  {
   "cell_type": "code",
   "execution_count": 2,
   "metadata": {
    "collapsed": false
   },
   "outputs": [],
   "source": [
    "import pysam\n",
    "import numpy as np\n",
    "import cPickle as pickle\n",
    "from collections import Counter\n",
    "from operator import itemgetter\n",
    "import pandas as pd"
   ]
  },
  {
   "cell_type": "code",
   "execution_count": null,
   "metadata": {
    "collapsed": true
   },
   "outputs": [],
   "source": [
    "import logging\n",
    "logging.basicConfig(level=logging.INFO)"
   ]
  },
  {
   "cell_type": "code",
   "execution_count": 3,
   "metadata": {
    "collapsed": true
   },
   "outputs": [],
   "source": [
    "names = ['HISEQ:280:C9J9KANXX:1:2201:10903:83526', 'HISEQ:280:C9J9KANXX:1:2215:15146:97826', 'HISEQ:280:C9J9KANXX:1:2213:10613:32557']"
   ]
  },
  {
   "cell_type": "markdown",
   "metadata": {},
   "source": [
    "## STAR"
   ]
  },
  {
   "cell_type": "markdown",
   "metadata": {},
   "source": [
    "ORIGINAL ALIGHNMENT"
   ]
  },
  {
   "cell_type": "markdown",
   "metadata": {},
   "source": [
    "#### Original STAR command "
   ]
  },
  {
   "cell_type": "markdown",
   "metadata": {},
   "source": [
    "CL:/opt/bin/STAR   --runThreadN 15   --genomeDir /data/share/ngs/genomes/Mouse/mm10/STAR5idx_mm10ercc_50bp   --readFilesIn /data/share/htp/TETKO/Tet1/piplineStuff/tet1n.unaligned_tagged_filtered.fastq      --outFileNamePrefix /data/share/htp/TETKO/Tet1/piplineStuff/tet1n.   --outSAMtype BAM   Unsorted      --outFilterMultimapNmax 100   --outFilterMismatchNoverReadLmax 0.2   --winAnchorMultimapNmax 100   --sjdbGTFfile /data/share/ngs/genomes/Mouse/mm10/Mus_musculus.GRCm38.75.clean.spike.gtf   --sjdbOverhang 49   --quantMode TranscriptomeSAM      --twopassMode Basic"
   ]
  },
  {
   "cell_type": "markdown",
   "metadata": {},
   "source": [
    "### Original fastq file with duplicates "
   ]
  },
  {
   "cell_type": "markdown",
   "metadata": {},
   "source": [
    "Number of alignments : 5"
   ]
  },
  {
   "cell_type": "code",
   "execution_count": 10,
   "metadata": {
    "collapsed": false,
    "scrolled": true
   },
   "outputs": [
    {
     "name": "stdout",
     "output_type": "stream",
     "text": [
      "chr11 20091755\n",
      "HISEQ:280:C9J9KANXX:1:2215:15146:97826\t0\t1\t20091755\t3\t50M\t-1\t-1\t50\tGGTCTGAAGTTCAAATCACAGCAACCACATGGTGGCTCACAACCATCTGT\tarray('B', [27, 18, 18, 14, 22, 34, 34, 29, 37, 15, 15, 31, 38, 38, 37, 38, 29, 15, 28, 34, 37, 33, 37, 38, 21, 28, 32, 25, 37, 29, 15, 15, 15, 15, 14, 15, 14, 22, 36, 30, 38, 38, 14, 23, 32, 37, 2, 2, 2, 2])\t[('XC', 'ATATAG'), ('GE', 'B2_Mm1t_dup14786'), ('XF', 'CODING'), ('PG', 'STAR'), ('RG', 'A'), ('NH', 2), ('NM', 1), ('XM', 'GATGACATGA'), ('UQ', 15), ('AS', 47), ('GS', '+')]\n",
      "chr11 20180683\n",
      "HISEQ:280:C9J9KANXX:1:2215:15146:97826\t256\t1\t20180683\t3\t50M\t-1\t-1\t50\tGGTCTGAAGTTCAAATCACAGCAACCACATGGTGGCTCACAACCATCTGT\tarray('B', [27, 18, 18, 14, 22, 34, 34, 29, 37, 15, 15, 31, 38, 38, 37, 38, 29, 15, 28, 34, 37, 33, 37, 38, 21, 28, 32, 25, 37, 29, 15, 15, 15, 15, 14, 15, 14, 22, 36, 30, 38, 38, 14, 23, 32, 37, 2, 2, 2, 2])\t[('XC', 'ATATAG'), ('GE', 'B2_Mm1a_dup11405'), ('XF', 'CODING'), ('PG', 'STAR'), ('RG', 'A'), ('NH', 2), ('NM', 1), ('XM', 'GATGACATGA'), ('UQ', 15), ('AS', 47), ('GS', '+')]\n",
      "chr11 103955596\n",
      "HISEQ:280:C9J9KANXX:1:2201:10903:83526\t0\t1\t103955596\t3\t50M\t-1\t-1\t50\tGGTCTGAAGTTCAAATACAAGCAACCACATGGTGGCTCACAACCATCTGT\tarray('B', [2, 2, 2, 2, 2, 2, 2, 2, 37, 27, 25, 29, 16, 15, 16, 14, 16, 16, 16, 16, 16, 36, 15, 28, 16, 16, 37, 31, 15, 16, 31, 16, 16, 26, 16, 38, 37, 31, 16, 16, 16, 16, 37, 31, 16, 15, 15, 27, 29, 25])\t[('XC', 'ATATAG'), ('GE', 'B2_Mm1a_dup12491'), ('XF', 'CODING'), ('PG', 'STAR'), ('RG', 'A'), ('NH', 2), ('NM', 2), ('XM', 'GATGACATGA'), ('UQ', 43), ('AS', 45), ('GS', '+')]\n",
      "chr13 14056562\n",
      "HISEQ:280:C9J9KANXX:1:2213:10613:32557\t0\t3\t14056562\t255\t50M\t-1\t-1\t50\tGTGTACTTACATATAAATAAATTTTAAAAAAAAAAAAAAAAAAAAAAAAA\tarray('B', [18, 18, 18, 15, 27, 16, 16, 16, 28, 16, 31, 16, 34, 31, 38, 38, 38, 16, 37, 38, 38, 34, 16, 16, 16, 31, 37, 38, 38, 38, 38, 38, 38, 38, 38, 38, 38, 38, 38, 38, 38, 38, 38, 38, 38, 38, 38, 38, 38, 38])\t[('XC', 'ATATAG'), ('GE', 'B2_Mm1a_dup13724'), ('XF', 'CODING'), ('PG', 'STAR'), ('RG', 'A'), ('NH', 1), ('NM', 4), ('XM', 'GATGACATGA'), ('UQ', 108), ('AS', 41), ('GS', '+')]\n",
      "chr5 118016588\n",
      "HISEQ:280:C9J9KANXX:1:2201:10903:83526\t272\t25\t118016588\t3\t3S47M\t-1\t-1\t47\tACAGATGGTTGTGAGCCACCATGTGGTTGCTTGTATTTGAACTTCAGACC\tarray('B', [2, 2, 2, 2, 2, 2, 2, 2, 37, 27, 25, 29, 16, 15, 16, 14, 16, 16, 16, 16, 16, 36, 15, 28, 16, 16, 37, 31, 15, 16, 31, 16, 16, 26, 16, 38, 37, 31, 16, 16, 16, 16, 37, 31, 16, 15, 15, 27, 29, 25])\t[('XC', 'ATATAG'), ('GE', 'B2_Mm1a_dup5276'), ('XF', 'CODING'), ('PG', 'STAR'), ('RG', 'A'), ('NH', 2), ('NM', 1), ('XM', 'GATGACATGA'), ('UQ', 16), ('AS', 44), ('GS', '-')]\n"
     ]
    }
   ],
   "source": [
    "sample = 'ATATAG'\n",
    "in_file = '/data/UMI/data/MUS/sample_' + sample + '.bam'\n",
    "st = pysam.AlignmentFile(in_file,\"rb\")\n",
    "\n",
    "st.reset()\n",
    "reads = st.fetch(until_eof=True)\n",
    "for r in reads:\n",
    "    if not r.is_unmapped and r.query_name in names : #get_tag('XM') == 'GATGACATGA':\n",
    "        print r.reference_name, r.reference_start\n",
    "        print r"
   ]
  },
  {
   "cell_type": "code",
   "execution_count": 19,
   "metadata": {
    "collapsed": true
   },
   "outputs": [],
   "source": [
    "pysam.sort('-o', '/home/parastou/STARd/tet4_sample.bam', '/home/parastou/STARd/tet4_sample.Aligned.out.bam')\n",
    "pysam.index('/home/parastou/STARd/tet4_sample.bam');"
   ]
  },
  {
   "cell_type": "markdown",
   "metadata": {},
   "source": [
    "### Original fastq file without duplicates "
   ]
  },
  {
   "cell_type": "markdown",
   "metadata": {},
   "source": [
    "Number of alignments: 15"
   ]
  },
  {
   "cell_type": "code",
   "execution_count": 11,
   "metadata": {
    "collapsed": false,
    "scrolled": true
   },
   "outputs": [
    {
     "name": "stdout",
     "output_type": "stream",
     "text": [
      "chr10 115925518\n",
      "HISEQ:280:C9J9KANXX:1:2215:15146:97826\t256\t0\t115925518\t0\t50M\t-1\t-1\t50\tGGTCTGAAGTTCAAATCACAGCAACCACATGGTGGCTCACAACCATCTGT\tarray('B', [27, 18, 18, 14, 22, 34, 34, 29, 37, 15, 15, 31, 38, 38, 37, 38, 29, 15, 28, 34, 37, 33, 37, 38, 21, 28, 32, 25, 37, 29, 15, 15, 15, 15, 14, 15, 14, 22, 36, 30, 38, 38, 14, 23, 32, 37, 2, 2, 2, 2])\t[('NH', 6), ('HI', 5), ('AS', 47), ('nM', 1)]\n",
      "\n",
      "chr11 101647403\n",
      "HISEQ:280:C9J9KANXX:1:2201:10903:83526\t256\t1\t101647403\t0\t50M\t-1\t-1\t50\tGGTCTGAAGTTCAAATACAAGCAACCACATGGTGGCTCACAACCATCTGT\tarray('B', [2, 2, 2, 2, 2, 2, 2, 2, 37, 27, 25, 29, 16, 15, 16, 14, 16, 16, 16, 16, 16, 36, 15, 28, 16, 16, 37, 31, 15, 16, 31, 16, 16, 26, 16, 38, 37, 31, 16, 16, 16, 16, 37, 31, 16, 15, 15, 27, 29, 25])\t[('NH', 8), ('HI', 7), ('AS', 45), ('nM', 2)]\n",
      "\n",
      "chr11 103955596\n",
      "HISEQ:280:C9J9KANXX:1:2201:10903:83526\t0\t1\t103955596\t0\t50M\t-1\t-1\t50\tGGTCTGAAGTTCAAATACAAGCAACCACATGGTGGCTCACAACCATCTGT\tarray('B', [2, 2, 2, 2, 2, 2, 2, 2, 37, 27, 25, 29, 16, 15, 16, 14, 16, 16, 16, 16, 16, 36, 15, 28, 16, 16, 37, 31, 15, 16, 31, 16, 16, 26, 16, 38, 37, 31, 16, 16, 16, 16, 37, 31, 16, 15, 15, 27, 29, 25])\t[('NH', 8), ('HI', 1), ('AS', 45), ('nM', 2)]\n",
      "\n",
      "chr11 107023715\n",
      "HISEQ:280:C9J9KANXX:1:2215:15146:97826\t272\t1\t107023715\t0\t50M\t-1\t-1\t50\tACAGATGGTTGTGAGCCACCATGTGGTTGCTGTGATTTGAACTTCAGACC\tarray('B', [2, 2, 2, 2, 37, 32, 23, 14, 38, 38, 30, 36, 22, 14, 15, 14, 15, 15, 15, 15, 29, 37, 25, 32, 28, 21, 38, 37, 33, 37, 34, 28, 15, 29, 38, 37, 38, 38, 31, 15, 15, 37, 29, 34, 34, 22, 14, 18, 18, 27])\t[('NH', 6), ('HI', 6), ('AS', 47), ('nM', 1)]\n",
      "\n",
      "chr11 115540618\n",
      "HISEQ:280:C9J9KANXX:1:2201:10903:83526\t272\t1\t115540618\t0\t50M\t-1\t-1\t50\tACAGATGGTTGTGAGCCACCATGTGGTTGCTTGTATTTGAACTTCAGACC\tarray('B', [25, 29, 27, 15, 15, 16, 31, 37, 16, 16, 16, 16, 31, 37, 38, 16, 26, 16, 16, 31, 16, 15, 31, 37, 16, 16, 28, 15, 36, 16, 16, 16, 16, 16, 14, 16, 15, 16, 29, 25, 27, 37, 2, 2, 2, 2, 2, 2, 2, 2])\t[('NH', 8), ('HI', 4), ('AS', 45), ('nM', 2)]\n",
      "\n",
      "chr13 14056562\n",
      "HISEQ:280:C9J9KANXX:1:2213:10613:32557\t0\t3\t14056562\t255\t50M\t-1\t-1\t50\tGTGTACTTACATATAAATAAATTTTAAAAAAAAAAAAAAAAAAAAAAAAA\tarray('B', [18, 18, 18, 15, 27, 16, 16, 16, 28, 16, 31, 16, 34, 31, 38, 38, 38, 16, 37, 38, 38, 34, 16, 16, 16, 31, 37, 38, 38, 38, 38, 38, 38, 38, 38, 38, 38, 38, 38, 38, 38, 38, 38, 38, 38, 38, 38, 38, 38, 38])\t[('NH', 1), ('HI', 1), ('AS', 41), ('nM', 4)]\n",
      "\n",
      "chr14 52079187\n",
      "HISEQ:280:C9J9KANXX:1:2215:15146:97826\t256\t4\t52079187\t0\t50M\t-1\t-1\t50\tGGTCTGAAGTTCAAATCACAGCAACCACATGGTGGCTCACAACCATCTGT\tarray('B', [27, 18, 18, 14, 22, 34, 34, 29, 37, 15, 15, 31, 38, 38, 37, 38, 29, 15, 28, 34, 37, 33, 37, 38, 21, 28, 32, 25, 37, 29, 15, 15, 15, 15, 14, 15, 14, 22, 36, 30, 38, 38, 14, 23, 32, 37, 2, 2, 2, 2])\t[('NH', 6), ('HI', 2), ('AS', 47), ('nM', 1)]\n",
      "\n",
      "chr14 52303794\n",
      "HISEQ:280:C9J9KANXX:1:2215:15146:97826\t256\t4\t52303794\t0\t50M\t-1\t-1\t50\tGGTCTGAAGTTCAAATCACAGCAACCACATGGTGGCTCACAACCATCTGT\tarray('B', [27, 18, 18, 14, 22, 34, 34, 29, 37, 15, 15, 31, 38, 38, 37, 38, 29, 15, 28, 34, 37, 33, 37, 38, 21, 28, 32, 25, 37, 29, 15, 15, 15, 15, 14, 15, 14, 22, 36, 30, 38, 38, 14, 23, 32, 37, 2, 2, 2, 2])\t[('NH', 6), ('HI', 3), ('AS', 47), ('nM', 1)]\n",
      "\n",
      "chr15 79087793\n",
      "HISEQ:280:C9J9KANXX:1:2201:10903:83526\t272\t5\t79087793\t0\t50M\t-1\t-1\t50\tACAGATGGTTGTGAGCCACCATGTGGTTGCTTGTATTTGAACTTCAGACC\tarray('B', [25, 29, 27, 15, 15, 16, 31, 37, 16, 16, 16, 16, 31, 37, 38, 16, 26, 16, 16, 31, 16, 15, 31, 37, 16, 16, 28, 15, 36, 16, 16, 16, 16, 16, 14, 16, 15, 16, 29, 25, 27, 37, 2, 2, 2, 2, 2, 2, 2, 2])\t[('NH', 8), ('HI', 5), ('AS', 45), ('nM', 2)]\n",
      "\n",
      "chr18 34471083\n",
      "HISEQ:280:C9J9KANXX:1:2215:15146:97826\t16\t8\t34471083\t0\t50M\t-1\t-1\t50\tACAGATGGTTGTGAGCCACCATGTGGTTGCTGTGATTTGAACTTCAGACC\tarray('B', [2, 2, 2, 2, 37, 32, 23, 14, 38, 38, 30, 36, 22, 14, 15, 14, 15, 15, 15, 15, 29, 37, 25, 32, 28, 21, 38, 37, 33, 37, 34, 28, 15, 29, 38, 37, 38, 38, 31, 15, 15, 37, 29, 34, 34, 22, 14, 18, 18, 27])\t[('NH', 6), ('HI', 1), ('AS', 47), ('nM', 1)]\n",
      "\n",
      "chr19 60753472\n",
      "HISEQ:280:C9J9KANXX:1:2201:10903:83526\t272\t9\t60753472\t0\t50M\t-1\t-1\t50\tACAGATGGTTGTGAGCCACCATGTGGTTGCTTGTATTTGAACTTCAGACC\tarray('B', [25, 29, 27, 15, 15, 16, 31, 37, 16, 16, 16, 16, 31, 37, 38, 16, 26, 16, 16, 31, 16, 15, 31, 37, 16, 16, 28, 15, 36, 16, 16, 16, 16, 16, 14, 16, 15, 16, 29, 25, 27, 37, 2, 2, 2, 2, 2, 2, 2, 2])\t[('NH', 8), ('HI', 6), ('AS', 45), ('nM', 2)]\n",
      "\n",
      "chr2 37670533\n",
      "HISEQ:280:C9J9KANXX:1:2201:10903:83526\t272\t16\t37670533\t0\t50M\t-1\t-1\t50\tACAGATGGTTGTGAGCCACCATGTGGTTGCTTGTATTTGAACTTCAGACC\tarray('B', [25, 29, 27, 15, 15, 16, 31, 37, 16, 16, 16, 16, 31, 37, 38, 16, 26, 16, 16, 31, 16, 15, 31, 37, 16, 16, 28, 15, 36, 16, 16, 16, 16, 16, 14, 16, 15, 16, 29, 25, 27, 37, 2, 2, 2, 2, 2, 2, 2, 2])\t[('NH', 8), ('HI', 8), ('AS', 45), ('nM', 2)]\n",
      "\n",
      "chr5 118016588\n",
      "HISEQ:280:C9J9KANXX:1:2201:10903:83526\t272\t25\t118016588\t0\t3S47M\t-1\t-1\t47\tACAGATGGTTGTGAGCCACCATGTGGTTGCTTGTATTTGAACTTCAGACC\tarray('B', [25, 29, 27, 15, 15, 16, 31, 37, 16, 16, 16, 16, 31, 37, 38, 16, 26, 16, 16, 31, 16, 15, 31, 37, 16, 16, 28, 15, 36, 16, 16, 16, 16, 16, 14, 16, 15, 16, 29, 25, 27, 37, 2, 2, 2, 2, 2, 2, 2, 2])\t[('NH', 8), ('HI', 2), ('AS', 44), ('nM', 1)]\n",
      "\n",
      "chr7 127670469\n",
      "HISEQ:280:C9J9KANXX:1:2201:10903:83526\t272\t32\t127670469\t0\t50M\t-1\t-1\t50\tACAGATGGTTGTGAGCCACCATGTGGTTGCTTGTATTTGAACTTCAGACC\tarray('B', [25, 29, 27, 15, 15, 16, 31, 37, 16, 16, 16, 16, 31, 37, 38, 16, 26, 16, 16, 31, 16, 15, 31, 37, 16, 16, 28, 15, 36, 16, 16, 16, 16, 16, 14, 16, 15, 16, 29, 25, 27, 37, 2, 2, 2, 2, 2, 2, 2, 2])\t[('NH', 8), ('HI', 3), ('AS', 45), ('nM', 2)]\n",
      "\n",
      "chr9 119318118\n",
      "HISEQ:280:C9J9KANXX:1:2215:15146:97826\t272\t35\t119318118\t0\t50M\t-1\t-1\t50\tACAGATGGTTGTGAGCCACCATGTGGTTGCTGTGATTTGAACTTCAGACC\tarray('B', [2, 2, 2, 2, 37, 32, 23, 14, 38, 38, 30, 36, 22, 14, 15, 14, 15, 15, 15, 15, 29, 37, 25, 32, 28, 21, 38, 37, 33, 37, 34, 28, 15, 29, 38, 37, 38, 38, 31, 15, 15, 37, 29, 34, 34, 22, 14, 18, 18, 27])\t[('NH', 6), ('HI', 4), ('AS', 47), ('nM', 1)]\n",
      "\n",
      "15\n"
     ]
    }
   ],
   "source": [
    "st = pysam.AlignmentFile('/home/parastou/STARd/tet4/tet4_sample.bam',\"rb\")\n",
    "\n",
    "st.reset()\n",
    "reads = st.fetch(until_eof=True)\n",
    "cnt = 0\n",
    "for r in reads:\n",
    "    if not r.is_unmapped and r.query_name in names:\n",
    "        print r.reference_name, r.reference_start\n",
    "        print r\n",
    "        print\n",
    "        cnt += 1\n",
    "print cnt        "
   ]
  },
  {
   "cell_type": "code",
   "execution_count": 22,
   "metadata": {
    "collapsed": true
   },
   "outputs": [],
   "source": [
    "pysam.sort('-o', '/home/parastou/STARd/tet5_sample.bam', '/home/parastou/STARd/tet5_sample.Aligned.out.bam')\n",
    "pysam.index('/home/parastou/STARd/tet5_sample.bam');"
   ]
  },
  {
   "cell_type": "markdown",
   "metadata": {},
   "source": [
    "### 3 Read fastq file "
   ]
  },
  {
   "cell_type": "markdown",
   "metadata": {},
   "source": [
    "Number of alignments: 13"
   ]
  },
  {
   "cell_type": "code",
   "execution_count": 6,
   "metadata": {
    "collapsed": false,
    "scrolled": true
   },
   "outputs": [
    {
     "name": "stdout",
     "output_type": "stream",
     "text": [
      "chr10 115925518\n",
      "HISEQ:280:C9J9KANXX:1:2215:15146:97826\t256\t0\t115925518\t1\t50M\t-1\t-1\t50\tGGTCTGAAGTTCAAATCACAGCAACCACATGGTGGCTCACAACCATCTGT\tarray('B', [27, 18, 18, 14, 22, 34, 34, 29, 37, 15, 15, 31, 38, 38, 37, 38, 29, 15, 28, 34, 37, 33, 37, 38, 21, 28, 32, 25, 37, 29, 15, 15, 15, 15, 14, 15, 14, 22, 36, 30, 38, 38, 14, 23, 32, 37, 2, 2, 2, 2])\t[('NH', 4), ('HI', 3), ('AS', 47), ('nM', 1)]\n",
      "\n",
      "chr11 101647403\n",
      "HISEQ:280:C9J9KANXX:1:2201:10903:83526\t256\t1\t101647403\t0\t50M\t-1\t-1\t50\tGGTCTGAAGTTCAAATACAAGCAACCACATGGTGGCTCACAACCATCTGT\tarray('B', [2, 2, 2, 2, 2, 2, 2, 2, 37, 27, 25, 29, 16, 15, 16, 14, 16, 16, 16, 16, 16, 36, 15, 28, 16, 16, 37, 31, 15, 16, 31, 16, 16, 26, 16, 38, 37, 31, 16, 16, 16, 16, 37, 31, 16, 15, 15, 27, 29, 25])\t[('NH', 8), ('HI', 7), ('AS', 45), ('nM', 2)]\n",
      "\n",
      "chr11 103955596\n",
      "HISEQ:280:C9J9KANXX:1:2201:10903:83526\t0\t1\t103955596\t0\t50M\t-1\t-1\t50\tGGTCTGAAGTTCAAATACAAGCAACCACATGGTGGCTCACAACCATCTGT\tarray('B', [2, 2, 2, 2, 2, 2, 2, 2, 37, 27, 25, 29, 16, 15, 16, 14, 16, 16, 16, 16, 16, 36, 15, 28, 16, 16, 37, 31, 15, 16, 31, 16, 16, 26, 16, 38, 37, 31, 16, 16, 16, 16, 37, 31, 16, 15, 15, 27, 29, 25])\t[('NH', 8), ('HI', 1), ('AS', 45), ('nM', 2)]\n",
      "\n",
      "chr11 107023715\n",
      "HISEQ:280:C9J9KANXX:1:2215:15146:97826\t272\t1\t107023715\t1\t50M\t-1\t-1\t50\tACAGATGGTTGTGAGCCACCATGTGGTTGCTGTGATTTGAACTTCAGACC\tarray('B', [2, 2, 2, 2, 37, 32, 23, 14, 38, 38, 30, 36, 22, 14, 15, 14, 15, 15, 15, 15, 29, 37, 25, 32, 28, 21, 38, 37, 33, 37, 34, 28, 15, 29, 38, 37, 38, 38, 31, 15, 15, 37, 29, 34, 34, 22, 14, 18, 18, 27])\t[('NH', 4), ('HI', 4), ('AS', 47), ('nM', 1)]\n",
      "\n",
      "chr11 115540618\n",
      "HISEQ:280:C9J9KANXX:1:2201:10903:83526\t272\t1\t115540618\t0\t50M\t-1\t-1\t50\tACAGATGGTTGTGAGCCACCATGTGGTTGCTTGTATTTGAACTTCAGACC\tarray('B', [25, 29, 27, 15, 15, 16, 31, 37, 16, 16, 16, 16, 31, 37, 38, 16, 26, 16, 16, 31, 16, 15, 31, 37, 16, 16, 28, 15, 36, 16, 16, 16, 16, 16, 14, 16, 15, 16, 29, 25, 27, 37, 2, 2, 2, 2, 2, 2, 2, 2])\t[('NH', 8), ('HI', 4), ('AS', 45), ('nM', 2)]\n",
      "\n",
      "chr13 14056562\n",
      "HISEQ:280:C9J9KANXX:1:2213:10613:32557\t0\t3\t14056562\t255\t50M\t-1\t-1\t50\tGTGTACTTACATATAAATAAATTTTAAAAAAAAAAAAAAAAAAAAAAAAA\tarray('B', [18, 18, 18, 15, 27, 16, 16, 16, 28, 16, 31, 16, 34, 31, 38, 38, 38, 16, 37, 38, 38, 34, 16, 16, 16, 31, 37, 38, 38, 38, 38, 38, 38, 38, 38, 38, 38, 38, 38, 38, 38, 38, 38, 38, 38, 38, 38, 38, 38, 38])\t[('NH', 1), ('HI', 1), ('AS', 41), ('nM', 4)]\n",
      "\n",
      "chr15 79087793\n",
      "HISEQ:280:C9J9KANXX:1:2201:10903:83526\t272\t5\t79087793\t0\t50M\t-1\t-1\t50\tACAGATGGTTGTGAGCCACCATGTGGTTGCTTGTATTTGAACTTCAGACC\tarray('B', [25, 29, 27, 15, 15, 16, 31, 37, 16, 16, 16, 16, 31, 37, 38, 16, 26, 16, 16, 31, 16, 15, 31, 37, 16, 16, 28, 15, 36, 16, 16, 16, 16, 16, 14, 16, 15, 16, 29, 25, 27, 37, 2, 2, 2, 2, 2, 2, 2, 2])\t[('NH', 8), ('HI', 5), ('AS', 45), ('nM', 2)]\n",
      "\n",
      "chr18 34471083\n",
      "HISEQ:280:C9J9KANXX:1:2215:15146:97826\t16\t8\t34471083\t1\t50M\t-1\t-1\t50\tACAGATGGTTGTGAGCCACCATGTGGTTGCTGTGATTTGAACTTCAGACC\tarray('B', [2, 2, 2, 2, 37, 32, 23, 14, 38, 38, 30, 36, 22, 14, 15, 14, 15, 15, 15, 15, 29, 37, 25, 32, 28, 21, 38, 37, 33, 37, 34, 28, 15, 29, 38, 37, 38, 38, 31, 15, 15, 37, 29, 34, 34, 22, 14, 18, 18, 27])\t[('NH', 4), ('HI', 1), ('AS', 47), ('nM', 1)]\n",
      "\n",
      "chr19 60753472\n",
      "HISEQ:280:C9J9KANXX:1:2201:10903:83526\t272\t9\t60753472\t0\t50M\t-1\t-1\t50\tACAGATGGTTGTGAGCCACCATGTGGTTGCTTGTATTTGAACTTCAGACC\tarray('B', [25, 29, 27, 15, 15, 16, 31, 37, 16, 16, 16, 16, 31, 37, 38, 16, 26, 16, 16, 31, 16, 15, 31, 37, 16, 16, 28, 15, 36, 16, 16, 16, 16, 16, 14, 16, 15, 16, 29, 25, 27, 37, 2, 2, 2, 2, 2, 2, 2, 2])\t[('NH', 8), ('HI', 6), ('AS', 45), ('nM', 2)]\n",
      "\n",
      "chr2 37670533\n",
      "HISEQ:280:C9J9KANXX:1:2201:10903:83526\t272\t16\t37670533\t0\t50M\t-1\t-1\t50\tACAGATGGTTGTGAGCCACCATGTGGTTGCTTGTATTTGAACTTCAGACC\tarray('B', [25, 29, 27, 15, 15, 16, 31, 37, 16, 16, 16, 16, 31, 37, 38, 16, 26, 16, 16, 31, 16, 15, 31, 37, 16, 16, 28, 15, 36, 16, 16, 16, 16, 16, 14, 16, 15, 16, 29, 25, 27, 37, 2, 2, 2, 2, 2, 2, 2, 2])\t[('NH', 8), ('HI', 8), ('AS', 45), ('nM', 2)]\n",
      "\n",
      "chr5 118016588\n",
      "HISEQ:280:C9J9KANXX:1:2201:10903:83526\t272\t25\t118016588\t0\t3S47M\t-1\t-1\t47\tACAGATGGTTGTGAGCCACCATGTGGTTGCTTGTATTTGAACTTCAGACC\tarray('B', [25, 29, 27, 15, 15, 16, 31, 37, 16, 16, 16, 16, 31, 37, 38, 16, 26, 16, 16, 31, 16, 15, 31, 37, 16, 16, 28, 15, 36, 16, 16, 16, 16, 16, 14, 16, 15, 16, 29, 25, 27, 37, 2, 2, 2, 2, 2, 2, 2, 2])\t[('NH', 8), ('HI', 2), ('AS', 44), ('nM', 1)]\n",
      "\n",
      "chr7 127670469\n",
      "HISEQ:280:C9J9KANXX:1:2201:10903:83526\t272\t32\t127670469\t0\t50M\t-1\t-1\t50\tACAGATGGTTGTGAGCCACCATGTGGTTGCTTGTATTTGAACTTCAGACC\tarray('B', [25, 29, 27, 15, 15, 16, 31, 37, 16, 16, 16, 16, 31, 37, 38, 16, 26, 16, 16, 31, 16, 15, 31, 37, 16, 16, 28, 15, 36, 16, 16, 16, 16, 16, 14, 16, 15, 16, 29, 25, 27, 37, 2, 2, 2, 2, 2, 2, 2, 2])\t[('NH', 8), ('HI', 3), ('AS', 45), ('nM', 2)]\n",
      "\n",
      "chr9 119318118\n",
      "HISEQ:280:C9J9KANXX:1:2215:15146:97826\t272\t35\t119318118\t1\t50M\t-1\t-1\t50\tACAGATGGTTGTGAGCCACCATGTGGTTGCTGTGATTTGAACTTCAGACC\tarray('B', [2, 2, 2, 2, 37, 32, 23, 14, 38, 38, 30, 36, 22, 14, 15, 14, 15, 15, 15, 15, 29, 37, 25, 32, 28, 21, 38, 37, 33, 37, 34, 28, 15, 29, 38, 37, 38, 38, 31, 15, 15, 37, 29, 34, 34, 22, 14, 18, 18, 27])\t[('NH', 4), ('HI', 2), ('AS', 47), ('nM', 1)]\n",
      "\n",
      "13\n"
     ]
    }
   ],
   "source": [
    "st = pysam.AlignmentFile('/home/parastou/STARd/tet5/tet5_sample.bam',\"rb\")\n",
    "\n",
    "st.reset()\n",
    "reads = st.fetch(until_eof=True)\n",
    "cnt = 0\n",
    "for r in reads:\n",
    "    print r.reference_name, r.reference_start\n",
    "    print r\n",
    "    print\n",
    "    cnt += 1\n",
    "print cnt"
   ]
  },
  {
   "cell_type": "markdown",
   "metadata": {},
   "source": [
    "----------------------------------------------------------------"
   ]
  },
  {
   "cell_type": "markdown",
   "metadata": {},
   "source": [
    "### 3 Read fastq file without splicing parameters "
   ]
  },
  {
   "cell_type": "markdown",
   "metadata": {},
   "source": [
    "CL:/opt/bin/STAR   --runThreadN 15   --genomeDir /data/share/ngs/genomes/Mouse/mm10/STAR5idx_mm10ercc_50bp   --readFilesIn /data/share/htp/TETKO/Tet1/piplineStuff/tet1n.unaligned_tagged_filtered.fastq      --outFileNamePrefix /data/share/htp/TETKO/Tet1/piplineStuff/tet1n.   --outSAMtype BAM   Unsorted      --outFilterMultimapNmax 100   --outFilterMismatchNoverReadLmax 0.2   --winAnchorMultimapNmax 100"
   ]
  },
  {
   "cell_type": "markdown",
   "metadata": {},
   "source": [
    "Number of alignments: 13"
   ]
  },
  {
   "cell_type": "code",
   "execution_count": 27,
   "metadata": {
    "collapsed": true
   },
   "outputs": [],
   "source": [
    "pysam.sort('-o', '/home/parastou/STARd/tet6_sample.bam', '/home/parastou/STARd/tet6_sample.Aligned.out.bam')\n",
    "pysam.index('/home/parastou/STARd/tet6_sample.bam');"
   ]
  },
  {
   "cell_type": "code",
   "execution_count": 6,
   "metadata": {
    "collapsed": false,
    "scrolled": true
   },
   "outputs": [
    {
     "name": "stdout",
     "output_type": "stream",
     "text": [
      "chr10 115925518\n",
      "HISEQ:280:C9J9KANXX:1:2215:15146:97826\t256\t0\t115925518\t1\t50M\t-1\t-1\t50\tGGTCTGAAGTTCAAATCACAGCAACCACATGGTGGCTCACAACCATCTGT\tarray('B', [27, 18, 18, 14, 22, 34, 34, 29, 37, 15, 15, 31, 38, 38, 37, 38, 29, 15, 28, 34, 37, 33, 37, 38, 21, 28, 32, 25, 37, 29, 15, 15, 15, 15, 14, 15, 14, 22, 36, 30, 38, 38, 14, 23, 32, 37, 2, 2, 2, 2])\t[('NH', 4), ('HI', 3), ('AS', 47), ('nM', 1)]\n",
      "\n",
      "chr11 101647403\n",
      "HISEQ:280:C9J9KANXX:1:2201:10903:83526\t256\t1\t101647403\t0\t50M\t-1\t-1\t50\tGGTCTGAAGTTCAAATACAAGCAACCACATGGTGGCTCACAACCATCTGT\tarray('B', [2, 2, 2, 2, 2, 2, 2, 2, 37, 27, 25, 29, 16, 15, 16, 14, 16, 16, 16, 16, 16, 36, 15, 28, 16, 16, 37, 31, 15, 16, 31, 16, 16, 26, 16, 38, 37, 31, 16, 16, 16, 16, 37, 31, 16, 15, 15, 27, 29, 25])\t[('NH', 8), ('HI', 7), ('AS', 45), ('nM', 2)]\n",
      "\n",
      "chr11 103955596\n",
      "HISEQ:280:C9J9KANXX:1:2201:10903:83526\t0\t1\t103955596\t0\t50M\t-1\t-1\t50\tGGTCTGAAGTTCAAATACAAGCAACCACATGGTGGCTCACAACCATCTGT\tarray('B', [2, 2, 2, 2, 2, 2, 2, 2, 37, 27, 25, 29, 16, 15, 16, 14, 16, 16, 16, 16, 16, 36, 15, 28, 16, 16, 37, 31, 15, 16, 31, 16, 16, 26, 16, 38, 37, 31, 16, 16, 16, 16, 37, 31, 16, 15, 15, 27, 29, 25])\t[('NH', 8), ('HI', 1), ('AS', 45), ('nM', 2)]\n",
      "\n",
      "chr11 107023715\n",
      "HISEQ:280:C9J9KANXX:1:2215:15146:97826\t272\t1\t107023715\t1\t50M\t-1\t-1\t50\tACAGATGGTTGTGAGCCACCATGTGGTTGCTGTGATTTGAACTTCAGACC\tarray('B', [2, 2, 2, 2, 37, 32, 23, 14, 38, 38, 30, 36, 22, 14, 15, 14, 15, 15, 15, 15, 29, 37, 25, 32, 28, 21, 38, 37, 33, 37, 34, 28, 15, 29, 38, 37, 38, 38, 31, 15, 15, 37, 29, 34, 34, 22, 14, 18, 18, 27])\t[('NH', 4), ('HI', 4), ('AS', 47), ('nM', 1)]\n",
      "\n",
      "chr11 115540618\n",
      "HISEQ:280:C9J9KANXX:1:2201:10903:83526\t272\t1\t115540618\t0\t50M\t-1\t-1\t50\tACAGATGGTTGTGAGCCACCATGTGGTTGCTTGTATTTGAACTTCAGACC\tarray('B', [25, 29, 27, 15, 15, 16, 31, 37, 16, 16, 16, 16, 31, 37, 38, 16, 26, 16, 16, 31, 16, 15, 31, 37, 16, 16, 28, 15, 36, 16, 16, 16, 16, 16, 14, 16, 15, 16, 29, 25, 27, 37, 2, 2, 2, 2, 2, 2, 2, 2])\t[('NH', 8), ('HI', 4), ('AS', 45), ('nM', 2)]\n",
      "\n",
      "chr13 14056562\n",
      "HISEQ:280:C9J9KANXX:1:2213:10613:32557\t0\t3\t14056562\t255\t50M\t-1\t-1\t50\tGTGTACTTACATATAAATAAATTTTAAAAAAAAAAAAAAAAAAAAAAAAA\tarray('B', [18, 18, 18, 15, 27, 16, 16, 16, 28, 16, 31, 16, 34, 31, 38, 38, 38, 16, 37, 38, 38, 34, 16, 16, 16, 31, 37, 38, 38, 38, 38, 38, 38, 38, 38, 38, 38, 38, 38, 38, 38, 38, 38, 38, 38, 38, 38, 38, 38, 38])\t[('NH', 1), ('HI', 1), ('AS', 41), ('nM', 4)]\n",
      "\n",
      "chr15 79087793\n",
      "HISEQ:280:C9J9KANXX:1:2201:10903:83526\t272\t5\t79087793\t0\t50M\t-1\t-1\t50\tACAGATGGTTGTGAGCCACCATGTGGTTGCTTGTATTTGAACTTCAGACC\tarray('B', [25, 29, 27, 15, 15, 16, 31, 37, 16, 16, 16, 16, 31, 37, 38, 16, 26, 16, 16, 31, 16, 15, 31, 37, 16, 16, 28, 15, 36, 16, 16, 16, 16, 16, 14, 16, 15, 16, 29, 25, 27, 37, 2, 2, 2, 2, 2, 2, 2, 2])\t[('NH', 8), ('HI', 5), ('AS', 45), ('nM', 2)]\n",
      "\n",
      "chr18 34471083\n",
      "HISEQ:280:C9J9KANXX:1:2215:15146:97826\t16\t8\t34471083\t1\t50M\t-1\t-1\t50\tACAGATGGTTGTGAGCCACCATGTGGTTGCTGTGATTTGAACTTCAGACC\tarray('B', [2, 2, 2, 2, 37, 32, 23, 14, 38, 38, 30, 36, 22, 14, 15, 14, 15, 15, 15, 15, 29, 37, 25, 32, 28, 21, 38, 37, 33, 37, 34, 28, 15, 29, 38, 37, 38, 38, 31, 15, 15, 37, 29, 34, 34, 22, 14, 18, 18, 27])\t[('NH', 4), ('HI', 1), ('AS', 47), ('nM', 1)]\n",
      "\n",
      "chr19 60753472\n",
      "HISEQ:280:C9J9KANXX:1:2201:10903:83526\t272\t9\t60753472\t0\t50M\t-1\t-1\t50\tACAGATGGTTGTGAGCCACCATGTGGTTGCTTGTATTTGAACTTCAGACC\tarray('B', [25, 29, 27, 15, 15, 16, 31, 37, 16, 16, 16, 16, 31, 37, 38, 16, 26, 16, 16, 31, 16, 15, 31, 37, 16, 16, 28, 15, 36, 16, 16, 16, 16, 16, 14, 16, 15, 16, 29, 25, 27, 37, 2, 2, 2, 2, 2, 2, 2, 2])\t[('NH', 8), ('HI', 6), ('AS', 45), ('nM', 2)]\n",
      "\n",
      "chr2 37670533\n",
      "HISEQ:280:C9J9KANXX:1:2201:10903:83526\t272\t16\t37670533\t0\t50M\t-1\t-1\t50\tACAGATGGTTGTGAGCCACCATGTGGTTGCTTGTATTTGAACTTCAGACC\tarray('B', [25, 29, 27, 15, 15, 16, 31, 37, 16, 16, 16, 16, 31, 37, 38, 16, 26, 16, 16, 31, 16, 15, 31, 37, 16, 16, 28, 15, 36, 16, 16, 16, 16, 16, 14, 16, 15, 16, 29, 25, 27, 37, 2, 2, 2, 2, 2, 2, 2, 2])\t[('NH', 8), ('HI', 8), ('AS', 45), ('nM', 2)]\n",
      "\n",
      "chr5 118016588\n",
      "HISEQ:280:C9J9KANXX:1:2201:10903:83526\t272\t25\t118016588\t0\t3S47M\t-1\t-1\t47\tACAGATGGTTGTGAGCCACCATGTGGTTGCTTGTATTTGAACTTCAGACC\tarray('B', [25, 29, 27, 15, 15, 16, 31, 37, 16, 16, 16, 16, 31, 37, 38, 16, 26, 16, 16, 31, 16, 15, 31, 37, 16, 16, 28, 15, 36, 16, 16, 16, 16, 16, 14, 16, 15, 16, 29, 25, 27, 37, 2, 2, 2, 2, 2, 2, 2, 2])\t[('NH', 8), ('HI', 2), ('AS', 44), ('nM', 1)]\n",
      "\n",
      "chr7 127670469\n",
      "HISEQ:280:C9J9KANXX:1:2201:10903:83526\t272\t32\t127670469\t0\t50M\t-1\t-1\t50\tACAGATGGTTGTGAGCCACCATGTGGTTGCTTGTATTTGAACTTCAGACC\tarray('B', [25, 29, 27, 15, 15, 16, 31, 37, 16, 16, 16, 16, 31, 37, 38, 16, 26, 16, 16, 31, 16, 15, 31, 37, 16, 16, 28, 15, 36, 16, 16, 16, 16, 16, 14, 16, 15, 16, 29, 25, 27, 37, 2, 2, 2, 2, 2, 2, 2, 2])\t[('NH', 8), ('HI', 3), ('AS', 45), ('nM', 2)]\n",
      "\n",
      "chr9 119318118\n",
      "HISEQ:280:C9J9KANXX:1:2215:15146:97826\t272\t35\t119318118\t1\t50M\t-1\t-1\t50\tACAGATGGTTGTGAGCCACCATGTGGTTGCTGTGATTTGAACTTCAGACC\tarray('B', [2, 2, 2, 2, 37, 32, 23, 14, 38, 38, 30, 36, 22, 14, 15, 14, 15, 15, 15, 15, 29, 37, 25, 32, 28, 21, 38, 37, 33, 37, 34, 28, 15, 29, 38, 37, 38, 38, 31, 15, 15, 37, 29, 34, 34, 22, 14, 18, 18, 27])\t[('NH', 4), ('HI', 2), ('AS', 47), ('nM', 1)]\n",
      "\n",
      "13\n"
     ]
    }
   ],
   "source": [
    "st = pysam.AlignmentFile('/home/parastou/STARd/tet6/tet6_sample.bam',\"rb\")\n",
    "\n",
    "st.reset()\n",
    "reads = st.fetch(until_eof=True)\n",
    "cnt = 0\n",
    "for r in reads:\n",
    "    print r.reference_name, r.reference_start\n",
    "    print r\n",
    "    print\n",
    "    cnt += 1\n",
    "print cnt"
   ]
  },
  {
   "cell_type": "markdown",
   "metadata": {},
   "source": [
    "### 1M read downsampled deduplicated fastq with original parameters "
   ]
  },
  {
   "cell_type": "markdown",
   "metadata": {},
   "source": [
    "Number of alignments: 15"
   ]
  },
  {
   "cell_type": "code",
   "execution_count": 3,
   "metadata": {
    "collapsed": true
   },
   "outputs": [],
   "source": [
    "pysam.sort('-o', '/home/parastou/STARd/tet7/tet7_sample.bam', '/home/parastou/STARd/tet7/tet7_sample.Aligned.out.bam')\n",
    "pysam.index('/home/parastou/STARd/tet7/tet7_sample.bam');"
   ]
  },
  {
   "cell_type": "code",
   "execution_count": 14,
   "metadata": {
    "collapsed": false,
    "scrolled": false
   },
   "outputs": [
    {
     "name": "stdout",
     "output_type": "stream",
     "text": [
      "chr10 115925518\n",
      "HISEQ:280:C9J9KANXX:1:2215:15146:97826\t256\t0\t115925518\t0\t50M\t-1\t-1\t50\tGGTCTGAAGTTCAAATCACAGCAACCACATGGTGGCTCACAACCATCTGT\tarray('B', [27, 18, 18, 14, 22, 34, 34, 29, 37, 15, 15, 31, 38, 38, 37, 38, 29, 15, 28, 34, 37, 33, 37, 38, 21, 28, 32, 25, 37, 29, 15, 15, 15, 15, 14, 15, 14, 22, 36, 30, 38, 38, 14, 23, 32, 37, 2, 2, 2, 2])\t[('NH', 6), ('HI', 5), ('AS', 47), ('nM', 1)]\n",
      "\n",
      "chr11 101647403\n",
      "HISEQ:280:C9J9KANXX:1:2201:10903:83526\t256\t1\t101647403\t0\t50M\t-1\t-1\t50\tGGTCTGAAGTTCAAATACAAGCAACCACATGGTGGCTCACAACCATCTGT\tarray('B', [2, 2, 2, 2, 2, 2, 2, 2, 37, 27, 25, 29, 16, 15, 16, 14, 16, 16, 16, 16, 16, 36, 15, 28, 16, 16, 37, 31, 15, 16, 31, 16, 16, 26, 16, 38, 37, 31, 16, 16, 16, 16, 37, 31, 16, 15, 15, 27, 29, 25])\t[('NH', 8), ('HI', 7), ('AS', 45), ('nM', 2)]\n",
      "\n",
      "chr11 103955596\n",
      "HISEQ:280:C9J9KANXX:1:2201:10903:83526\t0\t1\t103955596\t0\t50M\t-1\t-1\t50\tGGTCTGAAGTTCAAATACAAGCAACCACATGGTGGCTCACAACCATCTGT\tarray('B', [2, 2, 2, 2, 2, 2, 2, 2, 37, 27, 25, 29, 16, 15, 16, 14, 16, 16, 16, 16, 16, 36, 15, 28, 16, 16, 37, 31, 15, 16, 31, 16, 16, 26, 16, 38, 37, 31, 16, 16, 16, 16, 37, 31, 16, 15, 15, 27, 29, 25])\t[('NH', 8), ('HI', 1), ('AS', 45), ('nM', 2)]\n",
      "\n",
      "chr11 107023715\n",
      "HISEQ:280:C9J9KANXX:1:2215:15146:97826\t272\t1\t107023715\t0\t50M\t-1\t-1\t50\tACAGATGGTTGTGAGCCACCATGTGGTTGCTGTGATTTGAACTTCAGACC\tarray('B', [2, 2, 2, 2, 37, 32, 23, 14, 38, 38, 30, 36, 22, 14, 15, 14, 15, 15, 15, 15, 29, 37, 25, 32, 28, 21, 38, 37, 33, 37, 34, 28, 15, 29, 38, 37, 38, 38, 31, 15, 15, 37, 29, 34, 34, 22, 14, 18, 18, 27])\t[('NH', 6), ('HI', 6), ('AS', 47), ('nM', 1)]\n",
      "\n",
      "chr11 115540618\n",
      "HISEQ:280:C9J9KANXX:1:2201:10903:83526\t272\t1\t115540618\t0\t50M\t-1\t-1\t50\tACAGATGGTTGTGAGCCACCATGTGGTTGCTTGTATTTGAACTTCAGACC\tarray('B', [25, 29, 27, 15, 15, 16, 31, 37, 16, 16, 16, 16, 31, 37, 38, 16, 26, 16, 16, 31, 16, 15, 31, 37, 16, 16, 28, 15, 36, 16, 16, 16, 16, 16, 14, 16, 15, 16, 29, 25, 27, 37, 2, 2, 2, 2, 2, 2, 2, 2])\t[('NH', 8), ('HI', 4), ('AS', 45), ('nM', 2)]\n",
      "\n",
      "chr13 14056562\n",
      "HISEQ:280:C9J9KANXX:1:2213:10613:32557\t0\t3\t14056562\t255\t50M\t-1\t-1\t50\tGTGTACTTACATATAAATAAATTTTAAAAAAAAAAAAAAAAAAAAAAAAA\tarray('B', [18, 18, 18, 15, 27, 16, 16, 16, 28, 16, 31, 16, 34, 31, 38, 38, 38, 16, 37, 38, 38, 34, 16, 16, 16, 31, 37, 38, 38, 38, 38, 38, 38, 38, 38, 38, 38, 38, 38, 38, 38, 38, 38, 38, 38, 38, 38, 38, 38, 38])\t[('NH', 1), ('HI', 1), ('AS', 41), ('nM', 4)]\n",
      "\n",
      "chr14 52079187\n",
      "HISEQ:280:C9J9KANXX:1:2215:15146:97826\t256\t4\t52079187\t0\t50M\t-1\t-1\t50\tGGTCTGAAGTTCAAATCACAGCAACCACATGGTGGCTCACAACCATCTGT\tarray('B', [27, 18, 18, 14, 22, 34, 34, 29, 37, 15, 15, 31, 38, 38, 37, 38, 29, 15, 28, 34, 37, 33, 37, 38, 21, 28, 32, 25, 37, 29, 15, 15, 15, 15, 14, 15, 14, 22, 36, 30, 38, 38, 14, 23, 32, 37, 2, 2, 2, 2])\t[('NH', 6), ('HI', 2), ('AS', 47), ('nM', 1)]\n",
      "\n",
      "chr14 52303794\n",
      "HISEQ:280:C9J9KANXX:1:2215:15146:97826\t256\t4\t52303794\t0\t50M\t-1\t-1\t50\tGGTCTGAAGTTCAAATCACAGCAACCACATGGTGGCTCACAACCATCTGT\tarray('B', [27, 18, 18, 14, 22, 34, 34, 29, 37, 15, 15, 31, 38, 38, 37, 38, 29, 15, 28, 34, 37, 33, 37, 38, 21, 28, 32, 25, 37, 29, 15, 15, 15, 15, 14, 15, 14, 22, 36, 30, 38, 38, 14, 23, 32, 37, 2, 2, 2, 2])\t[('NH', 6), ('HI', 3), ('AS', 47), ('nM', 1)]\n",
      "\n",
      "chr15 79087793\n",
      "HISEQ:280:C9J9KANXX:1:2201:10903:83526\t272\t5\t79087793\t0\t50M\t-1\t-1\t50\tACAGATGGTTGTGAGCCACCATGTGGTTGCTTGTATTTGAACTTCAGACC\tarray('B', [25, 29, 27, 15, 15, 16, 31, 37, 16, 16, 16, 16, 31, 37, 38, 16, 26, 16, 16, 31, 16, 15, 31, 37, 16, 16, 28, 15, 36, 16, 16, 16, 16, 16, 14, 16, 15, 16, 29, 25, 27, 37, 2, 2, 2, 2, 2, 2, 2, 2])\t[('NH', 8), ('HI', 5), ('AS', 45), ('nM', 2)]\n",
      "\n",
      "chr18 34471083\n",
      "HISEQ:280:C9J9KANXX:1:2215:15146:97826\t16\t8\t34471083\t0\t50M\t-1\t-1\t50\tACAGATGGTTGTGAGCCACCATGTGGTTGCTGTGATTTGAACTTCAGACC\tarray('B', [2, 2, 2, 2, 37, 32, 23, 14, 38, 38, 30, 36, 22, 14, 15, 14, 15, 15, 15, 15, 29, 37, 25, 32, 28, 21, 38, 37, 33, 37, 34, 28, 15, 29, 38, 37, 38, 38, 31, 15, 15, 37, 29, 34, 34, 22, 14, 18, 18, 27])\t[('NH', 6), ('HI', 1), ('AS', 47), ('nM', 1)]\n",
      "\n",
      "chr19 60753472\n",
      "HISEQ:280:C9J9KANXX:1:2201:10903:83526\t272\t9\t60753472\t0\t50M\t-1\t-1\t50\tACAGATGGTTGTGAGCCACCATGTGGTTGCTTGTATTTGAACTTCAGACC\tarray('B', [25, 29, 27, 15, 15, 16, 31, 37, 16, 16, 16, 16, 31, 37, 38, 16, 26, 16, 16, 31, 16, 15, 31, 37, 16, 16, 28, 15, 36, 16, 16, 16, 16, 16, 14, 16, 15, 16, 29, 25, 27, 37, 2, 2, 2, 2, 2, 2, 2, 2])\t[('NH', 8), ('HI', 6), ('AS', 45), ('nM', 2)]\n",
      "\n",
      "chr2 37670533\n",
      "HISEQ:280:C9J9KANXX:1:2201:10903:83526\t272\t16\t37670533\t0\t50M\t-1\t-1\t50\tACAGATGGTTGTGAGCCACCATGTGGTTGCTTGTATTTGAACTTCAGACC\tarray('B', [25, 29, 27, 15, 15, 16, 31, 37, 16, 16, 16, 16, 31, 37, 38, 16, 26, 16, 16, 31, 16, 15, 31, 37, 16, 16, 28, 15, 36, 16, 16, 16, 16, 16, 14, 16, 15, 16, 29, 25, 27, 37, 2, 2, 2, 2, 2, 2, 2, 2])\t[('NH', 8), ('HI', 8), ('AS', 45), ('nM', 2)]\n",
      "\n",
      "chr5 118016588\n",
      "HISEQ:280:C9J9KANXX:1:2201:10903:83526\t272\t25\t118016588\t0\t3S47M\t-1\t-1\t47\tACAGATGGTTGTGAGCCACCATGTGGTTGCTTGTATTTGAACTTCAGACC\tarray('B', [25, 29, 27, 15, 15, 16, 31, 37, 16, 16, 16, 16, 31, 37, 38, 16, 26, 16, 16, 31, 16, 15, 31, 37, 16, 16, 28, 15, 36, 16, 16, 16, 16, 16, 14, 16, 15, 16, 29, 25, 27, 37, 2, 2, 2, 2, 2, 2, 2, 2])\t[('NH', 8), ('HI', 2), ('AS', 44), ('nM', 1)]\n",
      "\n",
      "chr7 127670469\n",
      "HISEQ:280:C9J9KANXX:1:2201:10903:83526\t272\t32\t127670469\t0\t50M\t-1\t-1\t50\tACAGATGGTTGTGAGCCACCATGTGGTTGCTTGTATTTGAACTTCAGACC\tarray('B', [25, 29, 27, 15, 15, 16, 31, 37, 16, 16, 16, 16, 31, 37, 38, 16, 26, 16, 16, 31, 16, 15, 31, 37, 16, 16, 28, 15, 36, 16, 16, 16, 16, 16, 14, 16, 15, 16, 29, 25, 27, 37, 2, 2, 2, 2, 2, 2, 2, 2])\t[('NH', 8), ('HI', 3), ('AS', 45), ('nM', 2)]\n",
      "\n",
      "chr9 119318118\n",
      "HISEQ:280:C9J9KANXX:1:2215:15146:97826\t272\t35\t119318118\t0\t50M\t-1\t-1\t50\tACAGATGGTTGTGAGCCACCATGTGGTTGCTGTGATTTGAACTTCAGACC\tarray('B', [2, 2, 2, 2, 37, 32, 23, 14, 38, 38, 30, 36, 22, 14, 15, 14, 15, 15, 15, 15, 29, 37, 25, 32, 28, 21, 38, 37, 33, 37, 34, 28, 15, 29, 38, 37, 38, 38, 31, 15, 15, 37, 29, 34, 34, 22, 14, 18, 18, 27])\t[('NH', 6), ('HI', 4), ('AS', 47), ('nM', 1)]\n",
      "\n",
      "15\n"
     ]
    }
   ],
   "source": [
    "st = pysam.AlignmentFile('/home/parastou/STARd/tet7/tet7_sample.bam',\"rb\")\n",
    "\n",
    "st.reset()\n",
    "reads = st.fetch(until_eof=True)\n",
    "cnt = 0\n",
    "for r in reads:\n",
    "    if not r.is_unmapped and r.query_name in names:\n",
    "        print r.reference_name, r.reference_start\n",
    "        print r\n",
    "        print\n",
    "        cnt += 1\n",
    "print cnt"
   ]
  },
  {
   "cell_type": "markdown",
   "metadata": {},
   "source": [
    "-----------------------------------"
   ]
  },
  {
   "cell_type": "markdown",
   "metadata": {},
   "source": [
    "### 3 read fastq file against chr5 without splicing parameters, no gtf"
   ]
  },
  {
   "cell_type": "markdown",
   "metadata": {},
   "source": [
    "Number of alignments: 14"
   ]
  },
  {
   "cell_type": "code",
   "execution_count": 5,
   "metadata": {
    "collapsed": true
   },
   "outputs": [],
   "source": [
    "pysam.sort('-o', '/home/parastou/STARd/tet8/tet8_sample.bam', '/home/parastou/STARd/tet8/tet8_sample.Aligned.out.bam')\n",
    "pysam.index('/home/parastou/STARd/tet8/tet8_sample.bam');"
   ]
  },
  {
   "cell_type": "code",
   "execution_count": 15,
   "metadata": {
    "collapsed": false,
    "scrolled": true
   },
   "outputs": [
    {
     "name": "stdout",
     "output_type": "stream",
     "text": [
      "5 20810000\n",
      "HISEQ:280:C9J9KANXX:1:2215:15146:97826\t272\t0\t20810000\t0\t50M\t-1\t-1\t50\tACAGATGGTTGTGAGCCACCATGTGGTTGCTGTGATTTGAACTTCAGACC\tarray('B', [2, 2, 2, 2, 37, 32, 23, 14, 38, 38, 30, 36, 22, 14, 15, 14, 15, 15, 15, 15, 29, 37, 25, 32, 28, 21, 38, 37, 33, 37, 34, 28, 15, 29, 38, 37, 38, 38, 31, 15, 15, 37, 29, 34, 34, 22, 14, 18, 18, 27])\t[('NH', 10), ('HI', 8), ('AS', 47), ('nM', 1)]\n",
      "\n",
      "5 23032692\n",
      "HISEQ:280:C9J9KANXX:1:2215:15146:97826\t256\t0\t23032692\t0\t50M\t-1\t-1\t50\tGGTCTGAAGTTCAAATCACAGCAACCACATGGTGGCTCACAACCATCTGT\tarray('B', [27, 18, 18, 14, 22, 34, 34, 29, 37, 15, 15, 31, 38, 38, 37, 38, 29, 15, 28, 34, 37, 33, 37, 38, 21, 28, 32, 25, 37, 29, 15, 15, 15, 15, 14, 15, 14, 22, 36, 30, 38, 38, 14, 23, 32, 37, 2, 2, 2, 2])\t[('NH', 10), ('HI', 10), ('AS', 47), ('nM', 1)]\n",
      "\n",
      "5 37264988\n",
      "HISEQ:280:C9J9KANXX:1:2215:15146:97826\t272\t0\t37264988\t0\t50M\t-1\t-1\t50\tACAGATGGTTGTGAGCCACCATGTGGTTGCTGTGATTTGAACTTCAGACC\tarray('B', [2, 2, 2, 2, 37, 32, 23, 14, 38, 38, 30, 36, 22, 14, 15, 14, 15, 15, 15, 15, 29, 37, 25, 32, 28, 21, 38, 37, 33, 37, 34, 28, 15, 29, 38, 37, 38, 38, 31, 15, 15, 37, 29, 34, 34, 22, 14, 18, 18, 27])\t[('NH', 10), ('HI', 7), ('AS', 47), ('nM', 1)]\n",
      "\n",
      "5 92968874\n",
      "HISEQ:280:C9J9KANXX:1:2201:10903:83526\t272\t0\t92968874\t3\t50M\t-1\t-1\t50\tACAGATGGTTGTGAGCCACCATGTGGTTGCTTGTATTTGAACTTCAGACC\tarray('B', [25, 29, 27, 15, 15, 16, 31, 37, 16, 16, 16, 16, 31, 37, 38, 16, 26, 16, 16, 31, 16, 15, 31, 37, 16, 16, 28, 15, 36, 16, 16, 16, 16, 16, 14, 16, 15, 16, 29, 25, 27, 37, 2, 2, 2, 2, 2, 2, 2, 2])\t[('NH', 2), ('HI', 2), ('AS', 43), ('nM', 3)]\n",
      "\n",
      "5 103388841\n",
      "HISEQ:280:C9J9KANXX:1:2213:10613:32557\t256\t0\t103388841\t3\t50M\t-1\t-1\t50\tGTGTACTTACATATAAATAAATTTTAAAAAAAAAAAAAAAAAAAAAAAAA\tarray('B', [18, 18, 18, 15, 27, 16, 16, 16, 28, 16, 31, 16, 34, 31, 38, 38, 38, 16, 37, 38, 38, 34, 16, 16, 16, 31, 37, 38, 38, 38, 38, 38, 38, 38, 38, 38, 38, 38, 38, 38, 38, 38, 38, 38, 38, 38, 38, 38, 38, 38])\t[('NH', 2), ('HI', 1), ('AS', 37), ('nM', 6)]\n",
      "\n",
      "5 107018319\n",
      "HISEQ:280:C9J9KANXX:1:2215:15146:97826\t256\t0\t107018319\t0\t50M\t-1\t-1\t50\tGGTCTGAAGTTCAAATCACAGCAACCACATGGTGGCTCACAACCATCTGT\tarray('B', [27, 18, 18, 14, 22, 34, 34, 29, 37, 15, 15, 31, 38, 38, 37, 38, 29, 15, 28, 34, 37, 33, 37, 38, 21, 28, 32, 25, 37, 29, 15, 15, 15, 15, 14, 15, 14, 22, 36, 30, 38, 38, 14, 23, 32, 37, 2, 2, 2, 2])\t[('NH', 10), ('HI', 5), ('AS', 47), ('nM', 1)]\n",
      "\n",
      "5 115320269\n",
      "HISEQ:280:C9J9KANXX:1:2215:15146:97826\t272\t0\t115320269\t0\t50M\t-1\t-1\t50\tACAGATGGTTGTGAGCCACCATGTGGTTGCTGTGATTTGAACTTCAGACC\tarray('B', [2, 2, 2, 2, 37, 32, 23, 14, 38, 38, 30, 36, 22, 14, 15, 14, 15, 15, 15, 15, 29, 37, 25, 32, 28, 21, 38, 37, 33, 37, 34, 28, 15, 29, 38, 37, 38, 38, 31, 15, 15, 37, 29, 34, 34, 22, 14, 18, 18, 27])\t[('NH', 10), ('HI', 3), ('AS', 47), ('nM', 1)]\n",
      "\n",
      "5 118016588\n",
      "HISEQ:280:C9J9KANXX:1:2201:10903:83526\t16\t0\t118016588\t3\t3S47M\t-1\t-1\t47\tACAGATGGTTGTGAGCCACCATGTGGTTGCTTGTATTTGAACTTCAGACC\tarray('B', [25, 29, 27, 15, 15, 16, 31, 37, 16, 16, 16, 16, 31, 37, 38, 16, 26, 16, 16, 31, 16, 15, 31, 37, 16, 16, 28, 15, 36, 16, 16, 16, 16, 16, 14, 16, 15, 16, 29, 25, 27, 37, 2, 2, 2, 2, 2, 2, 2, 2])\t[('NH', 2), ('HI', 1), ('AS', 44), ('nM', 1)]\n",
      "\n",
      "5 121215896\n",
      "HISEQ:280:C9J9KANXX:1:2215:15146:97826\t272\t0\t121215896\t0\t50M\t-1\t-1\t50\tACAGATGGTTGTGAGCCACCATGTGGTTGCTGTGATTTGAACTTCAGACC\tarray('B', [2, 2, 2, 2, 37, 32, 23, 14, 38, 38, 30, 36, 22, 14, 15, 14, 15, 15, 15, 15, 29, 37, 25, 32, 28, 21, 38, 37, 33, 37, 34, 28, 15, 29, 38, 37, 38, 38, 31, 15, 15, 37, 29, 34, 34, 22, 14, 18, 18, 27])\t[('NH', 10), ('HI', 9), ('AS', 47), ('nM', 1)]\n",
      "\n",
      "5 121637816\n",
      "HISEQ:280:C9J9KANXX:1:2213:10613:32557\t16\t0\t121637816\t3\t28M100635N22M\t-1\t-1\t50\tTTTTTTTTTTTTTTTTTTTTTTTTTAAAATTTATTTATATGTAAGTACAC\tarray('B', [38, 38, 38, 38, 38, 38, 38, 38, 38, 38, 38, 38, 38, 38, 38, 38, 38, 38, 38, 38, 38, 38, 38, 37, 31, 16, 16, 16, 34, 38, 38, 37, 16, 38, 38, 38, 31, 34, 16, 31, 16, 28, 16, 16, 16, 27, 15, 18, 18, 18])\t[('NH', 2), ('HI', 2), ('AS', 38), ('nM', 0)]\n",
      "\n",
      "5 122151992\n",
      "HISEQ:280:C9J9KANXX:1:2215:15146:97826\t256\t0\t122151992\t0\t50M\t-1\t-1\t50\tGGTCTGAAGTTCAAATCACAGCAACCACATGGTGGCTCACAACCATCTGT\tarray('B', [27, 18, 18, 14, 22, 34, 34, 29, 37, 15, 15, 31, 38, 38, 37, 38, 29, 15, 28, 34, 37, 33, 37, 38, 21, 28, 32, 25, 37, 29, 15, 15, 15, 15, 14, 15, 14, 22, 36, 30, 38, 38, 14, 23, 32, 37, 2, 2, 2, 2])\t[('NH', 10), ('HI', 4), ('AS', 47), ('nM', 1)]\n",
      "\n",
      "5 123067122\n",
      "HISEQ:280:C9J9KANXX:1:2215:15146:97826\t272\t0\t123067122\t0\t50M\t-1\t-1\t50\tACAGATGGTTGTGAGCCACCATGTGGTTGCTGTGATTTGAACTTCAGACC\tarray('B', [2, 2, 2, 2, 37, 32, 23, 14, 38, 38, 30, 36, 22, 14, 15, 14, 15, 15, 15, 15, 29, 37, 25, 32, 28, 21, 38, 37, 33, 37, 34, 28, 15, 29, 38, 37, 38, 38, 31, 15, 15, 37, 29, 34, 34, 22, 14, 18, 18, 27])\t[('NH', 10), ('HI', 2), ('AS', 47), ('nM', 1)]\n",
      "\n",
      "5 134378915\n",
      "HISEQ:280:C9J9KANXX:1:2215:15146:97826\t0\t0\t134378915\t0\t50M\t-1\t-1\t50\tGGTCTGAAGTTCAAATCACAGCAACCACATGGTGGCTCACAACCATCTGT\tarray('B', [27, 18, 18, 14, 22, 34, 34, 29, 37, 15, 15, 31, 38, 38, 37, 38, 29, 15, 28, 34, 37, 33, 37, 38, 21, 28, 32, 25, 37, 29, 15, 15, 15, 15, 14, 15, 14, 22, 36, 30, 38, 38, 14, 23, 32, 37, 2, 2, 2, 2])\t[('NH', 10), ('HI', 1), ('AS', 47), ('nM', 1)]\n",
      "\n",
      "5 135229588\n",
      "HISEQ:280:C9J9KANXX:1:2215:15146:97826\t272\t0\t135229588\t0\t50M\t-1\t-1\t50\tACAGATGGTTGTGAGCCACCATGTGGTTGCTGTGATTTGAACTTCAGACC\tarray('B', [2, 2, 2, 2, 37, 32, 23, 14, 38, 38, 30, 36, 22, 14, 15, 14, 15, 15, 15, 15, 29, 37, 25, 32, 28, 21, 38, 37, 33, 37, 34, 28, 15, 29, 38, 37, 38, 38, 31, 15, 15, 37, 29, 34, 34, 22, 14, 18, 18, 27])\t[('NH', 10), ('HI', 6), ('AS', 47), ('nM', 1)]\n",
      "\n",
      "14\n"
     ]
    }
   ],
   "source": [
    "st = pysam.AlignmentFile('/home/parastou/STARd/tet8/tet8_sample.bam',\"rb\")\n",
    "\n",
    "st.reset()\n",
    "reads = st.fetch(until_eof=True)\n",
    "cnt = 0\n",
    "for r in reads:\n",
    "    if not r.is_unmapped:\n",
    "        print r.reference_name, r.reference_start\n",
    "        print r\n",
    "        print\n",
    "        cnt += 1\n",
    "print cnt"
   ]
  },
  {
   "cell_type": "markdown",
   "metadata": {},
   "source": [
    "### 1M read deduplicated downsampled fastq, chr5, no splicing parameters, no gtf"
   ]
  },
  {
   "cell_type": "markdown",
   "metadata": {},
   "source": [
    "Number of alignments: 14"
   ]
  },
  {
   "cell_type": "code",
   "execution_count": 8,
   "metadata": {
    "collapsed": false
   },
   "outputs": [],
   "source": [
    "pysam.sort('-o', '/home/parastou/STARd/tet9/tet9_sample.bam', '/home/parastou/STARd/tet9/tet9_sample.Aligned.out.bam')\n",
    "pysam.index('/home/parastou/STARd/tet9/tet9_sample.bam');"
   ]
  },
  {
   "cell_type": "code",
   "execution_count": 16,
   "metadata": {
    "collapsed": false,
    "scrolled": true
   },
   "outputs": [
    {
     "name": "stdout",
     "output_type": "stream",
     "text": [
      "5 20810000\n",
      "HISEQ:280:C9J9KANXX:1:2215:15146:97826\t272\t0\t20810000\t0\t50M\t-1\t-1\t50\tACAGATGGTTGTGAGCCACCATGTGGTTGCTGTGATTTGAACTTCAGACC\tarray('B', [2, 2, 2, 2, 37, 32, 23, 14, 38, 38, 30, 36, 22, 14, 15, 14, 15, 15, 15, 15, 29, 37, 25, 32, 28, 21, 38, 37, 33, 37, 34, 28, 15, 29, 38, 37, 38, 38, 31, 15, 15, 37, 29, 34, 34, 22, 14, 18, 18, 27])\t[('NH', 10), ('HI', 8), ('AS', 47), ('nM', 1)]\n",
      "\n",
      "5 23032692\n",
      "HISEQ:280:C9J9KANXX:1:2215:15146:97826\t256\t0\t23032692\t0\t50M\t-1\t-1\t50\tGGTCTGAAGTTCAAATCACAGCAACCACATGGTGGCTCACAACCATCTGT\tarray('B', [27, 18, 18, 14, 22, 34, 34, 29, 37, 15, 15, 31, 38, 38, 37, 38, 29, 15, 28, 34, 37, 33, 37, 38, 21, 28, 32, 25, 37, 29, 15, 15, 15, 15, 14, 15, 14, 22, 36, 30, 38, 38, 14, 23, 32, 37, 2, 2, 2, 2])\t[('NH', 10), ('HI', 10), ('AS', 47), ('nM', 1)]\n",
      "\n",
      "5 37264988\n",
      "HISEQ:280:C9J9KANXX:1:2215:15146:97826\t272\t0\t37264988\t0\t50M\t-1\t-1\t50\tACAGATGGTTGTGAGCCACCATGTGGTTGCTGTGATTTGAACTTCAGACC\tarray('B', [2, 2, 2, 2, 37, 32, 23, 14, 38, 38, 30, 36, 22, 14, 15, 14, 15, 15, 15, 15, 29, 37, 25, 32, 28, 21, 38, 37, 33, 37, 34, 28, 15, 29, 38, 37, 38, 38, 31, 15, 15, 37, 29, 34, 34, 22, 14, 18, 18, 27])\t[('NH', 10), ('HI', 7), ('AS', 47), ('nM', 1)]\n",
      "\n",
      "5 92968874\n",
      "HISEQ:280:C9J9KANXX:1:2201:10903:83526\t272\t0\t92968874\t3\t50M\t-1\t-1\t50\tACAGATGGTTGTGAGCCACCATGTGGTTGCTTGTATTTGAACTTCAGACC\tarray('B', [25, 29, 27, 15, 15, 16, 31, 37, 16, 16, 16, 16, 31, 37, 38, 16, 26, 16, 16, 31, 16, 15, 31, 37, 16, 16, 28, 15, 36, 16, 16, 16, 16, 16, 14, 16, 15, 16, 29, 25, 27, 37, 2, 2, 2, 2, 2, 2, 2, 2])\t[('NH', 2), ('HI', 2), ('AS', 43), ('nM', 3)]\n",
      "\n",
      "5 103388841\n",
      "HISEQ:280:C9J9KANXX:1:2213:10613:32557\t256\t0\t103388841\t3\t50M\t-1\t-1\t50\tGTGTACTTACATATAAATAAATTTTAAAAAAAAAAAAAAAAAAAAAAAAA\tarray('B', [18, 18, 18, 15, 27, 16, 16, 16, 28, 16, 31, 16, 34, 31, 38, 38, 38, 16, 37, 38, 38, 34, 16, 16, 16, 31, 37, 38, 38, 38, 38, 38, 38, 38, 38, 38, 38, 38, 38, 38, 38, 38, 38, 38, 38, 38, 38, 38, 38, 38])\t[('NH', 2), ('HI', 1), ('AS', 37), ('nM', 6)]\n",
      "\n",
      "5 107018319\n",
      "HISEQ:280:C9J9KANXX:1:2215:15146:97826\t256\t0\t107018319\t0\t50M\t-1\t-1\t50\tGGTCTGAAGTTCAAATCACAGCAACCACATGGTGGCTCACAACCATCTGT\tarray('B', [27, 18, 18, 14, 22, 34, 34, 29, 37, 15, 15, 31, 38, 38, 37, 38, 29, 15, 28, 34, 37, 33, 37, 38, 21, 28, 32, 25, 37, 29, 15, 15, 15, 15, 14, 15, 14, 22, 36, 30, 38, 38, 14, 23, 32, 37, 2, 2, 2, 2])\t[('NH', 10), ('HI', 5), ('AS', 47), ('nM', 1)]\n",
      "\n",
      "5 115320269\n",
      "HISEQ:280:C9J9KANXX:1:2215:15146:97826\t272\t0\t115320269\t0\t50M\t-1\t-1\t50\tACAGATGGTTGTGAGCCACCATGTGGTTGCTGTGATTTGAACTTCAGACC\tarray('B', [2, 2, 2, 2, 37, 32, 23, 14, 38, 38, 30, 36, 22, 14, 15, 14, 15, 15, 15, 15, 29, 37, 25, 32, 28, 21, 38, 37, 33, 37, 34, 28, 15, 29, 38, 37, 38, 38, 31, 15, 15, 37, 29, 34, 34, 22, 14, 18, 18, 27])\t[('NH', 10), ('HI', 3), ('AS', 47), ('nM', 1)]\n",
      "\n",
      "5 118016588\n",
      "HISEQ:280:C9J9KANXX:1:2201:10903:83526\t16\t0\t118016588\t3\t3S47M\t-1\t-1\t47\tACAGATGGTTGTGAGCCACCATGTGGTTGCTTGTATTTGAACTTCAGACC\tarray('B', [25, 29, 27, 15, 15, 16, 31, 37, 16, 16, 16, 16, 31, 37, 38, 16, 26, 16, 16, 31, 16, 15, 31, 37, 16, 16, 28, 15, 36, 16, 16, 16, 16, 16, 14, 16, 15, 16, 29, 25, 27, 37, 2, 2, 2, 2, 2, 2, 2, 2])\t[('NH', 2), ('HI', 1), ('AS', 44), ('nM', 1)]\n",
      "\n",
      "5 121215896\n",
      "HISEQ:280:C9J9KANXX:1:2215:15146:97826\t272\t0\t121215896\t0\t50M\t-1\t-1\t50\tACAGATGGTTGTGAGCCACCATGTGGTTGCTGTGATTTGAACTTCAGACC\tarray('B', [2, 2, 2, 2, 37, 32, 23, 14, 38, 38, 30, 36, 22, 14, 15, 14, 15, 15, 15, 15, 29, 37, 25, 32, 28, 21, 38, 37, 33, 37, 34, 28, 15, 29, 38, 37, 38, 38, 31, 15, 15, 37, 29, 34, 34, 22, 14, 18, 18, 27])\t[('NH', 10), ('HI', 9), ('AS', 47), ('nM', 1)]\n",
      "\n",
      "5 121637816\n",
      "HISEQ:280:C9J9KANXX:1:2213:10613:32557\t16\t0\t121637816\t3\t28M100635N22M\t-1\t-1\t50\tTTTTTTTTTTTTTTTTTTTTTTTTTAAAATTTATTTATATGTAAGTACAC\tarray('B', [38, 38, 38, 38, 38, 38, 38, 38, 38, 38, 38, 38, 38, 38, 38, 38, 38, 38, 38, 38, 38, 38, 38, 37, 31, 16, 16, 16, 34, 38, 38, 37, 16, 38, 38, 38, 31, 34, 16, 31, 16, 28, 16, 16, 16, 27, 15, 18, 18, 18])\t[('NH', 2), ('HI', 2), ('AS', 38), ('nM', 0)]\n",
      "\n",
      "5 122151992\n",
      "HISEQ:280:C9J9KANXX:1:2215:15146:97826\t256\t0\t122151992\t0\t50M\t-1\t-1\t50\tGGTCTGAAGTTCAAATCACAGCAACCACATGGTGGCTCACAACCATCTGT\tarray('B', [27, 18, 18, 14, 22, 34, 34, 29, 37, 15, 15, 31, 38, 38, 37, 38, 29, 15, 28, 34, 37, 33, 37, 38, 21, 28, 32, 25, 37, 29, 15, 15, 15, 15, 14, 15, 14, 22, 36, 30, 38, 38, 14, 23, 32, 37, 2, 2, 2, 2])\t[('NH', 10), ('HI', 4), ('AS', 47), ('nM', 1)]\n",
      "\n",
      "5 123067122\n",
      "HISEQ:280:C9J9KANXX:1:2215:15146:97826\t272\t0\t123067122\t0\t50M\t-1\t-1\t50\tACAGATGGTTGTGAGCCACCATGTGGTTGCTGTGATTTGAACTTCAGACC\tarray('B', [2, 2, 2, 2, 37, 32, 23, 14, 38, 38, 30, 36, 22, 14, 15, 14, 15, 15, 15, 15, 29, 37, 25, 32, 28, 21, 38, 37, 33, 37, 34, 28, 15, 29, 38, 37, 38, 38, 31, 15, 15, 37, 29, 34, 34, 22, 14, 18, 18, 27])\t[('NH', 10), ('HI', 2), ('AS', 47), ('nM', 1)]\n",
      "\n",
      "5 134378915\n",
      "HISEQ:280:C9J9KANXX:1:2215:15146:97826\t0\t0\t134378915\t0\t50M\t-1\t-1\t50\tGGTCTGAAGTTCAAATCACAGCAACCACATGGTGGCTCACAACCATCTGT\tarray('B', [27, 18, 18, 14, 22, 34, 34, 29, 37, 15, 15, 31, 38, 38, 37, 38, 29, 15, 28, 34, 37, 33, 37, 38, 21, 28, 32, 25, 37, 29, 15, 15, 15, 15, 14, 15, 14, 22, 36, 30, 38, 38, 14, 23, 32, 37, 2, 2, 2, 2])\t[('NH', 10), ('HI', 1), ('AS', 47), ('nM', 1)]\n",
      "\n",
      "5 135229588\n",
      "HISEQ:280:C9J9KANXX:1:2215:15146:97826\t272\t0\t135229588\t0\t50M\t-1\t-1\t50\tACAGATGGTTGTGAGCCACCATGTGGTTGCTGTGATTTGAACTTCAGACC\tarray('B', [2, 2, 2, 2, 37, 32, 23, 14, 38, 38, 30, 36, 22, 14, 15, 14, 15, 15, 15, 15, 29, 37, 25, 32, 28, 21, 38, 37, 33, 37, 34, 28, 15, 29, 38, 37, 38, 38, 31, 15, 15, 37, 29, 34, 34, 22, 14, 18, 18, 27])\t[('NH', 10), ('HI', 6), ('AS', 47), ('nM', 1)]\n",
      "\n",
      "14\n"
     ]
    }
   ],
   "source": [
    "st = pysam.AlignmentFile('/home/parastou/STARd/tet9/tet9_sample.bam',\"rb\")\n",
    "\n",
    "st.reset()\n",
    "reads = st.fetch(until_eof=True)\n",
    "cnt = 0\n",
    "for r in reads:\n",
    "    if not r.is_unmapped and r.query_name in names:\n",
    "        print r.reference_name, r.reference_start\n",
    "        print r\n",
    "        print\n",
    "        cnt += 1\n",
    "print cnt"
   ]
  },
  {
   "cell_type": "markdown",
   "metadata": {},
   "source": [
    "--------------------------------------------"
   ]
  },
  {
   "cell_type": "markdown",
   "metadata": {},
   "source": [
    "#### - - - -  - - - -  - - - -  - - - -  - - - -  - - - -  - - - -  - - - -  - - - -  - - - -  - - - -  - - - -  - - - -  - - - -  - - - -  - - - -  - - - -  - - - -  - - - -  - - - -  - - - -  - - - -  - - - - "
   ]
  },
  {
   "cell_type": "code",
   "execution_count": 4,
   "metadata": {
    "collapsed": false
   },
   "outputs": [],
   "source": [
    "pysam.sort('-o', '/home/parastou/STARd/tet10/tet10_sample.bam', '/home/parastou/STARd/tet10/tet10_sample.Aligned.out.bam')\n",
    "pysam.index('/home/parastou/STARd/tet10/tet10_sample.bam');"
   ]
  },
  {
   "cell_type": "code",
   "execution_count": 5,
   "metadata": {
    "collapsed": false,
    "scrolled": true
   },
   "outputs": [
    {
     "name": "stdout",
     "output_type": "stream",
     "text": [
      "chr10 115925518\n",
      "HISEQ:280:C9J9KANXX:1:2215:15146:97826\t256\t0\t115925518\t1\t50M\t-1\t-1\t50\tGGTCTGAAGTTCAAATCACAGCAACCACATGGTGGCTCACAACCATCTGT\tarray('B', [27, 18, 18, 14, 22, 34, 34, 29, 37, 15, 15, 31, 38, 38, 37, 38, 29, 15, 28, 34, 37, 33, 37, 38, 21, 28, 32, 25, 37, 29, 15, 15, 15, 15, 14, 15, 14, 22, 36, 30, 38, 38, 14, 23, 32, 37, 2, 2, 2, 2])\t[('NH', 4), ('HI', 3), ('AS', 47), ('nM', 1)]\n",
      "\n",
      "chr11 101647403\n",
      "HISEQ:280:C9J9KANXX:1:2201:10903:83526\t256\t1\t101647403\t0\t50M\t-1\t-1\t50\tGGTCTGAAGTTCAAATACAAGCAACCACATGGTGGCTCACAACCATCTGT\tarray('B', [2, 2, 2, 2, 2, 2, 2, 2, 37, 27, 25, 29, 16, 15, 16, 14, 16, 16, 16, 16, 16, 36, 15, 28, 16, 16, 37, 31, 15, 16, 31, 16, 16, 26, 16, 38, 37, 31, 16, 16, 16, 16, 37, 31, 16, 15, 15, 27, 29, 25])\t[('NH', 8), ('HI', 7), ('AS', 45), ('nM', 2)]\n",
      "\n",
      "chr11 103955596\n",
      "HISEQ:280:C9J9KANXX:1:2201:10903:83526\t0\t1\t103955596\t0\t50M\t-1\t-1\t50\tGGTCTGAAGTTCAAATACAAGCAACCACATGGTGGCTCACAACCATCTGT\tarray('B', [2, 2, 2, 2, 2, 2, 2, 2, 37, 27, 25, 29, 16, 15, 16, 14, 16, 16, 16, 16, 16, 36, 15, 28, 16, 16, 37, 31, 15, 16, 31, 16, 16, 26, 16, 38, 37, 31, 16, 16, 16, 16, 37, 31, 16, 15, 15, 27, 29, 25])\t[('NH', 8), ('HI', 1), ('AS', 45), ('nM', 2)]\n",
      "\n",
      "chr11 107023715\n",
      "HISEQ:280:C9J9KANXX:1:2215:15146:97826\t272\t1\t107023715\t1\t50M\t-1\t-1\t50\tACAGATGGTTGTGAGCCACCATGTGGTTGCTGTGATTTGAACTTCAGACC\tarray('B', [2, 2, 2, 2, 37, 32, 23, 14, 38, 38, 30, 36, 22, 14, 15, 14, 15, 15, 15, 15, 29, 37, 25, 32, 28, 21, 38, 37, 33, 37, 34, 28, 15, 29, 38, 37, 38, 38, 31, 15, 15, 37, 29, 34, 34, 22, 14, 18, 18, 27])\t[('NH', 4), ('HI', 4), ('AS', 47), ('nM', 1)]\n",
      "\n",
      "chr11 115540618\n",
      "HISEQ:280:C9J9KANXX:1:2201:10903:83526\t272\t1\t115540618\t0\t50M\t-1\t-1\t50\tACAGATGGTTGTGAGCCACCATGTGGTTGCTTGTATTTGAACTTCAGACC\tarray('B', [25, 29, 27, 15, 15, 16, 31, 37, 16, 16, 16, 16, 31, 37, 38, 16, 26, 16, 16, 31, 16, 15, 31, 37, 16, 16, 28, 15, 36, 16, 16, 16, 16, 16, 14, 16, 15, 16, 29, 25, 27, 37, 2, 2, 2, 2, 2, 2, 2, 2])\t[('NH', 8), ('HI', 4), ('AS', 45), ('nM', 2)]\n",
      "\n",
      "chr13 14056562\n",
      "HISEQ:280:C9J9KANXX:1:2213:10613:32557\t0\t3\t14056562\t255\t50M\t-1\t-1\t50\tGTGTACTTACATATAAATAAATTTTAAAAAAAAAAAAAAAAAAAAAAAAA\tarray('B', [18, 18, 18, 15, 27, 16, 16, 16, 28, 16, 31, 16, 34, 31, 38, 38, 38, 16, 37, 38, 38, 34, 16, 16, 16, 31, 37, 38, 38, 38, 38, 38, 38, 38, 38, 38, 38, 38, 38, 38, 38, 38, 38, 38, 38, 38, 38, 38, 38, 38])\t[('NH', 1), ('HI', 1), ('AS', 41), ('nM', 4)]\n",
      "\n",
      "chr15 79087793\n",
      "HISEQ:280:C9J9KANXX:1:2201:10903:83526\t272\t5\t79087793\t0\t50M\t-1\t-1\t50\tACAGATGGTTGTGAGCCACCATGTGGTTGCTTGTATTTGAACTTCAGACC\tarray('B', [25, 29, 27, 15, 15, 16, 31, 37, 16, 16, 16, 16, 31, 37, 38, 16, 26, 16, 16, 31, 16, 15, 31, 37, 16, 16, 28, 15, 36, 16, 16, 16, 16, 16, 14, 16, 15, 16, 29, 25, 27, 37, 2, 2, 2, 2, 2, 2, 2, 2])\t[('NH', 8), ('HI', 5), ('AS', 45), ('nM', 2)]\n",
      "\n",
      "chr18 34471083\n",
      "HISEQ:280:C9J9KANXX:1:2215:15146:97826\t16\t8\t34471083\t1\t50M\t-1\t-1\t50\tACAGATGGTTGTGAGCCACCATGTGGTTGCTGTGATTTGAACTTCAGACC\tarray('B', [2, 2, 2, 2, 37, 32, 23, 14, 38, 38, 30, 36, 22, 14, 15, 14, 15, 15, 15, 15, 29, 37, 25, 32, 28, 21, 38, 37, 33, 37, 34, 28, 15, 29, 38, 37, 38, 38, 31, 15, 15, 37, 29, 34, 34, 22, 14, 18, 18, 27])\t[('NH', 4), ('HI', 1), ('AS', 47), ('nM', 1)]\n",
      "\n",
      "chr19 60753472\n",
      "HISEQ:280:C9J9KANXX:1:2201:10903:83526\t272\t9\t60753472\t0\t50M\t-1\t-1\t50\tACAGATGGTTGTGAGCCACCATGTGGTTGCTTGTATTTGAACTTCAGACC\tarray('B', [25, 29, 27, 15, 15, 16, 31, 37, 16, 16, 16, 16, 31, 37, 38, 16, 26, 16, 16, 31, 16, 15, 31, 37, 16, 16, 28, 15, 36, 16, 16, 16, 16, 16, 14, 16, 15, 16, 29, 25, 27, 37, 2, 2, 2, 2, 2, 2, 2, 2])\t[('NH', 8), ('HI', 6), ('AS', 45), ('nM', 2)]\n",
      "\n",
      "chr2 37670533\n",
      "HISEQ:280:C9J9KANXX:1:2201:10903:83526\t272\t16\t37670533\t0\t50M\t-1\t-1\t50\tACAGATGGTTGTGAGCCACCATGTGGTTGCTTGTATTTGAACTTCAGACC\tarray('B', [25, 29, 27, 15, 15, 16, 31, 37, 16, 16, 16, 16, 31, 37, 38, 16, 26, 16, 16, 31, 16, 15, 31, 37, 16, 16, 28, 15, 36, 16, 16, 16, 16, 16, 14, 16, 15, 16, 29, 25, 27, 37, 2, 2, 2, 2, 2, 2, 2, 2])\t[('NH', 8), ('HI', 8), ('AS', 45), ('nM', 2)]\n",
      "\n",
      "chr5 118016588\n",
      "HISEQ:280:C9J9KANXX:1:2201:10903:83526\t272\t25\t118016588\t0\t3S47M\t-1\t-1\t47\tACAGATGGTTGTGAGCCACCATGTGGTTGCTTGTATTTGAACTTCAGACC\tarray('B', [25, 29, 27, 15, 15, 16, 31, 37, 16, 16, 16, 16, 31, 37, 38, 16, 26, 16, 16, 31, 16, 15, 31, 37, 16, 16, 28, 15, 36, 16, 16, 16, 16, 16, 14, 16, 15, 16, 29, 25, 27, 37, 2, 2, 2, 2, 2, 2, 2, 2])\t[('NH', 8), ('HI', 2), ('AS', 44), ('nM', 1)]\n",
      "\n",
      "chr7 127670469\n",
      "HISEQ:280:C9J9KANXX:1:2201:10903:83526\t272\t32\t127670469\t0\t50M\t-1\t-1\t50\tACAGATGGTTGTGAGCCACCATGTGGTTGCTTGTATTTGAACTTCAGACC\tarray('B', [25, 29, 27, 15, 15, 16, 31, 37, 16, 16, 16, 16, 31, 37, 38, 16, 26, 16, 16, 31, 16, 15, 31, 37, 16, 16, 28, 15, 36, 16, 16, 16, 16, 16, 14, 16, 15, 16, 29, 25, 27, 37, 2, 2, 2, 2, 2, 2, 2, 2])\t[('NH', 8), ('HI', 3), ('AS', 45), ('nM', 2)]\n",
      "\n",
      "chr9 119318118\n",
      "HISEQ:280:C9J9KANXX:1:2215:15146:97826\t272\t35\t119318118\t1\t50M\t-1\t-1\t50\tACAGATGGTTGTGAGCCACCATGTGGTTGCTGTGATTTGAACTTCAGACC\tarray('B', [2, 2, 2, 2, 37, 32, 23, 14, 38, 38, 30, 36, 22, 14, 15, 14, 15, 15, 15, 15, 29, 37, 25, 32, 28, 21, 38, 37, 33, 37, 34, 28, 15, 29, 38, 37, 38, 38, 31, 15, 15, 37, 29, 34, 34, 22, 14, 18, 18, 27])\t[('NH', 4), ('HI', 2), ('AS', 47), ('nM', 1)]\n",
      "\n",
      "13\n"
     ]
    }
   ],
   "source": [
    "st = pysam.AlignmentFile('/home/parastou/STARd/tet10/tet10_sample.bam',\"rb\")\n",
    "\n",
    "st.reset()\n",
    "reads = st.fetch(until_eof=True)\n",
    "cnt = 0\n",
    "for r in reads:\n",
    "    if not r.is_unmapped and r.query_name in names:\n",
    "        print r.reference_name, r.reference_start\n",
    "        print r\n",
    "        print\n",
    "        cnt += 1\n",
    "print cnt      "
   ]
  },
  {
   "cell_type": "code",
   "execution_count": null,
   "metadata": {
    "collapsed": false
   },
   "outputs": [],
   "source": [
    "records = []\n",
    "st.reset()\n",
    "reads = st.fetch(until_eof=True)\n",
    "for read in reads:\n",
    "    records.append((read.query_name, read.query_sequence, str(read.qual)))\n",
    "rdf = pd.DataFrame(records, columns=['N', 'S', 'Q'])"
   ]
  },
  {
   "cell_type": "code",
   "execution_count": 5,
   "metadata": {
    "collapsed": false
   },
   "outputs": [
    {
     "data": {
      "text/plain": [
       "29756476"
      ]
     },
     "execution_count": 5,
     "metadata": {},
     "output_type": "execute_result"
    }
   ],
   "source": [
    "rdf"
   ]
  },
  {
   "cell_type": "code",
   "execution_count": 6,
   "metadata": {
    "collapsed": true
   },
   "outputs": [],
   "source": [
    "rdf2 = rdf.drop_duplicates(subset=['N'])"
   ]
  },
  {
   "cell_type": "code",
   "execution_count": 7,
   "metadata": {
    "collapsed": false
   },
   "outputs": [
    {
     "data": {
      "text/plain": [
       "10067032"
      ]
     },
     "execution_count": 7,
     "metadata": {},
     "output_type": "execute_result"
    }
   ],
   "source": [
    "len(rdf2)"
   ]
  },
  {
   "cell_type": "code",
   "execution_count": 5,
   "metadata": {
    "collapsed": false
   },
   "outputs": [
    {
     "data": {
      "text/plain": [
       "50"
      ]
     },
     "execution_count": 5,
     "metadata": {},
     "output_type": "execute_result"
    }
   ],
   "source": [
    "len('GGTCTGAAGTTCAAATCACAGCAACCACATGGTGGCTCACAACCATCTGT')"
   ]
  },
  {
   "cell_type": "code",
   "execution_count": 10,
   "metadata": {
    "collapsed": false
   },
   "outputs": [],
   "source": [
    "with open('/home/parastou/sample.fastq', 'w+') as f:\n",
    "    for index, row in rdf2.iterrows():\n",
    "        n, s, q = row\n",
    "        f.write('>%s\\n%s\\n+\\n%s\\n'  % (n, s, q))"
   ]
  },
  {
   "cell_type": "code",
   "execution_count": 2,
   "metadata": {
    "collapsed": true
   },
   "outputs": [],
   "source": [
    "pysam.sort('-o', '/home/parastou/STARd/tet1_sample.bam', '/home/parastou/STARd/tet1_sample.Aligned.out.bam')\n",
    "pysam.index('/home/parastou/STARd/tet1_sample.bam');"
   ]
  },
  {
   "cell_type": "code",
   "execution_count": 11,
   "metadata": {
    "collapsed": true
   },
   "outputs": [
    {
     "name": "stdout",
     "output_type": "stream",
     "text": [
      "ID: HISEQ:280:C9J9KANXX:1:2215:15146:97826\n",
      "Name: HISEQ:280:C9J9KANXX:1:2215:15146:97826\n",
      "Description: HISEQ:280:C9J9KANXX:1:2215:15146:97826\n",
      "Number of features: 0\n",
      "Per letter annotation for: phred_quality\n",
      "Seq('GGTCTGAAGTTCAAATCACAGCAACCACATGGTGGCTCACAACCATCTGT', SingleLetterAlphabet())\n",
      "ID: HISEQ:280:C9J9KANXX:1:2201:10903:83526\n",
      "Name: HISEQ:280:C9J9KANXX:1:2201:10903:83526\n",
      "Description: HISEQ:280:C9J9KANXX:1:2201:10903:83526\n",
      "Number of features: 0\n",
      "Per letter annotation for: phred_quality\n",
      "Seq('GGTCTGAAGTTCAAATACAAGCAACCACATGGTGGCTCACAACCATCTGT', SingleLetterAlphabet())\n",
      "ID: HISEQ:280:C9J9KANXX:1:2213:10613:32557\n",
      "Name: HISEQ:280:C9J9KANXX:1:2213:10613:32557\n",
      "Description: HISEQ:280:C9J9KANXX:1:2213:10613:32557\n",
      "Number of features: 0\n",
      "Per letter annotation for: phred_quality\n",
      "Seq('GTGTACTTACATATAAATAAATTTTAAAAAAAAAAAAAAAAAAAAAAAAA', SingleLetterAlphabet())\n"
     ]
    }
   ],
   "source": [
    "from Bio import SeqIO\n",
    "for record in SeqIO.parse(\"/home/parastou/mm10/sample.fastq\", \"fastq\"):\n",
    "    print(record)"
   ]
  },
  {
   "cell_type": "code",
   "execution_count": 3,
   "metadata": {
    "collapsed": true
   },
   "outputs": [],
   "source": [
    "names = ['HISEQ:280:C9J9KANXX:1:2215:15146:97826', 'HISEQ:280:C9J9KANXX:1:2215:15146:97826', 'HISEQ:280:C9J9KANXX:1:2213:10613:32557']"
   ]
  },
  {
   "cell_type": "code",
   "execution_count": 4,
   "metadata": {
    "collapsed": true
   },
   "outputs": [],
   "source": [
    "st = pysam.AlignmentFile('/home/parastou/STARd/tet1_sample.bam',\"rb\")\n",
    "st.reset()\n",
    "reads = st.fetch(until_eof=True)\n",
    "for r in reads:\n",
    "    if r.query_name in names:\n",
    "        print r.reference_name, r.reference_start\n",
    "        print r"
   ]
  },
  {
   "cell_type": "code",
   "execution_count": null,
   "metadata": {
    "collapsed": true
   },
   "outputs": [],
   "source": []
  },
  {
   "cell_type": "code",
   "execution_count": 9,
   "metadata": {
    "collapsed": false
   },
   "outputs": [
    {
     "data": {
      "text/plain": [
       "29756476"
      ]
     },
     "execution_count": 9,
     "metadata": {},
     "output_type": "execute_result"
    }
   ],
   "source": [
    "st.reset()\n",
    "reads = st.fetch(until_eof=True)\n",
    "st.count(until_eof=True)"
   ]
  },
  {
   "cell_type": "code",
   "execution_count": null,
   "metadata": {
    "collapsed": true
   },
   "outputs": [],
   "source": [
    "'''/home/parastou/star_2.5.1b  --runThreadN 15   --genomeDir /home/parastou/mm10/STAR5idx_mm10ercc_50bp   \n",
    "--readFilesIn /home/parastou/mm10/sample.fastq  --outFileNamePrefix /home/parastou/STARd/tet1i   \n",
    "--outSAMtype BAM   Unsorted --sjdbGTFfile /home/parastou/mm10/Mus_musculus.GRCm38.75.clean.spike.gtf \n",
    "--winAnchorMultimapNmax 100 --outFilterMultimapScoreRange 5 --outFilterMultimapNmax 100 \n",
    "--seedSearchStartLmaxOverLread 0.1'''\n",
    "\n",
    "\n",
    "'''./star_2.5.1b   --runThreadN 15   --genomeDir /home/parastou/mm10/STAR5idx_mm10ercc_50bp   \n",
    "--readFilesIn /home/parastou/mm10/sample.fastq  --outFileNamePrefix /home/parastou/tet2.   \n",
    "--outSAMtype BAM   Unsorted      --outFilterMultimapNmax 100   --outFilterMismatchNoverReadLmax 0.2   \n",
    "--winAnchorMultimapNmax 100   --sjdbGTFfile /home/parastou/mm10/Mus_musculus.GRCm38.75.clean.spike.gtf   \n",
    "--sjdbOverhang 49   --quantMode TranscriptomeSAM      --twopassMode Basic'''"
   ]
  },
  {
   "cell_type": "code",
   "execution_count": 3,
   "metadata": {
    "collapsed": false,
    "scrolled": false
   },
   "outputs": [
    {
     "name": "stdout",
     "output_type": "stream",
     "text": [
      "chr10 115925518\n",
      "HISEQ:280:C9J9KANXX:1:2215:15146:97826\t256\t0\t115925518\t1\t50M\t-1\t-1\t50\tGGTCTGAAGTTCAAATCACAGCAACCACATGGTGGCTCACAACCATCTGT\tarray('B', [27, 18, 18, 14, 22, 34, 34, 29, 37, 15, 15, 31, 38, 38, 37, 38, 29, 15, 28, 34, 37, 33, 37, 38, 21, 28, 32, 25, 37, 29, 15, 15, 15, 15, 14, 15, 14, 22, 36, 30, 38, 38, 14, 23, 32, 37, 2, 2, 2, 2])\t[('NH', 4), ('HI', 3), ('AS', 47), ('nM', 1)]\n",
      "chr11 101647403\n",
      "HISEQ:280:C9J9KANXX:1:2201:10903:83526\t256\t1\t101647403\t0\t50M\t-1\t-1\t50\tGGTCTGAAGTTCAAATACAAGCAACCACATGGTGGCTCACAACCATCTGT\tarray('B', [25, 29, 27, 15, 15, 16, 31, 37, 16, 16, 16, 16, 31, 37, 38, 16, 26, 16, 16, 31, 16, 15, 31, 37, 16, 16, 28, 15, 36, 16, 16, 16, 16, 16, 14, 16, 15, 16, 29, 25, 27, 37, 2, 2, 2, 2, 2, 2, 2, 2])\t[('NH', 8), ('HI', 7), ('AS', 45), ('nM', 2)]\n",
      "chr11 103955596\n",
      "HISEQ:280:C9J9KANXX:1:2201:10903:83526\t0\t1\t103955596\t0\t50M\t-1\t-1\t50\tGGTCTGAAGTTCAAATACAAGCAACCACATGGTGGCTCACAACCATCTGT\tarray('B', [25, 29, 27, 15, 15, 16, 31, 37, 16, 16, 16, 16, 31, 37, 38, 16, 26, 16, 16, 31, 16, 15, 31, 37, 16, 16, 28, 15, 36, 16, 16, 16, 16, 16, 14, 16, 15, 16, 29, 25, 27, 37, 2, 2, 2, 2, 2, 2, 2, 2])\t[('NH', 8), ('HI', 1), ('AS', 45), ('nM', 2)]\n",
      "chr11 107023715\n",
      "HISEQ:280:C9J9KANXX:1:2215:15146:97826\t272\t1\t107023715\t1\t50M\t-1\t-1\t50\tACAGATGGTTGTGAGCCACCATGTGGTTGCTGTGATTTGAACTTCAGACC\tarray('B', [2, 2, 2, 2, 37, 32, 23, 14, 38, 38, 30, 36, 22, 14, 15, 14, 15, 15, 15, 15, 29, 37, 25, 32, 28, 21, 38, 37, 33, 37, 34, 28, 15, 29, 38, 37, 38, 38, 31, 15, 15, 37, 29, 34, 34, 22, 14, 18, 18, 27])\t[('NH', 4), ('HI', 4), ('AS', 47), ('nM', 1)]\n",
      "chr11 115540618\n",
      "HISEQ:280:C9J9KANXX:1:2201:10903:83526\t272\t1\t115540618\t0\t50M\t-1\t-1\t50\tACAGATGGTTGTGAGCCACCATGTGGTTGCTTGTATTTGAACTTCAGACC\tarray('B', [2, 2, 2, 2, 2, 2, 2, 2, 37, 27, 25, 29, 16, 15, 16, 14, 16, 16, 16, 16, 16, 36, 15, 28, 16, 16, 37, 31, 15, 16, 31, 16, 16, 26, 16, 38, 37, 31, 16, 16, 16, 16, 37, 31, 16, 15, 15, 27, 29, 25])\t[('NH', 8), ('HI', 4), ('AS', 45), ('nM', 2)]\n",
      "chr13 14056562\n",
      "HISEQ:280:C9J9KANXX:1:2213:10613:32557\t0\t3\t14056562\t255\t50M\t-1\t-1\t50\tGTGTACTTACATATAAATAAATTTTAAAAAAAAAAAAAAAAAAAAAAAAA\tarray('B', [18, 18, 18, 15, 27, 16, 16, 16, 28, 16, 31, 16, 34, 31, 38, 38, 38, 16, 37, 38, 38, 34, 16, 16, 16, 31, 37, 38, 38, 38, 38, 38, 38, 38, 38, 38, 38, 38, 38, 38, 38, 38, 38, 38, 38, 38, 38, 38, 38, 38])\t[('NH', 1), ('HI', 1), ('AS', 41), ('nM', 4)]\n",
      "chr15 79087793\n",
      "HISEQ:280:C9J9KANXX:1:2201:10903:83526\t272\t5\t79087793\t0\t50M\t-1\t-1\t50\tACAGATGGTTGTGAGCCACCATGTGGTTGCTTGTATTTGAACTTCAGACC\tarray('B', [2, 2, 2, 2, 2, 2, 2, 2, 37, 27, 25, 29, 16, 15, 16, 14, 16, 16, 16, 16, 16, 36, 15, 28, 16, 16, 37, 31, 15, 16, 31, 16, 16, 26, 16, 38, 37, 31, 16, 16, 16, 16, 37, 31, 16, 15, 15, 27, 29, 25])\t[('NH', 8), ('HI', 5), ('AS', 45), ('nM', 2)]\n",
      "chr18 34471083\n",
      "HISEQ:280:C9J9KANXX:1:2215:15146:97826\t16\t8\t34471083\t1\t50M\t-1\t-1\t50\tACAGATGGTTGTGAGCCACCATGTGGTTGCTGTGATTTGAACTTCAGACC\tarray('B', [2, 2, 2, 2, 37, 32, 23, 14, 38, 38, 30, 36, 22, 14, 15, 14, 15, 15, 15, 15, 29, 37, 25, 32, 28, 21, 38, 37, 33, 37, 34, 28, 15, 29, 38, 37, 38, 38, 31, 15, 15, 37, 29, 34, 34, 22, 14, 18, 18, 27])\t[('NH', 4), ('HI', 1), ('AS', 47), ('nM', 1)]\n",
      "chr19 60753472\n",
      "HISEQ:280:C9J9KANXX:1:2201:10903:83526\t272\t9\t60753472\t0\t50M\t-1\t-1\t50\tACAGATGGTTGTGAGCCACCATGTGGTTGCTTGTATTTGAACTTCAGACC\tarray('B', [2, 2, 2, 2, 2, 2, 2, 2, 37, 27, 25, 29, 16, 15, 16, 14, 16, 16, 16, 16, 16, 36, 15, 28, 16, 16, 37, 31, 15, 16, 31, 16, 16, 26, 16, 38, 37, 31, 16, 16, 16, 16, 37, 31, 16, 15, 15, 27, 29, 25])\t[('NH', 8), ('HI', 6), ('AS', 45), ('nM', 2)]\n",
      "chr2 37670533\n",
      "HISEQ:280:C9J9KANXX:1:2201:10903:83526\t272\t16\t37670533\t0\t50M\t-1\t-1\t50\tACAGATGGTTGTGAGCCACCATGTGGTTGCTTGTATTTGAACTTCAGACC\tarray('B', [2, 2, 2, 2, 2, 2, 2, 2, 37, 27, 25, 29, 16, 15, 16, 14, 16, 16, 16, 16, 16, 36, 15, 28, 16, 16, 37, 31, 15, 16, 31, 16, 16, 26, 16, 38, 37, 31, 16, 16, 16, 16, 37, 31, 16, 15, 15, 27, 29, 25])\t[('NH', 8), ('HI', 8), ('AS', 45), ('nM', 2)]\n",
      "chr5 118016588\n",
      "HISEQ:280:C9J9KANXX:1:2201:10903:83526\t272\t25\t118016588\t0\t3S47M\t-1\t-1\t47\tACAGATGGTTGTGAGCCACCATGTGGTTGCTTGTATTTGAACTTCAGACC\tarray('B', [2, 2, 2, 2, 2, 2, 2, 2, 37, 27, 25, 29, 16, 15, 16, 14, 16, 16, 16, 16, 16, 36, 15, 28, 16, 16, 37, 31, 15, 16, 31, 16, 16, 26, 16, 38, 37, 31, 16, 16, 16, 16, 37, 31, 16, 15, 15, 27, 29, 25])\t[('NH', 8), ('HI', 2), ('AS', 44), ('nM', 1)]\n",
      "chr7 127670469\n",
      "HISEQ:280:C9J9KANXX:1:2201:10903:83526\t272\t32\t127670469\t0\t50M\t-1\t-1\t50\tACAGATGGTTGTGAGCCACCATGTGGTTGCTTGTATTTGAACTTCAGACC\tarray('B', [2, 2, 2, 2, 2, 2, 2, 2, 37, 27, 25, 29, 16, 15, 16, 14, 16, 16, 16, 16, 16, 36, 15, 28, 16, 16, 37, 31, 15, 16, 31, 16, 16, 26, 16, 38, 37, 31, 16, 16, 16, 16, 37, 31, 16, 15, 15, 27, 29, 25])\t[('NH', 8), ('HI', 3), ('AS', 45), ('nM', 2)]\n",
      "chr9 119318118\n",
      "HISEQ:280:C9J9KANXX:1:2215:15146:97826\t272\t35\t119318118\t1\t50M\t-1\t-1\t50\tACAGATGGTTGTGAGCCACCATGTGGTTGCTGTGATTTGAACTTCAGACC\tarray('B', [2, 2, 2, 2, 37, 32, 23, 14, 38, 38, 30, 36, 22, 14, 15, 14, 15, 15, 15, 15, 29, 37, 25, 32, 28, 21, 38, 37, 33, 37, 34, 28, 15, 29, 38, 37, 38, 38, 31, 15, 15, 37, 29, 34, 34, 22, 14, 18, 18, 27])\t[('NH', 4), ('HI', 2), ('AS', 47), ('nM', 1)]\n"
     ]
    }
   ],
   "source": [
    "pysam.sort('-o', '/home/parastou/STARd/tet2.bam', '/home/parastou/STARd/tet2.Aligned.out.bam')\n",
    "pysam.index('/home/parastou/STARd/tet2.bam');\n",
    "\n",
    "st = pysam.AlignmentFile('/home/parastou/STARd/tet2.bam',\"rb\")\n",
    "st.reset()\n",
    "reads = st.fetch(until_eof=True)\n",
    "for r in reads:\n",
    "    print r.reference_name, r.reference_start\n",
    "    print r"
   ]
  },
  {
   "cell_type": "code",
   "execution_count": null,
   "metadata": {
    "collapsed": true
   },
   "outputs": [],
   "source": [
    "'''\n",
    "/home/parastou/star_2.5.1b  --runThreadN 15   --genomeDir /home/parastou/mm10/STAR5idx_mm10ercc_50bp   \n",
    "--readFilesIn /home/parastou/mm10/sample.fastq  --outFileNamePrefix /home/parastou/STARd/tet3j   \n",
    "--outSAMtype BAM   Unsorted --sjdbGTFfile /home/parastou/mm10/Mus_musculus.GRCm38.75.clean.spike.gtf \n",
    "--winAnchorMultimapNmax 100 --outFilterMultimapScoreRange 5 --outFilterMultimapNmax 100 --outFilterMismatchNoverReadLmax 0.2\n",
    "'''"
   ]
  },
  {
   "cell_type": "code",
   "execution_count": 6,
   "metadata": {
    "collapsed": false,
    "scrolled": true
   },
   "outputs": [
    {
     "name": "stdout",
     "output_type": "stream",
     "text": [
      "chr10 67369623\n",
      "HISEQ:280:C9J9KANXX:1:2215:15146:97826\t272\t0\t67369623\t0\t50M\t-1\t-1\t50\tACAGATGGTTGTGAGCCACCATGTGGTTGCTGTGATTTGAACTTCAGACC\tarray('B', [2, 2, 2, 2, 37, 32, 23, 14, 38, 38, 30, 36, 22, 14, 15, 14, 15, 15, 15, 15, 29, 37, 25, 32, 28, 21, 38, 37, 33, 37, 34, 28, 15, 29, 38, 37, 38, 38, 31, 15, 15, 37, 29, 34, 34, 22, 14, 18, 18, 27])\t[('NH', 22), ('HI', 18), ('AS', 43), ('nM', 3)]\n",
      "chr10 115925518\n",
      "HISEQ:280:C9J9KANXX:1:2215:15146:97826\t256\t0\t115925518\t0\t50M\t-1\t-1\t50\tGGTCTGAAGTTCAAATCACAGCAACCACATGGTGGCTCACAACCATCTGT\tarray('B', [27, 18, 18, 14, 22, 34, 34, 29, 37, 15, 15, 31, 38, 38, 37, 38, 29, 15, 28, 34, 37, 33, 37, 38, 21, 28, 32, 25, 37, 29, 15, 15, 15, 15, 14, 15, 14, 22, 36, 30, 38, 38, 14, 23, 32, 37, 2, 2, 2, 2])\t[('NH', 22), ('HI', 15), ('AS', 47), ('nM', 1)]\n",
      "chr11 39150627\n",
      "HISEQ:280:C9J9KANXX:1:2213:10613:32557\t256\t1\t39150627\t0\t22M18743N28M\t-1\t-1\t50\tGTGTACTTACATATAAATAAATTTTAAAAAAAAAAAAAAAAAAAAAAAAA\tarray('B', [18, 18, 18, 15, 27, 16, 16, 16, 28, 16, 31, 16, 34, 31, 38, 38, 38, 16, 37, 38, 38, 34, 16, 16, 16, 31, 37, 38, 38, 38, 38, 38, 38, 38, 38, 38, 38, 38, 38, 38, 38, 38, 38, 38, 38, 38, 38, 38, 38, 38])\t[('NH', 5), ('HI', 5), ('AS', 38), ('nM', 0)]\n",
      "chr11 60803097\n",
      "HISEQ:280:C9J9KANXX:1:2201:10903:83526\t272\t1\t60803097\t0\t50M\t-1\t-1\t50\tACAGATGGTTGTGAGCCACCATGTGGTTGCTTGTATTTGAACTTCAGACC\tarray('B', [2, 2, 2, 2, 2, 2, 2, 2, 37, 27, 25, 29, 16, 15, 16, 14, 16, 16, 16, 16, 16, 36, 15, 28, 16, 16, 37, 31, 15, 16, 31, 16, 16, 26, 16, 38, 37, 31, 16, 16, 16, 16, 37, 31, 16, 15, 15, 27, 29, 25])\t[('NH', 39), ('HI', 12), ('AS', 41), ('nM', 4)]\n",
      "chr11 60887302\n",
      "HISEQ:280:C9J9KANXX:1:2215:15146:97826\t256\t1\t60887302\t0\t50M\t-1\t-1\t50\tGGTCTGAAGTTCAAATCACAGCAACCACATGGTGGCTCACAACCATCTGT\tarray('B', [27, 18, 18, 14, 22, 34, 34, 29, 37, 15, 15, 31, 38, 38, 37, 38, 29, 15, 28, 34, 37, 33, 37, 38, 21, 28, 32, 25, 37, 29, 15, 15, 15, 15, 14, 15, 14, 22, 36, 30, 38, 38, 14, 23, 32, 37, 2, 2, 2, 2])\t[('NH', 22), ('HI', 20), ('AS', 43), ('nM', 3)]\n",
      "chr11 101647403\n",
      "HISEQ:280:C9J9KANXX:1:2201:10903:83526\t256\t1\t101647403\t0\t50M\t-1\t-1\t50\tGGTCTGAAGTTCAAATACAAGCAACCACATGGTGGCTCACAACCATCTGT\tarray('B', [25, 29, 27, 15, 15, 16, 31, 37, 16, 16, 16, 16, 31, 37, 38, 16, 26, 16, 16, 31, 16, 15, 31, 37, 16, 16, 28, 15, 36, 16, 16, 16, 16, 16, 14, 16, 15, 16, 29, 25, 27, 37, 2, 2, 2, 2, 2, 2, 2, 2])\t[('NH', 39), ('HI', 37), ('AS', 45), ('nM', 2)]\n",
      "chr11 103955596\n",
      "HISEQ:280:C9J9KANXX:1:2201:10903:83526\t0\t1\t103955596\t0\t50M\t-1\t-1\t50\tGGTCTGAAGTTCAAATACAAGCAACCACATGGTGGCTCACAACCATCTGT\tarray('B', [25, 29, 27, 15, 15, 16, 31, 37, 16, 16, 16, 16, 31, 37, 38, 16, 26, 16, 16, 31, 16, 15, 31, 37, 16, 16, 28, 15, 36, 16, 16, 16, 16, 16, 14, 16, 15, 16, 29, 25, 27, 37, 2, 2, 2, 2, 2, 2, 2, 2])\t[('NH', 39), ('HI', 1), ('AS', 45), ('nM', 2)]\n",
      "chr11 106851157\n",
      "HISEQ:280:C9J9KANXX:1:2215:15146:97826\t272\t1\t106851157\t0\t50M\t-1\t-1\t50\tACAGATGGTTGTGAGCCACCATGTGGTTGCTGTGATTTGAACTTCAGACC\tarray('B', [2, 2, 2, 2, 37, 32, 23, 14, 38, 38, 30, 36, 22, 14, 15, 14, 15, 15, 15, 15, 29, 37, 25, 32, 28, 21, 38, 37, 33, 37, 34, 28, 15, 29, 38, 37, 38, 38, 31, 15, 15, 37, 29, 34, 34, 22, 14, 18, 18, 27])\t[('NH', 22), ('HI', 17), ('AS', 45), ('nM', 2)]\n",
      "chr11 107023715\n",
      "HISEQ:280:C9J9KANXX:1:2215:15146:97826\t272\t1\t107023715\t0\t50M\t-1\t-1\t50\tACAGATGGTTGTGAGCCACCATGTGGTTGCTGTGATTTGAACTTCAGACC\tarray('B', [2, 2, 2, 2, 37, 32, 23, 14, 38, 38, 30, 36, 22, 14, 15, 14, 15, 15, 15, 15, 29, 37, 25, 32, 28, 21, 38, 37, 33, 37, 34, 28, 15, 29, 38, 37, 38, 38, 31, 15, 15, 37, 29, 34, 34, 22, 14, 18, 18, 27])\t[('NH', 22), ('HI', 16), ('AS', 47), ('nM', 1)]\n",
      "chr11 115540618\n",
      "HISEQ:280:C9J9KANXX:1:2201:10903:83526\t272\t1\t115540618\t0\t50M\t-1\t-1\t50\tACAGATGGTTGTGAGCCACCATGTGGTTGCTTGTATTTGAACTTCAGACC\tarray('B', [2, 2, 2, 2, 2, 2, 2, 2, 37, 27, 25, 29, 16, 15, 16, 14, 16, 16, 16, 16, 16, 36, 15, 28, 16, 16, 37, 31, 15, 16, 31, 16, 16, 26, 16, 38, 37, 31, 16, 16, 16, 16, 37, 31, 16, 15, 15, 27, 29, 25])\t[('NH', 39), ('HI', 9), ('AS', 45), ('nM', 2)]\n",
      "chr11 119866135\n",
      "HISEQ:280:C9J9KANXX:1:2201:10903:83526\t272\t1\t119866135\t0\t50M\t-1\t-1\t50\tACAGATGGTTGTGAGCCACCATGTGGTTGCTTGTATTTGAACTTCAGACC\tarray('B', [2, 2, 2, 2, 2, 2, 2, 2, 37, 27, 25, 29, 16, 15, 16, 14, 16, 16, 16, 16, 16, 36, 15, 28, 16, 16, 37, 31, 15, 16, 31, 16, 16, 26, 16, 38, 37, 31, 16, 16, 16, 16, 37, 31, 16, 15, 15, 27, 29, 25])\t[('NH', 39), ('HI', 32), ('AS', 41), ('nM', 4)]\n",
      "chr12 4763573\n",
      "HISEQ:280:C9J9KANXX:1:2215:15146:97826\t256\t2\t4763573\t0\t50M\t-1\t-1\t50\tGGTCTGAAGTTCAAATCACAGCAACCACATGGTGGCTCACAACCATCTGT\tarray('B', [27, 18, 18, 14, 22, 34, 34, 29, 37, 15, 15, 31, 38, 38, 37, 38, 29, 15, 28, 34, 37, 33, 37, 38, 21, 28, 32, 25, 37, 29, 15, 15, 15, 15, 14, 15, 14, 22, 36, 30, 38, 38, 14, 23, 32, 37, 2, 2, 2, 2])\t[('NH', 22), ('HI', 21), ('AS', 43), ('nM', 3)]\n",
      "chr12 4785570\n",
      "HISEQ:280:C9J9KANXX:1:2201:10903:83526\t256\t2\t4785570\t0\t50M\t-1\t-1\t50\tGGTCTGAAGTTCAAATACAAGCAACCACATGGTGGCTCACAACCATCTGT\tarray('B', [25, 29, 27, 15, 15, 16, 31, 37, 16, 16, 16, 16, 31, 37, 38, 16, 26, 16, 16, 31, 16, 15, 31, 37, 16, 16, 28, 15, 36, 16, 16, 16, 16, 16, 14, 16, 15, 16, 29, 25, 27, 37, 2, 2, 2, 2, 2, 2, 2, 2])\t[('NH', 39), ('HI', 5), ('AS', 41), ('nM', 4)]\n",
      "chr13 14056562\n",
      "HISEQ:280:C9J9KANXX:1:2213:10613:32557\t0\t3\t14056562\t0\t50M\t-1\t-1\t50\tGTGTACTTACATATAAATAAATTTTAAAAAAAAAAAAAAAAAAAAAAAAA\tarray('B', [18, 18, 18, 15, 27, 16, 16, 16, 28, 16, 31, 16, 34, 31, 38, 38, 38, 16, 37, 38, 38, 34, 16, 16, 16, 31, 37, 38, 38, 38, 38, 38, 38, 38, 38, 38, 38, 38, 38, 38, 38, 38, 38, 38, 38, 38, 38, 38, 38, 38])\t[('NH', 5), ('HI', 1), ('AS', 41), ('nM', 4)]\n",
      "chr14 64230290\n",
      "HISEQ:280:C9J9KANXX:1:2201:10903:83526\t256\t4\t64230290\t0\t50M\t-1\t-1\t50\tGGTCTGAAGTTCAAATACAAGCAACCACATGGTGGCTCACAACCATCTGT\tarray('B', [25, 29, 27, 15, 15, 16, 31, 37, 16, 16, 16, 16, 31, 37, 38, 16, 26, 16, 16, 31, 16, 15, 31, 37, 16, 16, 28, 15, 36, 16, 16, 16, 16, 16, 14, 16, 15, 16, 29, 25, 27, 37, 2, 2, 2, 2, 2, 2, 2, 2])\t[('NH', 39), ('HI', 13), ('AS', 43), ('nM', 3)]\n",
      "chr14 81488883\n",
      "HISEQ:280:C9J9KANXX:1:2213:10613:32557\t272\t4\t81488883\t0\t27M167708N23M\t-1\t-1\t50\tTTTTTTTTTTTTTTTTTTTTTTTTTAAAATTTATTTATATGTAAGTACAC\tarray('B', [38, 38, 38, 38, 38, 38, 38, 38, 38, 38, 38, 38, 38, 38, 38, 38, 38, 38, 38, 38, 38, 38, 38, 37, 31, 16, 16, 16, 34, 38, 38, 37, 16, 38, 38, 38, 31, 34, 16, 31, 16, 28, 16, 16, 16, 27, 15, 18, 18, 18])\t[('NH', 5), ('HI', 4), ('AS', 38), ('nM', 0)]\n",
      "chr15 78933246\n",
      "HISEQ:280:C9J9KANXX:1:2201:10903:83526\t272\t5\t78933246\t0\t43M7S\t-1\t-1\t43\tACAGATGGTTGTGAGCCACCATGTGGTTGCTTGTATTTGAACTTCAGACC\tarray('B', [2, 2, 2, 2, 2, 2, 2, 2, 37, 27, 25, 29, 16, 15, 16, 14, 16, 16, 16, 16, 16, 36, 15, 28, 16, 16, 37, 31, 15, 16, 31, 16, 16, 26, 16, 38, 37, 31, 16, 16, 16, 16, 37, 31, 16, 15, 15, 27, 29, 25])\t[('NH', 39), ('HI', 27), ('AS', 40), ('nM', 1)]\n",
      "chr15 78964324\n",
      "HISEQ:280:C9J9KANXX:1:2201:10903:83526\t272\t5\t78964324\t0\t50M\t-1\t-1\t50\tACAGATGGTTGTGAGCCACCATGTGGTTGCTTGTATTTGAACTTCAGACC\tarray('B', [2, 2, 2, 2, 2, 2, 2, 2, 37, 27, 25, 29, 16, 15, 16, 14, 16, 16, 16, 16, 16, 36, 15, 28, 16, 16, 37, 31, 15, 16, 31, 16, 16, 26, 16, 38, 37, 31, 16, 16, 16, 16, 37, 31, 16, 15, 15, 27, 29, 25])\t[('NH', 39), ('HI', 26), ('AS', 41), ('nM', 4)]\n",
      "chr15 79087793\n",
      "HISEQ:280:C9J9KANXX:1:2201:10903:83526\t272\t5\t79087793\t0\t50M\t-1\t-1\t50\tACAGATGGTTGTGAGCCACCATGTGGTTGCTTGTATTTGAACTTCAGACC\tarray('B', [2, 2, 2, 2, 2, 2, 2, 2, 37, 27, 25, 29, 16, 15, 16, 14, 16, 16, 16, 16, 16, 36, 15, 28, 16, 16, 37, 31, 15, 16, 31, 16, 16, 26, 16, 38, 37, 31, 16, 16, 16, 16, 37, 31, 16, 15, 15, 27, 29, 25])\t[('NH', 39), ('HI', 24), ('AS', 45), ('nM', 2)]\n",
      "chr15 79143272\n",
      "HISEQ:280:C9J9KANXX:1:2201:10903:83526\t272\t5\t79143272\t0\t50M\t-1\t-1\t50\tACAGATGGTTGTGAGCCACCATGTGGTTGCTTGTATTTGAACTTCAGACC\tarray('B', [2, 2, 2, 2, 2, 2, 2, 2, 37, 27, 25, 29, 16, 15, 16, 14, 16, 16, 16, 16, 16, 36, 15, 28, 16, 16, 37, 31, 15, 16, 31, 16, 16, 26, 16, 38, 37, 31, 16, 16, 16, 16, 37, 31, 16, 15, 15, 27, 29, 25])\t[('NH', 39), ('HI', 25), ('AS', 41), ('nM', 4)]\n",
      "chr15 102550432\n",
      "HISEQ:280:C9J9KANXX:1:2201:10903:83526\t272\t5\t102550432\t0\t50M\t-1\t-1\t50\tACAGATGGTTGTGAGCCACCATGTGGTTGCTTGTATTTGAACTTCAGACC\tarray('B', [2, 2, 2, 2, 2, 2, 2, 2, 37, 27, 25, 29, 16, 15, 16, 14, 16, 16, 16, 16, 16, 36, 15, 28, 16, 16, 37, 31, 15, 16, 31, 16, 16, 26, 16, 38, 37, 31, 16, 16, 16, 16, 37, 31, 16, 15, 15, 27, 29, 25])\t[('NH', 39), ('HI', 33), ('AS', 43), ('nM', 3)]\n",
      "chr16 13767291\n",
      "HISEQ:280:C9J9KANXX:1:2215:15146:97826\t272\t6\t13767291\t0\t50M\t-1\t-1\t50\tACAGATGGTTGTGAGCCACCATGTGGTTGCTGTGATTTGAACTTCAGACC\tarray('B', [2, 2, 2, 2, 37, 32, 23, 14, 38, 38, 30, 36, 22, 14, 15, 14, 15, 15, 15, 15, 29, 37, 25, 32, 28, 21, 38, 37, 33, 37, 34, 28, 15, 29, 38, 37, 38, 38, 31, 15, 15, 37, 29, 34, 34, 22, 14, 18, 18, 27])\t[('NH', 22), ('HI', 3), ('AS', 43), ('nM', 3)]\n",
      "chr17 88519425\n",
      "HISEQ:280:C9J9KANXX:1:2201:10903:83526\t272\t7\t88519425\t0\t50M\t-1\t-1\t50\tACAGATGGTTGTGAGCCACCATGTGGTTGCTTGTATTTGAACTTCAGACC\tarray('B', [2, 2, 2, 2, 2, 2, 2, 2, 37, 27, 25, 29, 16, 15, 16, 14, 16, 16, 16, 16, 16, 36, 15, 28, 16, 16, 37, 31, 15, 16, 31, 16, 16, 26, 16, 38, 37, 31, 16, 16, 16, 16, 37, 31, 16, 15, 15, 27, 29, 25])\t[('NH', 39), ('HI', 19), ('AS', 43), ('nM', 3)]\n",
      "chr18 10799336\n",
      "HISEQ:280:C9J9KANXX:1:2201:10903:83526\t272\t8\t10799336\t0\t49M1S\t-1\t-1\t49\tACAGATGGTTGTGAGCCACCATGTGGTTGCTTGTATTTGAACTTCAGACC\tarray('B', [2, 2, 2, 2, 2, 2, 2, 2, 37, 27, 25, 29, 16, 15, 16, 14, 16, 16, 16, 16, 16, 36, 15, 28, 16, 16, 37, 31, 15, 16, 31, 16, 16, 26, 16, 38, 37, 31, 16, 16, 16, 16, 37, 31, 16, 15, 15, 27, 29, 25])\t[('NH', 39), ('HI', 30), ('AS', 40), ('nM', 4)]\n",
      "chr18 34471083\n",
      "HISEQ:280:C9J9KANXX:1:2215:15146:97826\t16\t8\t34471083\t0\t50M\t-1\t-1\t50\tACAGATGGTTGTGAGCCACCATGTGGTTGCTGTGATTTGAACTTCAGACC\tarray('B', [2, 2, 2, 2, 37, 32, 23, 14, 38, 38, 30, 36, 22, 14, 15, 14, 15, 15, 15, 15, 29, 37, 25, 32, 28, 21, 38, 37, 33, 37, 34, 28, 15, 29, 38, 37, 38, 38, 31, 15, 15, 37, 29, 34, 34, 22, 14, 18, 18, 27])\t[('NH', 22), ('HI', 1), ('AS', 47), ('nM', 1)]\n",
      "chr18 34527414\n",
      "HISEQ:280:C9J9KANXX:1:2215:15146:97826\t272\t8\t34527414\t0\t50M\t-1\t-1\t50\tACAGATGGTTGTGAGCCACCATGTGGTTGCTGTGATTTGAACTTCAGACC\tarray('B', [2, 2, 2, 2, 37, 32, 23, 14, 38, 38, 30, 36, 22, 14, 15, 14, 15, 15, 15, 15, 29, 37, 25, 32, 28, 21, 38, 37, 33, 37, 34, 28, 15, 29, 38, 37, 38, 38, 31, 15, 15, 37, 29, 34, 34, 22, 14, 18, 18, 27])\t[('NH', 22), ('HI', 2), ('AS', 45), ('nM', 2)]\n",
      "chr19 60753472\n",
      "HISEQ:280:C9J9KANXX:1:2201:10903:83526\t272\t9\t60753472\t0\t50M\t-1\t-1\t50\tACAGATGGTTGTGAGCCACCATGTGGTTGCTTGTATTTGAACTTCAGACC\tarray('B', [2, 2, 2, 2, 2, 2, 2, 2, 37, 27, 25, 29, 16, 15, 16, 14, 16, 16, 16, 16, 16, 36, 15, 28, 16, 16, 37, 31, 15, 16, 31, 16, 16, 26, 16, 38, 37, 31, 16, 16, 16, 16, 37, 31, 16, 15, 15, 27, 29, 25])\t[('NH', 39), ('HI', 28), ('AS', 45), ('nM', 2)]\n",
      "chr1 38196724\n",
      "HISEQ:280:C9J9KANXX:1:2201:10903:83526\t272\t10\t38196724\t0\t50M\t-1\t-1\t50\tACAGATGGTTGTGAGCCACCATGTGGTTGCTTGTATTTGAACTTCAGACC\tarray('B', [2, 2, 2, 2, 2, 2, 2, 2, 37, 27, 25, 29, 16, 15, 16, 14, 16, 16, 16, 16, 16, 36, 15, 28, 16, 16, 37, 31, 15, 16, 31, 16, 16, 26, 16, 38, 37, 31, 16, 16, 16, 16, 37, 31, 16, 15, 15, 27, 29, 25])\t[('NH', 39), ('HI', 35), ('AS', 41), ('nM', 4)]\n",
      "chr1 129489346\n",
      "HISEQ:280:C9J9KANXX:1:2215:15146:97826\t272\t10\t129489346\t0\t50M\t-1\t-1\t50\tACAGATGGTTGTGAGCCACCATGTGGTTGCTGTGATTTGAACTTCAGACC\tarray('B', [2, 2, 2, 2, 37, 32, 23, 14, 38, 38, 30, 36, 22, 14, 15, 14, 15, 15, 15, 15, 29, 37, 25, 32, 28, 21, 38, 37, 33, 37, 34, 28, 15, 29, 38, 37, 38, 38, 31, 15, 15, 37, 29, 34, 34, 22, 14, 18, 18, 27])\t[('NH', 22), ('HI', 12), ('AS', 43), ('nM', 3)]\n",
      "chr1 171668450\n",
      "HISEQ:280:C9J9KANXX:1:2215:15146:97826\t256\t10\t171668450\t0\t50M\t-1\t-1\t50\tGGTCTGAAGTTCAAATCACAGCAACCACATGGTGGCTCACAACCATCTGT\tarray('B', [27, 18, 18, 14, 22, 34, 34, 29, 37, 15, 15, 31, 38, 38, 37, 38, 29, 15, 28, 34, 37, 33, 37, 38, 21, 28, 32, 25, 37, 29, 15, 15, 15, 15, 14, 15, 14, 22, 36, 30, 38, 38, 14, 23, 32, 37, 2, 2, 2, 2])\t[('NH', 22), ('HI', 10), ('AS', 43), ('nM', 3)]\n",
      "chr1 183416254\n",
      "HISEQ:280:C9J9KANXX:1:2201:10903:83526\t272\t10\t183416254\t0\t50M\t-1\t-1\t50\tACAGATGGTTGTGAGCCACCATGTGGTTGCTTGTATTTGAACTTCAGACC\tarray('B', [2, 2, 2, 2, 2, 2, 2, 2, 37, 27, 25, 29, 16, 15, 16, 14, 16, 16, 16, 16, 16, 36, 15, 28, 16, 16, 37, 31, 15, 16, 31, 16, 16, 26, 16, 38, 37, 31, 16, 16, 16, 16, 37, 31, 16, 15, 15, 27, 29, 25])\t[('NH', 39), ('HI', 22), ('AS', 41), ('nM', 4)]\n",
      "chr1 189626516\n",
      "HISEQ:280:C9J9KANXX:1:2201:10903:83526\t256\t10\t189626516\t0\t7S43M\t-1\t-1\t43\tGGTCTGAAGTTCAAATACAAGCAACCACATGGTGGCTCACAACCATCTGT\tarray('B', [25, 29, 27, 15, 15, 16, 31, 37, 16, 16, 16, 16, 31, 37, 38, 16, 26, 16, 16, 31, 16, 15, 31, 37, 16, 16, 28, 15, 36, 16, 16, 16, 16, 16, 14, 16, 15, 16, 29, 25, 27, 37, 2, 2, 2, 2, 2, 2, 2, 2])\t[('NH', 39), ('HI', 14), ('AS', 40), ('nM', 1)]\n",
      "chr2 23139694\n",
      "HISEQ:280:C9J9KANXX:1:2201:10903:83526\t256\t16\t23139694\t0\t50M\t-1\t-1\t50\tGGTCTGAAGTTCAAATACAAGCAACCACATGGTGGCTCACAACCATCTGT\tarray('B', [25, 29, 27, 15, 15, 16, 31, 37, 16, 16, 16, 16, 31, 37, 38, 16, 26, 16, 16, 31, 16, 15, 31, 37, 16, 16, 28, 15, 36, 16, 16, 16, 16, 16, 14, 16, 15, 16, 29, 25, 27, 37, 2, 2, 2, 2, 2, 2, 2, 2])\t[('NH', 39), ('HI', 18), ('AS', 41), ('nM', 4)]\n",
      "chr2 33009026\n",
      "HISEQ:280:C9J9KANXX:1:2215:15146:97826\t272\t16\t33009026\t0\t50M\t-1\t-1\t50\tACAGATGGTTGTGAGCCACCATGTGGTTGCTGTGATTTGAACTTCAGACC\tarray('B', [2, 2, 2, 2, 37, 32, 23, 14, 38, 38, 30, 36, 22, 14, 15, 14, 15, 15, 15, 15, 29, 37, 25, 32, 28, 21, 38, 37, 33, 37, 34, 28, 15, 29, 38, 37, 38, 38, 31, 15, 15, 37, 29, 34, 34, 22, 14, 18, 18, 27])\t[('NH', 22), ('HI', 5), ('AS', 43), ('nM', 3)]\n",
      "chr2 37404503\n",
      "HISEQ:280:C9J9KANXX:1:2201:10903:83526\t272\t16\t37404503\t0\t50M\t-1\t-1\t50\tACAGATGGTTGTGAGCCACCATGTGGTTGCTTGTATTTGAACTTCAGACC\tarray('B', [2, 2, 2, 2, 2, 2, 2, 2, 37, 27, 25, 29, 16, 15, 16, 14, 16, 16, 16, 16, 16, 36, 15, 28, 16, 16, 37, 31, 15, 16, 31, 16, 16, 26, 16, 38, 37, 31, 16, 16, 16, 16, 37, 31, 16, 15, 15, 27, 29, 25])\t[('NH', 39), ('HI', 39), ('AS', 41), ('nM', 4)]\n",
      "chr2 37670533\n",
      "HISEQ:280:C9J9KANXX:1:2201:10903:83526\t272\t16\t37670533\t0\t50M\t-1\t-1\t50\tACAGATGGTTGTGAGCCACCATGTGGTTGCTTGTATTTGAACTTCAGACC\tarray('B', [2, 2, 2, 2, 2, 2, 2, 2, 37, 27, 25, 29, 16, 15, 16, 14, 16, 16, 16, 16, 16, 36, 15, 28, 16, 16, 37, 31, 15, 16, 31, 16, 16, 26, 16, 38, 37, 31, 16, 16, 16, 16, 37, 31, 16, 15, 15, 27, 29, 25])\t[('NH', 39), ('HI', 38), ('AS', 45), ('nM', 2)]\n",
      "chr2 90964097\n",
      "HISEQ:280:C9J9KANXX:1:2201:10903:83526\t272\t16\t90964097\t0\t50M\t-1\t-1\t50\tACAGATGGTTGTGAGCCACCATGTGGTTGCTTGTATTTGAACTTCAGACC\tarray('B', [2, 2, 2, 2, 2, 2, 2, 2, 37, 27, 25, 29, 16, 15, 16, 14, 16, 16, 16, 16, 16, 36, 15, 28, 16, 16, 37, 31, 15, 16, 31, 16, 16, 26, 16, 38, 37, 31, 16, 16, 16, 16, 37, 31, 16, 15, 15, 27, 29, 25])\t[('NH', 39), ('HI', 23), ('AS', 43), ('nM', 3)]\n",
      "chr2 119400016\n",
      "HISEQ:280:C9J9KANXX:1:2215:15146:97826\t256\t16\t119400016\t0\t50M\t-1\t-1\t50\tGGTCTGAAGTTCAAATCACAGCAACCACATGGTGGCTCACAACCATCTGT\tarray('B', [27, 18, 18, 14, 22, 34, 34, 29, 37, 15, 15, 31, 38, 38, 37, 38, 29, 15, 28, 34, 37, 33, 37, 38, 21, 28, 32, 25, 37, 29, 15, 15, 15, 15, 14, 15, 14, 22, 36, 30, 38, 38, 14, 23, 32, 37, 2, 2, 2, 2])\t[('NH', 22), ('HI', 7), ('AS', 43), ('nM', 3)]\n",
      "chr2 120042878\n",
      "HISEQ:280:C9J9KANXX:1:2215:15146:97826\t256\t16\t120042878\t0\t50M\t-1\t-1\t50\tGGTCTGAAGTTCAAATCACAGCAACCACATGGTGGCTCACAACCATCTGT\tarray('B', [27, 18, 18, 14, 22, 34, 34, 29, 37, 15, 15, 31, 38, 38, 37, 38, 29, 15, 28, 34, 37, 33, 37, 38, 21, 28, 32, 25, 37, 29, 15, 15, 15, 15, 14, 15, 14, 22, 36, 30, 38, 38, 14, 23, 32, 37, 2, 2, 2, 2])\t[('NH', 22), ('HI', 6), ('AS', 43), ('nM', 3)]\n",
      "chr2 128446144\n",
      "HISEQ:280:C9J9KANXX:1:2201:10903:83526\t256\t16\t128446144\t0\t50M\t-1\t-1\t50\tGGTCTGAAGTTCAAATACAAGCAACCACATGGTGGCTCACAACCATCTGT\tarray('B', [25, 29, 27, 15, 15, 16, 31, 37, 16, 16, 16, 16, 31, 37, 38, 16, 26, 16, 16, 31, 16, 15, 31, 37, 16, 16, 28, 15, 36, 16, 16, 16, 16, 16, 14, 16, 15, 16, 29, 25, 27, 37, 2, 2, 2, 2, 2, 2, 2, 2])\t[('NH', 39), ('HI', 17), ('AS', 41), ('nM', 4)]\n",
      "chr2 153722271\n",
      "HISEQ:280:C9J9KANXX:1:2201:10903:83526\t272\t16\t153722271\t0\t3S47M\t-1\t-1\t47\tACAGATGGTTGTGAGCCACCATGTGGTTGCTTGTATTTGAACTTCAGACC\tarray('B', [2, 2, 2, 2, 2, 2, 2, 2, 37, 27, 25, 29, 16, 15, 16, 14, 16, 16, 16, 16, 16, 36, 15, 28, 16, 16, 37, 31, 15, 16, 31, 16, 16, 26, 16, 38, 37, 31, 16, 16, 16, 16, 37, 31, 16, 15, 15, 27, 29, 25])\t[('NH', 39), ('HI', 29), ('AS', 42), ('nM', 2)]\n",
      "chr2 168317757\n",
      "HISEQ:280:C9J9KANXX:1:2215:15146:97826\t272\t16\t168317757\t0\t50M\t-1\t-1\t50\tACAGATGGTTGTGAGCCACCATGTGGTTGCTGTGATTTGAACTTCAGACC\tarray('B', [2, 2, 2, 2, 37, 32, 23, 14, 38, 38, 30, 36, 22, 14, 15, 14, 15, 15, 15, 15, 29, 37, 25, 32, 28, 21, 38, 37, 33, 37, 34, 28, 15, 29, 38, 37, 38, 38, 31, 15, 15, 37, 29, 34, 34, 22, 14, 18, 18, 27])\t[('NH', 22), ('HI', 11), ('AS', 43), ('nM', 3)]\n",
      "chr3 65492928\n",
      "HISEQ:280:C9J9KANXX:1:2201:10903:83526\t256\t17\t65492928\t0\t50M\t-1\t-1\t50\tGGTCTGAAGTTCAAATACAAGCAACCACATGGTGGCTCACAACCATCTGT\tarray('B', [25, 29, 27, 15, 15, 16, 31, 37, 16, 16, 16, 16, 31, 37, 38, 16, 26, 16, 16, 31, 16, 15, 31, 37, 16, 16, 28, 15, 36, 16, 16, 16, 16, 16, 14, 16, 15, 16, 29, 25, 27, 37, 2, 2, 2, 2, 2, 2, 2, 2])\t[('NH', 39), ('HI', 36), ('AS', 41), ('nM', 4)]\n",
      "chr3 137823886\n",
      "HISEQ:280:C9J9KANXX:1:2201:10903:83526\t256\t17\t137823886\t0\t50M\t-1\t-1\t50\tGGTCTGAAGTTCAAATACAAGCAACCACATGGTGGCTCACAACCATCTGT\tarray('B', [25, 29, 27, 15, 15, 16, 31, 37, 16, 16, 16, 16, 31, 37, 38, 16, 26, 16, 16, 31, 16, 15, 31, 37, 16, 16, 28, 15, 36, 16, 16, 16, 16, 16, 14, 16, 15, 16, 29, 25, 27, 37, 2, 2, 2, 2, 2, 2, 2, 2])\t[('NH', 39), ('HI', 31), ('AS', 41), ('nM', 4)]\n",
      "chr4 124721297\n",
      "HISEQ:280:C9J9KANXX:1:2201:10903:83526\t272\t18\t124721297\t0\t50M\t-1\t-1\t50\tACAGATGGTTGTGAGCCACCATGTGGTTGCTTGTATTTGAACTTCAGACC\tarray('B', [2, 2, 2, 2, 2, 2, 2, 2, 37, 27, 25, 29, 16, 15, 16, 14, 16, 16, 16, 16, 16, 36, 15, 28, 16, 16, 37, 31, 15, 16, 31, 16, 16, 26, 16, 38, 37, 31, 16, 16, 16, 16, 37, 31, 16, 15, 15, 27, 29, 25])\t[('NH', 39), ('HI', 10), ('AS', 41), ('nM', 4)]\n",
      "chr5 27303068\n",
      "HISEQ:280:C9J9KANXX:1:2201:10903:83526\t272\t25\t27303068\t0\t50M\t-1\t-1\t50\tACAGATGGTTGTGAGCCACCATGTGGTTGCTTGTATTTGAACTTCAGACC\tarray('B', [2, 2, 2, 2, 2, 2, 2, 2, 37, 27, 25, 29, 16, 15, 16, 14, 16, 16, 16, 16, 16, 36, 15, 28, 16, 16, 37, 31, 15, 16, 31, 16, 16, 26, 16, 38, 37, 31, 16, 16, 16, 16, 37, 31, 16, 15, 15, 27, 29, 25])\t[('NH', 39), ('HI', 11), ('AS', 41), ('nM', 4)]\n",
      "chr5 30062819\n",
      "HISEQ:280:C9J9KANXX:1:2201:10903:83526\t272\t25\t30062819\t0\t50M\t-1\t-1\t50\tACAGATGGTTGTGAGCCACCATGTGGTTGCTTGTATTTGAACTTCAGACC\tarray('B', [2, 2, 2, 2, 2, 2, 2, 2, 37, 27, 25, 29, 16, 15, 16, 14, 16, 16, 16, 16, 16, 36, 15, 28, 16, 16, 37, 31, 15, 16, 31, 16, 16, 26, 16, 38, 37, 31, 16, 16, 16, 16, 37, 31, 16, 15, 15, 27, 29, 25])\t[('NH', 39), ('HI', 34), ('AS', 41), ('nM', 4)]\n",
      "chr5 103388841\n",
      "HISEQ:280:C9J9KANXX:1:2213:10613:32557\t256\t25\t103388841\t0\t50M\t-1\t-1\t50\tGTGTACTTACATATAAATAAATTTTAAAAAAAAAAAAAAAAAAAAAAAAA\tarray('B', [18, 18, 18, 15, 27, 16, 16, 16, 28, 16, 31, 16, 34, 31, 38, 38, 38, 16, 37, 38, 38, 34, 16, 16, 16, 31, 37, 38, 38, 38, 38, 38, 38, 38, 38, 38, 38, 38, 38, 38, 38, 38, 38, 38, 38, 38, 38, 38, 38, 38])\t[('NH', 5), ('HI', 3), ('AS', 37), ('nM', 6)]\n",
      "chr5 114663945\n",
      "HISEQ:280:C9J9KANXX:1:2215:15146:97826\t272\t25\t114663945\t0\t50M\t-1\t-1\t50\tACAGATGGTTGTGAGCCACCATGTGGTTGCTGTGATTTGAACTTCAGACC\tarray('B', [2, 2, 2, 2, 37, 32, 23, 14, 38, 38, 30, 36, 22, 14, 15, 14, 15, 15, 15, 15, 29, 37, 25, 32, 28, 21, 38, 37, 33, 37, 34, 28, 15, 29, 38, 37, 38, 38, 31, 15, 15, 37, 29, 34, 34, 22, 14, 18, 18, 27])\t[('NH', 22), ('HI', 13), ('AS', 43), ('nM', 3)]\n",
      "chr5 118016588\n",
      "HISEQ:280:C9J9KANXX:1:2201:10903:83526\t272\t25\t118016588\t0\t3S47M\t-1\t-1\t47\tACAGATGGTTGTGAGCCACCATGTGGTTGCTTGTATTTGAACTTCAGACC\tarray('B', [2, 2, 2, 2, 2, 2, 2, 2, 37, 27, 25, 29, 16, 15, 16, 14, 16, 16, 16, 16, 16, 36, 15, 28, 16, 16, 37, 31, 15, 16, 31, 16, 16, 26, 16, 38, 37, 31, 16, 16, 16, 16, 37, 31, 16, 15, 15, 27, 29, 25])\t[('NH', 39), ('HI', 2), ('AS', 44), ('nM', 1)]\n",
      "chr6 120557332\n",
      "HISEQ:280:C9J9KANXX:1:2201:10903:83526\t272\t31\t120557332\t0\t50M\t-1\t-1\t50\tACAGATGGTTGTGAGCCACCATGTGGTTGCTTGTATTTGAACTTCAGACC\tarray('B', [2, 2, 2, 2, 2, 2, 2, 2, 37, 27, 25, 29, 16, 15, 16, 14, 16, 16, 16, 16, 16, 36, 15, 28, 16, 16, 37, 31, 15, 16, 31, 16, 16, 26, 16, 38, 37, 31, 16, 16, 16, 16, 37, 31, 16, 15, 15, 27, 29, 25])\t[('NH', 39), ('HI', 21), ('AS', 41), ('nM', 4)]\n",
      "chr6 120741518\n",
      "HISEQ:280:C9J9KANXX:1:2201:10903:83526\t272\t31\t120741518\t0\t50M\t-1\t-1\t50\tACAGATGGTTGTGAGCCACCATGTGGTTGCTTGTATTTGAACTTCAGACC\tarray('B', [2, 2, 2, 2, 2, 2, 2, 2, 37, 27, 25, 29, 16, 15, 16, 14, 16, 16, 16, 16, 16, 36, 15, 28, 16, 16, 37, 31, 15, 16, 31, 16, 16, 26, 16, 38, 37, 31, 16, 16, 16, 16, 37, 31, 16, 15, 15, 27, 29, 25])\t[('NH', 39), ('HI', 20), ('AS', 41), ('nM', 4)]\n",
      "chr7 110206594\n",
      "HISEQ:280:C9J9KANXX:1:2201:10903:83526\t256\t32\t110206594\t0\t50M\t-1\t-1\t50\tGGTCTGAAGTTCAAATACAAGCAACCACATGGTGGCTCACAACCATCTGT\tarray('B', [25, 29, 27, 15, 15, 16, 31, 37, 16, 16, 16, 16, 31, 37, 38, 16, 26, 16, 16, 31, 16, 15, 31, 37, 16, 16, 28, 15, 36, 16, 16, 16, 16, 16, 14, 16, 15, 16, 29, 25, 27, 37, 2, 2, 2, 2, 2, 2, 2, 2])\t[('NH', 39), ('HI', 8), ('AS', 41), ('nM', 4)]\n",
      "chr7 127670469\n",
      "HISEQ:280:C9J9KANXX:1:2201:10903:83526\t272\t32\t127670469\t0\t50M\t-1\t-1\t50\tACAGATGGTTGTGAGCCACCATGTGGTTGCTTGTATTTGAACTTCAGACC\tarray('B', [2, 2, 2, 2, 2, 2, 2, 2, 37, 27, 25, 29, 16, 15, 16, 14, 16, 16, 16, 16, 16, 36, 15, 28, 16, 16, 37, 31, 15, 16, 31, 16, 16, 26, 16, 38, 37, 31, 16, 16, 16, 16, 37, 31, 16, 15, 15, 27, 29, 25])\t[('NH', 39), ('HI', 6), ('AS', 45), ('nM', 2)]\n",
      "chr7 127783330\n",
      "HISEQ:280:C9J9KANXX:1:2213:10613:32557\t256\t32\t127783330\t0\t23M158962N27M\t-1\t-1\t50\tGTGTACTTACATATAAATAAATTTTAAAAAAAAAAAAAAAAAAAAAAAAA\tarray('B', [18, 18, 18, 15, 27, 16, 16, 16, 28, 16, 31, 16, 34, 31, 38, 38, 38, 16, 37, 38, 38, 34, 16, 16, 16, 31, 37, 38, 38, 38, 38, 38, 38, 38, 38, 38, 38, 38, 38, 38, 38, 38, 38, 38, 38, 38, 38, 38, 38, 38])\t[('NH', 5), ('HI', 2), ('AS', 38), ('nM', 0)]\n",
      "chr7 127913957\n",
      "HISEQ:280:C9J9KANXX:1:2201:10903:83526\t272\t32\t127913957\t0\t5S45M\t-1\t-1\t45\tACAGATGGTTGTGAGCCACCATGTGGTTGCTTGTATTTGAACTTCAGACC\tarray('B', [2, 2, 2, 2, 2, 2, 2, 2, 37, 27, 25, 29, 16, 15, 16, 14, 16, 16, 16, 16, 16, 36, 15, 28, 16, 16, 37, 31, 15, 16, 31, 16, 16, 26, 16, 38, 37, 31, 16, 16, 16, 16, 37, 31, 16, 15, 15, 27, 29, 25])\t[('NH', 39), ('HI', 7), ('AS', 40), ('nM', 2)]\n",
      "chr8 9473100\n",
      "HISEQ:280:C9J9KANXX:1:2215:15146:97826\t256\t34\t9473100\t0\t50M\t-1\t-1\t50\tGGTCTGAAGTTCAAATCACAGCAACCACATGGTGGCTCACAACCATCTGT\tarray('B', [27, 18, 18, 14, 22, 34, 34, 29, 37, 15, 15, 31, 38, 38, 37, 38, 29, 15, 28, 34, 37, 33, 37, 38, 21, 28, 32, 25, 37, 29, 15, 15, 15, 15, 14, 15, 14, 22, 36, 30, 38, 38, 14, 23, 32, 37, 2, 2, 2, 2])\t[('NH', 22), ('HI', 19), ('AS', 43), ('nM', 3)]\n",
      "chr8 14007919\n",
      "HISEQ:280:C9J9KANXX:1:2215:15146:97826\t256\t34\t14007919\t0\t50M\t-1\t-1\t50\tGGTCTGAAGTTCAAATCACAGCAACCACATGGTGGCTCACAACCATCTGT\tarray('B', [27, 18, 18, 14, 22, 34, 34, 29, 37, 15, 15, 31, 38, 38, 37, 38, 29, 15, 28, 34, 37, 33, 37, 38, 21, 28, 32, 25, 37, 29, 15, 15, 15, 15, 14, 15, 14, 22, 36, 30, 38, 38, 14, 23, 32, 37, 2, 2, 2, 2])\t[('NH', 22), ('HI', 4), ('AS', 43), ('nM', 3)]\n",
      "chr8 84899457\n",
      "HISEQ:280:C9J9KANXX:1:2201:10903:83526\t256\t34\t84899457\t0\t50M\t-1\t-1\t50\tGGTCTGAAGTTCAAATACAAGCAACCACATGGTGGCTCACAACCATCTGT\tarray('B', [25, 29, 27, 15, 15, 16, 31, 37, 16, 16, 16, 16, 31, 37, 38, 16, 26, 16, 16, 31, 16, 15, 31, 37, 16, 16, 28, 15, 36, 16, 16, 16, 16, 16, 14, 16, 15, 16, 29, 25, 27, 37, 2, 2, 2, 2, 2, 2, 2, 2])\t[('NH', 39), ('HI', 4), ('AS', 41), ('nM', 4)]\n",
      "chr8 84908045\n",
      "HISEQ:280:C9J9KANXX:1:2201:10903:83526\t256\t34\t84908045\t0\t50M\t-1\t-1\t50\tGGTCTGAAGTTCAAATACAAGCAACCACATGGTGGCTCACAACCATCTGT\tarray('B', [25, 29, 27, 15, 15, 16, 31, 37, 16, 16, 16, 16, 31, 37, 38, 16, 26, 16, 16, 31, 16, 15, 31, 37, 16, 16, 28, 15, 36, 16, 16, 16, 16, 16, 14, 16, 15, 16, 29, 25, 27, 37, 2, 2, 2, 2, 2, 2, 2, 2])\t[('NH', 39), ('HI', 3), ('AS', 41), ('nM', 4)]\n",
      "chr9 110937574\n",
      "HISEQ:280:C9J9KANXX:1:2215:15146:97826\t256\t35\t110937574\t0\t50M\t-1\t-1\t50\tGGTCTGAAGTTCAAATCACAGCAACCACATGGTGGCTCACAACCATCTGT\tarray('B', [27, 18, 18, 14, 22, 34, 34, 29, 37, 15, 15, 31, 38, 38, 37, 38, 29, 15, 28, 34, 37, 33, 37, 38, 21, 28, 32, 25, 37, 29, 15, 15, 15, 15, 14, 15, 14, 22, 36, 30, 38, 38, 14, 23, 32, 37, 2, 2, 2, 2])\t[('NH', 22), ('HI', 8), ('AS', 43), ('nM', 3)]\n",
      "chr9 111002771\n",
      "HISEQ:280:C9J9KANXX:1:2215:15146:97826\t256\t35\t111002771\t0\t50M\t-1\t-1\t50\tGGTCTGAAGTTCAAATCACAGCAACCACATGGTGGCTCACAACCATCTGT\tarray('B', [27, 18, 18, 14, 22, 34, 34, 29, 37, 15, 15, 31, 38, 38, 37, 38, 29, 15, 28, 34, 37, 33, 37, 38, 21, 28, 32, 25, 37, 29, 15, 15, 15, 15, 14, 15, 14, 22, 36, 30, 38, 38, 14, 23, 32, 37, 2, 2, 2, 2])\t[('NH', 22), ('HI', 9), ('AS', 43), ('nM', 3)]\n",
      "chr9 119318118\n",
      "HISEQ:280:C9J9KANXX:1:2215:15146:97826\t272\t35\t119318118\t0\t50M\t-1\t-1\t50\tACAGATGGTTGTGAGCCACCATGTGGTTGCTGTGATTTGAACTTCAGACC\tarray('B', [2, 2, 2, 2, 37, 32, 23, 14, 38, 38, 30, 36, 22, 14, 15, 14, 15, 15, 15, 15, 29, 37, 25, 32, 28, 21, 38, 37, 33, 37, 34, 28, 15, 29, 38, 37, 38, 38, 31, 15, 15, 37, 29, 34, 34, 22, 14, 18, 18, 27])\t[('NH', 22), ('HI', 14), ('AS', 47), ('nM', 1)]\n",
      "chrY 1092991\n",
      "HISEQ:280:C9J9KANXX:1:2215:15146:97826\t272\t61\t1092991\t0\t50M\t-1\t-1\t50\tACAGATGGTTGTGAGCCACCATGTGGTTGCTGTGATTTGAACTTCAGACC\tarray('B', [2, 2, 2, 2, 37, 32, 23, 14, 38, 38, 30, 36, 22, 14, 15, 14, 15, 15, 15, 15, 29, 37, 25, 32, 28, 21, 38, 37, 33, 37, 34, 28, 15, 29, 38, 37, 38, 38, 31, 15, 15, 37, 29, 34, 34, 22, 14, 18, 18, 27])\t[('NH', 22), ('HI', 22), ('AS', 43), ('nM', 3)]\n",
      "chrY 1185657\n",
      "HISEQ:280:C9J9KANXX:1:2201:10903:83526\t256\t61\t1185657\t0\t45M5S\t-1\t-1\t45\tGGTCTGAAGTTCAAATACAAGCAACCACATGGTGGCTCACAACCATCTGT\tarray('B', [25, 29, 27, 15, 15, 16, 31, 37, 16, 16, 16, 16, 31, 37, 38, 16, 26, 16, 16, 31, 16, 15, 31, 37, 16, 16, 28, 15, 36, 16, 16, 16, 16, 16, 14, 16, 15, 16, 29, 25, 27, 37, 2, 2, 2, 2, 2, 2, 2, 2])\t[('NH', 39), ('HI', 16), ('AS', 40), ('nM', 2)]\n",
      "chrY 1212508\n",
      "HISEQ:280:C9J9KANXX:1:2201:10903:83526\t256\t61\t1212508\t0\t50M\t-1\t-1\t50\tGGTCTGAAGTTCAAATACAAGCAACCACATGGTGGCTCACAACCATCTGT\tarray('B', [25, 29, 27, 15, 15, 16, 31, 37, 16, 16, 16, 16, 31, 37, 38, 16, 26, 16, 16, 31, 16, 15, 31, 37, 16, 16, 28, 15, 36, 16, 16, 16, 16, 16, 14, 16, 15, 16, 29, 25, 27, 37, 2, 2, 2, 2, 2, 2, 2, 2])\t[('NH', 39), ('HI', 15), ('AS', 41), ('nM', 4)]\n",
      "66\n"
     ]
    }
   ],
   "source": [
    "#pysam.sort('-o', '/home/parastou/STARd/tet3.bam', '/home/parastou/STARd/tet3Aligned.out.bam')\n",
    "#pysam.index('/home/parastou/STARd/tet3.bam');\n",
    "\n",
    "#st = pysam.AlignmentFile('/home/parastou/STARd/tet3.bam',\"rb\")\n",
    "st.reset()\n",
    "reads = st.fetch(until_eof=True)\n",
    "cnt = 0\n",
    "for r in reads:\n",
    "    print r.reference_name, r.reference_start\n",
    "    print r\n",
    "    cnt += 1\n",
    "print cnt"
   ]
  },
  {
   "cell_type": "code",
   "execution_count": 7,
   "metadata": {
    "collapsed": false
   },
   "outputs": [
    {
     "name": "stdout",
     "output_type": "stream",
     "text": [
      "chr10 115925518\n",
      "HISEQ:280:C9J9KANXX:1:2215:15146:97826\t256\t0\t115925518\t1\t50M\t-1\t-1\t50\tGGTCTGAAGTTCAAATCACAGCAACCACATGGTGGCTCACAACCATCTGT\tarray('B', [27, 18, 18, 14, 22, 34, 34, 29, 37, 15, 15, 31, 38, 38, 37, 38, 29, 15, 28, 34, 37, 33, 37, 38, 21, 28, 32, 25, 37, 29, 15, 15, 15, 15, 14, 15, 14, 22, 36, 30, 38, 38, 14, 23, 32, 37, 2, 2, 2, 2])\t[('NH', 4), ('HI', 3), ('AS', 47), ('nM', 1)]\n",
      "chr11 101647403\n",
      "HISEQ:280:C9J9KANXX:1:2201:10903:83526\t256\t1\t101647403\t0\t50M\t-1\t-1\t50\tGGTCTGAAGTTCAAATACAAGCAACCACATGGTGGCTCACAACCATCTGT\tarray('B', [25, 29, 27, 15, 15, 16, 31, 37, 16, 16, 16, 16, 31, 37, 38, 16, 26, 16, 16, 31, 16, 15, 31, 37, 16, 16, 28, 15, 36, 16, 16, 16, 16, 16, 14, 16, 15, 16, 29, 25, 27, 37, 2, 2, 2, 2, 2, 2, 2, 2])\t[('NH', 8), ('HI', 7), ('AS', 45), ('nM', 2)]\n",
      "chr11 103955596\n",
      "HISEQ:280:C9J9KANXX:1:2201:10903:83526\t0\t1\t103955596\t0\t50M\t-1\t-1\t50\tGGTCTGAAGTTCAAATACAAGCAACCACATGGTGGCTCACAACCATCTGT\tarray('B', [25, 29, 27, 15, 15, 16, 31, 37, 16, 16, 16, 16, 31, 37, 38, 16, 26, 16, 16, 31, 16, 15, 31, 37, 16, 16, 28, 15, 36, 16, 16, 16, 16, 16, 14, 16, 15, 16, 29, 25, 27, 37, 2, 2, 2, 2, 2, 2, 2, 2])\t[('NH', 8), ('HI', 1), ('AS', 45), ('nM', 2)]\n",
      "chr11 107023715\n",
      "HISEQ:280:C9J9KANXX:1:2215:15146:97826\t272\t1\t107023715\t1\t50M\t-1\t-1\t50\tACAGATGGTTGTGAGCCACCATGTGGTTGCTGTGATTTGAACTTCAGACC\tarray('B', [2, 2, 2, 2, 37, 32, 23, 14, 38, 38, 30, 36, 22, 14, 15, 14, 15, 15, 15, 15, 29, 37, 25, 32, 28, 21, 38, 37, 33, 37, 34, 28, 15, 29, 38, 37, 38, 38, 31, 15, 15, 37, 29, 34, 34, 22, 14, 18, 18, 27])\t[('NH', 4), ('HI', 4), ('AS', 47), ('nM', 1)]\n",
      "chr11 115540618\n",
      "HISEQ:280:C9J9KANXX:1:2201:10903:83526\t272\t1\t115540618\t0\t50M\t-1\t-1\t50\tACAGATGGTTGTGAGCCACCATGTGGTTGCTTGTATTTGAACTTCAGACC\tarray('B', [2, 2, 2, 2, 2, 2, 2, 2, 37, 27, 25, 29, 16, 15, 16, 14, 16, 16, 16, 16, 16, 36, 15, 28, 16, 16, 37, 31, 15, 16, 31, 16, 16, 26, 16, 38, 37, 31, 16, 16, 16, 16, 37, 31, 16, 15, 15, 27, 29, 25])\t[('NH', 8), ('HI', 4), ('AS', 45), ('nM', 2)]\n",
      "chr13 14056562\n",
      "HISEQ:280:C9J9KANXX:1:2213:10613:32557\t0\t3\t14056562\t255\t50M\t-1\t-1\t50\tGTGTACTTACATATAAATAAATTTTAAAAAAAAAAAAAAAAAAAAAAAAA\tarray('B', [18, 18, 18, 15, 27, 16, 16, 16, 28, 16, 31, 16, 34, 31, 38, 38, 38, 16, 37, 38, 38, 34, 16, 16, 16, 31, 37, 38, 38, 38, 38, 38, 38, 38, 38, 38, 38, 38, 38, 38, 38, 38, 38, 38, 38, 38, 38, 38, 38, 38])\t[('NH', 1), ('HI', 1), ('AS', 41), ('nM', 4)]\n",
      "chr15 79087793\n",
      "HISEQ:280:C9J9KANXX:1:2201:10903:83526\t272\t5\t79087793\t0\t50M\t-1\t-1\t50\tACAGATGGTTGTGAGCCACCATGTGGTTGCTTGTATTTGAACTTCAGACC\tarray('B', [2, 2, 2, 2, 2, 2, 2, 2, 37, 27, 25, 29, 16, 15, 16, 14, 16, 16, 16, 16, 16, 36, 15, 28, 16, 16, 37, 31, 15, 16, 31, 16, 16, 26, 16, 38, 37, 31, 16, 16, 16, 16, 37, 31, 16, 15, 15, 27, 29, 25])\t[('NH', 8), ('HI', 5), ('AS', 45), ('nM', 2)]\n",
      "chr18 34471083\n",
      "HISEQ:280:C9J9KANXX:1:2215:15146:97826\t16\t8\t34471083\t1\t50M\t-1\t-1\t50\tACAGATGGTTGTGAGCCACCATGTGGTTGCTGTGATTTGAACTTCAGACC\tarray('B', [2, 2, 2, 2, 37, 32, 23, 14, 38, 38, 30, 36, 22, 14, 15, 14, 15, 15, 15, 15, 29, 37, 25, 32, 28, 21, 38, 37, 33, 37, 34, 28, 15, 29, 38, 37, 38, 38, 31, 15, 15, 37, 29, 34, 34, 22, 14, 18, 18, 27])\t[('NH', 4), ('HI', 1), ('AS', 47), ('nM', 1)]\n",
      "chr19 60753472\n",
      "HISEQ:280:C9J9KANXX:1:2201:10903:83526\t272\t9\t60753472\t0\t50M\t-1\t-1\t50\tACAGATGGTTGTGAGCCACCATGTGGTTGCTTGTATTTGAACTTCAGACC\tarray('B', [2, 2, 2, 2, 2, 2, 2, 2, 37, 27, 25, 29, 16, 15, 16, 14, 16, 16, 16, 16, 16, 36, 15, 28, 16, 16, 37, 31, 15, 16, 31, 16, 16, 26, 16, 38, 37, 31, 16, 16, 16, 16, 37, 31, 16, 15, 15, 27, 29, 25])\t[('NH', 8), ('HI', 6), ('AS', 45), ('nM', 2)]\n",
      "chr2 37670533\n",
      "HISEQ:280:C9J9KANXX:1:2201:10903:83526\t272\t16\t37670533\t0\t50M\t-1\t-1\t50\tACAGATGGTTGTGAGCCACCATGTGGTTGCTTGTATTTGAACTTCAGACC\tarray('B', [2, 2, 2, 2, 2, 2, 2, 2, 37, 27, 25, 29, 16, 15, 16, 14, 16, 16, 16, 16, 16, 36, 15, 28, 16, 16, 37, 31, 15, 16, 31, 16, 16, 26, 16, 38, 37, 31, 16, 16, 16, 16, 37, 31, 16, 15, 15, 27, 29, 25])\t[('NH', 8), ('HI', 8), ('AS', 45), ('nM', 2)]\n",
      "chr5 118016588\n",
      "HISEQ:280:C9J9KANXX:1:2201:10903:83526\t272\t25\t118016588\t0\t3S47M\t-1\t-1\t47\tACAGATGGTTGTGAGCCACCATGTGGTTGCTTGTATTTGAACTTCAGACC\tarray('B', [2, 2, 2, 2, 2, 2, 2, 2, 37, 27, 25, 29, 16, 15, 16, 14, 16, 16, 16, 16, 16, 36, 15, 28, 16, 16, 37, 31, 15, 16, 31, 16, 16, 26, 16, 38, 37, 31, 16, 16, 16, 16, 37, 31, 16, 15, 15, 27, 29, 25])\t[('NH', 8), ('HI', 2), ('AS', 44), ('nM', 1)]\n",
      "chr7 127670469\n",
      "HISEQ:280:C9J9KANXX:1:2201:10903:83526\t272\t32\t127670469\t0\t50M\t-1\t-1\t50\tACAGATGGTTGTGAGCCACCATGTGGTTGCTTGTATTTGAACTTCAGACC\tarray('B', [2, 2, 2, 2, 2, 2, 2, 2, 37, 27, 25, 29, 16, 15, 16, 14, 16, 16, 16, 16, 16, 36, 15, 28, 16, 16, 37, 31, 15, 16, 31, 16, 16, 26, 16, 38, 37, 31, 16, 16, 16, 16, 37, 31, 16, 15, 15, 27, 29, 25])\t[('NH', 8), ('HI', 3), ('AS', 45), ('nM', 2)]\n",
      "chr9 119318118\n",
      "HISEQ:280:C9J9KANXX:1:2215:15146:97826\t272\t35\t119318118\t1\t50M\t-1\t-1\t50\tACAGATGGTTGTGAGCCACCATGTGGTTGCTGTGATTTGAACTTCAGACC\tarray('B', [2, 2, 2, 2, 37, 32, 23, 14, 38, 38, 30, 36, 22, 14, 15, 14, 15, 15, 15, 15, 29, 37, 25, 32, 28, 21, 38, 37, 33, 37, 34, 28, 15, 29, 38, 37, 38, 38, 31, 15, 15, 37, 29, 34, 34, 22, 14, 18, 18, 27])\t[('NH', 4), ('HI', 2), ('AS', 47), ('nM', 1)]\n",
      "13\n"
     ]
    }
   ],
   "source": [
    "pysam.sort('-o', '/home/parastou/STARd/tet4.bam', '/home/parastou/STARd/tet4Aligned.out.bam')\n",
    "pysam.index('/home/parastou/STARd/tet4.bam');\n",
    "\n",
    "st = pysam.AlignmentFile('/home/parastou/STARd/tet4.bam',\"rb\")\n",
    "st.reset()\n",
    "reads = st.fetch(until_eof=True)\n",
    "cnt = 0\n",
    "for r in reads:\n",
    "    print r.reference_name, r.reference_start\n",
    "    print r\n",
    "    cnt += 1\n",
    "print cnt"
   ]
  },
  {
   "cell_type": "markdown",
   "metadata": {},
   "source": [
    "## Bowtie2"
   ]
  },
  {
   "cell_type": "code",
   "execution_count": 28,
   "metadata": {
    "collapsed": false,
    "scrolled": true
   },
   "outputs": [
    {
     "name": "stdout",
     "output_type": "stream",
     "text": [
      "HISEQ:280:C9J9KANXX:1:2215:15146:97826\t16\t2\t117424286\t1\t50M\t-1\t-1\t50\tACAGATGGTTGTGAGCCACCATGTGGTTGCTGTGATTTGAACTTCAGACC\tarray('B', [2, 2, 2, 2, 37, 32, 23, 14, 38, 38, 30, 36, 22, 14, 15, 14, 15, 15, 15, 15, 29, 37, 25, 32, 28, 21, 38, 37, 33, 37, 34, 28, 15, 29, 38, 37, 38, 38, 31, 15, 15, 37, 29, 34, 34, 22, 14, 18, 18, 27])\t[('AS', -3), ('XS', -3), ('XN', 0), ('XM', 1), ('XO', 0), ('XG', 0), ('NM', 1), ('MD', '32G17'), ('YT', 'UU')]\n",
      "chr12\n",
      "117424286\n",
      "1\n",
      "\n",
      "HISEQ:280:C9J9KANXX:1:2201:10903:83526\t16\t7\t88519425\t0\t50M\t-1\t-1\t50\tACAGATGGTTGTGAGCCACCATGTGGTTGCTTGTATTTGAACTTCAGACC\tarray('B', [2, 2, 2, 2, 2, 2, 2, 2, 37, 27, 25, 29, 16, 15, 16, 14, 16, 16, 16, 16, 16, 36, 15, 28, 16, 16, 37, 31, 15, 16, 31, 16, 16, 26, 16, 38, 37, 31, 16, 16, 16, 16, 37, 31, 16, 15, 15, 27, 29, 25])\t[('AS', -12), ('XS', -19), ('XN', 0), ('XM', 3), ('XO', 0), ('XG', 0), ('NM', 3), ('MD', '33G9C0A5'), ('YT', 'UU')]\n",
      "chr17\n",
      "88519425\n",
      "0\n",
      "\n",
      "HISEQ:280:C9J9KANXX:1:2213:10613:32557\t0\t10\t88697113\t3\t12M3D38M\t-1\t-1\t50\tGTGTACTTACATATAAATAAATTTTAAAAAAAAAAAAAAAAAAAAAAAAA\tarray('B', [18, 18, 18, 15, 27, 16, 16, 16, 28, 16, 31, 16, 34, 31, 38, 38, 38, 16, 37, 38, 38, 34, 16, 16, 16, 31, 37, 38, 38, 38, 38, 38, 38, 38, 38, 38, 38, 38, 38, 38, 38, 38, 38, 38, 38, 38, 38, 38, 38, 38])\t[('AS', -19), ('XN', 0), ('XM', 1), ('XO', 1), ('XG', 3), ('NM', 4), ('MD', '12^ATA36G1'), ('YT', 'UU')]\n",
      "chr1\n",
      "88697113\n",
      "3\n",
      "\n",
      "3\n"
     ]
    }
   ],
   "source": [
    "bst = pysam.AlignmentFile('/home/parastou/Bowtie2d/sample2.sam')\n",
    "breads = bst.fetch(until_eof=True)\n",
    "cnt = 0\n",
    "for r in breads:\n",
    "    cnt += 1\n",
    "    print r\n",
    "    print r.reference_name\n",
    "    print r.reference_start\n",
    "    print r.mapping_quality\n",
    "    print\n",
    "print cnt"
   ]
  },
  {
   "cell_type": "code",
   "execution_count": 15,
   "metadata": {
    "collapsed": false,
    "scrolled": true
   },
   "outputs": [
    {
     "name": "stdout",
     "output_type": "stream",
     "text": [
      "chr7 100764426\n",
      "HISEQ:280:C9J9KANXX:1:2215:15146:97826\t0\t32\t100764426\t1\t50M\t-1\t-1\t50\tGGTCTGAAGTTCAAATCACAGCAACCACATGGTGGCTCACAACCATCTGT\tarray('B', [27, 18, 18, 14, 22, 34, 34, 29, 37, 15, 15, 31, 38, 38, 37, 38, 29, 15, 28, 34, 37, 33, 37, 38, 21, 28, 32, 25, 37, 29, 15, 15, 15, 15, 14, 15, 14, 22, 36, 30, 38, 38, 14, 23, 32, 37, 2, 2, 2, 2])\t[('AS', -3), ('XS', -3), ('XN', 0), ('XM', 1), ('XO', 0), ('XG', 0), ('NM', 1), ('MD', '17T32'), ('YT', 'UU')]\n",
      "\n",
      "chr11 107023715\n",
      "HISEQ:280:C9J9KANXX:1:2215:15146:97826\t272\t1\t107023715\t1\t50M\t-1\t-1\t50\tACAGATGGTTGTGAGCCACCATGTGGTTGCTGTGATTTGAACTTCAGACC\tarray('B', [2, 2, 2, 2, 37, 32, 23, 14, 38, 38, 30, 36, 22, 14, 15, 14, 15, 15, 15, 15, 29, 37, 25, 32, 28, 21, 38, 37, 33, 37, 34, 28, 15, 29, 38, 37, 38, 38, 31, 15, 15, 37, 29, 34, 34, 22, 14, 18, 18, 27])\t[('AS', -3), ('XS', -3), ('XN', 0), ('XM', 1), ('XO', 0), ('XG', 0), ('NM', 1), ('MD', '32G17'), ('YT', 'UU')]\n",
      "\n",
      "chr8 114338000\n",
      "HISEQ:280:C9J9KANXX:1:2215:15146:97826\t272\t34\t114338000\t1\t50M\t-1\t-1\t50\tACAGATGGTTGTGAGCCACCATGTGGTTGCTGTGATTTGAACTTCAGACC\tarray('B', [2, 2, 2, 2, 37, 32, 23, 14, 38, 38, 30, 36, 22, 14, 15, 14, 15, 15, 15, 15, 29, 37, 25, 32, 28, 21, 38, 37, 33, 37, 34, 28, 15, 29, 38, 37, 38, 38, 31, 15, 15, 37, 29, 34, 34, 22, 14, 18, 18, 27])\t[('AS', -3), ('XS', -3), ('XN', 0), ('XM', 1), ('XO', 0), ('XG', 0), ('NM', 1), ('MD', '32G17'), ('YT', 'UU')]\n",
      "\n",
      "chr15 79087793\n",
      "HISEQ:280:C9J9KANXX:1:2215:15146:97826\t272\t5\t79087793\t1\t50M\t-1\t-1\t50\tACAGATGGTTGTGAGCCACCATGTGGTTGCTGTGATTTGAACTTCAGACC\tarray('B', [2, 2, 2, 2, 37, 32, 23, 14, 38, 38, 30, 36, 22, 14, 15, 14, 15, 15, 15, 15, 29, 37, 25, 32, 28, 21, 38, 37, 33, 37, 34, 28, 15, 29, 38, 37, 38, 38, 31, 15, 15, 37, 29, 34, 34, 22, 14, 18, 18, 27])\t[('AS', -3), ('XS', -3), ('XN', 0), ('XM', 1), ('XO', 0), ('XG', 0), ('NM', 1), ('MD', '32G17'), ('YT', 'UU')]\n",
      "\n",
      "chrX 140970565\n",
      "HISEQ:280:C9J9KANXX:1:2215:15146:97826\t272\t59\t140970565\t1\t50M\t-1\t-1\t50\tACAGATGGTTGTGAGCCACCATGTGGTTGCTGTGATTTGAACTTCAGACC\tarray('B', [2, 2, 2, 2, 37, 32, 23, 14, 38, 38, 30, 36, 22, 14, 15, 14, 15, 15, 15, 15, 29, 37, 25, 32, 28, 21, 38, 37, 33, 37, 34, 28, 15, 29, 38, 37, 38, 38, 31, 15, 15, 37, 29, 34, 34, 22, 14, 18, 18, 27])\t[('AS', -3), ('XS', -3), ('XN', 0), ('XM', 1), ('XO', 0), ('XG', 0), ('NM', 1), ('MD', '32G17'), ('YT', 'UU')]\n",
      "\n",
      "chr6 128484206\n",
      "HISEQ:280:C9J9KANXX:1:2215:15146:97826\t272\t31\t128484206\t1\t50M\t-1\t-1\t50\tACAGATGGTTGTGAGCCACCATGTGGTTGCTGTGATTTGAACTTCAGACC\tarray('B', [2, 2, 2, 2, 37, 32, 23, 14, 38, 38, 30, 36, 22, 14, 15, 14, 15, 15, 15, 15, 29, 37, 25, 32, 28, 21, 38, 37, 33, 37, 34, 28, 15, 29, 38, 37, 38, 38, 31, 15, 15, 37, 29, 34, 34, 22, 14, 18, 18, 27])\t[('AS', -3), ('XS', -3), ('XN', 0), ('XM', 1), ('XO', 0), ('XG', 0), ('NM', 1), ('MD', '32G17'), ('YT', 'UU')]\n",
      "\n",
      "chr15 82011804\n",
      "HISEQ:280:C9J9KANXX:1:2215:15146:97826\t272\t5\t82011804\t1\t50M\t-1\t-1\t50\tACAGATGGTTGTGAGCCACCATGTGGTTGCTGTGATTTGAACTTCAGACC\tarray('B', [2, 2, 2, 2, 37, 32, 23, 14, 38, 38, 30, 36, 22, 14, 15, 14, 15, 15, 15, 15, 29, 37, 25, 32, 28, 21, 38, 37, 33, 37, 34, 28, 15, 29, 38, 37, 38, 38, 31, 15, 15, 37, 29, 34, 34, 22, 14, 18, 18, 27])\t[('AS', -3), ('XS', -3), ('XN', 0), ('XM', 1), ('XO', 0), ('XG', 0), ('NM', 1), ('MD', '32G17'), ('YT', 'UU')]\n",
      "\n",
      "chr15 73501086\n",
      "HISEQ:280:C9J9KANXX:1:2215:15146:97826\t272\t5\t73501086\t1\t50M\t-1\t-1\t50\tACAGATGGTTGTGAGCCACCATGTGGTTGCTGTGATTTGAACTTCAGACC\tarray('B', [2, 2, 2, 2, 37, 32, 23, 14, 38, 38, 30, 36, 22, 14, 15, 14, 15, 15, 15, 15, 29, 37, 25, 32, 28, 21, 38, 37, 33, 37, 34, 28, 15, 29, 38, 37, 38, 38, 31, 15, 15, 37, 29, 34, 34, 22, 14, 18, 18, 27])\t[('AS', -3), ('XS', -3), ('XN', 0), ('XM', 1), ('XO', 0), ('XG', 0), ('NM', 1), ('MD', '32G17'), ('YT', 'UU')]\n",
      "\n",
      "chr1 34090548\n",
      "HISEQ:280:C9J9KANXX:1:2215:15146:97826\t272\t10\t34090548\t1\t50M\t-1\t-1\t50\tACAGATGGTTGTGAGCCACCATGTGGTTGCTGTGATTTGAACTTCAGACC\tarray('B', [2, 2, 2, 2, 37, 32, 23, 14, 38, 38, 30, 36, 22, 14, 15, 14, 15, 15, 15, 15, 29, 37, 25, 32, 28, 21, 38, 37, 33, 37, 34, 28, 15, 29, 38, 37, 38, 38, 31, 15, 15, 37, 29, 34, 34, 22, 14, 18, 18, 27])\t[('AS', -3), ('XS', -3), ('XN', 0), ('XM', 1), ('XO', 0), ('XG', 0), ('NM', 1), ('MD', '32G17'), ('YT', 'UU')]\n",
      "\n",
      "chr12 117424286\n",
      "HISEQ:280:C9J9KANXX:1:2215:15146:97826\t272\t2\t117424286\t1\t50M\t-1\t-1\t50\tACAGATGGTTGTGAGCCACCATGTGGTTGCTGTGATTTGAACTTCAGACC\tarray('B', [2, 2, 2, 2, 37, 32, 23, 14, 38, 38, 30, 36, 22, 14, 15, 14, 15, 15, 15, 15, 29, 37, 25, 32, 28, 21, 38, 37, 33, 37, 34, 28, 15, 29, 38, 37, 38, 38, 31, 15, 15, 37, 29, 34, 34, 22, 14, 18, 18, 27])\t[('AS', -3), ('XS', -3), ('XN', 0), ('XM', 1), ('XO', 0), ('XG', 0), ('NM', 1), ('MD', '32G17'), ('YT', 'UU')]\n",
      "\n",
      "chr5 84403273\n",
      "HISEQ:280:C9J9KANXX:1:2201:10903:83526\t0\t25\t84403273\t2\t50M\t-1\t-1\t50\tGGTCTGAAGTTCAAATACAAGCAACCACATGGTGGCTCACAACCATCTGT\tarray('B', [25, 29, 27, 15, 15, 16, 31, 37, 16, 16, 16, 16, 31, 37, 38, 16, 26, 16, 16, 31, 16, 15, 31, 37, 16, 16, 28, 15, 36, 16, 16, 16, 16, 16, 14, 16, 15, 16, 29, 25, 27, 37, 2, 2, 2, 2, 2, 2, 2, 2])\t[('AS', -19), ('XS', -20), ('XN', 0), ('XM', 6), ('XO', 0), ('XG', 0), ('NM', 6), ('MD', '4C0T0G9T28C1C2'), ('YT', 'UU')]\n",
      "\n",
      "chr5 151338826\n",
      "HISEQ:280:C9J9KANXX:1:2201:10903:83526\t272\t25\t151338826\t2\t50M\t-1\t-1\t50\tACAGATGGTTGTGAGCCACCATGTGGTTGCTTGTATTTGAACTTCAGACC\tarray('B', [2, 2, 2, 2, 2, 2, 2, 2, 37, 27, 25, 29, 16, 15, 16, 14, 16, 16, 16, 16, 16, 36, 15, 28, 16, 16, 37, 31, 15, 16, 31, 16, 16, 26, 16, 38, 37, 31, 16, 16, 16, 16, 37, 31, 16, 15, 15, 27, 29, 25])\t[('AS', -20), ('XS', -20), ('XN', 0), ('XM', 5), ('XO', 0), ('XG', 0), ('NM', 5), ('MD', '33G1A7C0A0G4'), ('YT', 'UU')]\n",
      "\n",
      "chr12 19761581\n",
      "HISEQ:280:C9J9KANXX:1:2201:10903:83526\t272\t2\t19761581\t2\t50M\t-1\t-1\t50\tACAGATGGTTGTGAGCCACCATGTGGTTGCTTGTATTTGAACTTCAGACC\tarray('B', [2, 2, 2, 2, 2, 2, 2, 2, 37, 27, 25, 29, 16, 15, 16, 14, 16, 16, 16, 16, 16, 36, 15, 28, 16, 16, 37, 31, 15, 16, 31, 16, 16, 26, 16, 38, 37, 31, 16, 16, 16, 16, 37, 31, 16, 15, 15, 27, 29, 25])\t[('AS', -20), ('XS', -20), ('XN', 0), ('XM', 5), ('XO', 0), ('XG', 0), ('NM', 5), ('MD', '33A1A7C0A0G4'), ('YT', 'UU')]\n",
      "\n",
      "chr8 28248697\n",
      "HISEQ:280:C9J9KANXX:1:2201:10903:83526\t256\t34\t28248697\t2\t50M\t-1\t-1\t50\tGGTCTGAAGTTCAAATACAAGCAACCACATGGTGGCTCACAACCATCTGT\tarray('B', [25, 29, 27, 15, 15, 16, 31, 37, 16, 16, 16, 16, 31, 37, 38, 16, 26, 16, 16, 31, 16, 15, 31, 37, 16, 16, 28, 15, 36, 16, 16, 16, 16, 16, 14, 16, 15, 16, 29, 25, 27, 37, 2, 2, 2, 2, 2, 2, 2, 2])\t[('AS', -21), ('XS', -20), ('XN', 0), ('XM', 6), ('XO', 0), ('XG', 0), ('NM', 6), ('MD', '5T0G7T1C28A3A0'), ('YT', 'UU')]\n",
      "\n",
      "chr1 72625216\n",
      "HISEQ:280:C9J9KANXX:1:2201:10903:83526\t256\t10\t72625216\t2\t50M\t-1\t-1\t50\tGGTCTGAAGTTCAAATACAAGCAACCACATGGTGGCTCACAACCATCTGT\tarray('B', [25, 29, 27, 15, 15, 16, 31, 37, 16, 16, 16, 16, 31, 37, 38, 16, 26, 16, 16, 31, 16, 15, 31, 37, 16, 16, 28, 15, 36, 16, 16, 16, 16, 16, 14, 16, 15, 16, 29, 25, 27, 37, 2, 2, 2, 2, 2, 2, 2, 2])\t[('AS', -23), ('XS', -20), ('XN', 0), ('XM', 7), ('XO', 0), ('XG', 0), ('NM', 7), ('MD', '4C0T0G1A32G5C0A1'), ('YT', 'UU')]\n",
      "\n",
      "chr8 106331000\n",
      "HISEQ:280:C9J9KANXX:1:2201:10903:83526\t256\t34\t106331000\t2\t50M\t-1\t-1\t50\tGGTCTGAAGTTCAAATACAAGCAACCACATGGTGGCTCACAACCATCTGT\tarray('B', [25, 29, 27, 15, 15, 16, 31, 37, 16, 16, 16, 16, 31, 37, 38, 16, 26, 16, 16, 31, 16, 15, 31, 37, 16, 16, 28, 15, 36, 16, 16, 16, 16, 16, 14, 16, 15, 16, 29, 25, 27, 37, 2, 2, 2, 2, 2, 2, 2, 2])\t[('AS', -24), ('XS', -20), ('XN', 0), ('XM', 7), ('XO', 0), ('XG', 0), ('NM', 7), ('MD', '4C0T0G7T1T25T0T6'), ('YT', 'UU')]\n",
      "\n",
      "chr3 45413882\n",
      "HISEQ:280:C9J9KANXX:1:2201:10903:83526\t272\t17\t45413882\t2\t50M\t-1\t-1\t50\tACAGATGGTTGTGAGCCACCATGTGGTTGCTTGTATTTGAACTTCAGACC\tarray('B', [2, 2, 2, 2, 2, 2, 2, 2, 37, 27, 25, 29, 16, 15, 16, 14, 16, 16, 16, 16, 16, 36, 15, 28, 16, 16, 37, 31, 15, 16, 31, 16, 16, 26, 16, 38, 37, 31, 16, 16, 16, 16, 37, 31, 16, 15, 15, 27, 29, 25])\t[('AS', -24), ('XS', -20), ('XN', 0), ('XM', 6), ('XO', 0), ('XG', 0), ('NM', 6), ('MD', '33G1A7C0A0G2T1'), ('YT', 'UU')]\n",
      "\n",
      "chr16 33880012\n",
      "HISEQ:280:C9J9KANXX:1:2201:10903:83526\t272\t6\t33880012\t2\t42M1I7M\t-1\t-1\t50\tACAGATGGTTGTGAGCCACCATGTGGTTGCTTGTATTTGAACTTCAGACC\tarray('B', [2, 2, 2, 2, 2, 2, 2, 2, 37, 27, 25, 29, 16, 15, 16, 14, 16, 16, 16, 16, 16, 36, 15, 28, 16, 16, 37, 31, 15, 16, 31, 16, 16, 26, 16, 38, 37, 31, 16, 16, 16, 16, 37, 31, 16, 15, 15, 27, 29, 25])\t[('AS', -25), ('XS', -20), ('XN', 0), ('XM', 4), ('XO', 1), ('XG', 1), ('NM', 5), ('MD', '33G1A10G0T1'), ('YT', 'UU')]\n",
      "\n",
      "chr13 13962664\n",
      "HISEQ:280:C9J9KANXX:1:2201:10903:83526\t272\t3\t13962664\t2\t32M1D9M1I8M\t-1\t-1\t50\tACAGATGGTTGTGAGCCACCATGTGGTTGCTTGTATTTGAACTTCAGACC\tarray('B', [2, 2, 2, 2, 2, 2, 2, 2, 37, 27, 25, 29, 16, 15, 16, 14, 16, 16, 16, 16, 16, 36, 15, 28, 16, 16, 37, 31, 15, 16, 31, 16, 16, 26, 16, 38, 37, 31, 16, 16, 16, 16, 37, 31, 16, 15, 15, 27, 29, 25])\t[('AS', -29), ('XS', -20), ('XN', 0), ('XM', 3), ('XO', 2), ('XG', 2), ('NM', 5), ('MD', '32^A1G1A11A1'), ('YT', 'UU')]\n",
      "\n",
      "chr3 64002225\n",
      "HISEQ:280:C9J9KANXX:1:2201:10903:83526\t272\t17\t64002225\t2\t50M\t-1\t-1\t50\tACAGATGGTTGTGAGCCACCATGTGGTTGCTTGTATTTGAACTTCAGACC\tarray('B', [2, 2, 2, 2, 2, 2, 2, 2, 37, 27, 25, 29, 16, 15, 16, 14, 16, 16, 16, 16, 16, 36, 15, 28, 16, 16, 37, 31, 15, 16, 31, 16, 16, 26, 16, 38, 37, 31, 16, 16, 16, 16, 37, 31, 16, 15, 15, 27, 29, 25])\t[('AS', -29), ('XS', -20), ('XN', 0), ('XM', 8), ('XO', 0), ('XG', 0), ('NM', 8), ('MD', '0G0T6C24C1A7C0G0G4'), ('YT', 'UU')]\n",
      "\n",
      "chr13 14056562\n",
      "HISEQ:280:C9J9KANXX:1:2213:10613:32557\t0\t3\t14056562\t2\t50M\t-1\t-1\t50\tGTGTACTTACATATAAATAAATTTTAAAAAAAAAAAAAAAAAAAAAAAAA\tarray('B', [18, 18, 18, 15, 27, 16, 16, 16, 28, 16, 31, 16, 34, 31, 38, 38, 38, 16, 37, 38, 38, 34, 16, 16, 16, 31, 37, 38, 38, 38, 38, 38, 38, 38, 38, 38, 38, 38, 38, 38, 38, 38, 38, 38, 38, 38, 38, 38, 38, 38])\t[('AS', -16), ('XS', -19), ('XN', 0), ('XM', 4), ('XO', 0), ('XG', 0), ('NM', 4), ('MD', '23A0A16G5C2'), ('YT', 'UU')]\n",
      "\n",
      "chr1 88697113\n",
      "HISEQ:280:C9J9KANXX:1:2213:10613:32557\t256\t10\t88697113\t2\t12M3D38M\t-1\t-1\t50\tGTGTACTTACATATAAATAAATTTTAAAAAAAAAAAAAAAAAAAAAAAAA\tarray('B', [18, 18, 18, 15, 27, 16, 16, 16, 28, 16, 31, 16, 34, 31, 38, 38, 38, 16, 37, 38, 38, 34, 16, 16, 16, 31, 37, 38, 38, 38, 38, 38, 38, 38, 38, 38, 38, 38, 38, 38, 38, 38, 38, 38, 38, 38, 38, 38, 38, 38])\t[('AS', -19), ('XS', -19), ('XN', 0), ('XM', 1), ('XO', 1), ('XG', 3), ('NM', 4), ('MD', '12^ATA36G1'), ('YT', 'UU')]\n",
      "\n",
      "chr4 141726750\n",
      "HISEQ:280:C9J9KANXX:1:2213:10613:32557\t256\t18\t141726750\t2\t12M4D38M\t-1\t-1\t50\tGTGTACTTACATATAAATAAATTTTAAAAAAAAAAAAAAAAAAAAAAAAA\tarray('B', [18, 18, 18, 15, 27, 16, 16, 16, 28, 16, 31, 16, 34, 31, 38, 38, 38, 16, 37, 38, 38, 34, 16, 16, 16, 31, 37, 38, 38, 38, 38, 38, 38, 38, 38, 38, 38, 38, 38, 38, 38, 38, 38, 38, 38, 38, 38, 38, 38, 38])\t[('AS', -20), ('XS', -19), ('XN', 0), ('XM', 1), ('XO', 1), ('XG', 4), ('NM', 5), ('MD', '12^ATAA10C27'), ('YT', 'UU')]\n",
      "\n",
      "chr12 55074048\n",
      "HISEQ:280:C9J9KANXX:1:2213:10613:32557\t272\t2\t55074048\t2\t50M\t-1\t-1\t50\tTTTTTTTTTTTTTTTTTTTTTTTTTAAAATTTATTTATATGTAAGTACAC\tarray('B', [38, 38, 38, 38, 38, 38, 38, 38, 38, 38, 38, 38, 38, 38, 38, 38, 38, 38, 38, 38, 38, 38, 38, 37, 31, 16, 16, 16, 34, 38, 38, 37, 16, 38, 38, 38, 31, 34, 16, 31, 16, 28, 16, 16, 16, 27, 15, 18, 18, 18])\t[('AS', -24), ('XS', -19), ('XN', 0), ('XM', 6), ('XO', 0), ('XG', 0), ('NM', 6), ('MD', '19G0A3A0T0T0T22'), ('YT', 'UU')]\n",
      "\n",
      "chr19 24308725\n",
      "HISEQ:280:C9J9KANXX:1:2213:10613:32557\t272\t9\t24308725\t2\t27M4D23M\t-1\t-1\t50\tTTTTTTTTTTTTTTTTTTTTTTTTTAAAATTTATTTATATGTAAGTACAC\tarray('B', [38, 38, 38, 38, 38, 38, 38, 38, 38, 38, 38, 38, 38, 38, 38, 38, 38, 38, 38, 38, 38, 38, 38, 37, 31, 16, 16, 16, 34, 38, 38, 37, 16, 38, 38, 38, 31, 34, 16, 31, 16, 28, 16, 16, 16, 27, 15, 18, 18, 18])\t[('AS', -25), ('XS', -19), ('XN', 0), ('XM', 2), ('XO', 1), ('XG', 4), ('NM', 6), ('MD', '3C23^GATT0T22'), ('YT', 'UU')]\n",
      "\n",
      "chr7 6310930\n",
      "HISEQ:280:C9J9KANXX:1:2213:10613:32557\t272\t32\t6310930\t2\t28M5D22M\t-1\t-1\t50\tTTTTTTTTTTTTTTTTTTTTTTTTTAAAATTTATTTATATGTAAGTACAC\tarray('B', [38, 38, 38, 38, 38, 38, 38, 38, 38, 38, 38, 38, 38, 38, 38, 38, 38, 38, 38, 38, 38, 38, 38, 37, 31, 16, 16, 16, 34, 38, 38, 37, 16, 38, 38, 38, 31, 34, 16, 31, 16, 28, 16, 16, 16, 27, 15, 18, 18, 18])\t[('AS', -25), ('XS', -19), ('XN', 0), ('XM', 1), ('XO', 1), ('XG', 5), ('NM', 6), ('MD', '2C25^GATTT22'), ('YT', 'UU')]\n",
      "\n",
      "chr11 95382768\n",
      "HISEQ:280:C9J9KANXX:1:2213:10613:32557\t256\t1\t95382768\t2\t22M6D28M\t-1\t-1\t50\tGTGTACTTACATATAAATAAATTTTAAAAAAAAAAAAAAAAAAAAAAAAA\tarray('B', [18, 18, 18, 15, 27, 16, 16, 16, 28, 16, 31, 16, 34, 31, 38, 38, 38, 16, 37, 38, 38, 34, 16, 16, 16, 31, 37, 38, 38, 38, 38, 38, 38, 38, 38, 38, 38, 38, 38, 38, 38, 38, 38, 38, 38, 38, 38, 38, 38, 38])\t[('AS', -28), ('XS', -19), ('XN', 0), ('XM', 1), ('XO', 1), ('XG', 6), ('NM', 7), ('MD', '22^AAAATC3T24'), ('YT', 'UU')]\n",
      "\n",
      "chr17 53503535\n",
      "HISEQ:280:C9J9KANXX:1:2213:10613:32557\t256\t7\t53503535\t2\t50M\t-1\t-1\t50\tGTGTACTTACATATAAATAAATTTTAAAAAAAAAAAAAAAAAAAAAAAAA\tarray('B', [18, 18, 18, 15, 27, 16, 16, 16, 28, 16, 31, 16, 34, 31, 38, 38, 38, 16, 37, 38, 38, 34, 16, 16, 16, 31, 37, 38, 38, 38, 38, 38, 38, 38, 38, 38, 38, 38, 38, 38, 38, 38, 38, 38, 38, 38, 38, 38, 38, 38])\t[('AS', -29), ('XS', -19), ('XN', 0), ('XM', 7), ('XO', 0), ('XG', 0), ('NM', 7), ('MD', '22A0C0A0T3T1C1T16'), ('YT', 'UU')]\n",
      "\n",
      "chr18 6380893\n",
      "HISEQ:280:C9J9KANXX:1:2213:10613:32557\t272\t8\t6380893\t2\t28M4D22M\t-1\t-1\t50\tTTTTTTTTTTTTTTTTTTTTTTTTTAAAATTTATTTATATGTAAGTACAC\tarray('B', [38, 38, 38, 38, 38, 38, 38, 38, 38, 38, 38, 38, 38, 38, 38, 38, 38, 38, 38, 38, 38, 38, 38, 37, 31, 16, 16, 16, 34, 38, 38, 37, 16, 38, 38, 38, 31, 34, 16, 31, 16, 28, 16, 16, 16, 27, 15, 18, 18, 18])\t[('AS', -30), ('XS', -19), ('XN', 0), ('XM', 3), ('XO', 1), ('XG', 4), ('NM', 7), ('MD', '9C6C9G1^TTTT22'), ('YT', 'UU')]\n",
      "\n",
      "chr7 126345407\n",
      "HISEQ:280:C9J9KANXX:1:2213:10613:32557\t272\t32\t126345407\t2\t28M5D22M\t-1\t-1\t50\tTTTTTTTTTTTTTTTTTTTTTTTTTAAAATTTATTTATATGTAAGTACAC\tarray('B', [38, 38, 38, 38, 38, 38, 38, 38, 38, 38, 38, 38, 38, 38, 38, 38, 38, 38, 38, 38, 38, 38, 38, 37, 31, 16, 16, 16, 34, 38, 38, 37, 16, 38, 38, 38, 31, 34, 16, 31, 16, 28, 16, 16, 16, 27, 15, 18, 18, 18])\t[('AS', -30), ('XS', -19), ('XN', 0), ('XM', 2), ('XO', 1), ('XG', 5), ('NM', 7), ('MD', '3C10C13^GATTT22'), ('YT', 'UU')]\n",
      "\n",
      "30\n"
     ]
    }
   ],
   "source": [
    "bst = pysam.AlignmentFile('/home/parastou/Bowtie2d/sample3.sam')\n",
    "breads = bst.fetch(until_eof=True)\n",
    "cnt = 0\n",
    "for r in breads:\n",
    "    cnt += 1\n",
    "    print r.reference_name, r.reference_start\n",
    "    print r\n",
    "    print \n",
    "print cnt"
   ]
  },
  {
   "cell_type": "markdown",
   "metadata": {},
   "source": [
    "## HISAT2 "
   ]
  },
  {
   "cell_type": "markdown",
   "metadata": {},
   "source": [
    "/home/parastou/hisat2-2.0.5/hisat2 --mp 1,0 --secondary -x mus -U /home/parastou/mm10/sample.fastq -S test2.sam"
   ]
  },
  {
   "cell_type": "code",
   "execution_count": 21,
   "metadata": {
    "collapsed": false
   },
   "outputs": [],
   "source": [
    "st1 = pysam.AlignmentFile('/home/parastou/hisat2d/t.bam', 'rb')"
   ]
  },
  {
   "cell_type": "code",
   "execution_count": 30,
   "metadata": {
    "collapsed": false,
    "scrolled": false
   },
   "outputs": [
    {
     "name": "stdout",
     "output_type": "stream",
     "text": [
      "5\n",
      "chr11\n",
      "HISEQ:280:C9J9KANXX:1:2213:10613:32557\t272\t1\t115840915\t1\t50M\t-1\t-1\t50\tTTTTTTTTTTTTTTTTTTTTTTTTTAAAATTTATTTATATGTAAGTACAC\tarray('B', [38, 38, 38, 38, 38, 38, 38, 38, 38, 38, 38, 38, 38, 38, 38, 38, 38, 38, 38, 38, 38, 38, 38, 37, 31, 16, 16, 16, 34, 38, 38, 37, 16, 38, 38, 38, 31, 34, 16, 31, 16, 28, 16, 16, 16, 27, 15, 18, 18, 18])\t[('AS', 0), ('ZS', 0), ('XN', 0), ('XM', 15), ('XO', 0), ('XG', 0), ('NM', 15), ('MD', '1G0G0G0G0A0A0G0G0A9A0A2A0A0T0T23'), ('YT', 'UU'), ('NH', 5)]\n",
      "\n",
      "5\n",
      "chr14\n",
      "HISEQ:280:C9J9KANXX:1:2213:10613:32557\t272\t4\t81656591\t1\t50M\t-1\t-1\t50\tTTTTTTTTTTTTTTTTTTTTTTTTTAAAATTTATTTATATGTAAGTACAC\tarray('B', [38, 38, 38, 38, 38, 38, 38, 38, 38, 38, 38, 38, 38, 38, 38, 38, 38, 38, 38, 38, 38, 38, 38, 37, 31, 16, 16, 16, 34, 38, 38, 37, 16, 38, 38, 38, 31, 34, 16, 31, 16, 28, 16, 16, 16, 27, 15, 18, 18, 18])\t[('AS', 0), ('ZS', 0), ('XN', 0), ('XM', 7), ('XO', 0), ('XG', 0), ('NM', 7), ('MD', '20A0A0A0G0A0T0T23'), ('YT', 'UU'), ('NH', 5)]\n",
      "\n",
      "5\n",
      "chr3\n",
      "HISEQ:280:C9J9KANXX:1:2213:10613:32557\t16\t17\t153953940\t1\t50M\t-1\t-1\t50\tTTTTTTTTTTTTTTTTTTTTTTTTTAAAATTTATTTATATGTAAGTACAC\tarray('B', [38, 38, 38, 38, 38, 38, 38, 38, 38, 38, 38, 38, 38, 38, 38, 38, 38, 38, 38, 38, 38, 38, 38, 37, 31, 16, 16, 16, 34, 38, 38, 37, 16, 38, 38, 38, 31, 34, 16, 31, 16, 28, 16, 16, 16, 27, 15, 18, 18, 18])\t[('AS', 0), ('ZS', 0), ('XN', 0), ('XM', 14), ('XO', 0), ('XG', 0), ('NM', 14), ('MD', '0C0A1G1A0C1C1C9A0A0A0G0A0T0T23'), ('YT', 'UU'), ('NH', 5)]\n",
      "\n",
      "2\n",
      "chr8\n",
      "HISEQ:280:C9J9KANXX:1:2201:10903:83526\t0\t34\t84899457\t60\t50M\t-1\t-1\t50\tGGTCTGAAGTTCAAATACAAGCAACCACATGGTGGCTCACAACCATCTGT\tarray('B', [25, 29, 27, 15, 15, 16, 31, 37, 16, 16, 16, 16, 31, 37, 38, 16, 26, 16, 16, 31, 16, 15, 31, 37, 16, 16, 28, 15, 36, 16, 16, 16, 16, 16, 14, 16, 15, 16, 29, 25, 27, 37, 2, 2, 2, 2, 2, 2, 2, 2])\t[('AS', 0), ('ZS', -7), ('XN', 0), ('XM', 4), ('XO', 0), ('XG', 0), ('NM', 4), ('MD', '4C0T0G7T35'), ('YT', 'UU'), ('NH', 2)]\n",
      "\n",
      "2\n",
      "chr8\n",
      "HISEQ:280:C9J9KANXX:1:2201:10903:83526\t256\t34\t84899464\t60\t7S43M\t-1\t-1\t43\tGGTCTGAAGTTCAAATACAAGCAACCACATGGTGGCTCACAACCATCTGT\tarray('B', [25, 29, 27, 15, 15, 16, 31, 37, 16, 16, 16, 16, 31, 37, 38, 16, 26, 16, 16, 31, 16, 15, 31, 37, 16, 16, 28, 15, 36, 16, 16, 16, 16, 16, 14, 16, 15, 16, 29, 25, 27, 37, 2, 2, 2, 2, 2, 2, 2, 2])\t[('AS', -7), ('ZS', -7), ('XN', 0), ('XM', 1), ('XO', 0), ('XG', 0), ('NM', 1), ('MD', '7T35'), ('YT', 'UU'), ('NH', 2)]\n",
      "\n",
      "5\n",
      "chr9\n",
      "HISEQ:280:C9J9KANXX:1:2213:10613:32557\t256\t35\t96818221\t1\t50M\t-1\t-1\t50\tGTGTACTTACATATAAATAAATTTTAAAAAAAAAAAAAAAAAAAAAAAAA\tarray('B', [18, 18, 18, 15, 27, 16, 16, 16, 28, 16, 31, 16, 34, 31, 38, 38, 38, 16, 37, 38, 38, 34, 16, 16, 16, 31, 37, 38, 38, 38, 38, 38, 38, 38, 38, 38, 38, 38, 38, 38, 38, 38, 38, 38, 38, 38, 38, 38, 38, 38])\t[('AS', 0), ('ZS', 0), ('XN', 0), ('XM', 13), ('XO', 0), ('XG', 0), ('NM', 13), ('MD', '0A0A0A0A1A1A1A1G0T0A0G0T1A32'), ('YT', 'UU'), ('NH', 5)]\n",
      "\n",
      "5\n",
      "chr9\n",
      "HISEQ:280:C9J9KANXX:1:2213:10613:32557\t256\t35\t96818224\t1\t3S47M\t-1\t-1\t47\tGTGTACTTACATATAAATAAATTTTAAAAAAAAAAAAAAAAAAAAAAAAA\tarray('B', [18, 18, 18, 15, 27, 16, 16, 16, 28, 16, 31, 16, 34, 31, 38, 38, 38, 16, 37, 38, 38, 34, 16, 16, 16, 31, 37, 38, 38, 38, 38, 38, 38, 38, 38, 38, 38, 38, 38, 38, 38, 38, 38, 38, 38, 38, 38, 38, 38, 38])\t[('AS', -3), ('ZS', 0), ('XN', 0), ('XM', 10), ('XO', 0), ('XG', 0), ('NM', 10), ('MD', '0A1A1A1A1G0T0A0G0T1A32'), ('YT', 'UU'), ('NH', 5)]\n",
      "\n",
      "7\n"
     ]
    }
   ],
   "source": [
    "st1.reset()\n",
    "reads = st1.fetch(until_eof=True)\n",
    "cnt = 0\n",
    "for r in reads:\n",
    "    if not r.is_unmapped:\n",
    "        print r.get_tag('NH')\n",
    "        print r.reference_name\n",
    "        print r\n",
    "        print\n",
    "        cnt += 1\n",
    "print cnt"
   ]
  },
  {
   "cell_type": "markdown",
   "metadata": {},
   "source": [
    "/home/parastou/hisat2-2.0.5/hisat2 --mp 2,0 --secondary -x mus -U /home/parastou/mm10/sample.fastq -S test3.sam"
   ]
  },
  {
   "cell_type": "code",
   "execution_count": 31,
   "metadata": {
    "collapsed": false
   },
   "outputs": [
    {
     "name": "stdout",
     "output_type": "stream",
     "text": [
      "2\n",
      "chr8\n",
      "HISEQ:280:C9J9KANXX:1:2201:10903:83526\t0\t34\t84899457\t60\t50M\t-1\t-1\t50\tGGTCTGAAGTTCAAATACAAGCAACCACATGGTGGCTCACAACCATCTGT\tarray('B', [25, 29, 27, 15, 15, 16, 31, 37, 16, 16, 16, 16, 31, 37, 38, 16, 26, 16, 16, 31, 16, 15, 31, 37, 16, 16, 28, 15, 36, 16, 16, 16, 16, 16, 14, 16, 15, 16, 29, 25, 27, 37, 2, 2, 2, 2, 2, 2, 2, 2])\t[('AS', -2), ('ZS', -8), ('XN', 0), ('XM', 4), ('XO', 0), ('XG', 0), ('NM', 4), ('MD', '4C0T0G7T35'), ('YT', 'UU'), ('NH', 2)]\n",
      "\n",
      "2\n",
      "chr8\n",
      "HISEQ:280:C9J9KANXX:1:2201:10903:83526\t256\t34\t84899464\t60\t7S43M\t-1\t-1\t43\tGGTCTGAAGTTCAAATACAAGCAACCACATGGTGGCTCACAACCATCTGT\tarray('B', [25, 29, 27, 15, 15, 16, 31, 37, 16, 16, 16, 16, 31, 37, 38, 16, 26, 16, 16, 31, 16, 15, 31, 37, 16, 16, 28, 15, 36, 16, 16, 16, 16, 16, 14, 16, 15, 16, 29, 25, 27, 37, 2, 2, 2, 2, 2, 2, 2, 2])\t[('AS', -8), ('ZS', -8), ('XN', 0), ('XM', 1), ('XO', 0), ('XG', 0), ('NM', 1), ('MD', '7T35'), ('YT', 'UU'), ('NH', 2)]\n",
      "\n",
      "2\n"
     ]
    }
   ],
   "source": [
    "st1 = pysam.AlignmentFile('/home/parastou/hisat2d/t3.bam', 'rb')\n",
    "reads = st1.fetch(until_eof=True)\n",
    "cnt = 0\n",
    "for r in reads:\n",
    "    if not r.is_unmapped:\n",
    "        print r.get_tag('NH')\n",
    "        print r.reference_name\n",
    "        print r\n",
    "        print\n",
    "        cnt += 1\n",
    "print cnt"
   ]
  },
  {
   "cell_type": "code",
   "execution_count": null,
   "metadata": {
    "collapsed": true
   },
   "outputs": [],
   "source": []
  }
 ],
 "metadata": {
  "kernelspec": {
   "display_name": "Python 2",
   "language": "python",
   "name": "python2"
  },
  "language_info": {
   "codemirror_mode": {
    "name": "ipython",
    "version": 2
   },
   "file_extension": ".py",
   "mimetype": "text/x-python",
   "name": "python",
   "nbconvert_exporter": "python",
   "pygments_lexer": "ipython2",
   "version": "2.7.12"
  }
 },
 "nbformat": 4,
 "nbformat_minor": 2
}
