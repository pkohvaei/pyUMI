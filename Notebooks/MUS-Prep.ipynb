{
 "cells": [
  {
   "cell_type": "code",
   "execution_count": 1,
   "metadata": {
    "collapsed": true
   },
   "outputs": [],
   "source": [
    "import pysam\n",
    "import numpy as np\n",
    "import cPickle as pickle"
   ]
  },
  {
   "cell_type": "code",
   "execution_count": 2,
   "metadata": {
    "collapsed": false
   },
   "outputs": [],
   "source": [
    "%matplotlib inline\n",
    "%load_ext autoreload\n",
    "%autoreload 2\n",
    "import matplotlib.pyplot as plt\n",
    "from pyUMI import umi_stats as stats\n",
    "from pyUMI import multimap_solver as solver"
   ]
  },
  {
   "cell_type": "code",
   "execution_count": 3,
   "metadata": {
    "collapsed": true
   },
   "outputs": [],
   "source": [
    "import logging\n",
    "logging.basicConfig(level=logging.INFO)"
   ]
  },
  {
   "cell_type": "code",
   "execution_count": 4,
   "metadata": {
    "collapsed": true
   },
   "outputs": [],
   "source": [
    "from pyUMI import repeat_solver"
   ]
  },
  {
   "cell_type": "code",
   "execution_count": 5,
   "metadata": {
    "collapsed": true
   },
   "outputs": [],
   "source": [
    "#AAAACT  AAAGTT  ATATAG  ATCAAA  CCCTGG  CCGGAC  GACCGC  GGCGTC  GTTCGA  TAAAGT  TCTGCA  TTAATC"
   ]
  },
  {
   "cell_type": "code",
   "execution_count": 6,
   "metadata": {
    "collapsed": false
   },
   "outputs": [],
   "source": [
    "st = pysam.AlignmentFile(\"/data/UMI/data/MUS/sample_AAAACT.bam\",\"rb\")\n",
    "#fst = repeat_solver.filter_alignmentFile(st, cell_barcode=\"TTAATC\",repeats=True)"
   ]
  },
  {
   "cell_type": "markdown",
   "metadata": {},
   "source": [
    "-----------------"
   ]
  },
  {
   "cell_type": "code",
   "execution_count": 37,
   "metadata": {
    "collapsed": true
   },
   "outputs": [],
   "source": [
    "st = pysam.AlignmentFile(\"/data/UMI/data/MUS/sample_AAAACT.bam\",\"rb\")"
   ]
  },
  {
   "cell_type": "code",
   "execution_count": 7,
   "metadata": {
    "collapsed": true
   },
   "outputs": [],
   "source": [
    "q = [k for k in stats.multimap_generator(st)]"
   ]
  },
  {
   "cell_type": "code",
   "execution_count": 20,
   "metadata": {
    "collapsed": false,
    "scrolled": true
   },
   "outputs": [],
   "source": [
    "g = [k.get_tag(\"GE\") for k in q if k.has_tag(\"GE\") and not \"ENSMUS\" in k.get_tag(\"GE\") ]"
   ]
  },
  {
   "cell_type": "code",
   "execution_count": 21,
   "metadata": {
    "collapsed": false,
    "scrolled": true
   },
   "outputs": [
    {
     "data": {
      "text/plain": [
       "128363"
      ]
     },
     "execution_count": 21,
     "metadata": {},
     "output_type": "execute_result"
    }
   ],
   "source": [
    "from collections import Counter\n",
    "gg = Counter(g)\n",
    "len(gg)\n",
    "#gg.most_common(10)"
   ]
  },
  {
   "cell_type": "code",
   "execution_count": 22,
   "metadata": {
    "collapsed": false
   },
   "outputs": [
    {
     "data": {
      "text/plain": [
       "Counter({'B2_Mm2_dup42359': 8,\n",
       "         'B2_Mm2_dup36715': 1,\n",
       "         'L1Md_T_dup12440': 2,\n",
       "         'B2_Mm2_dup36713': 9,\n",
       "         'B1_Mus2_dup57778': 9,\n",
       "         'B2_Mm2_dup36711': 2,\n",
       "         'B2_Mm2_dup36710': 1,\n",
       "         'L1Md_T_dup21944': 1,\n",
       "         'B1_Mus2_dup57776': 1,\n",
       "         'L1Md_T_dup21940': 3,\n",
       "         'B2_Mm2_dup36719': 29,\n",
       "         'RLTR31D_MM_dup384': 2,\n",
       "         'L1Md_F2_dup5498': 3,\n",
       "         'B1_Mus1_dup5959': 2,\n",
       "         'L1Md_T_dup15798': 2,\n",
       "         'L1Md_T_dup15797': 13,\n",
       "         'L1Md_T_dup15793': 338,\n",
       "         'L1Md_T_dup21949': 3,\n",
       "         'B2_Mm2_dup2111': 12,\n",
       "         'B2_Mm2_dup2112': 4,\n",
       "         'B2_Mm2_dup31846': 9,\n",
       "         'B1_Mus2_dup13587': 10,\n",
       "         'B2_Mm2_dup31844': 1,\n",
       "         'B2_Mm2_dup2116': 2,\n",
       "         'B2_Mm2_dup2119': 19,\n",
       "         'B2_Mm1t_dup14081': 6,\n",
       "         'B2_Mm2_dup31849': 20,\n",
       "         'L1_Mus3_dup12378': 9,\n",
       "         'B2_Mm1a_dup6949': 3,\n",
       "         'B2_Mm1a_dup6948': 5,\n",
       "         'RSINE1_dup3457': 2,\n",
       "         'B2_Mm1a_dup6945': 39,\n",
       "         'B2_Mm1a_dup6944': 62,\n",
       "         'B2_Mm1a_dup6947': 343,\n",
       "         'B2_Mm1t_dup14082': 167,\n",
       "         'B2_Mm1a_dup6941': 423,\n",
       "         'B2_Mm1a_dup6940': 226,\n",
       "         'B2_Mm1a_dup6943': 7,\n",
       "         'B2_Mm1a_dup6942': 40,\n",
       "         'B2_Mm1a_dup429': 142,\n",
       "         'B2_Mm1a_dup428': 54,\n",
       "         'B1_Mus2_dup55956': 8,\n",
       "         'B1_Mus1_dup67598': 1,\n",
       "         'L1Md_F_dup3530': 1,\n",
       "         'B2_Mm1a_dup422': 299,\n",
       "         'B2_Mm1a_dup421': 48,\n",
       "         'B2_Mm1t_dup3500': 26,\n",
       "         'B1_Mus1_dup67593': 2,\n",
       "         'B2_Mm1a_dup426': 428,\n",
       "         'B2_Mm1a_dup425': 78,\n",
       "         'B2_Mm2_dup68821': 2,\n",
       "         'B1_Mus1_dup5437': 14,\n",
       "         'B2_Mm1a_dup271': 29,\n",
       "         'L1_Mus1_dup16499': 2,\n",
       "         'B2_Mm2_dup36718': 1,\n",
       "         'B2_Mm1a_dup277': 13,\n",
       "         'L1VL2_dup4270': 7,\n",
       "         'B2_Mm1t_dup12869': 5,\n",
       "         'B2_Mm1t_dup12868': 50,\n",
       "         'L1_Mur3_dup18514': 1,\n",
       "         'B1_Mus1_dup10451': 11,\n",
       "         'B2_Mm1t_dup12866': 20,\n",
       "         'B2_Mm1t_dup12861': 7,\n",
       "         'B2_Mm1t_dup12860': 1,\n",
       "         'B2_Mm1t_dup12863': 1,\n",
       "         'B1_Mus1_dup10457': 7,\n",
       "         'B2_Mm2_dup12770': 1,\n",
       "         'B1_Mur3_dup5396': 149,\n",
       "         'B1_Mus1_dup18681': 1,\n",
       "         'ETnERV-int_dup889': 62,\n",
       "         'L1Md_F2_dup6917': 1,\n",
       "         'ETnERV-int_dup886': 45,\n",
       "         'ETnERV-int_dup883': 140,\n",
       "         'B2_Mm1t_dup21566': 9,\n",
       "         'B2_Mm1a_dup279': 8,\n",
       "         'L1Md_A_dup13069': 3,\n",
       "         'B2_Mm2_dup85394': 2,\n",
       "         'RLTR10C_dup391': 2,\n",
       "         'B2_Mm2_dup37686': 9,\n",
       "         'B2_Mm2_dup43005': 38,\n",
       "         'B2_Mm1a_dup14929': 34,\n",
       "         'B2_Mm1a_dup14928': 1,\n",
       "         'B2_Mm1a_dup14925': 58,\n",
       "         'B2_Mm1a_dup14924': 9,\n",
       "         'B2_Mm1a_dup14927': 50,\n",
       "         'B2_Mm1a_dup14926': 52,\n",
       "         'B2_Mm1a_dup14921': 74,\n",
       "         'B2_Mm1a_dup14920': 6,\n",
       "         'B2_Mm1a_dup14923': 10,\n",
       "         'B2_Mm1a_dup14922': 2,\n",
       "         'L1Md_F2_dup27561': 3,\n",
       "         'MamTip2_dup180': 1,\n",
       "         'B2_Mm2_dup3648': 20,\n",
       "         'L1Md_F2_dup27569': 1,\n",
       "         'B2_Mm2_dup3644': 1,\n",
       "         'L1Md_F2_dup5491': 15,\n",
       "         'B1_Mm_dup702': 17,\n",
       "         'L1Md_T_dup23543': 4,\n",
       "         'L1Md_T_dup23540': 25,\n",
       "         'B1_Mm_dup706': 2,\n",
       "         'B1_Mus1_dup5953': 1,\n",
       "         'L1Md_T_dup7526': 11,\n",
       "         'B1_Mus2_dup8652': 14,\n",
       "         'B2_Mm2_dup31842': 4,\n",
       "         'RLTR20A4_dup9168': 1,\n",
       "         'L1Md_F3_dup3438': 1,\n",
       "         'B1_Mus2_dup2435': 3,\n",
       "         'ETnERV-int_dup594': 1,\n",
       "         'ERVB7_2B-LTR_MM_dup611': 14,\n",
       "         'B1_Mus1_dup50253': 7,\n",
       "         'MTB_Mm_dup1070': 1,\n",
       "         'B1_Mus1_dup35849': 1,\n",
       "         'B2_Mm2_dup86334': 22,\n",
       "         'B2_Mm2_dup86335': 15,\n",
       "         'B1_Mus2_dup37470': 13,\n",
       "         'B1_Mus2_dup37471': 1,\n",
       "         'B2_Mm2_dup86330': 2,\n",
       "         'B2_Mm2_dup86331': 3,\n",
       "         'B1_Mus2_dup57863': 114,\n",
       "         'B1_Mus2_dup45535': 3,\n",
       "         'B1_Mus1_dup38946': 6,\n",
       "         'B1_Mus2_dup45532': 11,\n",
       "         'B2_Mm2_dup73961': 2,\n",
       "         'B2_Mm2_dup4934': 1,\n",
       "         'B2_Mm1t_dup14013': 18,\n",
       "         'B2_Mm1t_dup14010': 14,\n",
       "         'B2_Mm1t_dup14014': 1,\n",
       "         'B2_Mm1t_dup14019': 37,\n",
       "         'B1_Mm_dup9451': 6,\n",
       "         'L1Md_A_dup4960': 1,\n",
       "         'B2_Mm2_dup34524': 10,\n",
       "         'B2_Mm2_dup4518': 14,\n",
       "         'RLTR10_dup70': 1,\n",
       "         'B1_Mm_dup28986': 36,\n",
       "         'B1_Mm_dup9458': 1,\n",
       "         'B1_Mur4_dup8576': 1,\n",
       "         'RLTR10_dup76': 6,\n",
       "         'RLTR13A_dup69': 23,\n",
       "         'B1_Mus1_dup63749': 1,\n",
       "         'B1_Mus1_dup15979': 1,\n",
       "         'RLTR13A_dup65': 23,\n",
       "         'B1_Mus1_dup63740': 10,\n",
       "         'L1Md_T_dup14467': 22,\n",
       "         'L1Md_F3_dup13729': 211,\n",
       "         'L1Md_T_dup14463': 2,\n",
       "         'L1_Mus3_dup12545': 9,\n",
       "         'B2_Mm1a_dup1026': 3,\n",
       "         'B1_Mus1_dup49409': 1,\n",
       "         'L1Md_A_dup9825': 9,\n",
       "         'B2_Mm2_dup11353': 11,\n",
       "         'L1Md_F3_dup13727': 13,\n",
       "         'B1_Mus2_dup39492': 1,\n",
       "         'B1_Mus2_dup55431': 4,\n",
       "         'L1Md_F2_dup13746': 1,\n",
       "         'B2_Mm1a_dup10972': 50,\n",
       "         'B2_Mm1a_dup10973': 225,\n",
       "         'B2_Mm1a_dup10970': 453,\n",
       "         'B2_Mm1a_dup10971': 196,\n",
       "         'B2_Mm1a_dup10976': 73,\n",
       "         'B2_Mm1a_dup10977': 96,\n",
       "         'B2_Mm1a_dup10975': 16,\n",
       "         'B1_Mus2_dup3744': 1,\n",
       "         'B1_Mus2_dup17436': 1,\n",
       "         'B2_Mm1a_dup10979': 28,\n",
       "         'B1_Mus2_dup3743': 1,\n",
       "         'B2_Mm2_dup52540': 43,\n",
       "         'L1Md_F2_dup29344': 1,\n",
       "         'B2_Mm2_dup66688': 25,\n",
       "         'L1Md_F2_dup29342': 2,\n",
       "         'ZP3AR_dup2357': 96,\n",
       "         'ZP3AR_dup2359': 6,\n",
       "         'B2_Mm2_dup44085': 1,\n",
       "         'B2_Mm2_dup66680': 2,\n",
       "         'B2_Mm2_dup66681': 4,\n",
       "         'B2_Mm2_dup66682': 19,\n",
       "         'B2_Mm2_dup35437': 2,\n",
       "         'B2_Mm2_dup35434': 1,\n",
       "         'B3_dup113244': 1,\n",
       "         'B2_Mm2_dup35431': 4,\n",
       "         'B1_Mus2_dup57866': 4,\n",
       "         'B2_Mm2_dup59475': 15,\n",
       "         'B1_Mus2_dup17438': 1,\n",
       "         'B2_Mm1t_dup19331': 5,\n",
       "         'RLTR4_MM-int_dup279': 102,\n",
       "         'B2_Mm2_dup5041': 2,\n",
       "         'L1Md_F2_dup57513': 14,\n",
       "         'B2_Mm2_dup34380': 2,\n",
       "         'B1_Mus1_dup25736': 9,\n",
       "         'RLTR4_MM-int_dup274': 139,\n",
       "         'RLTR4_MM-int_dup277': 235,\n",
       "         'L1MEg_dup2843': 1,\n",
       "         'B2_Mm1t_dup3508': 30,\n",
       "         'RMER16-int_dup2199': 19,\n",
       "         'B2_Mm1t_dup7990': 6,\n",
       "         'B2_Mm1t_dup7991': 2,\n",
       "         'B2_Mm1t_dup7992': 1,\n",
       "         'B2_Mm1t_dup7993': 4,\n",
       "         'B2_Mm1t_dup7994': 9,\n",
       "         'L1_Mus2_dup14416': 4,\n",
       "         'B2_Mm1t_dup7998': 8,\n",
       "         'B2_Mm1t_dup7999': 36,\n",
       "         'B1_Mus2_dup55954': 2,\n",
       "         'B2_Mm1t_dup15762': 3,\n",
       "         'B2_Mm1t_dup15761': 53,\n",
       "         'B2_Mm1t_dup15760': 4,\n",
       "         'B2_Mm1t_dup18597': 19,\n",
       "         'L1Md_T_dup173': 4,\n",
       "         'B2_Mm1t_dup15765': 45,\n",
       "         'B2_Mm1t_dup15764': 106,\n",
       "         'B2_Mm1t_dup6023': 13,\n",
       "         'B2_Mm1t_dup6022': 38,\n",
       "         'B2_Mm1t_dup15769': 1,\n",
       "         'B2_Mm1t_dup15768': 138,\n",
       "         'B2_Mm1t_dup6027': 1,\n",
       "         'B2_Mm1t_dup6026': 4,\n",
       "         'B2_Mm1t_dup6025': 8,\n",
       "         'B2_Mm1t_dup6024': 4,\n",
       "         'B2_Mm2_dup18066': 6,\n",
       "         'B2_Mm2_dup68822': 1,\n",
       "         'L1Md_A_dup12354': 4,\n",
       "         'B1_Mus2_dup25235': 14,\n",
       "         'B1_Mus2_dup31637': 4,\n",
       "         'B2_Mm1t_dup3505': 24,\n",
       "         'B1_Mus1_dup68658': 1,\n",
       "         'L1MB2_dup158': 1,\n",
       "         'B1_Mus1_dup79171': 3,\n",
       "         'B2_Mm2_dup63337': 3,\n",
       "         'B1_Mus1_dup79174': 1,\n",
       "         'L1Md_T_dup6606': 1,\n",
       "         'L1Md_T_dup6605': 1,\n",
       "         'MLTR18A_MM_dup15': 1,\n",
       "         'L1Md_T_dup6602': 61,\n",
       "         'L1Md_T_dup6601': 2,\n",
       "         'B2_Mm2_dup8918': 17,\n",
       "         'B1_Mm_dup10261': 16,\n",
       "         'B1_Mus2_dup18623': 6,\n",
       "         'B1_Mm_dup10267': 1,\n",
       "         'B1_Mus1_dup46969': 5,\n",
       "         'B2_Mm1t_dup12417': 22,\n",
       "         'B2_Mm2_dup72339': 4,\n",
       "         'B2_Mm2_dup72338': 1,\n",
       "         'B2_Mm1t_dup12412': 2,\n",
       "         'B2_Mm2_dup7655': 12,\n",
       "         'B2_Mm2_dup72336': 1,\n",
       "         'B1_Mus1_dup46967': 1,\n",
       "         'B2_Mm2_dup72330': 2,\n",
       "         'B2_Mm2_dup72332': 1,\n",
       "         'B2_Mm1a_dup15809': 863,\n",
       "         'B2_Mm1a_dup15808': 11,\n",
       "         'L1_Mus3_dup34136': 5,\n",
       "         'B2_Mm2_dup41093': 5,\n",
       "         'B2_Mm2_dup41090': 1,\n",
       "         'B2_Mm2_dup41091': 21,\n",
       "         'B2_Mm1a_dup15801': 271,\n",
       "         'B2_Mm1a_dup15800': 136,\n",
       "         'B2_Mm1a_dup15803': 31,\n",
       "         'B2_Mm1a_dup15802': 26,\n",
       "         'B2_Mm1a_dup15805': 199,\n",
       "         'B2_Mm1a_dup15806': 5,\n",
       "         'RLTR6C_Mm_dup63': 26,\n",
       "         'L1Md_F2_dup2296': 1,\n",
       "         'B2_Mm2_dup86171': 9,\n",
       "         'B2_Mm2_dup43834': 1,\n",
       "         'B2_Mm2_dup43833': 1,\n",
       "         'ORR1A3_dup2579': 1,\n",
       "         'B1_Mur4_dup921': 127,\n",
       "         'Lx8b_dup15594': 9,\n",
       "         'B1_Mus2_dup7117': 1,\n",
       "         'B1_Mus2_dup7116': 1,\n",
       "         'B1_Mus2_dup7111': 4,\n",
       "         'L1Md_F3_dup6113': 1,\n",
       "         'B1_Mur4_dup926': 4,\n",
       "         'B1_Mm_dup35633': 1,\n",
       "         'B1_Mm_dup35631': 3,\n",
       "         'B1_Mm_dup35637': 5,\n",
       "         'B1_Mus1_dup9226': 12,\n",
       "         'B1_Mm_dup35639': 4,\n",
       "         'B2_Mm2_dup77863': 4,\n",
       "         'B2_Mm2_dup77861': 9,\n",
       "         'B2_Mm2_dup77866': 2,\n",
       "         'B1_Mus1_dup36734': 1,\n",
       "         'MLT1B_dup3817': 1,\n",
       "         'B2_Mm2_dup77869': 14,\n",
       "         'B2_Mm2_dup60689': 10,\n",
       "         'IAPLTR1_Mm_dup366': 37,\n",
       "         'B2_Mm2_dup72060': 1,\n",
       "         'B2_Mm2_dup60682': 22,\n",
       "         'B1_Mm_dup10886': 2,\n",
       "         'B2_Mm2_dup60686': 1,\n",
       "         'B2_Mm2_dup60684': 1,\n",
       "         'B2_Mm2_dup60685': 6,\n",
       "         'B2_Mm1t_dup12865': 1,\n",
       "         'B2_Mm2_dup68455': 1,\n",
       "         'B2_Mm2_dup68453': 2,\n",
       "         'B2_Mm1t_dup12864': 1,\n",
       "         'B1_Mus2_dup16747': 1,\n",
       "         'B3_dup135310': 4,\n",
       "         'B3_dup115627': 1,\n",
       "         'B1_Mus1_dup31208': 1,\n",
       "         'B1_Mur2_dup27428': 1,\n",
       "         'Lx9_dup17140': 1,\n",
       "         'B1_Mm_dup20377': 8,\n",
       "         'B1_Mus2_dup59225': 11,\n",
       "         'RLTRETN_Mm_dup778': 1,\n",
       "         'B1_Mm_dup20372': 5,\n",
       "         'B1_Mm_dup20373': 2,\n",
       "         'RLTRETN_Mm_dup776': 1,\n",
       "         'RLTRETN_Mm_dup771': 4,\n",
       "         'RLTRETN_Mm_dup770': 258,\n",
       "         'B2_Mm2_dup75642': 46,\n",
       "         'B2_Mm2_dup75643': 4,\n",
       "         'B1_Mm_dup28583': 9,\n",
       "         'B1_Mm_dup28580': 1,\n",
       "         'B1_Mm_dup28587': 1,\n",
       "         'B1_Mm_dup28585': 1,\n",
       "         'B1_Mm_dup28584': 2,\n",
       "         'B2_Mm1a_dup17407': 18,\n",
       "         'B2_Mm1a_dup17406': 93,\n",
       "         'B2_Mm1a_dup17405': 64,\n",
       "         'B2_Mm1a_dup17404': 131,\n",
       "         'B2_Mm1a_dup17403': 42,\n",
       "         'B2_Mm1a_dup17402': 195,\n",
       "         'B2_Mm1a_dup17401': 3,\n",
       "         'B2_Mm1a_dup17400': 2,\n",
       "         'B1_Mus1_dup83322': 32,\n",
       "         'B1_Mus1_dup83323': 33,\n",
       "         'B1_Mus1_dup83320': 4,\n",
       "         'B1_Mus1_dup83321': 5,\n",
       "         'L1Md_T_dup18842': 13,\n",
       "         'B2_Mm1a_dup14641': 5,\n",
       "         'B1_Mus1_dup45682': 5,\n",
       "         'B1_Mus2_dup29455': 5,\n",
       "         'B1_Mus2_dup29457': 6,\n",
       "         'B2_Mm2_dup63867': 14,\n",
       "         'L1Md_F2_dup50884': 1,\n",
       "         'L1Md_A_dup9457': 27,\n",
       "         'B1_Mus1_dup30775': 11,\n",
       "         'L1Md_A_dup9452': 2,\n",
       "         'L1Md_F2_dup50882': 1,\n",
       "         'B2_Mm2_dup5651': 3,\n",
       "         'L1Md_A_dup9458': 13,\n",
       "         'B2_Mm1t_dup9431': 6,\n",
       "         'L1Md_T_dup6364': 3,\n",
       "         'B2_Mm1a_dup3617': 82,\n",
       "         'L1Md_T_dup5722': 4,\n",
       "         'L1Md_T_dup5725': 16,\n",
       "         'L1Md_T_dup5728': 1,\n",
       "         'B2_Mm2_dup74263': 7,\n",
       "         'L1Md_F2_dup60075': 38,\n",
       "         'L1Md_F2_dup60073': 7,\n",
       "         'B1_Mus1_dup65154': 1,\n",
       "         'B2_Mm1t_dup19482': 25,\n",
       "         'B2_Mm1t_dup10350': 33,\n",
       "         'B2_Mm2_dup12277': 4,\n",
       "         'B2_Mm1a_dup16750': 2,\n",
       "         'B2_Mm1a_dup16751': 1,\n",
       "         'B2_Mm1a_dup16752': 218,\n",
       "         'B2_Mm1a_dup16753': 25,\n",
       "         'B2_Mm1a_dup16754': 49,\n",
       "         'B2_Mm1a_dup16755': 146,\n",
       "         'B2_Mm1a_dup16756': 7,\n",
       "         'B2_Mm1a_dup16757': 57,\n",
       "         'B2_Mm1a_dup16758': 28,\n",
       "         'B2_Mm1a_dup16759': 3,\n",
       "         'B2_Mm1a_dup5142': 9,\n",
       "         'B1_Mus1_dup82050': 1,\n",
       "         'B2_Mm1a_dup5144': 1,\n",
       "         'B2_Mm1a_dup5145': 2,\n",
       "         'B2_Mm1a_dup5146': 128,\n",
       "         'B2_Mm1a_dup5147': 8,\n",
       "         'B2_Mm1a_dup14229': 2,\n",
       "         'B1_Mus2_dup40238': 9,\n",
       "         'B1_Mus2_dup40239': 1,\n",
       "         'B1_Mus1_dup13810': 12,\n",
       "         'B1_Mus1_dup33080': 10,\n",
       "         'B1_Mus1_dup33082': 1,\n",
       "         'B1_Mus2_dup66466': 4,\n",
       "         'B1_Mus1_dup33086': 2,\n",
       "         'RLTRETN_Mm_dup28': 3,\n",
       "         'B1_Mus1_dup48101': 4,\n",
       "         'B1_Mus1_dup48100': 6,\n",
       "         'RLTRETN_Mm_dup24': 2,\n",
       "         'RLTRETN_Mm_dup25': 12,\n",
       "         'RLTRETN_Mm_dup26': 10,\n",
       "         'RLTRETN_Mm_dup27': 1,\n",
       "         'RLTRETN_Mm_dup22': 4,\n",
       "         'RLTRETN_Mm_dup23': 2,\n",
       "         'B1_Mus1_dup77129': 1,\n",
       "         'B2_Mm1a_dup11611': 54,\n",
       "         'Lx3A_dup8301': 8,\n",
       "         'B1_Mus1_dup77122': 1,\n",
       "         'B1_Mm_dup18437': 6,\n",
       "         'B1_Mus1_dup85583': 1,\n",
       "         'B2_Mm1t_dup18288': 14,\n",
       "         'B2_Mm1t_dup18283': 1,\n",
       "         'B2_Mm1t_dup18282': 5,\n",
       "         'B2_Mm1t_dup18280': 882,\n",
       "         'B2_Mm1t_dup18286': 39,\n",
       "         'B2_Mm1t_dup18284': 1,\n",
       "         'B2_Mm1t_dup21508': 300,\n",
       "         'B2_Mm1t_dup21509': 94,\n",
       "         'B2_Mm2_dup24349': 5,\n",
       "         'B2_Mm2_dup24348': 1,\n",
       "         'B2_Mm2_dup71019': 2,\n",
       "         'L1Md_A_dup16359': 1,\n",
       "         'L1Md_T_dup20541': 106,\n",
       "         'L1Md_T_dup20540': 1,\n",
       "         'B2_Mm2_dup71015': 3,\n",
       "         'B2_Mm2_dup71014': 5,\n",
       "         'B2_Mm1t_dup21502': 255,\n",
       "         'B2_Mm2_dup71016': 2,\n",
       "         'B2_Mm2_dup71011': 13,\n",
       "         'B2_Mm1t_dup21505': 264,\n",
       "         'B2_Mm1t_dup21506': 1,\n",
       "         'B2_Mm1t_dup21507': 255,\n",
       "         'B2_Mm1t_dup2001': 724,\n",
       "         'B2_Mm1t_dup2000': 32,\n",
       "         'B2_Mm1t_dup2003': 18,\n",
       "         'B2_Mm1t_dup2005': 3,\n",
       "         'B2_Mm1t_dup2004': 12,\n",
       "         'B1_Mus2_dup62034': 15,\n",
       "         'B1_Mus2_dup62035': 2,\n",
       "         'L1MEd_dup2040': 4,\n",
       "         'B2_Mm1t_dup2008': 2,\n",
       "         'B1_Mus2_dup62039': 11,\n",
       "         'B2_Mm2_dup70761': 5,\n",
       "         'B2_Mm2_dup70762': 7,\n",
       "         'L1Md_T_dup18368': 2,\n",
       "         'B2_Mm2_dup56809': 2,\n",
       "         'B2_Mm2_dup56804': 1,\n",
       "         'B2_Mm2_dup56807': 2,\n",
       "         'L1Md_F2_dup12162': 11,\n",
       "         'B1_Mus2_dup32372': 6,\n",
       "         'B2_Mm2_dup56803': 28,\n",
       "         'B1_Mur4_dup31439': 1,\n",
       "         'B2_Mm2_dup83862': 1,\n",
       "         'B1_Mur4_dup20954': 2,\n",
       "         'B2_Mm2_dup83865': 5,\n",
       "         'L1Md_F2_dup16178': 1,\n",
       "         'B2_Mm2_dup83864': 15,\n",
       "         'B2_Mm2_dup89041': 1,\n",
       "         'B1_Mus2_dup27469': 6,\n",
       "         'Lx3_Mus_dup8271': 4,\n",
       "         'B2_Mm2_dup83867': 8,\n",
       "         'B4A_dup74730': 1,\n",
       "         'RLTR19-int_dup1469': 3427,\n",
       "         'B2_Mm1t_dup16523': 12,\n",
       "         'B1_Mus2_dup27466': 1,\n",
       "         'B2_Mm2_dup89043': 7,\n",
       "         'L1Md_T_dup3396': 42,\n",
       "         'B2_Mm2_dup21262': 1,\n",
       "         'B2_Mm2_dup21261': 1,\n",
       "         'B2_Mm2_dup77087': 8,\n",
       "         'B2_Mm2_dup77081': 8,\n",
       "         'B2_Mm2_dup10658': 7,\n",
       "         'B2_Mm2_dup77083': 1,\n",
       "         'L1Md_A_dup3248': 2,\n",
       "         'B2_Mm2_dup10654': 7,\n",
       "         'B2_Mm2_dup10655': 9,\n",
       "         'B2_Mm2_dup77088': 1,\n",
       "         'B2_Mm2_dup10653': 22,\n",
       "         'B2_Mm2_dup10651': 9,\n",
       "         'LTRIS2_dup637': 19,\n",
       "         'B1_Mus1_dup59628': 6,\n",
       "         'LTRIS2_dup631': 3,\n",
       "         'LTRIS2_dup632': 5,\n",
       "         'B1_Mus1_dup59624': 1,\n",
       "         'B1_Mus1_dup59625': 1,\n",
       "         'L1Md_T_dup13700': 26,\n",
       "         'LTRIS2_dup638': 1,\n",
       "         'LTRIS2_dup639': 20,\n",
       "         'ERVB4_1C-LTR_Mm_dup889': 79,\n",
       "         'B2_Mm2_dup81676': 13,\n",
       "         'B2_Mm1a_dup12836': 529,\n",
       "         'B2_Mm2_dup24969': 67,\n",
       "         'MMVL30-int_dup336': 17,\n",
       "         'B2_Mm2_dup24965': 11,\n",
       "         'L1_Mus2_dup7171': 3,\n",
       "         'B2_Mm2_dup41616': 34,\n",
       "         'B2_Mm2_dup24960': 2,\n",
       "         'B2_Mm2_dup41617': 5,\n",
       "         'B2_Mm1a_dup3786': 52,\n",
       "         'B2_Mm2_dup78198': 1,\n",
       "         'B2_Mm2_dup81672': 15,\n",
       "         'B2_Mm1a_dup3681': 185,\n",
       "         'B2_Mm2_dup8550': 6,\n",
       "         'L1M5_dup12952': 1,\n",
       "         'B1_Mus1_dup13199': 11,\n",
       "         'B2_Mm1t_dup9783': 3,\n",
       "         'B2_Mm1t_dup9781': 72,\n",
       "         'B2_Mm1t_dup9780': 2,\n",
       "         'B2_Mm1t_dup9786': 69,\n",
       "         'B2_Mm1t_dup9785': 6,\n",
       "         'B2_Mm1t_dup9789': 38,\n",
       "         'Lx3B_dup3816': 3,\n",
       "         'B2_Mm1a_dup3787': 9,\n",
       "         'Lx6_dup13570': 41,\n",
       "         'B1_Mus1_dup13196': 1,\n",
       "         'B2_Mm2_dup55578': 2,\n",
       "         'B2_Mm2_dup55579': 35,\n",
       "         'LTRIS_Mus_dup118': 42,\n",
       "         'B2_Mm2_dup55575': 160,\n",
       "         'B2_Mm2_dup55576': 1,\n",
       "         'B2_Mm2_dup55577': 4,\n",
       "         'L1Md_A_dup8549': 1,\n",
       "         'B2_Mm2_dup55573': 24,\n",
       "         'B1_Mus2_dup63341': 1,\n",
       "         'B1_Mus2_dup63346': 1,\n",
       "         'B1_Mus2_dup63345': 1,\n",
       "         'B1_Mus1_dup81772': 1,\n",
       "         'B1_Mm_dup17774': 9,\n",
       "         'B1_Mm_dup17772': 1,\n",
       "         'B1_Mm_dup17771': 4,\n",
       "         'B1_Mm_dup8154': 12,\n",
       "         'B1_Mm_dup8157': 1,\n",
       "         'B1_Mm_dup8151': 1,\n",
       "         'B1_Mus2_dup8659': 2,\n",
       "         'B4_dup2258': 1,\n",
       "         'B2_Mm2_dup76353': 6,\n",
       "         'B2_Mm2_dup76357': 25,\n",
       "         'B2_Mm2_dup76356': 13,\n",
       "         'B2_Mm2_dup29878': 26,\n",
       "         'B2_Mm2_dup76354': 31,\n",
       "         'B2_Mm2_dup29876': 22,\n",
       "         'B2_Mm2_dup17384': 9,\n",
       "         'B2_Mm2_dup17386': 1,\n",
       "         'B2_Mm2_dup17381': 5,\n",
       "         'B2_Mm2_dup17380': 5,\n",
       "         'B2_Mm2_dup17382': 5,\n",
       "         'Lx10_dup6845': 2,\n",
       "         'RLTR1B_dup450': 6,\n",
       "         'B1_Mus2_dup66838': 7,\n",
       "         'B2_Mm2_dup6442': 1,\n",
       "         'B2_Mm2_dup6440': 3,\n",
       "         'L1Md_T_dup19280': 8,\n",
       "         'B1_Mur4_dup37496': 1,\n",
       "         'B1_Mur4_dup37490': 53,\n",
       "         'MTD_dup40421': 1,\n",
       "         'B2_Mm2_dup86635': 7,\n",
       "         'MIR_dup15706': 4,\n",
       "         'ETnERV3-int_dup438': 1,\n",
       "         'B2_Mm1a_dup5968': 1889,\n",
       "         'MuRRS4-int_dup2697': 1,\n",
       "         'B1_Mus1_dup53272': 1,\n",
       "         'ETnERV3-int_dup430': 2,\n",
       "         'B2_Mm1a_dup5963': 59,\n",
       "         'B2_Mm1a_dup5960': 63,\n",
       "         'B2_Mm1a_dup5961': 47,\n",
       "         'B2_Mm1a_dup5966': 13,\n",
       "         'B2_Mm1a_dup5967': 219,\n",
       "         'B2_Mm1a_dup5964': 347,\n",
       "         'B2_Mm1a_dup5965': 138,\n",
       "         'B2_Mm2_dup10928': 25,\n",
       "         'L1Md_F2_dup44890': 1,\n",
       "         'B1_Mus1_dup82873': 2,\n",
       "         'B3_dup94693': 1,\n",
       "         'B2_Mm1a_dup193': 327,\n",
       "         'L1Md_F_dup3881': 1,\n",
       "         'B2_Mm1a_dup190': 112,\n",
       "         'L1Md_F_dup3884': 1,\n",
       "         'L1Md_F_dup3886': 1,\n",
       "         'B2_Mm1a_dup194': 35,\n",
       "         'L1Md_F_dup3889': 9,\n",
       "         'B2_Mm1a_dup198': 15,\n",
       "         'B1_Mm_dup25473': 2,\n",
       "         'L1Md_F3_dup16014': 4,\n",
       "         'B1_Mus2_dup12968': 1,\n",
       "         'B1_Mus1_dup75198': 1,\n",
       "         'B2_Mm2_dup46272': 4,\n",
       "         'B2_Mm2_dup46271': 4,\n",
       "         'L1_Mur1_dup7567': 5,\n",
       "         'Lx2B_dup1662': 14,\n",
       "         'B2_Mm2_dup46279': 4,\n",
       "         'B1_Mus1_dup75193': 1,\n",
       "         'L1_Mus1_dup24884': 4,\n",
       "         'MLT2D_dup366': 14,\n",
       "         'B1_Mus1_dup23770': 1,\n",
       "         'L1Md_F2_dup6284': 10,\n",
       "         'L1Md_F2_dup15244': 1,\n",
       "         'B1_Mus1_dup87344': 9,\n",
       "         'B1_Mm_dup5405': 1,\n",
       "         'B1_Mus1_dup87346': 2,\n",
       "         'B1_Mus1_dup70016': 6,\n",
       "         'B1_Mus1_dup87342': 4,\n",
       "         'L1Md_T_dup23': 25,\n",
       "         'L1_Mus3_dup21321': 1,\n",
       "         'B1_Mus1_dup87349': 12,\n",
       "         'ERVB7_1-LTR_MM_dup265': 1,\n",
       "         'ERVB7_1-LTR_MM_dup267': 3,\n",
       "         'ERVB7_1-LTR_MM_dup266': 3,\n",
       "         'L1Md_T_dup21': 11,\n",
       "         'RLTR41_dup1001': 1,\n",
       "         'L1Md_T_dup22923': 2,\n",
       "         'L1Md_T_dup22922': 1,\n",
       "         'B1_Mus2_dup68696': 11,\n",
       "         'B1_Mus1_dup17805': 1,\n",
       "         'B1_Mus2_dup68698': 8,\n",
       "         'B1_Mus2_dup68699': 6,\n",
       "         'MurSatRep1_dup2246': 4,\n",
       "         'B1_Mus2_dup37476': 1,\n",
       "         'L1_Mus1_dup16124': 2,\n",
       "         'L1_Mus1_dup16125': 1,\n",
       "         'B1_Mur4_dup10069': 1,\n",
       "         'L1Md_T_dup23039': 14,\n",
       "         'L1Md_T_dup23034': 4,\n",
       "         'L1Md_T_dup23035': 1,\n",
       "         'L1Md_T_dup23031': 2,\n",
       "         'L1Md_F2_dup42645': 1,\n",
       "         'B1_Mus1_dup91248': 7,\n",
       "         'B4_dup43004': 1,\n",
       "         'B2_Mm2_dup57324': 5,\n",
       "         'B2_Mm2_dup57322': 25,\n",
       "         'L1Md_F2_dup42642': 78,\n",
       "         'B2_Mm2_dup22109': 8,\n",
       "         'B2_Mm2_dup57329': 21,\n",
       "         'B2_Mm2_dup57328': 2,\n",
       "         'B1_Mus1_dup87960': 6,\n",
       "         'B2_Mm2_dup56497': 2,\n",
       "         'B2_Mm2_dup56492': 1,\n",
       "         'L1Md_F3_dup3183': 5,\n",
       "         'B2_Mm2_dup56491': 47,\n",
       "         'B1_Mur4_dup19584': 1,\n",
       "         'B1_Mus2_dup2188': 1,\n",
       "         'B2_Mm2_dup56498': 9,\n",
       "         'B2_Mm1a_dup3945': 11,\n",
       "         'RLTR1D_dup256': 21,\n",
       "         'B2_Mm2_dup8883': 180,\n",
       "         'L1Md_A_dup984': 18,\n",
       "         'RLTR10_dup2620': 15,\n",
       "         'IAPEz-int_dup687': 17,\n",
       "         'L1Md_A_dup987': 14,\n",
       "         'RLTR10_dup2625': 12,\n",
       "         'RLTR10_dup2626': 12,\n",
       "         'RLTR10_dup2629': 2,\n",
       "         'B1_Mus1_dup71769': 14,\n",
       "         'L1Md_F2_dup48099': 1,\n",
       "         'MMERVK10D3_I-int_dup316': 6,\n",
       "         'B2_Mm1a_dup29': 11,\n",
       "         'B2_Mm1a_dup27': 40,\n",
       "         'B2_Mm1a_dup24': 32,\n",
       "         'B2_Mm1a_dup25': 12,\n",
       "         'B2_Mm1a_dup22': 113,\n",
       "         'B2_Mm1a_dup23': 24,\n",
       "         'B2_Mm1a_dup20': 89,\n",
       "         'B1_Mus2_dup54513': 1,\n",
       "         'B1_Mus1_dup14572': 1,\n",
       "         'B1_Mur4_dup10262': 10,\n",
       "         'B1_Mus1_dup14574': 7,\n",
       "         'B1_Mus2_dup34308': 23,\n",
       "         'B3_dup43262': 1,\n",
       "         'L1Md_F2_dup27698': 17,\n",
       "         'B2_Mm2_dup84600': 1,\n",
       "         'B2_Mm2_dup84601': 24,\n",
       "         'B2_Mm2_dup82299': 2,\n",
       "         'B2_Mm2_dup82298': 5,\n",
       "         'B2_Mm2_dup84607': 3,\n",
       "         'B2_Mm2_dup82294': 9,\n",
       "         'B2_Mm2_dup82297': 6,\n",
       "         'B2_Mm2_dup82291': 25,\n",
       "         'B2_Mm2_dup82293': 19,\n",
       "         'L1Md_T_dup9178': 4,\n",
       "         'B1_Mus2_dup11224': 18,\n",
       "         'MLTR25A_dup455': 6,\n",
       "         'L1_Mus3_dup23305': 557,\n",
       "         'L1Md_T_dup9170': 4,\n",
       "         'B4_dup19708': 1,\n",
       "         'B1_Mus2_dup11228': 1,\n",
       "         'L1Md_T_dup9176': 94,\n",
       "         'ETnERV-int_dup159': 115,\n",
       "         'ETnERV-int_dup151': 25,\n",
       "         'ETnERV-int_dup152': 28,\n",
       "         'L1_Mur3_dup17348': 12,\n",
       "         'B2_Mm2_dup29010': 1,\n",
       "         'B2_Mm2_dup29012': 22,\n",
       "         'B2_Mm1a_dup17758': 144,\n",
       "         'B2_Mm2_dup29019': 6,\n",
       "         'B2_Mm2_dup77950': 1,\n",
       "         'B4A_dup79222': 2,\n",
       "         'B2_Mm2_dup52860': 7,\n",
       "         'B2_Mm2_dup52867': 2,\n",
       "         'B2_Mm2_dup52864': 11,\n",
       "         'B1_Mus1_dup29339': 1,\n",
       "         'B2_Mm1a_dup9516': 27,\n",
       "         'B2_Mm1a_dup9515': 354,\n",
       "         'B2_Mm2_dup52868': 1,\n",
       "         'B2_Mm1a_dup9513': 508,\n",
       "         'B2_Mm1a_dup9511': 35,\n",
       "         'B2_Mm1a_dup9510': 430,\n",
       "         'B2_Mm2_dup67279': 1,\n",
       "         'B2_Mm1a_dup2439': 128,\n",
       "         'B1_Mus2_dup66059': 1,\n",
       "         'B1_Mm_dup36171': 10,\n",
       "         'B1_Mus2_dup66055': 2,\n",
       "         'B2_Mm1a_dup2437': 25,\n",
       "         'B2_Mm1a_dup2436': 72,\n",
       "         'B2_Mm1a_dup2431': 24,\n",
       "         'B1_Mm_dup36174': 18,\n",
       "         'B1_Mm_dup36177': 7,\n",
       "         'B2_Mm1a_dup2432': 27,\n",
       "         'B1_Mm_dup37224': 5,\n",
       "         'B2_Mm1a_dup3748': 87,\n",
       "         'B2_Mm1a_dup3749': 13,\n",
       "         'B2_Mm1a_dup3744': 239,\n",
       "         'B2_Mm1a_dup3745': 103,\n",
       "         'B2_Mm1a_dup3746': 91,\n",
       "         'B2_Mm1a_dup3747': 21,\n",
       "         'B2_Mm1a_dup3740': 48,\n",
       "         'B2_Mm1a_dup3741': 20,\n",
       "         'B2_Mm1a_dup3742': 71,\n",
       "         'B1_Mm_dup37229': 4,\n",
       "         'B1_Mus2_dup43852': 1,\n",
       "         'L1Md_F2_dup31684': 1,\n",
       "         'L1VL4_dup2259': 5,\n",
       "         'B1_Mus2_dup10576': 4,\n",
       "         'L1_Mus3_dup28416': 4,\n",
       "         'B2_Mm2_dup5156': 3,\n",
       "         'MurSatRep1_dup17': 29,\n",
       "         'B1_Mus1_dup2914': 1,\n",
       "         'B2_Mm2_dup5152': 6,\n",
       "         'MurSatRep1_dup19': 7,\n",
       "         'B1_Mus2_dup50514': 19,\n",
       "         'B1_Mus2_dup10578': 6,\n",
       "         'B1_Mus2_dup50517': 30,\n",
       "         'MT2_Mm_dup2604': 18,\n",
       "         'MT2_Mm_dup2605': 18,\n",
       "         'B4A_dup43589': 1,\n",
       "         'B2_Mm2_dup68256': 9,\n",
       "         'B1_Mus2_dup48758': 1,\n",
       "         'L1Md_F2_dup9458': 1,\n",
       "         'B1_Mus2_dup48754': 2,\n",
       "         'B1_Mus2_dup48750': 4,\n",
       "         'B2_Mm1t_dup5202': 13,\n",
       "         'B2_Mm1t_dup5203': 10,\n",
       "         'B2_Mm1t_dup5200': 44,\n",
       "         'B2_Mm1t_dup5206': 1,\n",
       "         'B2_Mm1t_dup5207': 266,\n",
       "         'B2_Mm1t_dup5204': 22,\n",
       "         'B2_Mm1t_dup5208': 8,\n",
       "         'B2_Mm1t_dup5209': 38,\n",
       "         'L1VL4_dup1508': 1,\n",
       "         'L1Md_F2_dup27884': 2,\n",
       "         'B2_Mm2_dup60908': 3,\n",
       "         'B1_Mm_dup17334': 4,\n",
       "         'B1_Mm_dup36799': 1,\n",
       "         'B1_Mm_dup36795': 1,\n",
       "         'B2_Mm2_dup7937': 13,\n",
       "         'L1Md_T_dup18880': 2,\n",
       "         'B2_Mm2_dup88604': 14,\n",
       "         'B2_Mm2_dup88605': 199,\n",
       "         'B2_Mm2_dup88600': 11,\n",
       "         'B1_Mus1_dup19778': 1,\n",
       "         'B2_Mm1a_dup11168': 16,\n",
       "         'B2_Mm1a_dup11169': 28,\n",
       "         'B2_Mm1a_dup11166': 54,\n",
       "         'L1Md_F2_dup47526': 1,\n",
       "         'B1_Mus2_dup44522': 8,\n",
       "         'B2_Mm1a_dup11165': 33,\n",
       "         'B2_Mm1a_dup11163': 19,\n",
       "         'B2_Mm1a_dup11160': 37,\n",
       "         'B2_Mm1a_dup11161': 77,\n",
       "         'B2_Mm2_dup72687': 1,\n",
       "         'B2_Mm2_dup72683': 2,\n",
       "         'B2_Mm2_dup41709': 1,\n",
       "         'B2_Mm2_dup41707': 2,\n",
       "         'B2_Mm2_dup41704': 5,\n",
       "         'L1Md_T_dup13612': 4,\n",
       "         'B2_Mm2_dup64993': 17,\n",
       "         'B1_Mus1_dup90179': 1,\n",
       "         'B2_Mm2_dup81723': 5,\n",
       "         'B2_Mm2_dup81724': 2,\n",
       "         'B2_Mm2_dup81726': 1,\n",
       "         'B2_Mm2_dup81729': 16,\n",
       "         'L1VL2_dup1602': 3,\n",
       "         'B2_Mm1t_dup22588': 8,\n",
       "         'B2_Mm2_dup34529': 1,\n",
       "         'B2_Mm2_dup7931': 1,\n",
       "         'B1_Mm_dup32336': 4,\n",
       "         'B1_Mus2_dup49402': 20,\n",
       "         'B1_Mm_dup32334': 4,\n",
       "         'B1_Mus2_dup7461': 10,\n",
       "         'B2_Mm2_dup4511': 2,\n",
       "         'B1_Mus2_dup7463': 14,\n",
       "         'LTRIS_Mm_dup79': 3,\n",
       "         'B2_Mm2_dup72800': 4,\n",
       "         'B1_Mus2_dup7468': 12,\n",
       "         'B1_Mus2_dup38069': 1,\n",
       "         'L1Md_F2_dup37279': 11,\n",
       "         'B1_Mus2_dup38063': 1,\n",
       "         'RLTR10D_dup363': 12,\n",
       "         'B2_Mm1t_dup4153': 333,\n",
       "         'B2_Mm1t_dup4152': 36,\n",
       "         'B2_Mm1t_dup4155': 221,\n",
       "         'B2_Mm1t_dup4157': 1,\n",
       "         'B2_Mm1t_dup4156': 21,\n",
       "         'B2_Mm1t_dup4159': 1,\n",
       "         'L1_Mus1_dup21570': 1,\n",
       "         'B1_Mus1_dup20082': 2,\n",
       "         'B2_Mm1a_dup7119': 32,\n",
       "         'B2_Mm1a_dup7118': 13,\n",
       "         'B2_Mm1a_dup10699': 114,\n",
       "         'B2_Mm1a_dup10698': 2180,\n",
       "         'B2_Mm1a_dup10697': 15,\n",
       "         'LTRIS2_dup1244': 1,\n",
       "         'B2_Mm1a_dup10695': 130,\n",
       "         'B2_Mm1a_dup10694': 32,\n",
       "         'B2_Mm1a_dup10693': 53,\n",
       "         'B2_Mm1a_dup10692': 5,\n",
       "         'LTRIS2_dup1243': 1,\n",
       "         'LTRIS2_dup1242': 9,\n",
       "         'B2_Mm1t_dup15863': 41,\n",
       "         'L1Md_F2_dup17637': 1,\n",
       "         'B1_Mur3_dup4725': 9,\n",
       "         'B2_Mm1t_dup4595': 5,\n",
       "         'B1_Mus1_dup24863': 4,\n",
       "         'B2_Mm1a_dup16489': 48,\n",
       "         'LTRIS3_dup145': 3,\n",
       "         'B1_Mus2_dup51266': 1,\n",
       "         'LTRIS3_dup140': 1,\n",
       "         'B1_Mus1_dup64998': 1,\n",
       "         'IAPEz-int_dup977': 1,\n",
       "         'IAPEz-int_dup976': 1,\n",
       "         'B1_Mus1_dup64994': 6,\n",
       "         'B2_Mm1t_dup4596': 1,\n",
       "         'B1_Mus2_dup51268': 4,\n",
       "         'L1Md_A_dup12272': 1,\n",
       "         'B2_Mm1t_dup4598': 19,\n",
       "         'L1Md_A_dup12279': 10,\n",
       "         'B2_Mm1a_dup16486': 51,\n",
       "         'B2_Mm1a_dup17921': 397,\n",
       "         'B2_Mm2_dup70005': 1,\n",
       "         'B1_Mus2_dup39916': 2,\n",
       "         'B1_Mus2_dup39910': 4,\n",
       "         'B2_Mm2_dup70004': 5,\n",
       "         'B1_Mus2_dup45288': 59,\n",
       "         'B2_Mm1a_dup16481': 8,\n",
       "         'L1Md_T_dup15613': 7,\n",
       "         'B2_Mm1t_dup13219': 4,\n",
       "         'B2_Mm1t_dup13218': 66,\n",
       "         'L1Md_T_dup15615': 8,\n",
       "         'B2_Mm1t_dup13215': 28,\n",
       "         'B2_Mm2_dup43701': 10,\n",
       "         'Lx9_dup37966': 1,\n",
       "         'B2_Mm1t_dup13216': 129,\n",
       "         'B1_Mus2_dup57634': 6,\n",
       "         'B2_Mm1t_dup13213': 5,\n",
       "         'B1_Mus2_dup57637': 8,\n",
       "         'B2_Mm1t_dup16191': 14,\n",
       "         'B2_Mm1t_dup16190': 1,\n",
       "         'B2_Mm1t_dup16193': 1,\n",
       "         'B2_Mm1t_dup16192': 8,\n",
       "         'B2_Mm1t_dup16195': 30,\n",
       "         'B2_Mm1t_dup15072': 1,\n",
       "         'B2_Mm1t_dup16197': 4,\n",
       "         'ERVB7_1-LTR_MM_dup2': 2,\n",
       "         'B2_Mm1a_dup17929': 135,\n",
       "         'B2_Mm2_dup87395': 3,\n",
       "         'L1Md_F2_dup10691': 7,\n",
       "         'B2_Mm2_dup87398': 5,\n",
       "         'B2_Mm2_dup85725': 9,\n",
       "         'B2_Mm2_dup85727': 1,\n",
       "         'B2_Mm2_dup87535': 1,\n",
       "         'B1_Mus2_dup39490': 4,\n",
       "         'B2_Mm2_dup85728': 5,\n",
       "         'B2_Mm2_dup85729': 3,\n",
       "         'Lx5c_dup8900': 6,\n",
       "         'B1_Mus1_dup6586': 3,\n",
       "         'IAPLTR2_Mm_dup107': 1,\n",
       "         'B1_Mus1_dup6584': 3,\n",
       "         'B1_Mus2_dup4349': 17,\n",
       "         'L1Md_A_dup9821': 2,\n",
       "         'B2_Mm2_dup69258': 4,\n",
       "         'B2_Mm2_dup69259': 10,\n",
       "         'B1_Mus2_dup4345': 1,\n",
       "         'B2_Mm2_dup69254': 1,\n",
       "         'B1_Mus2_dup4346': 12,\n",
       "         'B1_Mus2_dup4340': 14,\n",
       "         'B2_Mm2_dup69251': 1,\n",
       "         'B2_Mm2_dup67481': 10,\n",
       "         'ERVB7_1-LTR_MM_dup8': 12,\n",
       "         'L1Md_F2_dup63603': 1,\n",
       "         'B1_Mus2_dup5435': 1,\n",
       "         'B2_Mm2_dup34998': 11,\n",
       "         'B2_Mm1a_dup15335': 58,\n",
       "         'B2_Mm2_dup67482': 47,\n",
       "         'L1Md_F2_dup20560': 12,\n",
       "         'RLTR13G_dup750': 4,\n",
       "         'B2_Mm1a_dup17281': 98,\n",
       "         'L1Md_T_dup7540': 1,\n",
       "         'B2_Mm2_dup7141': 16,\n",
       "         'B1_Mus2_dup56581': 1,\n",
       "         'B2_Mm1a_dup13018': 44,\n",
       "         'L1Md_F3_dup13896': 2,\n",
       "         'B2_Mm2_dup7149': 1,\n",
       "         'B2_Mm1a_dup17283': 41,\n",
       "         'B2_Mm1a_dup14292': 162,\n",
       "         'B1_Mus2_dup67850': 3,\n",
       "         'B1_Mus2_dup43004': 1,\n",
       "         'B2_Mm1a_dup17285': 2,\n",
       "         'B2_Mm1a_dup11909': 13,\n",
       "         'B2_Mm1a_dup11905': 10,\n",
       "         'B2_Mm1a_dup11906': 602,\n",
       "         'B2_Mm1a_dup11907': 27,\n",
       "         'B2_Mm1a_dup11900': 23,\n",
       "         'B2_Mm1a_dup11901': 1,\n",
       "         'B2_Mm1a_dup11902': 220,\n",
       "         'B2_Mm2_dup43616': 2,\n",
       "         'B2_Mm2_dup85324': 57,\n",
       "         'L1Md_T_dup15703': 15,\n",
       "         'ETnERV-int_dup19': 7,\n",
       "         'ETnERV-int_dup18': 4,\n",
       "         'ETnERV-int_dup15': 86,\n",
       "         'ETnERV-int_dup17': 113,\n",
       "         'ETnERV-int_dup11': 1,\n",
       "         'ETnERV-int_dup10': 14,\n",
       "         'ETnERV-int_dup13': 6,\n",
       "         'ETnERV-int_dup12': 7,\n",
       "         'B2_Mm1t_dup17243': 5,\n",
       "         'B2_Mm1t_dup17240': 841,\n",
       "         'B2_Mm2_dup71561': 3,\n",
       "         'B2_Mm2_dup71560': 9,\n",
       "         'B2_Mm1t_dup17244': 52,\n",
       "         'B2_Mm1t_dup17245': 50,\n",
       "         'B2_Mm1t_dup17249': 8,\n",
       "         'B1_Mus2_dup7415': 1,\n",
       "         'B2_Mm1a_dup12457': 1,\n",
       "         'B2_Mm1a_dup12456': 28,\n",
       "         'B2_Mm1a_dup12454': 53,\n",
       "         'B2_Mm1a_dup12453': 72,\n",
       "         'B2_Mm1a_dup12452': 165,\n",
       "         'B2_Mm1a_dup12451': 428,\n",
       "         'B2_Mm1a_dup12450': 5,\n",
       "         'B1_Mus2_dup32657': 1,\n",
       "         'B2_Mm1a_dup12459': 8,\n",
       "         'B2_Mm1a_dup12458': 344,\n",
       "         'L1Md_T_dup5076': 6,\n",
       "         'B1_Mm_dup27708': 1,\n",
       "         'RLTR22_Mur_dup1120': 1,\n",
       "         'B1_Mus2_dup3747': 1,\n",
       "         'B1_Mm_dup16550': 1,\n",
       "         'B1_Mm_dup16554': 4,\n",
       "         'B1_Mm_dup16557': 3,\n",
       "         'B1_Mus1_dup67699': 11,\n",
       "         'B2_Mm2_dup4492': 1,\n",
       "         'B2_Mm2_dup47977': 51,\n",
       "         'B2_Mm1t_dup11759': 13,\n",
       "         'B2_Mm2_dup4496': 19,\n",
       "         'B2_Mm2_dup4495': 17,\n",
       "         'L1Md_F3_dup11459': 4,\n",
       "         'B2_Mm2_dup19276': 368,\n",
       "         'B1_Mm_dup12057': 3,\n",
       "         'B2_Mm2_dup19271': 5,\n",
       "         'B1_Mus1_dup24004': 23,\n",
       "         'B2_Mm1a_dup13506': 1,\n",
       "         'B1_Mus2_dup47830': 11,\n",
       "         'ID_B1_dup93821': 7,\n",
       "         'B2_Mm2_dup19278': 7,\n",
       "         'B2_Mm2_dup38484': 5,\n",
       "         'B1_Mm_dup14951': 1,\n",
       "         'B1_Mm_dup14957': 6,\n",
       "         'B1_Mm_dup14955': 1,\n",
       "         'B1_Mus1_dup78103': 1,\n",
       "         'B2_Mm1a_dup13505': 633,\n",
       "         'B1_Mus1_dup78108': 4,\n",
       "         'B2_Mm2_dup38488': 7,\n",
       "         'RLTR13G_dup473': 37,\n",
       "         'B2_Mm1t_dup10732': 16,\n",
       "         'B1_Mus1_dup73688': 6,\n",
       "         'L1_Mur2_dup15306': 7,\n",
       "         'B1_Mus2_dup9229': 1,\n",
       "         'IAPEz-int_dup5801': 3,\n",
       "         'B2_Mm1t_dup10735': 1,\n",
       "         'B2_Mm1t_dup10734': 1,\n",
       "         'MT2C_Mm_dup1218': 8,\n",
       "         'B1_Mus2_dup45092': 1,\n",
       "         'B2_Mm1t_dup10739': 6,\n",
       "         'B1_Mus2_dup45090': 1,\n",
       "         'B1_Mus1_dup73687': 6,\n",
       "         'B1_Mus1_dup73684': 1,\n",
       "         'L1Md_T_dup5872': 28,\n",
       "         'B2_Mm1t_dup20921': 25,\n",
       "         'B2_Mm1t_dup20923': 4,\n",
       "         'B2_Mm1a_dup15594': 446,\n",
       "         'B2_Mm1t_dup20925': 19,\n",
       "         'B2_Mm1t_dup20924': 106,\n",
       "         'B2_Mm1t_dup20927': 11,\n",
       "         'RMER3D-int_dup2521': 3,\n",
       "         'B2_Mm1t_dup18957': 255,\n",
       "         'B2_Mm1t_dup18956': 27,\n",
       "         'B2_Mm1t_dup18954': 7,\n",
       "         'B2_Mm1t_dup18953': 96,\n",
       "         'B2_Mm1t_dup18952': 35,\n",
       "         'B2_Mm1t_dup18951': 3,\n",
       "         'B2_Mm1t_dup18950': 291,\n",
       "         'B2_Mm1t_dup1268': 23,\n",
       "         'B2_Mm1t_dup1269': 20,\n",
       "         'B1_Mus2_dup31305': 1,\n",
       "         'B1_Mus2_dup31307': 3,\n",
       "         'B2_Mm1t_dup1260': 153,\n",
       "         'B2_Mm1t_dup1261': 59,\n",
       "         'B2_Mm1t_dup1262': 45,\n",
       "         ...})"
      ]
     },
     "execution_count": 22,
     "metadata": {},
     "output_type": "execute_result"
    }
   ],
   "source": [
    "gg"
   ]
  },
  {
   "cell_type": "code",
   "execution_count": 125,
   "metadata": {
    "collapsed": false
   },
   "outputs": [
    {
     "name": "stdout",
     "output_type": "stream",
     "text": [
      "CPU times: user 28.5 s, sys: 191 ms, total: 28.7 s\n",
      "Wall time: 28.7 s\n"
     ]
    }
   ],
   "source": [
    "%%time\n",
    "st.reset()\n",
    "\n",
    "mapped = st.mapped\n",
    "unmapped = st.unmapped\n",
    "multimaps, uniques = stats.count_um(st)"
   ]
  },
  {
   "cell_type": "code",
   "execution_count": 126,
   "metadata": {
    "collapsed": false,
    "scrolled": true
   },
   "outputs": [
    {
     "name": "stdout",
     "output_type": "stream",
     "text": [
      "17752333\n",
      "664548\n",
      "14353994\n",
      "3398339\n"
     ]
    }
   ],
   "source": [
    "print mapped\n",
    "print unmapped\n",
    "print multimaps\n",
    "print uniques"
   ]
  },
  {
   "cell_type": "code",
   "execution_count": 48,
   "metadata": {
    "collapsed": false
   },
   "outputs": [],
   "source": [
    "mm_hashtable = solver.build_multimapping_hashtable(st)"
   ]
  },
  {
   "cell_type": "code",
   "execution_count": 38,
   "metadata": {
    "collapsed": false
   },
   "outputs": [],
   "source": [
    "uniqs_hashtable, uniqs_map = solver.build_uniques_associations(st, cell_barcodes=[\"AAAACT\"])"
   ]
  },
  {
   "cell_type": "code",
   "execution_count": 110,
   "metadata": {
    "collapsed": false
   },
   "outputs": [],
   "source": [
    "umi = solver.query_uniques_hashtable(uniqs_hashtable, keyword='umi')"
   ]
  },
  {
   "cell_type": "code",
   "execution_count": 94,
   "metadata": {
    "collapsed": false
   },
   "outputs": [],
   "source": [
    "mm_genes = solver.query_multimap_hashtable(mm_hashtable, keyword='gene')"
   ]
  },
  {
   "cell_type": "code",
   "execution_count": 103,
   "metadata": {
    "collapsed": true
   },
   "outputs": [],
   "source": [
    "qn = solver.query_multimap_hashtable(mm_hashtable, keyword='umi')"
   ]
  },
  {
   "cell_type": "code",
   "execution_count": 39,
   "metadata": {
    "collapsed": false
   },
   "outputs": [],
   "source": [
    "uniqs_genes = solver.get_uniquesmap_genes(uniqs_map)"
   ]
  },
  {
   "cell_type": "code",
   "execution_count": 88,
   "metadata": {
    "collapsed": false
   },
   "outputs": [
    {
     "data": {
      "text/plain": [
       "2726958"
      ]
     },
     "execution_count": 88,
     "metadata": {},
     "output_type": "execute_result"
    }
   ],
   "source": [
    "len(uniqs_genes)"
   ]
  },
  {
   "cell_type": "code",
   "execution_count": 86,
   "metadata": {
    "collapsed": false
   },
   "outputs": [],
   "source": [
    "uniqs_regions = solver.get_uniquesmap_genes(uniqs_map, gene=False)"
   ]
  },
  {
   "cell_type": "code",
   "execution_count": 89,
   "metadata": {
    "collapsed": false
   },
   "outputs": [
    {
     "data": {
      "text/plain": [
       "3398339"
      ]
     },
     "execution_count": 89,
     "metadata": {},
     "output_type": "execute_result"
    }
   ],
   "source": [
    "len(uniqs_regions)"
   ]
  },
  {
   "cell_type": "code",
   "execution_count": 42,
   "metadata": {
    "collapsed": false
   },
   "outputs": [],
   "source": [
    "uniqs_repeats = [a for a in uniqs_genes if not(\"ENS\" in a)]"
   ]
  },
  {
   "cell_type": "code",
   "execution_count": 92,
   "metadata": {
    "collapsed": false
   },
   "outputs": [
    {
     "data": {
      "text/plain": [
       "12589260"
      ]
     },
     "execution_count": 92,
     "metadata": {},
     "output_type": "execute_result"
    }
   ],
   "source": [
    "len(solver.get_bamfile_genes(st))"
   ]
  },
  {
   "cell_type": "code",
   "execution_count": 46,
   "metadata": {
    "collapsed": false
   },
   "outputs": [
    {
     "data": {
      "text/plain": [
       "12589260"
      ]
     },
     "execution_count": 46,
     "metadata": {},
     "output_type": "execute_result"
    }
   ],
   "source": [
    "len(genes)"
   ]
  },
  {
   "cell_type": "code",
   "execution_count": 44,
   "metadata": {
    "collapsed": false
   },
   "outputs": [
    {
     "data": {
      "text/plain": [
       "194052"
      ]
     },
     "execution_count": 44,
     "metadata": {},
     "output_type": "execute_result"
    }
   ],
   "source": [
    "len(uniqs_repeats)"
   ]
  },
  {
   "cell_type": "code",
   "execution_count": 92,
   "metadata": {
    "collapsed": false
   },
   "outputs": [],
   "source": [
    "m1 = solver.build_multimapping_hashtable(st1)\n",
    "uh1,u1 = solver.build_uniques_associations(st1, cell_barcodes=[\"AAAACT\"])"
   ]
  },
  {
   "cell_type": "code",
   "execution_count": 16,
   "metadata": {
    "collapsed": false
   },
   "outputs": [
    {
     "data": {
      "text/plain": [
       "3398339"
      ]
     },
     "execution_count": 16,
     "metadata": {},
     "output_type": "execute_result"
    }
   ],
   "source": [
    "len(u1)"
   ]
  },
  {
   "cell_type": "code",
   "execution_count": 7,
   "metadata": {
    "collapsed": true
   },
   "outputs": [],
   "source": [
    "fst1 = repeat_solver.filter_alignmentFile(st1, cell_barcode=\"U\",repeats=True)\n",
    "fst1 = pysam.AlignmentFile(\"/data/UMI/data/MUS/sample_U_filtered.bam\",\"rb\")"
   ]
  },
  {
   "cell_type": "code",
   "execution_count": 12,
   "metadata": {
    "collapsed": true
   },
   "outputs": [],
   "source": [
    "fst1.reset()\n",
    "reads =  fst1.fetch(until_eof=True)"
   ]
  },
  {
   "cell_type": "code",
   "execution_count": 13,
   "metadata": {
    "collapsed": false
   },
   "outputs": [],
   "source": [
    "tags =[]\n",
    "for read in reads:\n",
    "    tags.append(read.get_tag(\"GE\"))"
   ]
  },
  {
   "cell_type": "code",
   "execution_count": 15,
   "metadata": {
    "collapsed": true
   },
   "outputs": [],
   "source": [
    "uh1_r,u1_r = solver.build_uniques_associations(fst1, cell_barcodes=[\"AAAACT\"])"
   ]
  },
  {
   "cell_type": "code",
   "execution_count": 25,
   "metadata": {
    "collapsed": false
   },
   "outputs": [],
   "source": [
    "ur_tags = [u1_r[k][0] for k in u1_r]"
   ]
  },
  {
   "cell_type": "code",
   "execution_count": null,
   "metadata": {
    "collapsed": true
   },
   "outputs": [],
   "source": [
    "solver.get_uniquesmap_genes(uniques)"
   ]
  },
  {
   "cell_type": "code",
   "execution_count": 27,
   "metadata": {
    "collapsed": false
   },
   "outputs": [
    {
     "data": {
      "text/plain": [
       "194052"
      ]
     },
     "execution_count": 27,
     "metadata": {},
     "output_type": "execute_result"
    }
   ],
   "source": [
    "len(ur_tags)"
   ]
  },
  {
   "cell_type": "code",
   "execution_count": 37,
   "metadata": {
    "collapsed": false
   },
   "outputs": [],
   "source": [
    "from collections import Counter\n",
    "urt = Counter(ur_tags)\n",
    "len(urt)\n",
    "urt_list = [k for k in urt]"
   ]
  },
  {
   "cell_type": "code",
   "execution_count": 38,
   "metadata": {
    "collapsed": false
   },
   "outputs": [
    {
     "data": {
      "text/plain": [
       "31416"
      ]
     },
     "execution_count": 38,
     "metadata": {},
     "output_type": "execute_result"
    }
   ],
   "source": [
    "len(urt_list)"
   ]
  },
  {
   "cell_type": "code",
   "execution_count": 40,
   "metadata": {
    "collapsed": false
   },
   "outputs": [],
   "source": [
    "ranking = []\n",
    "st1.reset()\n",
    "reads = st1.fetch(until_eof=True)\n",
    "\n",
    "for read in reads:\n",
    "    if (read.has_tag(\"GE\")):\n",
    "        ranking.append(read.get_tag(\"GE\"))"
   ]
  },
  {
   "cell_type": "code",
   "execution_count": 56,
   "metadata": {
    "collapsed": true
   },
   "outputs": [],
   "source": [
    "ranking_dict = Counter(ranking)"
   ]
  },
  {
   "cell_type": "code",
   "execution_count": 59,
   "metadata": {
    "collapsed": false,
    "scrolled": true
   },
   "outputs": [],
   "source": [
    "import operator\n",
    "\n",
    "ranking_dict_sorted = sorted(ranking_dict.items(), key=operator.itemgetter(1),reverse=True)\n"
   ]
  },
  {
   "cell_type": "code",
   "execution_count": 61,
   "metadata": {
    "collapsed": false
   },
   "outputs": [],
   "source": [
    "#ranking_dict_sorted\n",
    "ranked_repeats = [(i,j) for (i,j) in ranking_dict_sorted if not(\"ENSMUS\" in i)]"
   ]
  },
  {
   "cell_type": "code",
   "execution_count": 69,
   "metadata": {
    "collapsed": false
   },
   "outputs": [],
   "source": [
    "ranked_unique_repeats = sorted(urt.items(), key=operator.itemgetter(1),reverse=True)"
   ]
  },
  {
   "cell_type": "markdown",
   "metadata": {},
   "source": [
    "    Gene                      Uniquely mapped reads\n",
    "    'B2_Mm1a_dup12765'        1484\n",
    "    'B2_Mm1a_dup17081'        1309\n",
    "    'B2_Mm1t_dup4289'         1124\n",
    "    'L1_Mur2_dup15158'        1015\n",
    "    'PB1D7_dup8929'           939"
   ]
  },
  {
   "cell_type": "code",
   "execution_count": 86,
   "metadata": {
    "collapsed": false
   },
   "outputs": [],
   "source": [
    "with open('/data/UMI/data/MUS/AAAACT_ranked_unique_repeats.pkl', 'wb') as handle:\n",
    "    pickle.dump(ranked_unique_repeats, handle, protocol=pickle.HIGHEST_PROTOCOL)"
   ]
  },
  {
   "cell_type": "code",
   "execution_count": 72,
   "metadata": {
    "collapsed": false
   },
   "outputs": [],
   "source": [
    "unique_repeats = [k for k in urt]"
   ]
  },
  {
   "cell_type": "code",
   "execution_count": 75,
   "metadata": {
    "collapsed": false
   },
   "outputs": [
    {
     "name": "stdout",
     "output_type": "stream",
     "text": [
      "('L1_Mus2_dup2959', 15829)\n",
      "('L1_Mus1_dup17730', 11470)\n",
      "('B2_Mm1a_dup7097', 8880)\n",
      "('B2_Mm1t_dup14771', 7747)\n",
      "('B2_Mm1a_dup7601', 7650)\n"
     ]
    }
   ],
   "source": [
    "top_counter = 5\n",
    "for item in ranked_repeats:\n",
    "    if item[0] in unique_repeats:\n",
    "        print item\n",
    "        top_counter -= 1\n",
    "    if not(top_counter):\n",
    "        break"
   ]
  },
  {
   "cell_type": "markdown",
   "metadata": {},
   "source": [
    "    Gene                  Frequency    Uniques\n",
    "\n",
    "    'L1_Mus2_dup2959',    15829        5\n",
    "    'L1_Mus1_dup17730'    11470        76\n",
    "    'B2_Mm1a_dup7097'     8880         1\n",
    "    'B2_Mm1t_dup14771'    7747         1\n",
    "    'B2_Mm1a_dup7601'     7650         3"
   ]
  },
  {
   "cell_type": "markdown",
   "metadata": {},
   "source": [
    "-----------------------------------------"
   ]
  },
  {
   "cell_type": "markdown",
   "metadata": {},
   "source": [
    "    ERVB4_2-LTR_MM_dup63\n",
    "\n",
    "    ERVB4_2-LTR_MM_dup63    chrY    +    29718275    29718800\n",
    "\n",
    "    Read length = 50bp\n",
    "\n",
    "    Read name = HISEQ:280:C9J9KANXX:2:2115:15792:76261\n",
    "\n",
    "    ('ERVB4_2-LTR_MM_dup63', 'chrY', 29718465)\n",
    "\n",
    "    Location = chrY:29,718,472\n",
    "\n",
    "    Read name = HISEQ:280:C9J9KANXX:1:1310:7181:38503\n",
    "\n",
    "    ('ERVB4_2-LTR_MM_dup63', 'chrY', 29718496)\n",
    "\n",
    "    Location = chrY:29,718,546"
   ]
  },
  {
   "cell_type": "markdown",
   "metadata": {},
   "source": [
    "    275 800\n",
    "\n",
    "    472 522\n",
    "\n",
    "    546 596\n",
    "\n"
   ]
  }
 ],
 "metadata": {
  "kernelspec": {
   "display_name": "Python 2",
   "language": "python",
   "name": "python2"
  },
  "language_info": {
   "codemirror_mode": {
    "name": "ipython",
    "version": 2
   },
   "file_extension": ".py",
   "mimetype": "text/x-python",
   "name": "python",
   "nbconvert_exporter": "python",
   "pygments_lexer": "ipython2",
   "version": "2.7.12"
  }
 },
 "nbformat": 4,
 "nbformat_minor": 2
}
