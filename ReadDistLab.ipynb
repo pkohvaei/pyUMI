{
 "cells": [
  {
   "cell_type": "code",
   "execution_count": 1,
   "metadata": {
    "collapsed": true
   },
   "outputs": [],
   "source": [
    "import sys\n",
    "sys.path.append('/data/parastou/pyUMI/')"
   ]
  },
  {
   "cell_type": "code",
   "execution_count": 1,
   "metadata": {
    "collapsed": true
   },
   "outputs": [],
   "source": [
    "import pysam\n",
    "import numpy as np\n",
    "import cPickle as pickle"
   ]
  },
  {
   "cell_type": "code",
   "execution_count": 2,
   "metadata": {
    "collapsed": false
   },
   "outputs": [],
   "source": [
    "%load_ext autoreload\n",
    "%autoreload 2\n",
    "%matplotlib inline"
   ]
  },
  {
   "cell_type": "code",
   "execution_count": 3,
   "metadata": {
    "collapsed": true
   },
   "outputs": [],
   "source": [
    "from collections import Counter\n",
    "import matplotlib.pyplot as plt\n",
    "import logging\n",
    "logging.basicConfig(level=logging.INFO)"
   ]
  },
  {
   "cell_type": "code",
   "execution_count": 4,
   "metadata": {
    "collapsed": true
   },
   "outputs": [],
   "source": [
    "from operator import itemgetter\n",
    "import pandas as pd"
   ]
  },
  {
   "cell_type": "code",
   "execution_count": 5,
   "metadata": {
    "collapsed": true
   },
   "outputs": [],
   "source": [
    "from pyUMI.umiDistAnalyzer import isolated_umis"
   ]
  },
  {
   "cell_type": "code",
   "execution_count": 6,
   "metadata": {
    "collapsed": true
   },
   "outputs": [],
   "source": [
    "from pyUMI.umiViews import tag_based_generator, field_based_generator"
   ]
  },
  {
   "cell_type": "code",
   "execution_count": 7,
   "metadata": {
    "collapsed": false
   },
   "outputs": [],
   "source": [
    "#AAAGTT  ATATAG  ATCAAA  CCCTGG  CCGGAC  GACCGC  GGCGTC  GTTCGA  TAAAGT  TCTGCA  TTAATC\n",
    "sample = 'ATATAG'\n",
    "in_file = '/data/UMI/data/MUS/sample_' + sample + '.bam'"
   ]
  },
  {
   "cell_type": "code",
   "execution_count": 224,
   "metadata": {
    "collapsed": false
   },
   "outputs": [],
   "source": [
    "out_file = '/data/UMI/data/MUS/sample_' + sample + '_colored.bam'"
   ]
  },
  {
   "cell_type": "code",
   "execution_count": 8,
   "metadata": {
    "collapsed": true
   },
   "outputs": [],
   "source": [
    "st = pysam.AlignmentFile(in_file,\"rb\")"
   ]
  },
  {
   "cell_type": "code",
   "execution_count": 9,
   "metadata": {
    "collapsed": false
   },
   "outputs": [],
   "source": [
    "st.reset()\n",
    "reads = st.fetch(until_eof=True)"
   ]
  },
  {
   "cell_type": "code",
   "execution_count": 10,
   "metadata": {
    "collapsed": true
   },
   "outputs": [],
   "source": [
    "umiques = [r.get_tag('XM') for r in reads if r.has_tag('NH') if r.get_tag('NH')==1]"
   ]
  },
  {
   "cell_type": "code",
   "execution_count": 14,
   "metadata": {
    "collapsed": false
   },
   "outputs": [],
   "source": [
    "#sorted(Counter(umiques).items(), key = itemgetter(1), reverse=True)\n",
    "#'CTGGCGCTCT'"
   ]
  },
  {
   "cell_type": "markdown",
   "metadata": {},
   "source": [
    "### Collect all unique mapping for trinity "
   ]
  },
  {
   "cell_type": "code",
   "execution_count": 109,
   "metadata": {
    "collapsed": false
   },
   "outputs": [],
   "source": [
    "st.reset()\n",
    "reads = st.fetch(until_eof=True)"
   ]
  },
  {
   "cell_type": "code",
   "execution_count": 110,
   "metadata": {
    "collapsed": true
   },
   "outputs": [],
   "source": [
    "out_file = '/data/TrinityData/sample_' + sample + '.bam'"
   ]
  },
  {
   "cell_type": "code",
   "execution_count": 111,
   "metadata": {
    "collapsed": false
   },
   "outputs": [
    {
     "data": {
      "text/plain": [
       "''"
      ]
     },
     "execution_count": 111,
     "metadata": {},
     "output_type": "execute_result"
    }
   ],
   "source": [
    "filtered_reads = pysam.AlignmentFile(out_file, 'wb', template=st)\n",
    "\n",
    "for r in reads:\n",
    "    if r.has_tag('NH') and r.get_tag('NH')==1:\n",
    "        filtered_reads.write(r)\n",
    "    \n",
    "filtered_reads.close()\n",
    "pysam.index(out_file)"
   ]
  },
  {
   "cell_type": "markdown",
   "metadata": {},
   "source": [
    "----------------------------------------------------------------------------"
   ]
  },
  {
   "cell_type": "markdown",
   "metadata": {},
   "source": [
    "###  Color mappings for IGV"
   ]
  },
  {
   "cell_type": "code",
   "execution_count": 53,
   "metadata": {
    "collapsed": false
   },
   "outputs": [
    {
     "data": {
      "text/plain": [
       "''"
      ]
     },
     "execution_count": 53,
     "metadata": {},
     "output_type": "execute_result"
    }
   ],
   "source": [
    "yc_reads = pysam.AlignmentFile(out_file, 'wb', template=st)\n",
    "\n",
    "red = '255,0,0' # gene tagged uniques from  CTGGCGCTCT\n",
    "green = '0,255,0' # non-gene tagged uniques from CTGGCGCTCT\n",
    "blue = '0,0,255' # not used\n",
    "violet = '255,255,0' # multi maps from CTGGCGCTCT\n",
    "yellow = '0,255,255' # repeat tagged uniques from CTGGCGCTCT\n",
    "\n",
    "c1 = '0,0,0' # all other uniques\n",
    "c2 = '255,255,255' # all other multi maps\n",
    "\n",
    "for r in reads:\n",
    "    if r.has_tag('RG'):\n",
    "        r.set_tag('RG', None)\n",
    "    if r.get_tag('XM') == 'CTGGCGCTCT':\n",
    "        if r.has_tag('NH'):\n",
    "            nh = r.get_tag('NH')\n",
    "            if nh > 1:\n",
    "                r.tags += [('YC', violet)]\n",
    "            else:\n",
    "                if r.has_tag('GE'):\n",
    "                    ge = r.get_tag('GE')\n",
    "                    if 'ENSMUS' in ge:\n",
    "                        r.tags += [('YC', red)]\n",
    "                    else:\n",
    "                        r.tags += [('YC', yellow)]\n",
    "                else:\n",
    "                    r.tags += [('YC', green)]\n",
    "    else:\n",
    "        if r.has_tag('NH'):\n",
    "            nh = r.get_tag('NH')\n",
    "            if nh == 1:\n",
    "                r.tags += [('YC', c1)]\n",
    "            else:\n",
    "                r.tags += [('YC', c2)]\n",
    "    yc_reads.write(r)\n",
    "    \n",
    "yc_reads.close()\n",
    "pysam.index(out_file)"
   ]
  },
  {
   "cell_type": "code",
   "execution_count": 225,
   "metadata": {
    "collapsed": true
   },
   "outputs": [],
   "source": [
    "st2 = pysam.AlignmentFile(out_file)\n",
    "st2.reset()\n",
    "reads = st2.fetch(until_eof=True)\n",
    "loci = []\n",
    "for r in reads:\n",
    "    if not r.is_unmapped and r.get_tag('XM') == 'CTGGCGCTCT':\n",
    "        gene = None\n",
    "        if r.has_tag('GE'):\n",
    "            gene = r.get_tag('GE')\n",
    "        loci.append((r.get_tag('NH'), gene, r.reference_name, r.reference_start, r.get_tag('YC')))"
   ]
  },
  {
   "cell_type": "code",
   "execution_count": null,
   "metadata": {
    "collapsed": true
   },
   "outputs": [],
   "source": [
    "'''\n",
    "HISEQ:280:C9J9KANXX:2:1313:14293:94756\n",
    "HISEQ:280:C9J9KANXX:1:1105:17403:27083\n",
    "HISEQ:280:C9J9KANXX:1:1104:8662:76337\n",
    "'''"
   ]
  },
  {
   "cell_type": "markdown",
   "metadata": {},
   "source": [
    "### Finding PCR duplicates  "
   ]
  },
  {
   "cell_type": "code",
   "execution_count": 113,
   "metadata": {
    "collapsed": false,
    "scrolled": true
   },
   "outputs": [],
   "source": [
    "index = {}\n",
    "st.reset()\n",
    "reads = st.fetch(until_eof=True)\n",
    "for r in reads:\n",
    "    if r.has_tag('NH') and r.get_tag('NH')>1:\n",
    "        qn = r.query_name\n",
    "        xm = r.get_tag('XM')\n",
    "        ref = r.reference_name\n",
    "        start = r.reference_start\n",
    "        sq = r.query_sequence\n",
    "        k = (xm, sq, ref, start)\n",
    "        if k in index:\n",
    "            index[k].append(qn)\n",
    "        else:\n",
    "            index.update({k:[qn]})\n",
    "        \n",
    "#HISEQ:280:C9J9KANXX:1:1310:5199:81629"
   ]
  },
  {
   "cell_type": "code",
   "execution_count": 114,
   "metadata": {
    "collapsed": false
   },
   "outputs": [],
   "source": [
    "index2 = {}\n",
    "for k, value in index.items():\n",
    "    index2.update({k:'-'.join(sorted(value))})"
   ]
  },
  {
   "cell_type": "code",
   "execution_count": 97,
   "metadata": {
    "collapsed": true
   },
   "outputs": [],
   "source": [
    "df3 = pd.DataFrame(sorted(index2.items()), columns=['C', 'N'])"
   ]
  },
  {
   "cell_type": "code",
   "execution_count": 98,
   "metadata": {
    "collapsed": false
   },
   "outputs": [
    {
     "data": {
      "text/html": [
       "<div>\n",
       "<table border=\"1\" class=\"dataframe\">\n",
       "  <thead>\n",
       "    <tr style=\"text-align: right;\">\n",
       "      <th></th>\n",
       "      <th>C</th>\n",
       "      <th>N</th>\n",
       "    </tr>\n",
       "  </thead>\n",
       "  <tbody>\n",
       "    <tr>\n",
       "      <th>0</th>\n",
       "      <td>(AAAAAAAAGT, chr11, 58508744)</td>\n",
       "      <td>HISEQ:280:C9J9KANXX:1:1109:16126:36147-HISEQ:2...</td>\n",
       "    </tr>\n",
       "    <tr>\n",
       "      <th>1</th>\n",
       "      <td>(AAAAAAAAGT, chr14, 46084892)</td>\n",
       "      <td>HISEQ:280:C9J9KANXX:1:1314:2014:57709</td>\n",
       "    </tr>\n",
       "    <tr>\n",
       "      <th>2</th>\n",
       "      <td>(AAAAAAAAGT, chr16, 55971387)</td>\n",
       "      <td>HISEQ:280:C9J9KANXX:1:2107:8457:43965-HISEQ:28...</td>\n",
       "    </tr>\n",
       "    <tr>\n",
       "      <th>3</th>\n",
       "      <td>(AAAAAAAAGT, chr3, 5751214)</td>\n",
       "      <td>HISEQ:280:C9J9KANXX:1:1314:2014:57709</td>\n",
       "    </tr>\n",
       "    <tr>\n",
       "      <th>4</th>\n",
       "      <td>(AAAAAAAAGT, chr3, 10232394)</td>\n",
       "      <td>HISEQ:280:C9J9KANXX:1:1314:2014:57709</td>\n",
       "    </tr>\n",
       "    <tr>\n",
       "      <th>5</th>\n",
       "      <td>(AAAAAAAAGT, chr9, 116040543)</td>\n",
       "      <td>HISEQ:280:C9J9KANXX:1:1109:16126:36147-HISEQ:2...</td>\n",
       "    </tr>\n",
       "    <tr>\n",
       "      <th>6</th>\n",
       "      <td>(AAAAAAAATA, chr1, 15760197)</td>\n",
       "      <td>HISEQ:280:C9J9KANXX:1:2112:9196:8163-HISEQ:280...</td>\n",
       "    </tr>\n",
       "    <tr>\n",
       "      <th>7</th>\n",
       "      <td>(AAAAAAAATA, chr11, 6419481)</td>\n",
       "      <td>HISEQ:280:C9J9KANXX:1:2112:9196:8163-HISEQ:280...</td>\n",
       "    </tr>\n",
       "    <tr>\n",
       "      <th>8</th>\n",
       "      <td>(AAAAAAAATA, chr14, 29218004)</td>\n",
       "      <td>HISEQ:280:C9J9KANXX:1:2112:9196:8163-HISEQ:280...</td>\n",
       "    </tr>\n",
       "    <tr>\n",
       "      <th>9</th>\n",
       "      <td>(AAAAAAAATA, chr19, 16164390)</td>\n",
       "      <td>HISEQ:280:C9J9KANXX:1:2112:9196:8163-HISEQ:280...</td>\n",
       "    </tr>\n",
       "    <tr>\n",
       "      <th>10</th>\n",
       "      <td>(AAAAAAAATA, chr2, 51871202)</td>\n",
       "      <td>HISEQ:280:C9J9KANXX:1:2112:9196:8163-HISEQ:280...</td>\n",
       "    </tr>\n",
       "    <tr>\n",
       "      <th>11</th>\n",
       "      <td>(AAAAAAAATA, chr2, 129750280)</td>\n",
       "      <td>HISEQ:280:C9J9KANXX:1:2112:9196:8163-HISEQ:280...</td>\n",
       "    </tr>\n",
       "    <tr>\n",
       "      <th>12</th>\n",
       "      <td>(AAAAAAAATA, chr3, 122257093)</td>\n",
       "      <td>HISEQ:280:C9J9KANXX:1:2112:9196:8163-HISEQ:280...</td>\n",
       "    </tr>\n",
       "    <tr>\n",
       "      <th>13</th>\n",
       "      <td>(AAAAAAAATA, chr6, 71641690)</td>\n",
       "      <td>HISEQ:280:C9J9KANXX:1:2112:9196:8163-HISEQ:280...</td>\n",
       "    </tr>\n",
       "    <tr>\n",
       "      <th>14</th>\n",
       "      <td>(AAAAAAAATA, chr7, 17792939)</td>\n",
       "      <td>HISEQ:280:C9J9KANXX:1:2112:9196:8163-HISEQ:280...</td>\n",
       "    </tr>\n",
       "    <tr>\n",
       "      <th>15</th>\n",
       "      <td>(AAAAAAAATA, chr8, 4465879)</td>\n",
       "      <td>HISEQ:280:C9J9KANXX:1:2112:9196:8163-HISEQ:280...</td>\n",
       "    </tr>\n",
       "    <tr>\n",
       "      <th>16</th>\n",
       "      <td>(AAAAAAAATA, chr9, 96896023)</td>\n",
       "      <td>HISEQ:280:C9J9KANXX:1:2112:9196:8163-HISEQ:280...</td>\n",
       "    </tr>\n",
       "    <tr>\n",
       "      <th>17</th>\n",
       "      <td>(AAAAAAAATG, chr1, 86530631)</td>\n",
       "      <td>HISEQ:280:C9J9KANXX:1:1204:8157:64753-HISEQ:28...</td>\n",
       "    </tr>\n",
       "    <tr>\n",
       "      <th>18</th>\n",
       "      <td>(AAAAAAAATG, chr14, 8799324)</td>\n",
       "      <td>HISEQ:280:C9J9KANXX:1:1204:8157:64753-HISEQ:28...</td>\n",
       "    </tr>\n",
       "    <tr>\n",
       "      <th>19</th>\n",
       "      <td>(AAAAAAAATG, chr3, 8880705)</td>\n",
       "      <td>HISEQ:280:C9J9KANXX:1:1204:8157:64753-HISEQ:28...</td>\n",
       "    </tr>\n",
       "    <tr>\n",
       "      <th>20</th>\n",
       "      <td>(AAAAAAAATG, chr3, 124386607)</td>\n",
       "      <td>HISEQ:280:C9J9KANXX:1:1204:8157:64753-HISEQ:28...</td>\n",
       "    </tr>\n",
       "    <tr>\n",
       "      <th>21</th>\n",
       "      <td>(AAAAAAACAT, chr1, 60901358)</td>\n",
       "      <td>HISEQ:280:C9J9KANXX:1:1104:18483:90972-HISEQ:2...</td>\n",
       "    </tr>\n",
       "    <tr>\n",
       "      <th>22</th>\n",
       "      <td>(AAAAAAACAT, chr4, 124721448)</td>\n",
       "      <td>HISEQ:280:C9J9KANXX:1:1104:18483:90972-HISEQ:2...</td>\n",
       "    </tr>\n",
       "    <tr>\n",
       "      <th>23</th>\n",
       "      <td>(AAAAAAACAT, chr8, 70895434)</td>\n",
       "      <td>HISEQ:280:C9J9KANXX:1:1104:18483:90972-HISEQ:2...</td>\n",
       "    </tr>\n",
       "    <tr>\n",
       "      <th>24</th>\n",
       "      <td>(AAAAAAACGC, chr11, 96392659)</td>\n",
       "      <td>HISEQ:280:C9J9KANXX:1:1104:16926:57946-HISEQ:2...</td>\n",
       "    </tr>\n",
       "    <tr>\n",
       "      <th>25</th>\n",
       "      <td>(AAAAAAACGC, chr12, 67511303)</td>\n",
       "      <td>HISEQ:280:C9J9KANXX:1:1104:16926:57946-HISEQ:2...</td>\n",
       "    </tr>\n",
       "    <tr>\n",
       "      <th>26</th>\n",
       "      <td>(AAAAAAACGC, chr4, 63895501)</td>\n",
       "      <td>HISEQ:280:C9J9KANXX:1:1104:16926:57946-HISEQ:2...</td>\n",
       "    </tr>\n",
       "    <tr>\n",
       "      <th>27</th>\n",
       "      <td>(AAAAAAACGC, chr7, 36118821)</td>\n",
       "      <td>HISEQ:280:C9J9KANXX:1:1104:16926:57946-HISEQ:2...</td>\n",
       "    </tr>\n",
       "    <tr>\n",
       "      <th>28</th>\n",
       "      <td>(AAAAAAACGC, chrX, 96485442)</td>\n",
       "      <td>HISEQ:280:C9J9KANXX:1:1104:16926:57946-HISEQ:2...</td>\n",
       "    </tr>\n",
       "    <tr>\n",
       "      <th>29</th>\n",
       "      <td>(AAAAAAACGG, chr11, 86630442)</td>\n",
       "      <td>HISEQ:280:C9J9KANXX:1:1110:15242:67539-HISEQ:2...</td>\n",
       "    </tr>\n",
       "    <tr>\n",
       "      <th>...</th>\n",
       "      <td>...</td>\n",
       "      <td>...</td>\n",
       "    </tr>\n",
       "    <tr>\n",
       "      <th>6144517</th>\n",
       "      <td>(TTTTTTTTTT, chrX, 124855747)</td>\n",
       "      <td>HISEQ:280:C9J9KANXX:1:1104:4453:83522-HISEQ:28...</td>\n",
       "    </tr>\n",
       "    <tr>\n",
       "      <th>6144518</th>\n",
       "      <td>(TTTTTTTTTT, chrX, 124973568)</td>\n",
       "      <td>HISEQ:280:C9J9KANXX:1:1104:4453:83522-HISEQ:28...</td>\n",
       "    </tr>\n",
       "    <tr>\n",
       "      <th>6144519</th>\n",
       "      <td>(TTTTTTTTTT, chrX, 125404977)</td>\n",
       "      <td>HISEQ:280:C9J9KANXX:1:1104:4453:83522-HISEQ:28...</td>\n",
       "    </tr>\n",
       "    <tr>\n",
       "      <th>6144520</th>\n",
       "      <td>(TTTTTTTTTT, chrX, 125547791)</td>\n",
       "      <td>HISEQ:280:C9J9KANXX:1:1104:4453:83522-HISEQ:28...</td>\n",
       "    </tr>\n",
       "    <tr>\n",
       "      <th>6144521</th>\n",
       "      <td>(TTTTTTTTTT, chrX, 125674851)</td>\n",
       "      <td>HISEQ:280:C9J9KANXX:1:1104:4453:83522-HISEQ:28...</td>\n",
       "    </tr>\n",
       "    <tr>\n",
       "      <th>6144522</th>\n",
       "      <td>(TTTTTTTTTT, chrX, 125857701)</td>\n",
       "      <td>HISEQ:280:C9J9KANXX:1:1104:4453:83522-HISEQ:28...</td>\n",
       "    </tr>\n",
       "    <tr>\n",
       "      <th>6144523</th>\n",
       "      <td>(TTTTTTTTTT, chrX, 125986984)</td>\n",
       "      <td>HISEQ:280:C9J9KANXX:1:1104:4453:83522-HISEQ:28...</td>\n",
       "    </tr>\n",
       "    <tr>\n",
       "      <th>6144524</th>\n",
       "      <td>(TTTTTTTTTT, chrX, 135735580)</td>\n",
       "      <td>HISEQ:280:C9J9KANXX:1:2216:12988:9699-HISEQ:28...</td>\n",
       "    </tr>\n",
       "    <tr>\n",
       "      <th>6144525</th>\n",
       "      <td>(TTTTTTTTTT, chrX, 140822106)</td>\n",
       "      <td>HISEQ:280:C9J9KANXX:1:1103:17181:56743-HISEQ:2...</td>\n",
       "    </tr>\n",
       "    <tr>\n",
       "      <th>6144526</th>\n",
       "      <td>(TTTTTTTTTT, chrX, 145602631)</td>\n",
       "      <td>HISEQ:280:C9J9KANXX:1:2307:11097:48070</td>\n",
       "    </tr>\n",
       "    <tr>\n",
       "      <th>6144527</th>\n",
       "      <td>(TTTTTTTTTT, chrX, 147442503)</td>\n",
       "      <td>HISEQ:280:C9J9KANXX:1:2305:19545:28617</td>\n",
       "    </tr>\n",
       "    <tr>\n",
       "      <th>6144528</th>\n",
       "      <td>(TTTTTTTTTT, chrX, 152909709)</td>\n",
       "      <td>HISEQ:280:C9J9KANXX:1:1103:17181:56743-HISEQ:2...</td>\n",
       "    </tr>\n",
       "    <tr>\n",
       "      <th>6144529</th>\n",
       "      <td>(TTTTTTTTTT, chrX, 152909929)</td>\n",
       "      <td>HISEQ:280:C9J9KANXX:1:1107:15549:7839-HISEQ:28...</td>\n",
       "    </tr>\n",
       "    <tr>\n",
       "      <th>6144530</th>\n",
       "      <td>(TTTTTTTTTT, chrX, 159493651)</td>\n",
       "      <td>HISEQ:280:C9J9KANXX:2:1316:6838:52121</td>\n",
       "    </tr>\n",
       "    <tr>\n",
       "      <th>6144531</th>\n",
       "      <td>(TTTTTTTTTT, chrY, 9309924)</td>\n",
       "      <td>HISEQ:280:C9J9KANXX:1:2309:4456:35367</td>\n",
       "    </tr>\n",
       "    <tr>\n",
       "      <th>6144532</th>\n",
       "      <td>(TTTTTTTTTT, chrY, 9411933)</td>\n",
       "      <td>HISEQ:280:C9J9KANXX:1:2305:19545:28617</td>\n",
       "    </tr>\n",
       "    <tr>\n",
       "      <th>6144533</th>\n",
       "      <td>(TTTTTTTTTT, chrY, 15022275)</td>\n",
       "      <td>HISEQ:280:C9J9KANXX:1:2305:19545:28617</td>\n",
       "    </tr>\n",
       "    <tr>\n",
       "      <th>6144534</th>\n",
       "      <td>(TTTTTTTTTT, chrY, 15025685)</td>\n",
       "      <td>HISEQ:280:C9J9KANXX:1:2305:19545:28617</td>\n",
       "    </tr>\n",
       "    <tr>\n",
       "      <th>6144535</th>\n",
       "      <td>(TTTTTTTTTT, chrY, 15630437)</td>\n",
       "      <td>HISEQ:280:C9J9KANXX:1:2305:19545:28617</td>\n",
       "    </tr>\n",
       "    <tr>\n",
       "      <th>6144536</th>\n",
       "      <td>(TTTTTTTTTT, chrY, 19734899)</td>\n",
       "      <td>HISEQ:280:C9J9KANXX:1:2305:19545:28617</td>\n",
       "    </tr>\n",
       "    <tr>\n",
       "      <th>6144537</th>\n",
       "      <td>(TTTTTTTTTT, chrY, 28790324)</td>\n",
       "      <td>HISEQ:280:C9J9KANXX:1:2309:4456:35367</td>\n",
       "    </tr>\n",
       "    <tr>\n",
       "      <th>6144538</th>\n",
       "      <td>(TTTTTTTTTT, chrY, 29394997)</td>\n",
       "      <td>HISEQ:280:C9J9KANXX:1:2309:4456:35367</td>\n",
       "    </tr>\n",
       "    <tr>\n",
       "      <th>6144539</th>\n",
       "      <td>(TTTTTTTTTT, chrY, 38620877)</td>\n",
       "      <td>HISEQ:280:C9J9KANXX:1:1116:9820:63373-HISEQ:28...</td>\n",
       "    </tr>\n",
       "    <tr>\n",
       "      <th>6144540</th>\n",
       "      <td>(TTTTTTTTTT, chrY, 50219397)</td>\n",
       "      <td>HISEQ:280:C9J9KANXX:2:1304:4032:37677</td>\n",
       "    </tr>\n",
       "    <tr>\n",
       "      <th>6144541</th>\n",
       "      <td>(TTTTTTTTTT, chrY, 71081399)</td>\n",
       "      <td>HISEQ:280:C9J9KANXX:2:1304:4032:37677</td>\n",
       "    </tr>\n",
       "    <tr>\n",
       "      <th>6144542</th>\n",
       "      <td>(TTTTTTTTTT, chrY, 78122910)</td>\n",
       "      <td>HISEQ:280:C9J9KANXX:1:2309:4456:35367</td>\n",
       "    </tr>\n",
       "    <tr>\n",
       "      <th>6144543</th>\n",
       "      <td>(TTTTTTTTTT, chrY, 78122913)</td>\n",
       "      <td>HISEQ:280:C9J9KANXX:1:2305:19545:28617</td>\n",
       "    </tr>\n",
       "    <tr>\n",
       "      <th>6144544</th>\n",
       "      <td>(TTTTTTTTTT, chrY, 80043841)</td>\n",
       "      <td>HISEQ:280:C9J9KANXX:1:2309:4456:35367</td>\n",
       "    </tr>\n",
       "    <tr>\n",
       "      <th>6144545</th>\n",
       "      <td>(TTTTTTTTTT, chrY, 82520531)</td>\n",
       "      <td>HISEQ:280:C9J9KANXX:1:2305:19545:28617</td>\n",
       "    </tr>\n",
       "    <tr>\n",
       "      <th>6144546</th>\n",
       "      <td>(TTTTTTTTTT, chrY, 90480440)</td>\n",
       "      <td>HISEQ:280:C9J9KANXX:1:2309:4456:35367</td>\n",
       "    </tr>\n",
       "  </tbody>\n",
       "</table>\n",
       "<p>6144547 rows × 2 columns</p>\n",
       "</div>"
      ],
      "text/plain": [
       "                                     C  \\\n",
       "0        (AAAAAAAAGT, chr11, 58508744)   \n",
       "1        (AAAAAAAAGT, chr14, 46084892)   \n",
       "2        (AAAAAAAAGT, chr16, 55971387)   \n",
       "3          (AAAAAAAAGT, chr3, 5751214)   \n",
       "4         (AAAAAAAAGT, chr3, 10232394)   \n",
       "5        (AAAAAAAAGT, chr9, 116040543)   \n",
       "6         (AAAAAAAATA, chr1, 15760197)   \n",
       "7         (AAAAAAAATA, chr11, 6419481)   \n",
       "8        (AAAAAAAATA, chr14, 29218004)   \n",
       "9        (AAAAAAAATA, chr19, 16164390)   \n",
       "10        (AAAAAAAATA, chr2, 51871202)   \n",
       "11       (AAAAAAAATA, chr2, 129750280)   \n",
       "12       (AAAAAAAATA, chr3, 122257093)   \n",
       "13        (AAAAAAAATA, chr6, 71641690)   \n",
       "14        (AAAAAAAATA, chr7, 17792939)   \n",
       "15         (AAAAAAAATA, chr8, 4465879)   \n",
       "16        (AAAAAAAATA, chr9, 96896023)   \n",
       "17        (AAAAAAAATG, chr1, 86530631)   \n",
       "18        (AAAAAAAATG, chr14, 8799324)   \n",
       "19         (AAAAAAAATG, chr3, 8880705)   \n",
       "20       (AAAAAAAATG, chr3, 124386607)   \n",
       "21        (AAAAAAACAT, chr1, 60901358)   \n",
       "22       (AAAAAAACAT, chr4, 124721448)   \n",
       "23        (AAAAAAACAT, chr8, 70895434)   \n",
       "24       (AAAAAAACGC, chr11, 96392659)   \n",
       "25       (AAAAAAACGC, chr12, 67511303)   \n",
       "26        (AAAAAAACGC, chr4, 63895501)   \n",
       "27        (AAAAAAACGC, chr7, 36118821)   \n",
       "28        (AAAAAAACGC, chrX, 96485442)   \n",
       "29       (AAAAAAACGG, chr11, 86630442)   \n",
       "...                                ...   \n",
       "6144517  (TTTTTTTTTT, chrX, 124855747)   \n",
       "6144518  (TTTTTTTTTT, chrX, 124973568)   \n",
       "6144519  (TTTTTTTTTT, chrX, 125404977)   \n",
       "6144520  (TTTTTTTTTT, chrX, 125547791)   \n",
       "6144521  (TTTTTTTTTT, chrX, 125674851)   \n",
       "6144522  (TTTTTTTTTT, chrX, 125857701)   \n",
       "6144523  (TTTTTTTTTT, chrX, 125986984)   \n",
       "6144524  (TTTTTTTTTT, chrX, 135735580)   \n",
       "6144525  (TTTTTTTTTT, chrX, 140822106)   \n",
       "6144526  (TTTTTTTTTT, chrX, 145602631)   \n",
       "6144527  (TTTTTTTTTT, chrX, 147442503)   \n",
       "6144528  (TTTTTTTTTT, chrX, 152909709)   \n",
       "6144529  (TTTTTTTTTT, chrX, 152909929)   \n",
       "6144530  (TTTTTTTTTT, chrX, 159493651)   \n",
       "6144531    (TTTTTTTTTT, chrY, 9309924)   \n",
       "6144532    (TTTTTTTTTT, chrY, 9411933)   \n",
       "6144533   (TTTTTTTTTT, chrY, 15022275)   \n",
       "6144534   (TTTTTTTTTT, chrY, 15025685)   \n",
       "6144535   (TTTTTTTTTT, chrY, 15630437)   \n",
       "6144536   (TTTTTTTTTT, chrY, 19734899)   \n",
       "6144537   (TTTTTTTTTT, chrY, 28790324)   \n",
       "6144538   (TTTTTTTTTT, chrY, 29394997)   \n",
       "6144539   (TTTTTTTTTT, chrY, 38620877)   \n",
       "6144540   (TTTTTTTTTT, chrY, 50219397)   \n",
       "6144541   (TTTTTTTTTT, chrY, 71081399)   \n",
       "6144542   (TTTTTTTTTT, chrY, 78122910)   \n",
       "6144543   (TTTTTTTTTT, chrY, 78122913)   \n",
       "6144544   (TTTTTTTTTT, chrY, 80043841)   \n",
       "6144545   (TTTTTTTTTT, chrY, 82520531)   \n",
       "6144546   (TTTTTTTTTT, chrY, 90480440)   \n",
       "\n",
       "                                                         N  \n",
       "0        HISEQ:280:C9J9KANXX:1:1109:16126:36147-HISEQ:2...  \n",
       "1                    HISEQ:280:C9J9KANXX:1:1314:2014:57709  \n",
       "2        HISEQ:280:C9J9KANXX:1:2107:8457:43965-HISEQ:28...  \n",
       "3                    HISEQ:280:C9J9KANXX:1:1314:2014:57709  \n",
       "4                    HISEQ:280:C9J9KANXX:1:1314:2014:57709  \n",
       "5        HISEQ:280:C9J9KANXX:1:1109:16126:36147-HISEQ:2...  \n",
       "6        HISEQ:280:C9J9KANXX:1:2112:9196:8163-HISEQ:280...  \n",
       "7        HISEQ:280:C9J9KANXX:1:2112:9196:8163-HISEQ:280...  \n",
       "8        HISEQ:280:C9J9KANXX:1:2112:9196:8163-HISEQ:280...  \n",
       "9        HISEQ:280:C9J9KANXX:1:2112:9196:8163-HISEQ:280...  \n",
       "10       HISEQ:280:C9J9KANXX:1:2112:9196:8163-HISEQ:280...  \n",
       "11       HISEQ:280:C9J9KANXX:1:2112:9196:8163-HISEQ:280...  \n",
       "12       HISEQ:280:C9J9KANXX:1:2112:9196:8163-HISEQ:280...  \n",
       "13       HISEQ:280:C9J9KANXX:1:2112:9196:8163-HISEQ:280...  \n",
       "14       HISEQ:280:C9J9KANXX:1:2112:9196:8163-HISEQ:280...  \n",
       "15       HISEQ:280:C9J9KANXX:1:2112:9196:8163-HISEQ:280...  \n",
       "16       HISEQ:280:C9J9KANXX:1:2112:9196:8163-HISEQ:280...  \n",
       "17       HISEQ:280:C9J9KANXX:1:1204:8157:64753-HISEQ:28...  \n",
       "18       HISEQ:280:C9J9KANXX:1:1204:8157:64753-HISEQ:28...  \n",
       "19       HISEQ:280:C9J9KANXX:1:1204:8157:64753-HISEQ:28...  \n",
       "20       HISEQ:280:C9J9KANXX:1:1204:8157:64753-HISEQ:28...  \n",
       "21       HISEQ:280:C9J9KANXX:1:1104:18483:90972-HISEQ:2...  \n",
       "22       HISEQ:280:C9J9KANXX:1:1104:18483:90972-HISEQ:2...  \n",
       "23       HISEQ:280:C9J9KANXX:1:1104:18483:90972-HISEQ:2...  \n",
       "24       HISEQ:280:C9J9KANXX:1:1104:16926:57946-HISEQ:2...  \n",
       "25       HISEQ:280:C9J9KANXX:1:1104:16926:57946-HISEQ:2...  \n",
       "26       HISEQ:280:C9J9KANXX:1:1104:16926:57946-HISEQ:2...  \n",
       "27       HISEQ:280:C9J9KANXX:1:1104:16926:57946-HISEQ:2...  \n",
       "28       HISEQ:280:C9J9KANXX:1:1104:16926:57946-HISEQ:2...  \n",
       "29       HISEQ:280:C9J9KANXX:1:1110:15242:67539-HISEQ:2...  \n",
       "...                                                    ...  \n",
       "6144517  HISEQ:280:C9J9KANXX:1:1104:4453:83522-HISEQ:28...  \n",
       "6144518  HISEQ:280:C9J9KANXX:1:1104:4453:83522-HISEQ:28...  \n",
       "6144519  HISEQ:280:C9J9KANXX:1:1104:4453:83522-HISEQ:28...  \n",
       "6144520  HISEQ:280:C9J9KANXX:1:1104:4453:83522-HISEQ:28...  \n",
       "6144521  HISEQ:280:C9J9KANXX:1:1104:4453:83522-HISEQ:28...  \n",
       "6144522  HISEQ:280:C9J9KANXX:1:1104:4453:83522-HISEQ:28...  \n",
       "6144523  HISEQ:280:C9J9KANXX:1:1104:4453:83522-HISEQ:28...  \n",
       "6144524  HISEQ:280:C9J9KANXX:1:2216:12988:9699-HISEQ:28...  \n",
       "6144525  HISEQ:280:C9J9KANXX:1:1103:17181:56743-HISEQ:2...  \n",
       "6144526             HISEQ:280:C9J9KANXX:1:2307:11097:48070  \n",
       "6144527             HISEQ:280:C9J9KANXX:1:2305:19545:28617  \n",
       "6144528  HISEQ:280:C9J9KANXX:1:1103:17181:56743-HISEQ:2...  \n",
       "6144529  HISEQ:280:C9J9KANXX:1:1107:15549:7839-HISEQ:28...  \n",
       "6144530              HISEQ:280:C9J9KANXX:2:1316:6838:52121  \n",
       "6144531              HISEQ:280:C9J9KANXX:1:2309:4456:35367  \n",
       "6144532             HISEQ:280:C9J9KANXX:1:2305:19545:28617  \n",
       "6144533             HISEQ:280:C9J9KANXX:1:2305:19545:28617  \n",
       "6144534             HISEQ:280:C9J9KANXX:1:2305:19545:28617  \n",
       "6144535             HISEQ:280:C9J9KANXX:1:2305:19545:28617  \n",
       "6144536             HISEQ:280:C9J9KANXX:1:2305:19545:28617  \n",
       "6144537              HISEQ:280:C9J9KANXX:1:2309:4456:35367  \n",
       "6144538              HISEQ:280:C9J9KANXX:1:2309:4456:35367  \n",
       "6144539  HISEQ:280:C9J9KANXX:1:1116:9820:63373-HISEQ:28...  \n",
       "6144540              HISEQ:280:C9J9KANXX:2:1304:4032:37677  \n",
       "6144541              HISEQ:280:C9J9KANXX:2:1304:4032:37677  \n",
       "6144542              HISEQ:280:C9J9KANXX:1:2309:4456:35367  \n",
       "6144543             HISEQ:280:C9J9KANXX:1:2305:19545:28617  \n",
       "6144544              HISEQ:280:C9J9KANXX:1:2309:4456:35367  \n",
       "6144545             HISEQ:280:C9J9KANXX:1:2305:19545:28617  \n",
       "6144546              HISEQ:280:C9J9KANXX:1:2309:4456:35367  \n",
       "\n",
       "[6144547 rows x 2 columns]"
      ]
     },
     "execution_count": 98,
     "metadata": {},
     "output_type": "execute_result"
    }
   ],
   "source": [
    "df3"
   ]
  },
  {
   "cell_type": "code",
   "execution_count": 99,
   "metadata": {
    "collapsed": false
   },
   "outputs": [
    {
     "name": "stdout",
     "output_type": "stream",
     "text": [
      "CPU times: user 27 ms, sys: 0 ns, total: 27 ms\n",
      "Wall time: 30.1 ms\n"
     ]
    }
   ],
   "source": [
    "%%time\n",
    "df4 = df3.groupby('N')['C']\n",
    "#s1 = pd.merge(df, df2, how='inner', on=['N'])"
   ]
  },
  {
   "cell_type": "code",
   "execution_count": 100,
   "metadata": {
    "collapsed": false
   },
   "outputs": [
    {
     "data": {
      "text/plain": [
       "<pandas.core.groupby.SeriesGroupBy object at 0x7f19da952b10>"
      ]
     },
     "execution_count": 100,
     "metadata": {},
     "output_type": "execute_result"
    }
   ],
   "source": [
    "df4"
   ]
  },
  {
   "cell_type": "code",
   "execution_count": 101,
   "metadata": {
    "collapsed": false
   },
   "outputs": [
    {
     "name": "stdout",
     "output_type": "stream",
     "text": [
      "CPU times: user 9.24 s, sys: 50.6 ms, total: 9.29 s\n",
      "Wall time: 9.32 s\n"
     ]
    }
   ],
   "source": [
    "%%time\n",
    "df5 = pd.DataFrame({'count' : df4.size()}).reset_index()"
   ]
  },
  {
   "cell_type": "code",
   "execution_count": 108,
   "metadata": {
    "collapsed": false
   },
   "outputs": [
    {
     "data": {
      "text/plain": [
       "6"
      ]
     },
     "execution_count": 108,
     "metadata": {},
     "output_type": "execute_result"
    }
   ],
   "source": [
    "df5['count'][0]"
   ]
  },
  {
   "cell_type": "code",
   "execution_count": 106,
   "metadata": {
    "collapsed": false
   },
   "outputs": [],
   "source": [
    "names = df5['N'][0].split('-')"
   ]
  },
  {
   "cell_type": "code",
   "execution_count": 107,
   "metadata": {
    "collapsed": false
   },
   "outputs": [
    {
     "data": {
      "text/plain": [
       "['HISEQ:280:C9J9KANXX:1:1101:10004:57158',\n",
       " 'HISEQ:280:C9J9KANXX:1:1104:2105:10439',\n",
       " 'HISEQ:280:C9J9KANXX:1:1115:8107:95861',\n",
       " 'HISEQ:280:C9J9KANXX:1:1207:4216:46538',\n",
       " 'HISEQ:280:C9J9KANXX:1:1214:4264:28474',\n",
       " 'HISEQ:280:C9J9KANXX:1:1301:9488:59902',\n",
       " 'HISEQ:280:C9J9KANXX:1:1305:3088:55926',\n",
       " 'HISEQ:280:C9J9KANXX:1:2103:17626:42043',\n",
       " 'HISEQ:280:C9J9KANXX:1:2211:2963:8158',\n",
       " 'HISEQ:280:C9J9KANXX:1:2308:1865:70760',\n",
       " 'HISEQ:280:C9J9KANXX:1:2314:14511:100017',\n",
       " 'HISEQ:280:C9J9KANXX:2:1111:10943:62544',\n",
       " 'HISEQ:280:C9J9KANXX:2:1111:13113:91414',\n",
       " 'HISEQ:280:C9J9KANXX:2:1116:12303:14088',\n",
       " 'HISEQ:280:C9J9KANXX:2:1212:9272:28674',\n",
       " 'HISEQ:280:C9J9KANXX:2:1306:10878:6620',\n",
       " 'HISEQ:280:C9J9KANXX:2:2115:19061:49476',\n",
       " 'HISEQ:280:C9J9KANXX:2:2116:19213:68818',\n",
       " 'HISEQ:280:C9J9KANXX:2:2211:11295:99716',\n",
       " 'HISEQ:280:C9J9KANXX:2:2302:11485:68930',\n",
       " 'HISEQ:280:C9J9KANXX:2:2304:3356:56566',\n",
       " 'HISEQ:280:C9J9KANXX:2:2309:3820:36980']"
      ]
     },
     "execution_count": 107,
     "metadata": {},
     "output_type": "execute_result"
    }
   ],
   "source": [
    "names"
   ]
  },
  {
   "cell_type": "code",
   "execution_count": 111,
   "metadata": {
    "collapsed": false
   },
   "outputs": [],
   "source": [
    "st.reset()\n",
    "l = []\n",
    "reads = st.fetch(until_eof=True)\n",
    "for r in reads:\n",
    "    if r.query_name in names:\n",
    "        l.append(r.query_sequence)"
   ]
  },
  {
   "cell_type": "code",
   "execution_count": 112,
   "metadata": {
    "collapsed": false
   },
   "outputs": [
    {
     "data": {
      "text/plain": [
       "Counter({'GTTTGTCTCAATAGGCCATTTAAGTATAATAGTAAAAGACTGGTTAATGA': 2,\n",
       "         'GTTTGTCTCAATTGGCCATTTAAGATTAATAGTAAAAGACTGGTTAATGA': 2,\n",
       "         'GTTTGTCTCAATTGGCCATTTAAGTTTAATAGTAAAAGACTGGTTAATGA': 38,\n",
       "         'GTTTGTCTCAATTGGCCATTTAAGTTTAATAGTAAACGACTGGTTAATGA': 2,\n",
       "         'TCATTAACCAGTCGTTTACTATTAAACTTAAATGGCCAATTGAGACAAAC': 4,\n",
       "         'TCATTAACCAGTCTTTTACTATTAAACTTAAATGGCCAATTGAGACAAAC': 76,\n",
       "         'TCATTAACCAGTCTTTTACTATTAATCTTAAATGGCCAATTGAGACAAAC': 4,\n",
       "         'TCATTAACCAGTCTTTTACTATTATACTTAAATGGCCTATTGAGACAAAC': 4})"
      ]
     },
     "execution_count": 112,
     "metadata": {},
     "output_type": "execute_result"
    }
   ],
   "source": [
    "Counter(l)"
   ]
  },
  {
   "cell_type": "code",
   "execution_count": 28,
   "metadata": {
    "collapsed": false
   },
   "outputs": [
    {
     "data": {
      "text/plain": [
       "1138946"
      ]
     },
     "execution_count": 28,
     "metadata": {},
     "output_type": "execute_result"
    }
   ],
   "source": [
    "from collections import Counter\n",
    "Counter(df5['count'])\n",
    "len(df5['count'])"
   ]
  },
  {
   "cell_type": "code",
   "execution_count": null,
   "metadata": {
    "collapsed": false
   },
   "outputs": [],
   "source": []
  },
  {
   "cell_type": "code",
   "execution_count": 54,
   "metadata": {
    "collapsed": false
   },
   "outputs": [],
   "source": []
  },
  {
   "cell_type": "markdown",
   "metadata": {
    "collapsed": false
   },
   "source": [
    "-------------------------------"
   ]
  },
  {
   "cell_type": "markdown",
   "metadata": {
    "collapsed": false
   },
   "source": [
    "### Finding splicing outliers "
   ]
  },
  {
   "cell_type": "code",
   "execution_count": 30,
   "metadata": {
    "collapsed": true
   },
   "outputs": [],
   "source": [
    "cigars = []\n",
    "st.reset()\n",
    "reads = st.fetch(until_eof= True)\n",
    "for r in reads:\n",
    "    if not r.is_unmapped:\n",
    "        cigars.append(r.cigarstring)"
   ]
  },
  {
   "cell_type": "code",
   "execution_count": 49,
   "metadata": {
    "collapsed": true
   },
   "outputs": [],
   "source": [
    "spliced = [item for item in cigars if 'N' in item]"
   ]
  },
  {
   "cell_type": "code",
   "execution_count": 51,
   "metadata": {
    "collapsed": false
   },
   "outputs": [],
   "source": [
    "sn = [item.split('N')[0].split('M')[1] for item in spliced]"
   ]
  },
  {
   "cell_type": "code",
   "execution_count": 94,
   "metadata": {
    "collapsed": false
   },
   "outputs": [
    {
     "data": {
      "text/plain": [
       "8.79"
      ]
     },
     "execution_count": 94,
     "metadata": {},
     "output_type": "execute_result"
    }
   ],
   "source": [
    "round(float(len(sn)) / len(cigars) * 100, 2)"
   ]
  },
  {
   "cell_type": "code",
   "execution_count": 54,
   "metadata": {
    "collapsed": false
   },
   "outputs": [],
   "source": [
    "sn2 = [int(item) for item in sn if not any(c.isalpha() for c in item)]"
   ]
  },
  {
   "cell_type": "code",
   "execution_count": 60,
   "metadata": {
    "collapsed": true
   },
   "outputs": [],
   "source": [
    "import matplotlib.pyplot as plt"
   ]
  },
  {
   "cell_type": "code",
   "execution_count": 89,
   "metadata": {
    "collapsed": false
   },
   "outputs": [
    {
     "data": {
      "image/png": "[encoded data removed]",
      "text/plain": [
       "<matplotlib.figure.Figure at 0x7f19d93aa7d0>"
      ]
     },
     "metadata": {},
     "output_type": "display_data"
    }
   ],
   "source": [
    "fig = plt.figure(figsize=(15,10))\n",
    "\n",
    "plt.subplot(1, 2, 1)\n",
    "plt.boxplot(sn2)\n",
    "plt.title('Splicing distances')\n",
    "\n",
    "plt.subplot(1, 2, 2)\n",
    "plt.boxplot(sn2)\n",
    "plt.title('Closer look')\n",
    "plt.ylim(0,100000)\n",
    "\n",
    "plt.suptitle('Sample splicing distance dirtibution', fontsize=15)\n",
    "plt.savefig('spd.png')"
   ]
  },
  {
   "cell_type": "markdown",
   "metadata": {},
   "source": [
    "1 - Define a GenomicArrayOfSets and fill it with all the features we would like to get counts for."
   ]
  },
  {
   "cell_type": "code",
   "execution_count": 5,
   "metadata": {
    "collapsed": false
   },
   "outputs": [],
   "source": [
    "'''\n",
    "gtf_file = HTSeq.GFF_Reader( \"/data/UMI/data/MUS/Mus_musculus.GRCm38.88.chr.gtf\" )\n",
    "exons = HTSeq.GenomicArrayOfSets( \"auto\", stranded=True )\n",
    "\n",
    "for feature in gtf_file:\n",
    "    if feature.type == \"exon\":\n",
    "       exons[ feature.iv ] += feature.attr[\"gene_id\"]\n",
    "'''"
   ]
  },
  {
   "cell_type": "markdown",
   "metadata": {
    "collapsed": false
   },
   "source": [
    "-------------------------------------------------"
   ]
  },
  {
   "cell_type": "markdown",
   "metadata": {
    "collapsed": false
   },
   "source": [
    "### Exonmeter"
   ]
  },
  {
   "cell_type": "code",
   "execution_count": 115,
   "metadata": {
    "collapsed": false
   },
   "outputs": [],
   "source": [
    "from pyUMI.GTF import dataframe"
   ]
  },
  {
   "cell_type": "code",
   "execution_count": 120,
   "metadata": {
    "collapsed": true
   },
   "outputs": [],
   "source": [
    "gtf = '/data/UMI/data/MUS/Mus_musculus.GRCm38.75.clean.spike.gtf'"
   ]
  },
  {
   "cell_type": "code",
   "execution_count": 121,
   "metadata": {
    "collapsed": false
   },
   "outputs": [],
   "source": [
    "gdf = dataframe(gtf)"
   ]
  },
  {
   "cell_type": "code",
   "execution_count": 171,
   "metadata": {
    "collapsed": false
   },
   "outputs": [],
   "source": [
    "x = gdf[(gdf['feature'] == 'exon') & (gdf['seqname'].str.contains(\"chr\"))& (gdf['strand'] == '-')][['seqname', 'start', 'end']]"
   ]
  },
  {
   "cell_type": "code",
   "execution_count": 172,
   "metadata": {
    "collapsed": false
   },
   "outputs": [],
   "source": [
    "x = gdf[(gdf['feature'] == 'exon') & (gdf['seqname'].str.contains(\"chr\"))& (gdf['strand'] == '+')][['seqname', 'start', 'end']]"
   ]
  },
  {
   "cell_type": "code",
   "execution_count": 178,
   "metadata": {
    "collapsed": false
   },
   "outputs": [],
   "source": [
    "fx = x.sort_values(by=['seqname','start'])\n",
    "fx = fx.drop_duplicates()\n",
    "fx = fx.reset_index(drop=True)\n",
    "rx = y.sort_values(by=['seqname','start'])\n",
    "rx = rx.drop_duplicates()\n",
    "rx = rx.reset_index(drop=True)"
   ]
  },
  {
   "cell_type": "code",
   "execution_count": 138,
   "metadata": {
    "collapsed": true
   },
   "outputs": [],
   "source": [
    "def overlap(a, b):\n",
    "    return max(0, min(a[1], b[1]) - max(a[0], b[0]))"
   ]
  },
  {
   "cell_type": "code",
   "execution_count": 193,
   "metadata": {
    "collapsed": false
   },
   "outputs": [],
   "source": [
    "#rx.iloc[1:]\n",
    "fx1 = fx[(fx['seqname']=='chr1')]\n",
    "#fx1['new_col'] = list(zip(fx1.start, fx1.end));"
   ]
  },
  {
   "cell_type": "code",
   "execution_count": 221,
   "metadata": {
    "collapsed": false
   },
   "outputs": [],
   "source": [
    "s = pd.to_numeric(fx1.iloc[1:]['start'])\n",
    "e = pd.to_numeric(fx1.iloc[:-1]['end'])\n",
    "\n",
    "#test = [int(i) - int(j) for i,j in zip(s,e)]\n",
    "pos = [item for item in list(s.subtract(e)) if item >= 0]"
   ]
  },
  {
   "cell_type": "code",
   "execution_count": 75,
   "metadata": {
    "collapsed": true
   },
   "outputs": [],
   "source": [
    "from itertools import islice"
   ]
  },
  {
   "cell_type": "code",
   "execution_count": 123,
   "metadata": {
    "collapsed": false
   },
   "outputs": [
    {
     "name": "stdout",
     "output_type": "stream",
     "text": [
      "CPU times: user 344 ms, sys: 0 ns, total: 344 ms\n",
      "Wall time: 344 ms\n"
     ]
    }
   ],
   "source": [
    "%%time\n",
    "#genes = Counter(gdf['gene_id']).keys()\n",
    "x = gdf[gdf['seqname'] == 'chr1']['gene_id']\n",
    "genes = Counter(x).keys()\n",
    "sgdf = gdf[(gdf['seqname'] == 'chr1')&(gdf['feature'] == 'exon')]"
   ]
  },
  {
   "cell_type": "code",
   "execution_count": 125,
   "metadata": {
    "collapsed": false
   },
   "outputs": [
    {
     "name": "stdout",
     "output_type": "stream",
     "text": [
      "CPU times: user 12.3 s, sys: 918 µs, total: 12.3 s\n",
      "Wall time: 12.3 s\n"
     ]
    }
   ],
   "source": [
    "%%time\n",
    "coo = []\n",
    "for gene in genes:\n",
    "    r = []\n",
    "    se = sgdf[sgdf['gene_id'] == gene][['start', 'end']]\n",
    "    start = se['start'].min()\n",
    "    end = se['end'].max()\n",
    "    coo.append((start, end))"
   ]
  },
  {
   "cell_type": "code",
   "execution_count": 49,
   "metadata": {
    "collapsed": false
   },
   "outputs": [
    {
     "data": {
      "text/plain": [
       "(86357414, 86357464)"
      ]
     },
     "execution_count": 49,
     "metadata": {},
     "output_type": "execute_result"
    }
   ],
   "source": [
    "coo"
   ]
  },
  {
   "cell_type": "code",
   "execution_count": null,
   "metadata": {
    "collapsed": true
   },
   "outputs": [],
   "source": [
    "genes = [row['gene_id'] for row in ]"
   ]
  },
  {
   "cell_type": "code",
   "execution_count": 87,
   "metadata": {
    "collapsed": false,
    "scrolled": true
   },
   "outputs": [
    {
     "name": "stdout",
     "output_type": "stream",
     "text": [
      "3205904 3207317\n",
      "3213439 3215632\n"
     ]
    }
   ],
   "source": [
    "igdf = islice(gdf.iterrows(), 100)\n",
    "for index, row in igdf:\n",
    "    if row['feature'] == 'exon' and row['seqname'] == 'chr1' and row['gene_id'] == gene:\n",
    "        print row['start'], row['end']"
   ]
  },
  {
   "cell_type": "code",
   "execution_count": 37,
   "metadata": {
    "collapsed": false
   },
   "outputs": [],
   "source": [
    "gdf2 = dataframe('/data/UMI/data/MUS/Mus_musculus.GRCm38.88.chr.gtf')"
   ]
  },
  {
   "cell_type": "code",
   "execution_count": 46,
   "metadata": {
    "collapsed": false
   },
   "outputs": [
    {
     "name": "stdout",
     "output_type": "stream",
     "text": [
      "CPU times: user 409 ms, sys: 110 ms, total: 519 ms\n",
      "Wall time: 520 ms\n"
     ]
    }
   ],
   "source": [
    "%%time\n",
    "#genes = Counter(gdf['gene_id']).keys()\n",
    "#x = gdf2[gdf2['seqname'] == 'chr1']['ENSMUSG00000026234']\n",
    "#genes = Counter(x).keys()\n",
    "sgdf = gdf2[(gdf2['feature'] == 'exon')&(gdf2['gene_id'] == 'ENSMUSG00000026234')][['start', 'end', 'exon_number']]"
   ]
  },
  {
   "cell_type": "code",
   "execution_count": 75,
   "metadata": {
    "collapsed": true
   },
   "outputs": [],
   "source": [
    "def overlap(t1, t2):\n",
    "    i, j = t1\n",
    "    w, z = t2\n",
    "    a = set(range(i, j))\n",
    "    b = set(range(w, z))\n",
    "    if a.intersection(b):\n",
    "        return True\n",
    "    return False"
   ]
  },
  {
   "cell_type": "code",
   "execution_count": 76,
   "metadata": {
    "collapsed": false,
    "scrolled": true
   },
   "outputs": [],
   "source": [
    "exons = []\n",
    "for item in rco:\n",
    "    for index, row in sgdf.iterrows():\n",
    "        s = int(row['start'])\n",
    "        e = int(row['end'])\n",
    "        if overlap(item, (s, e)):\n",
    "            exons.append(row['exon_number'])"
   ]
  },
  {
   "cell_type": "code",
   "execution_count": 84,
   "metadata": {
    "collapsed": false
   },
   "outputs": [],
   "source": [
    "exon_st = int(sgdf[sgdf['exon_number'] == '3']['start'].min())\n",
    "exon_ed = int(sgdf[sgdf['exon_number'] == '3']['end'].max())"
   ]
  },
  {
   "cell_type": "code",
   "execution_count": 85,
   "metadata": {
    "collapsed": false
   },
   "outputs": [
    {
     "data": {
      "text/plain": [
       "6888"
      ]
     },
     "execution_count": 85,
     "metadata": {},
     "output_type": "execute_result"
    }
   ],
   "source": [
    "exon_ed - exon_st"
   ]
  },
  {
   "cell_type": "code",
   "execution_count": 81,
   "metadata": {
    "collapsed": false
   },
   "outputs": [
    {
     "data": {
      "text/html": [
       "<div>\n",
       "<table border=\"1\" class=\"dataframe\">\n",
       "  <thead>\n",
       "    <tr style=\"text-align: right;\">\n",
       "      <th></th>\n",
       "      <th>start</th>\n",
       "      <th>end</th>\n",
       "      <th>exon_number</th>\n",
       "    </tr>\n",
       "  </thead>\n",
       "  <tbody>\n",
       "    <tr>\n",
       "      <th>48459</th>\n",
       "      <td>86356957</td>\n",
       "      <td>86357452</td>\n",
       "      <td>3</td>\n",
       "    </tr>\n",
       "    <tr>\n",
       "      <th>48489</th>\n",
       "      <td>86356957</td>\n",
       "      <td>86357452</td>\n",
       "      <td>3</td>\n",
       "    </tr>\n",
       "    <tr>\n",
       "      <th>48505</th>\n",
       "      <td>86350564</td>\n",
       "      <td>86350696</td>\n",
       "      <td>3</td>\n",
       "    </tr>\n",
       "    <tr>\n",
       "      <th>48514</th>\n",
       "      <td>86357312</td>\n",
       "      <td>86357452</td>\n",
       "      <td>3</td>\n",
       "    </tr>\n",
       "  </tbody>\n",
       "</table>\n",
       "</div>"
      ],
      "text/plain": [
       "          start       end exon_number\n",
       "48459  86356957  86357452           3\n",
       "48489  86356957  86357452           3\n",
       "48505  86350564  86350696           3\n",
       "48514  86357312  86357452           3"
      ]
     },
     "execution_count": 81,
     "metadata": {},
     "output_type": "execute_result"
    }
   ],
   "source": [
    "sgdf[sgdf['exon_number'] == '3']"
   ]
  },
  {
   "cell_type": "code",
   "execution_count": 110,
   "metadata": {
    "collapsed": false
   },
   "outputs": [],
   "source": [
    "umi_q = {}\n",
    "for r in reads:\n",
    "    if not r.is_unmapped and r.get_tag('NH') == 1:\n",
    "        xm = r.get_tag('XM')\n",
    "        qn = r.query_name\n",
    "        ge = None\n",
    "        if r.has_tag('GE'):\n",
    "            ge = r.get_tag('GE')\n",
    "        ref = r.reference_name\n",
    "        start = r.reference_start\n",
    "        props = (ge, ref, start)\n",
    "        \n",
    "        if xm in umi_q:\n",
    "            umi_q[xm].update({qn:props})\n",
    "        else:\n",
    "            umi_q.update({xm:{qn:props}})"
   ]
  },
  {
   "cell_type": "code",
   "execution_count": 114,
   "metadata": {
    "collapsed": true
   },
   "outputs": [],
   "source": [
    "pickle.dump(umi_q,open('Umique.pkl','wb'), protocol=pickle.HIGHEST_PROTOCOL)"
   ]
  },
  {
   "cell_type": "code",
   "execution_count": 115,
   "metadata": {
    "collapsed": false
   },
   "outputs": [],
   "source": [
    "population = []\n",
    "for i in umi_q:\n",
    "    if len(umi_q[i])==681:\n",
    "        umi1 = umi_q[i].copy()"
   ]
  },
  {
   "cell_type": "code",
   "execution_count": 119,
   "metadata": {
    "collapsed": false
   },
   "outputs": [],
   "source": [
    "chrs = [j for i,j,k in umi1.values()]"
   ]
  },
  {
   "cell_type": "code",
   "execution_count": 121,
   "metadata": {
    "collapsed": false
   },
   "outputs": [],
   "source": [
    "c7 = []\n",
    "for item in umi1:\n",
    "    i,j,k = umi1[item]\n",
    "    if j == 'chr7':\n",
    "        c7.append((k))"
   ]
  },
  {
   "cell_type": "code",
   "execution_count": 163,
   "metadata": {
    "collapsed": false
   },
   "outputs": [],
   "source": [
    "o = Counter(c7)\n",
    "med = np.mean(o.keys())\n",
    "\n",
    "v = sorted(Counter(c7).items())\n",
    "d1 = [i for i,j in v]\n",
    "data1 = [int((i-med)/100000) for i in d1]\n",
    "data2 = [j for i,j in v]"
   ]
  },
  {
   "cell_type": "code",
   "execution_count": 164,
   "metadata": {
    "collapsed": false
   },
   "outputs": [
    {
     "data": {
      "image/png": "[encoded data removed]",
      "text/plain": [
       "<matplotlib.figure.Figure at 0x7f56847ee3d0>"
      ]
     },
     "metadata": {},
     "output_type": "display_data"
    }
   ],
   "source": [
    "fig = plt.figure()\n",
    "ax = fig.add_subplot(111)\n",
    "plt.grid()\n",
    "ax = plt.subplot(111)\n",
    "#plt.ylim(0, 50000)\n",
    "#plt.xlim(data1[0],data1[-1])\n",
    "#plt.xticks(np.arange(data1[0],data1[-1], 50))\n",
    "\n",
    "ax.bar(data1,data2, width=5, color='b')\n",
    "plt.show()"
   ]
  }
 ],
 "metadata": {
  "kernelspec": {
   "display_name": "Python 2",
   "language": "python",
   "name": "python2"
  },
  "language_info": {
   "codemirror_mode": {
    "name": "ipython",
    "version": 2
   },
   "file_extension": ".py",
   "mimetype": "text/x-python",
   "name": "python",
   "nbconvert_exporter": "python",
   "pygments_lexer": "ipython2",
   "version": "2.7.12"
  }
 },
 "nbformat": 4,
 "nbformat_minor": 0
}
